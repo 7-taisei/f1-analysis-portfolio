{
 "cells": [
  {
   "cell_type": "code",
   "execution_count": 1,
   "id": "84fd9326",
   "metadata": {},
   "outputs": [],
   "source": [
    "import fastf1 as ff1\n",
    "ff1.Cache.clear_cache()"
   ]
  },
  {
   "cell_type": "code",
   "execution_count": 2,
   "id": "ffd45601",
   "metadata": {},
   "outputs": [
    {
     "name": "stderr",
     "output_type": "stream",
     "text": [
      "core           INFO \tLoading data for United States Grand Prix - Race [v3.6.1]\n",
      "req            INFO \tUsing cached data for session_info\n",
      "req            INFO \tUsing cached data for driver_info\n",
      "req            INFO \tUsing cached data for session_status_data\n",
      "req            INFO \tUsing cached data for lap_count\n",
      "req            INFO \tUsing cached data for track_status_data\n",
      "req            INFO \tUsing cached data for _extended_timing_data\n",
      "req            INFO \tUsing cached data for timing_app_data\n",
      "core           INFO \tProcessing timing data...\n",
      "req            INFO \tUsing cached data for car_data\n",
      "req            INFO \tUsing cached data for position_data\n",
      "req            INFO \tUsing cached data for weather_data\n",
      "req            INFO \tUsing cached data for race_control_messages\n",
      "core           INFO \tFinished loading data for 20 drivers: ['1', '4', '16', '44', '81', '63', '22', '27', '87', '14', '30', '18', '12', '23', '31', '6', '43', '5', '10', '55']\n"
     ]
    },
    {
     "name": "stdout",
     "output_type": "stream",
     "text": [
      "--- LAP Data ---\n"
     ]
    },
    {
     "data": {
      "text/html": [
       "<div>\n",
       "<style scoped>\n",
       "    .dataframe tbody tr th:only-of-type {\n",
       "        vertical-align: middle;\n",
       "    }\n",
       "\n",
       "    .dataframe tbody tr th {\n",
       "        vertical-align: top;\n",
       "    }\n",
       "\n",
       "    .dataframe thead th {\n",
       "        text-align: right;\n",
       "    }\n",
       "</style>\n",
       "<table border=\"1\" class=\"dataframe\">\n",
       "  <thead>\n",
       "    <tr style=\"text-align: right;\">\n",
       "      <th></th>\n",
       "      <th>Time</th>\n",
       "      <th>Driver</th>\n",
       "      <th>DriverNumber</th>\n",
       "      <th>LapTime</th>\n",
       "      <th>LapNumber</th>\n",
       "      <th>Stint</th>\n",
       "      <th>PitOutTime</th>\n",
       "      <th>PitInTime</th>\n",
       "      <th>Sector1Time</th>\n",
       "      <th>Sector2Time</th>\n",
       "      <th>...</th>\n",
       "      <th>FreshTyre</th>\n",
       "      <th>Team</th>\n",
       "      <th>LapStartTime</th>\n",
       "      <th>LapStartDate</th>\n",
       "      <th>TrackStatus</th>\n",
       "      <th>Position</th>\n",
       "      <th>Deleted</th>\n",
       "      <th>DeletedReason</th>\n",
       "      <th>FastF1Generated</th>\n",
       "      <th>IsAccurate</th>\n",
       "    </tr>\n",
       "  </thead>\n",
       "  <tbody>\n",
       "    <tr>\n",
       "      <th>0</th>\n",
       "      <td>0 days 00:58:24.756000</td>\n",
       "      <td>VER</td>\n",
       "      <td>1</td>\n",
       "      <td>0 days 00:01:40.212000</td>\n",
       "      <td>1.0</td>\n",
       "      <td>1.0</td>\n",
       "      <td>NaT</td>\n",
       "      <td>NaT</td>\n",
       "      <td>NaT</td>\n",
       "      <td>0 days 00:00:39.777000</td>\n",
       "      <td>...</td>\n",
       "      <td>True</td>\n",
       "      <td>Red Bull Racing</td>\n",
       "      <td>0 days 00:56:44.299000</td>\n",
       "      <td>2025-10-19 19:03:39.892</td>\n",
       "      <td>12</td>\n",
       "      <td>1.0</td>\n",
       "      <td>False</td>\n",
       "      <td></td>\n",
       "      <td>False</td>\n",
       "      <td>False</td>\n",
       "    </tr>\n",
       "    <tr>\n",
       "      <th>1</th>\n",
       "      <td>0 days 01:00:04.997000</td>\n",
       "      <td>VER</td>\n",
       "      <td>1</td>\n",
       "      <td>0 days 00:01:40.241000</td>\n",
       "      <td>2.0</td>\n",
       "      <td>1.0</td>\n",
       "      <td>NaT</td>\n",
       "      <td>NaT</td>\n",
       "      <td>0 days 00:00:27.162000</td>\n",
       "      <td>0 days 00:00:39.963000</td>\n",
       "      <td>...</td>\n",
       "      <td>True</td>\n",
       "      <td>Red Bull Racing</td>\n",
       "      <td>0 days 00:58:24.756000</td>\n",
       "      <td>2025-10-19 19:05:20.349</td>\n",
       "      <td>1</td>\n",
       "      <td>1.0</td>\n",
       "      <td>False</td>\n",
       "      <td></td>\n",
       "      <td>False</td>\n",
       "      <td>True</td>\n",
       "    </tr>\n",
       "    <tr>\n",
       "      <th>2</th>\n",
       "      <td>0 days 01:01:45.066000</td>\n",
       "      <td>VER</td>\n",
       "      <td>1</td>\n",
       "      <td>0 days 00:01:40.069000</td>\n",
       "      <td>3.0</td>\n",
       "      <td>1.0</td>\n",
       "      <td>NaT</td>\n",
       "      <td>NaT</td>\n",
       "      <td>0 days 00:00:27.191000</td>\n",
       "      <td>0 days 00:00:39.968000</td>\n",
       "      <td>...</td>\n",
       "      <td>True</td>\n",
       "      <td>Red Bull Racing</td>\n",
       "      <td>0 days 01:00:04.997000</td>\n",
       "      <td>2025-10-19 19:07:00.590</td>\n",
       "      <td>1</td>\n",
       "      <td>1.0</td>\n",
       "      <td>False</td>\n",
       "      <td></td>\n",
       "      <td>False</td>\n",
       "      <td>True</td>\n",
       "    </tr>\n",
       "    <tr>\n",
       "      <th>3</th>\n",
       "      <td>0 days 01:03:24.824000</td>\n",
       "      <td>VER</td>\n",
       "      <td>1</td>\n",
       "      <td>0 days 00:01:39.758000</td>\n",
       "      <td>4.0</td>\n",
       "      <td>1.0</td>\n",
       "      <td>NaT</td>\n",
       "      <td>NaT</td>\n",
       "      <td>0 days 00:00:27.018000</td>\n",
       "      <td>0 days 00:00:39.690000</td>\n",
       "      <td>...</td>\n",
       "      <td>True</td>\n",
       "      <td>Red Bull Racing</td>\n",
       "      <td>0 days 01:01:45.066000</td>\n",
       "      <td>2025-10-19 19:08:40.659</td>\n",
       "      <td>1</td>\n",
       "      <td>1.0</td>\n",
       "      <td>False</td>\n",
       "      <td></td>\n",
       "      <td>False</td>\n",
       "      <td>True</td>\n",
       "    </tr>\n",
       "    <tr>\n",
       "      <th>4</th>\n",
       "      <td>0 days 01:05:05.134000</td>\n",
       "      <td>VER</td>\n",
       "      <td>1</td>\n",
       "      <td>0 days 00:01:40.310000</td>\n",
       "      <td>5.0</td>\n",
       "      <td>1.0</td>\n",
       "      <td>NaT</td>\n",
       "      <td>NaT</td>\n",
       "      <td>0 days 00:00:27.104000</td>\n",
       "      <td>0 days 00:00:39.816000</td>\n",
       "      <td>...</td>\n",
       "      <td>True</td>\n",
       "      <td>Red Bull Racing</td>\n",
       "      <td>0 days 01:03:24.824000</td>\n",
       "      <td>2025-10-19 19:10:20.417</td>\n",
       "      <td>1</td>\n",
       "      <td>1.0</td>\n",
       "      <td>False</td>\n",
       "      <td></td>\n",
       "      <td>False</td>\n",
       "      <td>True</td>\n",
       "    </tr>\n",
       "  </tbody>\n",
       "</table>\n",
       "<p>5 rows × 31 columns</p>\n",
       "</div>"
      ],
      "text/plain": [
       "                    Time Driver DriverNumber                LapTime  \\\n",
       "0 0 days 00:58:24.756000    VER            1 0 days 00:01:40.212000   \n",
       "1 0 days 01:00:04.997000    VER            1 0 days 00:01:40.241000   \n",
       "2 0 days 01:01:45.066000    VER            1 0 days 00:01:40.069000   \n",
       "3 0 days 01:03:24.824000    VER            1 0 days 00:01:39.758000   \n",
       "4 0 days 01:05:05.134000    VER            1 0 days 00:01:40.310000   \n",
       "\n",
       "   LapNumber  Stint PitOutTime PitInTime            Sector1Time  \\\n",
       "0        1.0    1.0        NaT       NaT                    NaT   \n",
       "1        2.0    1.0        NaT       NaT 0 days 00:00:27.162000   \n",
       "2        3.0    1.0        NaT       NaT 0 days 00:00:27.191000   \n",
       "3        4.0    1.0        NaT       NaT 0 days 00:00:27.018000   \n",
       "4        5.0    1.0        NaT       NaT 0 days 00:00:27.104000   \n",
       "\n",
       "             Sector2Time  ... FreshTyre             Team  \\\n",
       "0 0 days 00:00:39.777000  ...      True  Red Bull Racing   \n",
       "1 0 days 00:00:39.963000  ...      True  Red Bull Racing   \n",
       "2 0 days 00:00:39.968000  ...      True  Red Bull Racing   \n",
       "3 0 days 00:00:39.690000  ...      True  Red Bull Racing   \n",
       "4 0 days 00:00:39.816000  ...      True  Red Bull Racing   \n",
       "\n",
       "            LapStartTime            LapStartDate  TrackStatus  Position  \\\n",
       "0 0 days 00:56:44.299000 2025-10-19 19:03:39.892           12       1.0   \n",
       "1 0 days 00:58:24.756000 2025-10-19 19:05:20.349            1       1.0   \n",
       "2 0 days 01:00:04.997000 2025-10-19 19:07:00.590            1       1.0   \n",
       "3 0 days 01:01:45.066000 2025-10-19 19:08:40.659            1       1.0   \n",
       "4 0 days 01:03:24.824000 2025-10-19 19:10:20.417            1       1.0   \n",
       "\n",
       "   Deleted  DeletedReason FastF1Generated IsAccurate  \n",
       "0    False                          False      False  \n",
       "1    False                          False       True  \n",
       "2    False                          False       True  \n",
       "3    False                          False       True  \n",
       "4    False                          False       True  \n",
       "\n",
       "[5 rows x 31 columns]"
      ]
     },
     "metadata": {},
     "output_type": "display_data"
    },
    {
     "name": "stdout",
     "output_type": "stream",
     "text": [
      "--- Data Info ---\n",
      "<class 'fastf1.core.Laps'>\n",
      "RangeIndex: 1067 entries, 0 to 1066\n",
      "Data columns (total 31 columns):\n",
      " #   Column              Non-Null Count  Dtype          \n",
      "---  ------              --------------  -----          \n",
      " 0   Time                1067 non-null   timedelta64[ns]\n",
      " 1   Driver              1067 non-null   object         \n",
      " 2   DriverNumber        1067 non-null   object         \n",
      " 3   LapTime             1066 non-null   timedelta64[ns]\n",
      " 4   LapNumber           1067 non-null   float64        \n",
      " 5   Stint               1067 non-null   float64        \n",
      " 6   PitOutTime          21 non-null     timedelta64[ns]\n",
      " 7   PitInTime           21 non-null     timedelta64[ns]\n",
      " 8   Sector1Time         1046 non-null   timedelta64[ns]\n",
      " 9   Sector2Time         1066 non-null   timedelta64[ns]\n",
      " 10  Sector3Time         1066 non-null   timedelta64[ns]\n",
      " 11  Sector1SessionTime  1045 non-null   timedelta64[ns]\n",
      " 12  Sector2SessionTime  1066 non-null   timedelta64[ns]\n",
      " 13  Sector3SessionTime  1066 non-null   timedelta64[ns]\n",
      " 14  SpeedI1             946 non-null    float64        \n",
      " 15  SpeedI2             1066 non-null   float64        \n",
      " 16  SpeedFL             1045 non-null   float64        \n",
      " 17  SpeedST             1066 non-null   float64        \n",
      " 18  IsPersonalBest      1066 non-null   object         \n",
      " 19  Compound            1067 non-null   object         \n",
      " 20  TyreLife            1067 non-null   float64        \n",
      " 21  FreshTyre           1067 non-null   bool           \n",
      " 22  Team                1067 non-null   object         \n",
      " 23  LapStartTime        1067 non-null   timedelta64[ns]\n",
      " 24  LapStartDate        1066 non-null   datetime64[ns] \n",
      " 25  TrackStatus         1067 non-null   object         \n",
      " 26  Position            1066 non-null   float64        \n",
      " 27  Deleted             1067 non-null   bool           \n",
      " 28  DeletedReason       1066 non-null   object         \n",
      " 29  FastF1Generated     1067 non-null   bool           \n",
      " 30  IsAccurate          1067 non-null   bool           \n",
      "dtypes: bool(4), datetime64[ns](1), float64(8), object(7), timedelta64[ns](11)\n",
      "memory usage: 229.4+ KB\n"
     ]
    },
    {
     "data": {
      "text/plain": [
       "None"
      ]
     },
     "metadata": {},
     "output_type": "display_data"
    }
   ],
   "source": [
    "import fastf1 as ff1\n",
    "import pandas as pd\n",
    "\n",
    "ff1.Cache.enable_cache('./cache')\n",
    "\n",
    "session=ff1.get_session(2025,19,'R')\n",
    "session.load()\n",
    "\n",
    "laps=session.laps\n",
    "\n",
    "print(\"--- LAP Data ---\")\n",
    "display(laps.head())\n",
    "\n",
    "print(\"--- Data Info ---\")\n",
    "display(laps.info())"
   ]
  },
  {
   "cell_type": "code",
   "execution_count": 3,
   "id": "849d8d63",
   "metadata": {},
   "outputs": [
    {
     "name": "stderr",
     "output_type": "stream",
     "text": [
      "c:\\Users\\taise\\Desktop\\f1_analysis_portfolio\\.venv\\Lib\\site-packages\\fastf1\\core.py:3183: FutureWarning: pick_driver is deprecated and will be removed in a future release. Use pick_drivers instead.\n",
      "  warnings.warn((\"pick_driver is deprecated and will be removed\"\n",
      "C:\\Users\\taise\\AppData\\Local\\Temp\\ipykernel_22040\\3216192633.py:4: SettingWithCopyWarning: \n",
      "A value is trying to be set on a copy of a slice from a DataFrame.\n",
      "Try using .loc[row_indexer,col_indexer] = value instead\n",
      "\n",
      "See the caveats in the documentation: https://pandas.pydata.org/pandas-docs/stable/user_guide/indexing.html#returning-a-view-versus-a-copy\n",
      "  driver_laps['LapTimeSeconds']=driver_laps['LapTime'].dt.total_seconds()\n"
     ]
    },
    {
     "data": {
      "application/vnd.plotly.v1+json": {
       "config": {
        "plotlyServerURL": "https://plot.ly"
       },
       "data": [
        {
         "customdata": {
          "bdata": "AAAAAAAA8D8AAAAAAADwPwAAAAAAAPA/AAAAAAAA8D8AAAAAAADwPwAAAAAAAPA/AAAAAAAA8D8AAAAAAADwPwAAAAAAAPA/AAAAAAAA8D8AAAAAAADwPwAAAAAAAPA/AAAAAAAA8D8AAAAAAADwPwAAAAAAAPA/AAAAAAAA8D8AAAAAAADwPwAAAAAAAPA/AAAAAAAA8D8AAAAAAADwPwAAAAAAAPA/AAAAAAAA8D8AAAAAAADwPwAAAAAAAPA/AAAAAAAA8D8AAAAAAADwPwAAAAAAAPA/",
          "dtype": "f8",
          "shape": "27, 1"
         },
         "hovertemplate": "Compound=MEDIUM<br>LapNumber=%{x}<br>LapTimeSeconds=%{y}<br>Stint=%{customdata[0]}<extra></extra>",
         "legendgroup": "MEDIUM",
         "marker": {
          "color": "#636efa",
          "symbol": "circle"
         },
         "mode": "markers",
         "name": "MEDIUM",
         "orientation": "v",
         "showlegend": true,
         "type": "scatter",
         "x": {
          "bdata": "AAAAAAAA8D8AAAAAAAAAQAAAAAAAAAhAAAAAAAAAEEAAAAAAAAAUQAAAAAAAABhAAAAAAAAAIkAAAAAAAAAkQAAAAAAAACZAAAAAAAAAKEAAAAAAAAAqQAAAAAAAACxAAAAAAAAALkAAAAAAAAAwQAAAAAAAADFAAAAAAAAAMkAAAAAAAAAzQAAAAAAAADRAAAAAAAAANUAAAAAAAAA2QAAAAAAAADdAAAAAAAAAOEAAAAAAAAA5QAAAAAAAADpAAAAAAAAAO0AAAAAAAAA8QAAAAAAAAD1A",
          "dtype": "f8"
         },
         "xaxis": "x",
         "y": {
          "bdata": "nu+nxkuvWkCJQWDl0IJZQJHtfD81BllASOF6FK4vWUBWDi2ynT9ZQL6fGi/dNFlAEFg5tMgWWUDP91PjpQNZQAisHFpkK1lA30+Nl24iWUAIrBxaZCNZQEoMAiuHJllAK4cW2c43WUBqvHSTGDRZQO58PzVeMllARIts5/sZWUCwcmiR7RxZQJ7vp8ZLL1lANV66SQwyWUCPwvUoXCdZQPCnxks3IVlAnu+nxksnWUCYbhKDwDJZQMl2vp8aP1lAPQrXo3A9WUCWQ4ts50tZQH0/NV66mVlA",
          "dtype": "f8"
         },
         "yaxis": "y"
        },
        {
         "customdata": {
          "bdata": "AAAAAAAAAEAAAAAAAAAAQAAAAAAAAABAAAAAAAAAAEAAAAAAAAAAQAAAAAAAAABAAAAAAAAAAEAAAAAAAAAAQAAAAAAAAABAAAAAAAAAAEAAAAAAAAAAQAAAAAAAAABAAAAAAAAAAEAAAAAAAAAAQAAAAAAAAABAAAAAAAAAAEAAAAAAAAAAQAAAAAAAAABAAAAAAAAAAEAAAAAAAAAAQAAAAAAAAABAAAAAAAAAAEAAAAAAAAAAQAAAAAAAAABAAAAAAAAAAEAAAAAAAAAAQA==",
          "dtype": "f8",
          "shape": "26, 1"
         },
         "hovertemplate": "Compound=SOFT<br>LapNumber=%{x}<br>LapTimeSeconds=%{y}<br>Stint=%{customdata[0]}<extra></extra>",
         "legendgroup": "SOFT",
         "marker": {
          "color": "#EF553B",
          "symbol": "circle"
         },
         "mode": "markers",
         "name": "SOFT",
         "orientation": "v",
         "showlegend": true,
         "type": "scatter",
         "x": {
          "bdata": "AAAAAAAAP0AAAAAAAABAQAAAAAAAgEBAAAAAAAAAQUAAAAAAAIBBQAAAAAAAAEJAAAAAAACAQkAAAAAAAABDQAAAAAAAgENAAAAAAAAAREAAAAAAAIBEQAAAAAAAAEVAAAAAAACARUAAAAAAAABGQAAAAAAAgEZAAAAAAAAAR0AAAAAAAIBHQAAAAAAAAEhAAAAAAACASEAAAAAAAABJQAAAAAAAgElAAAAAAAAASkAAAAAAAIBKQAAAAAAAAEtAAAAAAACAS0AAAAAAAABMQA==",
          "dtype": "f8"
         },
         "xaxis": "x",
         "y": {
          "bdata": "LbKd76fmWEBKDAIrh9ZYQKabxCCw8lhAeekmMQgcWUCNl24Sg9hYQCGwcmiR1VhAcT0K16PgWEAUrkfhevxYQLx0kxgE5lhAKVyPwvXgWEBSuB6F6/FYQN0kBoGV81hAIbByaJH1WEBvEoPAyuFYQKRwPQrX01hAUrgehevhWEAzMzMzM8tYQBfZzvdT41hA001iEFjpWEDJdr6fGt9YQDEIrBxazFhAK4cW2c63WEDRItv5fspYQAisHFpks1hArkfhehS2WEAdWmQ737dYQA==",
          "dtype": "f8"
         },
         "yaxis": "y"
        }
       ],
       "layout": {
        "legend": {
         "title": {
          "text": "Compound"
         },
         "tracegroupgap": 0
        },
        "margin": {
         "t": 60
        },
        "template": {
         "data": {
          "bar": [
           {
            "error_x": {
             "color": "#2a3f5f"
            },
            "error_y": {
             "color": "#2a3f5f"
            },
            "marker": {
             "line": {
              "color": "#E5ECF6",
              "width": 0.5
             },
             "pattern": {
              "fillmode": "overlay",
              "size": 10,
              "solidity": 0.2
             }
            },
            "type": "bar"
           }
          ],
          "barpolar": [
           {
            "marker": {
             "line": {
              "color": "#E5ECF6",
              "width": 0.5
             },
             "pattern": {
              "fillmode": "overlay",
              "size": 10,
              "solidity": 0.2
             }
            },
            "type": "barpolar"
           }
          ],
          "carpet": [
           {
            "aaxis": {
             "endlinecolor": "#2a3f5f",
             "gridcolor": "white",
             "linecolor": "white",
             "minorgridcolor": "white",
             "startlinecolor": "#2a3f5f"
            },
            "baxis": {
             "endlinecolor": "#2a3f5f",
             "gridcolor": "white",
             "linecolor": "white",
             "minorgridcolor": "white",
             "startlinecolor": "#2a3f5f"
            },
            "type": "carpet"
           }
          ],
          "choropleth": [
           {
            "colorbar": {
             "outlinewidth": 0,
             "ticks": ""
            },
            "type": "choropleth"
           }
          ],
          "contour": [
           {
            "colorbar": {
             "outlinewidth": 0,
             "ticks": ""
            },
            "colorscale": [
             [
              0,
              "#0d0887"
             ],
             [
              0.1111111111111111,
              "#46039f"
             ],
             [
              0.2222222222222222,
              "#7201a8"
             ],
             [
              0.3333333333333333,
              "#9c179e"
             ],
             [
              0.4444444444444444,
              "#bd3786"
             ],
             [
              0.5555555555555556,
              "#d8576b"
             ],
             [
              0.6666666666666666,
              "#ed7953"
             ],
             [
              0.7777777777777778,
              "#fb9f3a"
             ],
             [
              0.8888888888888888,
              "#fdca26"
             ],
             [
              1,
              "#f0f921"
             ]
            ],
            "type": "contour"
           }
          ],
          "contourcarpet": [
           {
            "colorbar": {
             "outlinewidth": 0,
             "ticks": ""
            },
            "type": "contourcarpet"
           }
          ],
          "heatmap": [
           {
            "colorbar": {
             "outlinewidth": 0,
             "ticks": ""
            },
            "colorscale": [
             [
              0,
              "#0d0887"
             ],
             [
              0.1111111111111111,
              "#46039f"
             ],
             [
              0.2222222222222222,
              "#7201a8"
             ],
             [
              0.3333333333333333,
              "#9c179e"
             ],
             [
              0.4444444444444444,
              "#bd3786"
             ],
             [
              0.5555555555555556,
              "#d8576b"
             ],
             [
              0.6666666666666666,
              "#ed7953"
             ],
             [
              0.7777777777777778,
              "#fb9f3a"
             ],
             [
              0.8888888888888888,
              "#fdca26"
             ],
             [
              1,
              "#f0f921"
             ]
            ],
            "type": "heatmap"
           }
          ],
          "histogram": [
           {
            "marker": {
             "pattern": {
              "fillmode": "overlay",
              "size": 10,
              "solidity": 0.2
             }
            },
            "type": "histogram"
           }
          ],
          "histogram2d": [
           {
            "colorbar": {
             "outlinewidth": 0,
             "ticks": ""
            },
            "colorscale": [
             [
              0,
              "#0d0887"
             ],
             [
              0.1111111111111111,
              "#46039f"
             ],
             [
              0.2222222222222222,
              "#7201a8"
             ],
             [
              0.3333333333333333,
              "#9c179e"
             ],
             [
              0.4444444444444444,
              "#bd3786"
             ],
             [
              0.5555555555555556,
              "#d8576b"
             ],
             [
              0.6666666666666666,
              "#ed7953"
             ],
             [
              0.7777777777777778,
              "#fb9f3a"
             ],
             [
              0.8888888888888888,
              "#fdca26"
             ],
             [
              1,
              "#f0f921"
             ]
            ],
            "type": "histogram2d"
           }
          ],
          "histogram2dcontour": [
           {
            "colorbar": {
             "outlinewidth": 0,
             "ticks": ""
            },
            "colorscale": [
             [
              0,
              "#0d0887"
             ],
             [
              0.1111111111111111,
              "#46039f"
             ],
             [
              0.2222222222222222,
              "#7201a8"
             ],
             [
              0.3333333333333333,
              "#9c179e"
             ],
             [
              0.4444444444444444,
              "#bd3786"
             ],
             [
              0.5555555555555556,
              "#d8576b"
             ],
             [
              0.6666666666666666,
              "#ed7953"
             ],
             [
              0.7777777777777778,
              "#fb9f3a"
             ],
             [
              0.8888888888888888,
              "#fdca26"
             ],
             [
              1,
              "#f0f921"
             ]
            ],
            "type": "histogram2dcontour"
           }
          ],
          "mesh3d": [
           {
            "colorbar": {
             "outlinewidth": 0,
             "ticks": ""
            },
            "type": "mesh3d"
           }
          ],
          "parcoords": [
           {
            "line": {
             "colorbar": {
              "outlinewidth": 0,
              "ticks": ""
             }
            },
            "type": "parcoords"
           }
          ],
          "pie": [
           {
            "automargin": true,
            "type": "pie"
           }
          ],
          "scatter": [
           {
            "fillpattern": {
             "fillmode": "overlay",
             "size": 10,
             "solidity": 0.2
            },
            "type": "scatter"
           }
          ],
          "scatter3d": [
           {
            "line": {
             "colorbar": {
              "outlinewidth": 0,
              "ticks": ""
             }
            },
            "marker": {
             "colorbar": {
              "outlinewidth": 0,
              "ticks": ""
             }
            },
            "type": "scatter3d"
           }
          ],
          "scattercarpet": [
           {
            "marker": {
             "colorbar": {
              "outlinewidth": 0,
              "ticks": ""
             }
            },
            "type": "scattercarpet"
           }
          ],
          "scattergeo": [
           {
            "marker": {
             "colorbar": {
              "outlinewidth": 0,
              "ticks": ""
             }
            },
            "type": "scattergeo"
           }
          ],
          "scattergl": [
           {
            "marker": {
             "colorbar": {
              "outlinewidth": 0,
              "ticks": ""
             }
            },
            "type": "scattergl"
           }
          ],
          "scattermap": [
           {
            "marker": {
             "colorbar": {
              "outlinewidth": 0,
              "ticks": ""
             }
            },
            "type": "scattermap"
           }
          ],
          "scattermapbox": [
           {
            "marker": {
             "colorbar": {
              "outlinewidth": 0,
              "ticks": ""
             }
            },
            "type": "scattermapbox"
           }
          ],
          "scatterpolar": [
           {
            "marker": {
             "colorbar": {
              "outlinewidth": 0,
              "ticks": ""
             }
            },
            "type": "scatterpolar"
           }
          ],
          "scatterpolargl": [
           {
            "marker": {
             "colorbar": {
              "outlinewidth": 0,
              "ticks": ""
             }
            },
            "type": "scatterpolargl"
           }
          ],
          "scatterternary": [
           {
            "marker": {
             "colorbar": {
              "outlinewidth": 0,
              "ticks": ""
             }
            },
            "type": "scatterternary"
           }
          ],
          "surface": [
           {
            "colorbar": {
             "outlinewidth": 0,
             "ticks": ""
            },
            "colorscale": [
             [
              0,
              "#0d0887"
             ],
             [
              0.1111111111111111,
              "#46039f"
             ],
             [
              0.2222222222222222,
              "#7201a8"
             ],
             [
              0.3333333333333333,
              "#9c179e"
             ],
             [
              0.4444444444444444,
              "#bd3786"
             ],
             [
              0.5555555555555556,
              "#d8576b"
             ],
             [
              0.6666666666666666,
              "#ed7953"
             ],
             [
              0.7777777777777778,
              "#fb9f3a"
             ],
             [
              0.8888888888888888,
              "#fdca26"
             ],
             [
              1,
              "#f0f921"
             ]
            ],
            "type": "surface"
           }
          ],
          "table": [
           {
            "cells": {
             "fill": {
              "color": "#EBF0F8"
             },
             "line": {
              "color": "white"
             }
            },
            "header": {
             "fill": {
              "color": "#C8D4E3"
             },
             "line": {
              "color": "white"
             }
            },
            "type": "table"
           }
          ]
         },
         "layout": {
          "annotationdefaults": {
           "arrowcolor": "#2a3f5f",
           "arrowhead": 0,
           "arrowwidth": 1
          },
          "autotypenumbers": "strict",
          "coloraxis": {
           "colorbar": {
            "outlinewidth": 0,
            "ticks": ""
           }
          },
          "colorscale": {
           "diverging": [
            [
             0,
             "#8e0152"
            ],
            [
             0.1,
             "#c51b7d"
            ],
            [
             0.2,
             "#de77ae"
            ],
            [
             0.3,
             "#f1b6da"
            ],
            [
             0.4,
             "#fde0ef"
            ],
            [
             0.5,
             "#f7f7f7"
            ],
            [
             0.6,
             "#e6f5d0"
            ],
            [
             0.7,
             "#b8e186"
            ],
            [
             0.8,
             "#7fbc41"
            ],
            [
             0.9,
             "#4d9221"
            ],
            [
             1,
             "#276419"
            ]
           ],
           "sequential": [
            [
             0,
             "#0d0887"
            ],
            [
             0.1111111111111111,
             "#46039f"
            ],
            [
             0.2222222222222222,
             "#7201a8"
            ],
            [
             0.3333333333333333,
             "#9c179e"
            ],
            [
             0.4444444444444444,
             "#bd3786"
            ],
            [
             0.5555555555555556,
             "#d8576b"
            ],
            [
             0.6666666666666666,
             "#ed7953"
            ],
            [
             0.7777777777777778,
             "#fb9f3a"
            ],
            [
             0.8888888888888888,
             "#fdca26"
            ],
            [
             1,
             "#f0f921"
            ]
           ],
           "sequentialminus": [
            [
             0,
             "#0d0887"
            ],
            [
             0.1111111111111111,
             "#46039f"
            ],
            [
             0.2222222222222222,
             "#7201a8"
            ],
            [
             0.3333333333333333,
             "#9c179e"
            ],
            [
             0.4444444444444444,
             "#bd3786"
            ],
            [
             0.5555555555555556,
             "#d8576b"
            ],
            [
             0.6666666666666666,
             "#ed7953"
            ],
            [
             0.7777777777777778,
             "#fb9f3a"
            ],
            [
             0.8888888888888888,
             "#fdca26"
            ],
            [
             1,
             "#f0f921"
            ]
           ]
          },
          "colorway": [
           "#636efa",
           "#EF553B",
           "#00cc96",
           "#ab63fa",
           "#FFA15A",
           "#19d3f3",
           "#FF6692",
           "#B6E880",
           "#FF97FF",
           "#FECB52"
          ],
          "font": {
           "color": "#2a3f5f"
          },
          "geo": {
           "bgcolor": "white",
           "lakecolor": "white",
           "landcolor": "#E5ECF6",
           "showlakes": true,
           "showland": true,
           "subunitcolor": "white"
          },
          "hoverlabel": {
           "align": "left"
          },
          "hovermode": "closest",
          "mapbox": {
           "style": "light"
          },
          "paper_bgcolor": "white",
          "plot_bgcolor": "#E5ECF6",
          "polar": {
           "angularaxis": {
            "gridcolor": "white",
            "linecolor": "white",
            "ticks": ""
           },
           "bgcolor": "#E5ECF6",
           "radialaxis": {
            "gridcolor": "white",
            "linecolor": "white",
            "ticks": ""
           }
          },
          "scene": {
           "xaxis": {
            "backgroundcolor": "#E5ECF6",
            "gridcolor": "white",
            "gridwidth": 2,
            "linecolor": "white",
            "showbackground": true,
            "ticks": "",
            "zerolinecolor": "white"
           },
           "yaxis": {
            "backgroundcolor": "#E5ECF6",
            "gridcolor": "white",
            "gridwidth": 2,
            "linecolor": "white",
            "showbackground": true,
            "ticks": "",
            "zerolinecolor": "white"
           },
           "zaxis": {
            "backgroundcolor": "#E5ECF6",
            "gridcolor": "white",
            "gridwidth": 2,
            "linecolor": "white",
            "showbackground": true,
            "ticks": "",
            "zerolinecolor": "white"
           }
          },
          "shapedefaults": {
           "line": {
            "color": "#2a3f5f"
           }
          },
          "ternary": {
           "aaxis": {
            "gridcolor": "white",
            "linecolor": "white",
            "ticks": ""
           },
           "baxis": {
            "gridcolor": "white",
            "linecolor": "white",
            "ticks": ""
           },
           "bgcolor": "#E5ECF6",
           "caxis": {
            "gridcolor": "white",
            "linecolor": "white",
            "ticks": ""
           }
          },
          "title": {
           "x": 0.05
          },
          "xaxis": {
           "automargin": true,
           "gridcolor": "white",
           "linecolor": "white",
           "ticks": "",
           "title": {
            "standoff": 15
           },
           "zerolinecolor": "white",
           "zerolinewidth": 2
          },
          "yaxis": {
           "automargin": true,
           "gridcolor": "white",
           "linecolor": "white",
           "ticks": "",
           "title": {
            "standoff": 15
           },
           "zerolinecolor": "white",
           "zerolinewidth": 2
          }
         }
        },
        "title": {
         "text": "Yuki Tsunoda - Lap Time Analysis (United States 2025)"
        },
        "xaxis": {
         "anchor": "y",
         "domain": [
          0,
          1
         ],
         "title": {
          "text": "Lap Number"
         }
        },
        "yaxis": {
         "anchor": "x",
         "domain": [
          0,
          1
         ],
         "title": {
          "text": "Lap Time (seconds)"
         }
        }
       }
      }
     },
     "metadata": {},
     "output_type": "display_data"
    }
   ],
   "source": [
    "import plotly.express as px\n",
    "\n",
    "driver_laps=laps.pick_driver('TSU')\n",
    "driver_laps['LapTimeSeconds']=driver_laps['LapTime'].dt.total_seconds()\n",
    "driver_laps_cleaned=driver_laps.loc[driver_laps['LapTimeSeconds']<110]\n",
    "fig=px.scatter(driver_laps_cleaned,\n",
    "               x='LapNumber',\n",
    "               y='LapTimeSeconds',\n",
    "               color='Compound',\n",
    "               hover_data=['Stint'])\n",
    "fig.update_layout(title=\"Yuki Tsunoda - Lap Time Analysis (United States 2025)\",\n",
    "                  xaxis_title=\"Lap Number\",\n",
    "                  yaxis_title=\"Lap Time (seconds)\")\n",
    "fig.show()"
   ]
  },
  {
   "cell_type": "code",
   "execution_count": 4,
   "id": "c44913ae",
   "metadata": {},
   "outputs": [
    {
     "name": "stderr",
     "output_type": "stream",
     "text": [
      "core           INFO \tLoading data for Japanese Grand Prix - Race [v3.6.1]\n",
      "req            INFO \tUsing cached data for session_info\n",
      "req            INFO \tUsing cached data for driver_info\n",
      "req            INFO \tUsing cached data for session_status_data\n",
      "req            INFO \tUsing cached data for lap_count\n",
      "req            INFO \tUsing cached data for track_status_data\n",
      "req            INFO \tUsing cached data for _extended_timing_data\n",
      "req            INFO \tUsing cached data for timing_app_data\n",
      "core           INFO \tProcessing timing data...\n",
      "req            INFO \tUsing cached data for car_data\n",
      "req            INFO \tUsing cached data for position_data\n",
      "req            INFO \tUsing cached data for weather_data\n",
      "req            INFO \tUsing cached data for race_control_messages\n",
      "core           INFO \tFinished loading data for 20 drivers: ['1', '11', '55', '16', '4', '14', '63', '81', '44', '22', '27', '18', '20', '77', '31', '10', '2', '24', '3', '23']\n"
     ]
    },
    {
     "data": {
      "text/html": [
       "<div>\n",
       "<style scoped>\n",
       "    .dataframe tbody tr th:only-of-type {\n",
       "        vertical-align: middle;\n",
       "    }\n",
       "\n",
       "    .dataframe tbody tr th {\n",
       "        vertical-align: top;\n",
       "    }\n",
       "\n",
       "    .dataframe thead th {\n",
       "        text-align: right;\n",
       "    }\n",
       "</style>\n",
       "<table border=\"1\" class=\"dataframe\">\n",
       "  <thead>\n",
       "    <tr style=\"text-align: right;\">\n",
       "      <th></th>\n",
       "      <th>Time</th>\n",
       "      <th>Driver</th>\n",
       "      <th>DriverNumber</th>\n",
       "      <th>LapTime</th>\n",
       "      <th>LapNumber</th>\n",
       "      <th>Stint</th>\n",
       "      <th>PitOutTime</th>\n",
       "      <th>PitInTime</th>\n",
       "      <th>Sector1Time</th>\n",
       "      <th>Sector2Time</th>\n",
       "      <th>...</th>\n",
       "      <th>FreshTyre</th>\n",
       "      <th>Team</th>\n",
       "      <th>LapStartTime</th>\n",
       "      <th>LapStartDate</th>\n",
       "      <th>TrackStatus</th>\n",
       "      <th>Position</th>\n",
       "      <th>Deleted</th>\n",
       "      <th>DeletedReason</th>\n",
       "      <th>FastF1Generated</th>\n",
       "      <th>IsAccurate</th>\n",
       "    </tr>\n",
       "  </thead>\n",
       "  <tbody>\n",
       "    <tr>\n",
       "      <th>0</th>\n",
       "      <td>0 days 01:04:51.506000</td>\n",
       "      <td>VER</td>\n",
       "      <td>1</td>\n",
       "      <td>0 days 00:02:10.735000</td>\n",
       "      <td>1.0</td>\n",
       "      <td>1.0</td>\n",
       "      <td>NaT</td>\n",
       "      <td>0 days 01:04:49.856000</td>\n",
       "      <td>NaT</td>\n",
       "      <td>0 days 00:01:04.045000</td>\n",
       "      <td>...</td>\n",
       "      <td>True</td>\n",
       "      <td>Red Bull Racing</td>\n",
       "      <td>0 days 01:02:40.422000</td>\n",
       "      <td>2024-04-07 05:03:42.056</td>\n",
       "      <td>125</td>\n",
       "      <td>1.0</td>\n",
       "      <td>False</td>\n",
       "      <td></td>\n",
       "      <td>False</td>\n",
       "      <td>False</td>\n",
       "    </tr>\n",
       "    <tr>\n",
       "      <th>1</th>\n",
       "      <td>0 days 01:33:22.630000</td>\n",
       "      <td>VER</td>\n",
       "      <td>1</td>\n",
       "      <td>NaT</td>\n",
       "      <td>2.0</td>\n",
       "      <td>2.0</td>\n",
       "      <td>0 days 01:31:05.329000</td>\n",
       "      <td>NaT</td>\n",
       "      <td>NaT</td>\n",
       "      <td>0 days 00:00:56.617000</td>\n",
       "      <td>...</td>\n",
       "      <td>False</td>\n",
       "      <td>Red Bull Racing</td>\n",
       "      <td>0 days 01:30:58.774000</td>\n",
       "      <td>2024-04-07 05:32:00.408</td>\n",
       "      <td>1</td>\n",
       "      <td>1.0</td>\n",
       "      <td>False</td>\n",
       "      <td></td>\n",
       "      <td>False</td>\n",
       "      <td>False</td>\n",
       "    </tr>\n",
       "    <tr>\n",
       "      <th>2</th>\n",
       "      <td>0 days 01:36:15.449000</td>\n",
       "      <td>VER</td>\n",
       "      <td>1</td>\n",
       "      <td>NaT</td>\n",
       "      <td>3.0</td>\n",
       "      <td>2.0</td>\n",
       "      <td>NaT</td>\n",
       "      <td>NaT</td>\n",
       "      <td>NaT</td>\n",
       "      <td>0 days 00:00:42.768000</td>\n",
       "      <td>...</td>\n",
       "      <td>False</td>\n",
       "      <td>Red Bull Racing</td>\n",
       "      <td>0 days 01:33:22.630000</td>\n",
       "      <td>2024-04-07 05:34:24.264</td>\n",
       "      <td>1</td>\n",
       "      <td>1.0</td>\n",
       "      <td>False</td>\n",
       "      <td></td>\n",
       "      <td>False</td>\n",
       "      <td>False</td>\n",
       "    </tr>\n",
       "    <tr>\n",
       "      <th>3</th>\n",
       "      <td>0 days 01:37:51.921000</td>\n",
       "      <td>VER</td>\n",
       "      <td>1</td>\n",
       "      <td>0 days 00:01:36.472000</td>\n",
       "      <td>4.0</td>\n",
       "      <td>2.0</td>\n",
       "      <td>NaT</td>\n",
       "      <td>NaT</td>\n",
       "      <td>0 days 00:00:34.772000</td>\n",
       "      <td>0 days 00:00:43.042000</td>\n",
       "      <td>...</td>\n",
       "      <td>False</td>\n",
       "      <td>Red Bull Racing</td>\n",
       "      <td>0 days 01:36:15.449000</td>\n",
       "      <td>2024-04-07 05:37:17.083</td>\n",
       "      <td>1</td>\n",
       "      <td>1.0</td>\n",
       "      <td>False</td>\n",
       "      <td></td>\n",
       "      <td>False</td>\n",
       "      <td>True</td>\n",
       "    </tr>\n",
       "    <tr>\n",
       "      <th>4</th>\n",
       "      <td>0 days 01:39:28.358000</td>\n",
       "      <td>VER</td>\n",
       "      <td>1</td>\n",
       "      <td>0 days 00:01:36.437000</td>\n",
       "      <td>5.0</td>\n",
       "      <td>2.0</td>\n",
       "      <td>NaT</td>\n",
       "      <td>NaT</td>\n",
       "      <td>0 days 00:00:34.690000</td>\n",
       "      <td>0 days 00:00:43.035000</td>\n",
       "      <td>...</td>\n",
       "      <td>False</td>\n",
       "      <td>Red Bull Racing</td>\n",
       "      <td>0 days 01:37:51.921000</td>\n",
       "      <td>2024-04-07 05:38:53.555</td>\n",
       "      <td>1</td>\n",
       "      <td>1.0</td>\n",
       "      <td>False</td>\n",
       "      <td></td>\n",
       "      <td>False</td>\n",
       "      <td>True</td>\n",
       "    </tr>\n",
       "  </tbody>\n",
       "</table>\n",
       "<p>5 rows × 31 columns</p>\n",
       "</div>"
      ],
      "text/plain": [
       "                    Time Driver DriverNumber                LapTime  \\\n",
       "0 0 days 01:04:51.506000    VER            1 0 days 00:02:10.735000   \n",
       "1 0 days 01:33:22.630000    VER            1                    NaT   \n",
       "2 0 days 01:36:15.449000    VER            1                    NaT   \n",
       "3 0 days 01:37:51.921000    VER            1 0 days 00:01:36.472000   \n",
       "4 0 days 01:39:28.358000    VER            1 0 days 00:01:36.437000   \n",
       "\n",
       "   LapNumber  Stint             PitOutTime              PitInTime  \\\n",
       "0        1.0    1.0                    NaT 0 days 01:04:49.856000   \n",
       "1        2.0    2.0 0 days 01:31:05.329000                    NaT   \n",
       "2        3.0    2.0                    NaT                    NaT   \n",
       "3        4.0    2.0                    NaT                    NaT   \n",
       "4        5.0    2.0                    NaT                    NaT   \n",
       "\n",
       "             Sector1Time            Sector2Time  ... FreshTyre  \\\n",
       "0                    NaT 0 days 00:01:04.045000  ...      True   \n",
       "1                    NaT 0 days 00:00:56.617000  ...     False   \n",
       "2                    NaT 0 days 00:00:42.768000  ...     False   \n",
       "3 0 days 00:00:34.772000 0 days 00:00:43.042000  ...     False   \n",
       "4 0 days 00:00:34.690000 0 days 00:00:43.035000  ...     False   \n",
       "\n",
       "              Team           LapStartTime            LapStartDate  \\\n",
       "0  Red Bull Racing 0 days 01:02:40.422000 2024-04-07 05:03:42.056   \n",
       "1  Red Bull Racing 0 days 01:30:58.774000 2024-04-07 05:32:00.408   \n",
       "2  Red Bull Racing 0 days 01:33:22.630000 2024-04-07 05:34:24.264   \n",
       "3  Red Bull Racing 0 days 01:36:15.449000 2024-04-07 05:37:17.083   \n",
       "4  Red Bull Racing 0 days 01:37:51.921000 2024-04-07 05:38:53.555   \n",
       "\n",
       "   TrackStatus  Position  Deleted  DeletedReason  FastF1Generated IsAccurate  \n",
       "0          125       1.0    False                           False      False  \n",
       "1            1       1.0    False                           False      False  \n",
       "2            1       1.0    False                           False      False  \n",
       "3            1       1.0    False                           False       True  \n",
       "4            1       1.0    False                           False       True  \n",
       "\n",
       "[5 rows x 31 columns]"
      ]
     },
     "execution_count": 4,
     "metadata": {},
     "output_type": "execute_result"
    }
   ],
   "source": [
    "session = ff1.get_session(2024, 'Japanese Grand Prix', 'R')\n",
    "session.load()\n",
    "laps = session.laps\n",
    "laps.head()"
   ]
  },
  {
   "cell_type": "code",
   "execution_count": 5,
   "id": "dfc3be49",
   "metadata": {},
   "outputs": [
    {
     "name": "stderr",
     "output_type": "stream",
     "text": [
      "core           INFO \tLoading data for Japanese Grand Prix - Race [v3.6.1]\n",
      "req            INFO \tUsing cached data for session_info\n",
      "req            INFO \tUsing cached data for driver_info\n",
      "req            INFO \tUsing cached data for session_status_data\n",
      "req            INFO \tUsing cached data for lap_count\n",
      "req            INFO \tUsing cached data for track_status_data\n",
      "req            INFO \tUsing cached data for _extended_timing_data\n",
      "req            INFO \tUsing cached data for timing_app_data\n",
      "core           INFO \tProcessing timing data...\n"
     ]
    },
    {
     "name": "stdout",
     "output_type": "stream",
     "text": [
      "--- ピット戦略タイムラインのプロトタイプ (px.bar 版) ---\n"
     ]
    },
    {
     "name": "stderr",
     "output_type": "stream",
     "text": [
      "req            INFO \tUsing cached data for car_data\n",
      "req            INFO \tUsing cached data for position_data\n",
      "req            INFO \tUsing cached data for weather_data\n",
      "req            INFO \tUsing cached data for race_control_messages\n",
      "core           INFO \tFinished loading data for 20 drivers: ['1', '11', '55', '16', '4', '14', '63', '81', '44', '22', '27', '18', '20', '77', '31', '10', '2', '24', '3', '23']\n"
     ]
    },
    {
     "name": "stdout",
     "output_type": "stream",
     "text": [
      "FORMULA 1 MSC CRUISES JAPANESE GRAND PRIX 2024 のデータをロードしました。\n",
      "\n",
      "スティントデータ (先頭5行):\n",
      "  Driver  Stint  Lap_Start  Lap_End Compound  Stint_Length\n",
      "0    ALB    1.0        1.0      1.0     SOFT           1.0\n",
      "1    ALO    1.0        1.0      1.0     SOFT           1.0\n",
      "2    ALO    2.0        2.0     13.0     SOFT          12.0\n",
      "3    ALO    3.0       14.0     33.0   MEDIUM          20.0\n",
      "4    ALO    4.0       34.0     53.0     HARD          20.0\n"
     ]
    },
    {
     "data": {
      "application/vnd.plotly.v1+json": {
       "config": {
        "plotlyServerURL": "https://plot.ly"
       },
       "data": [
        {
         "base": [
          1,
          1,
          2,
          1,
          2,
          1,
          1,
          2,
          1,
          1,
          42,
          1,
          2,
          35,
          2,
          2
         ],
         "customdata": {
          "bdata": "AAAAAAAA8D8AAAAAAADwPwAAAAAAAPA/AAAAAAAA8D8AAAAAAAAAQAAAAAAAACpAAAAAAAAA8D8AAAAAAADwPwAAAAAAAABAAAAAAAAAGEAAAAAAAADwPwAAAAAAAPA/AAAAAAAA8D8AAAAAAADwPwAAAAAAAABAAAAAAAAAFEAAAAAAAADwPwAAAAAAAPA/AAAAAAAA8D8AAAAAAADwPwAAAAAAABRAAAAAAAAASkAAAAAAAADwPwAAAAAAAPA/AAAAAAAAAEAAAAAAAAAoQAAAAAAAABRAAAAAAAAASkAAAAAAAAAAQAAAAAAAABxAAAAAAAAAAEAAAAAAAAAcQA==",
          "dtype": "f8",
          "shape": "16, 2"
         },
         "hovertemplate": "Compound=SOFT<br>Lap_Start=%{base}<br>Stint_Length=%{x}<br>Driver=%{y}<br>Stint=%{customdata[0]}<br>Lap_End=%{customdata[1]}<extra></extra>",
         "legendgroup": "SOFT",
         "marker": {
          "color": "#dc143c",
          "pattern": {
           "shape": ""
          }
         },
         "name": "SOFT",
         "orientation": "h",
         "showlegend": true,
         "textposition": "auto",
         "type": "bar",
         "x": {
          "bdata": "AAAAAAAA8D8AAAAAAADwPwAAAAAAAChAAAAAAAAA8D8AAAAAAAAUQAAAAAAAAPA/AAAAAAAA8D8AAAAAAAAQQAAAAAAAAPA/AAAAAAAA8D8AAAAAAAAmQAAAAAAAAPA/AAAAAAAAJkAAAAAAAAAyQAAAAAAAABhAAAAAAAAAGEA=",
          "dtype": "f8"
         },
         "xaxis": "x",
         "y": [
          "ALB",
          "ALO",
          "ALO",
          "BOT",
          "BOT",
          "GAS",
          "HUL",
          "HUL",
          "OCO",
          "SAR",
          "SAR",
          "STR",
          "STR",
          "STR",
          "TSU",
          "ZHO"
         ],
         "yaxis": "y"
        },
        {
         "base": [
          14,
          17,
          1,
          40,
          1,
          2,
          1,
          2,
          1,
          2,
          34,
          1,
          2,
          16,
          1,
          2,
          1,
          1,
          38,
          1,
          2,
          16,
          35,
          13,
          1,
          1,
          2,
          17,
          1
         ],
         "customdata": {
          "bdata": "AAAAAAAACEAAAAAAAIBAQAAAAAAAAAhAAAAAAAAAQEAAAAAAAADwPwAAAAAAAPA/AAAAAAAAEEAAAAAAAIBKQAAAAAAAAPA/AAAAAAAA8D8AAAAAAAAAQAAAAAAAADpAAAAAAAAA8D8AAAAAAADwPwAAAAAAAABAAAAAAAAANkAAAAAAAADwPwAAAAAAAPA/AAAAAAAAAEAAAAAAAAAmQAAAAAAAABBAAAAAAAAASkAAAAAAAADwPwAAAAAAAPA/AAAAAAAAAEAAAAAAAAAuQAAAAAAAAAhAAAAAAACAQEAAAAAAAADwPwAAAAAAAPA/AAAAAAAAAEAAAAAAAAAoQAAAAAAAAPA/AAAAAAAA8D8AAAAAAADwPwAAAAAAAPA/AAAAAAAAEEAAAAAAAIBKQAAAAAAAAPA/AAAAAAAA8D8AAAAAAAAAQAAAAAAAAC5AAAAAAAAACEAAAAAAAABCQAAAAAAAABBAAAAAAACAREAAAAAAAAAIQAAAAAAAADZAAAAAAAAA8D8AAAAAAADwPwAAAAAAAPA/AAAAAAAA8D8AAAAAAAAAQAAAAAAAADBAAAAAAAAACEAAAAAAAABBQAAAAAAAAPA/AAAAAAAA8D8=",
          "dtype": "f8",
          "shape": "29, 2"
         },
         "hovertemplate": "Compound=MEDIUM<br>Lap_Start=%{base}<br>Stint_Length=%{x}<br>Driver=%{y}<br>Stint=%{customdata[0]}<br>Lap_End=%{customdata[1]}<extra></extra>",
         "legendgroup": "MEDIUM",
         "marker": {
          "color": "#ffd700",
          "pattern": {
           "shape": ""
          }
         },
         "name": "MEDIUM",
         "orientation": "h",
         "showlegend": true,
         "textposition": "auto",
         "type": "bar",
         "x": {
          "bdata": "AAAAAAAANEAAAAAAAAAwQAAAAAAAAPA/AAAAAAAALEAAAAAAAADwPwAAAAAAADlAAAAAAAAA8D8AAAAAAAA1QAAAAAAAAPA/AAAAAAAAJEAAAAAAAAAzQAAAAAAAAPA/AAAAAAAALEAAAAAAAAAyQAAAAAAAAPA/AAAAAAAAJkAAAAAAAADwPwAAAAAAAPA/AAAAAAAAMEAAAAAAAADwPwAAAAAAACxAAAAAAAAANUAAAAAAAAAcQAAAAAAAACRAAAAAAAAA8D8AAAAAAADwPwAAAAAAAC5AAAAAAAAAMkAAAAAAAADwPw==",
          "dtype": "f8"
         },
         "xaxis": "x",
         "y": [
          "ALO",
          "GAS",
          "HAM",
          "HAM",
          "LEC",
          "LEC",
          "MAG",
          "MAG",
          "NOR",
          "NOR",
          "OCO",
          "PER",
          "PER",
          "PER",
          "PIA",
          "PIA",
          "RIC",
          "RUS",
          "RUS",
          "SAI",
          "SAI",
          "SAI",
          "SAR",
          "STR",
          "TSU",
          "VER",
          "VER",
          "VER",
          "ZHO"
         ],
         "yaxis": "y"
        },
        {
         "base": [
          34,
          7,
          23,
          2,
          33,
          2,
          24,
          6,
          34,
          27,
          23,
          12,
          27,
          2,
          20,
          34,
          13,
          33,
          2,
          23,
          37,
          2,
          23,
          23,
          8,
          23,
          35,
          8,
          12
         ],
         "customdata": {
          "bdata": "AAAAAAAAEEAAAAAAAIBKQAAAAAAAAAhAAAAAAAAANkAAAAAAAAAQQAAAAAAAAEpAAAAAAAAAAEAAAAAAAAAwQAAAAAAAABBAAAAAAAAASkAAAAAAAAAAQAAAAAAAADdAAAAAAAAACEAAAAAAAIBDQAAAAAAAAAhAAAAAAACAQEAAAAAAAAAQQAAAAAAAAEpAAAAAAAAACEAAAAAAAIBKQAAAAAAAAAhAAAAAAAAASkAAAAAAAAAIQAAAAAAAADpAAAAAAAAAEEAAAAAAAIBKQAAAAAAAAABAAAAAAAAAM0AAAAAAAAAIQAAAAAAAgEBAAAAAAAAAEEAAAAAAAIBKQAAAAAAAAAhAAAAAAAAAQEAAAAAAAAAQQAAAAAAAgEpAAAAAAAAAAEAAAAAAAAA2QAAAAAAAAAhAAAAAAACAQkAAAAAAAAAQQAAAAAAAgEpAAAAAAAAAAEAAAAAAAAA2QAAAAAAAAAhAAAAAAAAAQUAAAAAAAAAQQAAAAAAAAEFAAAAAAAAACEAAAAAAAAA2QAAAAAAAABBAAAAAAAAASkAAAAAAAAAQQAAAAAAAgEpAAAAAAAAACEAAAAAAAAAmQAAAAAAAABBAAAAAAAAAKEA=",
          "dtype": "f8",
          "shape": "29, 2"
         },
         "hovertemplate": "Compound=HARD<br>Lap_Start=%{base}<br>Stint_Length=%{x}<br>Driver=%{y}<br>Stint=%{customdata[0]}<br>Lap_End=%{customdata[1]}<extra></extra>",
         "legendgroup": "HARD",
         "marker": {
          "color": "#f8f8ff",
          "pattern": {
           "shape": ""
          }
         },
         "name": "HARD",
         "orientation": "h",
         "showlegend": true,
         "textposition": "auto",
         "type": "bar",
         "x": {
          "bdata": "AAAAAAAANEAAAAAAAAAwQAAAAAAAAD5AAAAAAAAALkAAAAAAAAA0QAAAAAAAADZAAAAAAAAAMEAAAAAAAAA8QAAAAAAAADNAAAAAAAAAO0AAAAAAAAA+QAAAAAAAAC5AAAAAAAAAO0AAAAAAAAAyQAAAAAAAACxAAAAAAAAANEAAAAAAAAA0QAAAAAAAADVAAAAAAAAANUAAAAAAAAAuQAAAAAAAADFAAAAAAAAANUAAAAAAAAAoQAAAAAAAAChAAAAAAAAALkAAAAAAAAA+QAAAAAAAADNAAAAAAAAAEEAAAAAAAADwPw==",
          "dtype": "f8"
         },
         "xaxis": "x",
         "y": [
          "ALO",
          "BOT",
          "BOT",
          "GAS",
          "GAS",
          "HAM",
          "HAM",
          "HUL",
          "HUL",
          "LEC",
          "MAG",
          "NOR",
          "NOR",
          "OCO",
          "OCO",
          "PER",
          "PIA",
          "PIA",
          "RUS",
          "RUS",
          "SAI",
          "SAR",
          "SAR",
          "STR",
          "TSU",
          "TSU",
          "VER",
          "ZHO",
          "ZHO"
         ],
         "yaxis": "y"
        }
       ],
       "layout": {
        "barmode": "relative",
        "legend": {
         "title": {
          "text": "Compound"
         },
         "tracegroupgap": 0
        },
        "margin": {
         "t": 60
        },
        "template": {
         "data": {
          "bar": [
           {
            "error_x": {
             "color": "#2a3f5f"
            },
            "error_y": {
             "color": "#2a3f5f"
            },
            "marker": {
             "line": {
              "color": "#E5ECF6",
              "width": 0.5
             },
             "pattern": {
              "fillmode": "overlay",
              "size": 10,
              "solidity": 0.2
             }
            },
            "type": "bar"
           }
          ],
          "barpolar": [
           {
            "marker": {
             "line": {
              "color": "#E5ECF6",
              "width": 0.5
             },
             "pattern": {
              "fillmode": "overlay",
              "size": 10,
              "solidity": 0.2
             }
            },
            "type": "barpolar"
           }
          ],
          "carpet": [
           {
            "aaxis": {
             "endlinecolor": "#2a3f5f",
             "gridcolor": "white",
             "linecolor": "white",
             "minorgridcolor": "white",
             "startlinecolor": "#2a3f5f"
            },
            "baxis": {
             "endlinecolor": "#2a3f5f",
             "gridcolor": "white",
             "linecolor": "white",
             "minorgridcolor": "white",
             "startlinecolor": "#2a3f5f"
            },
            "type": "carpet"
           }
          ],
          "choropleth": [
           {
            "colorbar": {
             "outlinewidth": 0,
             "ticks": ""
            },
            "type": "choropleth"
           }
          ],
          "contour": [
           {
            "colorbar": {
             "outlinewidth": 0,
             "ticks": ""
            },
            "colorscale": [
             [
              0,
              "#0d0887"
             ],
             [
              0.1111111111111111,
              "#46039f"
             ],
             [
              0.2222222222222222,
              "#7201a8"
             ],
             [
              0.3333333333333333,
              "#9c179e"
             ],
             [
              0.4444444444444444,
              "#bd3786"
             ],
             [
              0.5555555555555556,
              "#d8576b"
             ],
             [
              0.6666666666666666,
              "#ed7953"
             ],
             [
              0.7777777777777778,
              "#fb9f3a"
             ],
             [
              0.8888888888888888,
              "#fdca26"
             ],
             [
              1,
              "#f0f921"
             ]
            ],
            "type": "contour"
           }
          ],
          "contourcarpet": [
           {
            "colorbar": {
             "outlinewidth": 0,
             "ticks": ""
            },
            "type": "contourcarpet"
           }
          ],
          "heatmap": [
           {
            "colorbar": {
             "outlinewidth": 0,
             "ticks": ""
            },
            "colorscale": [
             [
              0,
              "#0d0887"
             ],
             [
              0.1111111111111111,
              "#46039f"
             ],
             [
              0.2222222222222222,
              "#7201a8"
             ],
             [
              0.3333333333333333,
              "#9c179e"
             ],
             [
              0.4444444444444444,
              "#bd3786"
             ],
             [
              0.5555555555555556,
              "#d8576b"
             ],
             [
              0.6666666666666666,
              "#ed7953"
             ],
             [
              0.7777777777777778,
              "#fb9f3a"
             ],
             [
              0.8888888888888888,
              "#fdca26"
             ],
             [
              1,
              "#f0f921"
             ]
            ],
            "type": "heatmap"
           }
          ],
          "histogram": [
           {
            "marker": {
             "pattern": {
              "fillmode": "overlay",
              "size": 10,
              "solidity": 0.2
             }
            },
            "type": "histogram"
           }
          ],
          "histogram2d": [
           {
            "colorbar": {
             "outlinewidth": 0,
             "ticks": ""
            },
            "colorscale": [
             [
              0,
              "#0d0887"
             ],
             [
              0.1111111111111111,
              "#46039f"
             ],
             [
              0.2222222222222222,
              "#7201a8"
             ],
             [
              0.3333333333333333,
              "#9c179e"
             ],
             [
              0.4444444444444444,
              "#bd3786"
             ],
             [
              0.5555555555555556,
              "#d8576b"
             ],
             [
              0.6666666666666666,
              "#ed7953"
             ],
             [
              0.7777777777777778,
              "#fb9f3a"
             ],
             [
              0.8888888888888888,
              "#fdca26"
             ],
             [
              1,
              "#f0f921"
             ]
            ],
            "type": "histogram2d"
           }
          ],
          "histogram2dcontour": [
           {
            "colorbar": {
             "outlinewidth": 0,
             "ticks": ""
            },
            "colorscale": [
             [
              0,
              "#0d0887"
             ],
             [
              0.1111111111111111,
              "#46039f"
             ],
             [
              0.2222222222222222,
              "#7201a8"
             ],
             [
              0.3333333333333333,
              "#9c179e"
             ],
             [
              0.4444444444444444,
              "#bd3786"
             ],
             [
              0.5555555555555556,
              "#d8576b"
             ],
             [
              0.6666666666666666,
              "#ed7953"
             ],
             [
              0.7777777777777778,
              "#fb9f3a"
             ],
             [
              0.8888888888888888,
              "#fdca26"
             ],
             [
              1,
              "#f0f921"
             ]
            ],
            "type": "histogram2dcontour"
           }
          ],
          "mesh3d": [
           {
            "colorbar": {
             "outlinewidth": 0,
             "ticks": ""
            },
            "type": "mesh3d"
           }
          ],
          "parcoords": [
           {
            "line": {
             "colorbar": {
              "outlinewidth": 0,
              "ticks": ""
             }
            },
            "type": "parcoords"
           }
          ],
          "pie": [
           {
            "automargin": true,
            "type": "pie"
           }
          ],
          "scatter": [
           {
            "fillpattern": {
             "fillmode": "overlay",
             "size": 10,
             "solidity": 0.2
            },
            "type": "scatter"
           }
          ],
          "scatter3d": [
           {
            "line": {
             "colorbar": {
              "outlinewidth": 0,
              "ticks": ""
             }
            },
            "marker": {
             "colorbar": {
              "outlinewidth": 0,
              "ticks": ""
             }
            },
            "type": "scatter3d"
           }
          ],
          "scattercarpet": [
           {
            "marker": {
             "colorbar": {
              "outlinewidth": 0,
              "ticks": ""
             }
            },
            "type": "scattercarpet"
           }
          ],
          "scattergeo": [
           {
            "marker": {
             "colorbar": {
              "outlinewidth": 0,
              "ticks": ""
             }
            },
            "type": "scattergeo"
           }
          ],
          "scattergl": [
           {
            "marker": {
             "colorbar": {
              "outlinewidth": 0,
              "ticks": ""
             }
            },
            "type": "scattergl"
           }
          ],
          "scattermap": [
           {
            "marker": {
             "colorbar": {
              "outlinewidth": 0,
              "ticks": ""
             }
            },
            "type": "scattermap"
           }
          ],
          "scattermapbox": [
           {
            "marker": {
             "colorbar": {
              "outlinewidth": 0,
              "ticks": ""
             }
            },
            "type": "scattermapbox"
           }
          ],
          "scatterpolar": [
           {
            "marker": {
             "colorbar": {
              "outlinewidth": 0,
              "ticks": ""
             }
            },
            "type": "scatterpolar"
           }
          ],
          "scatterpolargl": [
           {
            "marker": {
             "colorbar": {
              "outlinewidth": 0,
              "ticks": ""
             }
            },
            "type": "scatterpolargl"
           }
          ],
          "scatterternary": [
           {
            "marker": {
             "colorbar": {
              "outlinewidth": 0,
              "ticks": ""
             }
            },
            "type": "scatterternary"
           }
          ],
          "surface": [
           {
            "colorbar": {
             "outlinewidth": 0,
             "ticks": ""
            },
            "colorscale": [
             [
              0,
              "#0d0887"
             ],
             [
              0.1111111111111111,
              "#46039f"
             ],
             [
              0.2222222222222222,
              "#7201a8"
             ],
             [
              0.3333333333333333,
              "#9c179e"
             ],
             [
              0.4444444444444444,
              "#bd3786"
             ],
             [
              0.5555555555555556,
              "#d8576b"
             ],
             [
              0.6666666666666666,
              "#ed7953"
             ],
             [
              0.7777777777777778,
              "#fb9f3a"
             ],
             [
              0.8888888888888888,
              "#fdca26"
             ],
             [
              1,
              "#f0f921"
             ]
            ],
            "type": "surface"
           }
          ],
          "table": [
           {
            "cells": {
             "fill": {
              "color": "#EBF0F8"
             },
             "line": {
              "color": "white"
             }
            },
            "header": {
             "fill": {
              "color": "#C8D4E3"
             },
             "line": {
              "color": "white"
             }
            },
            "type": "table"
           }
          ]
         },
         "layout": {
          "annotationdefaults": {
           "arrowcolor": "#2a3f5f",
           "arrowhead": 0,
           "arrowwidth": 1
          },
          "autotypenumbers": "strict",
          "coloraxis": {
           "colorbar": {
            "outlinewidth": 0,
            "ticks": ""
           }
          },
          "colorscale": {
           "diverging": [
            [
             0,
             "#8e0152"
            ],
            [
             0.1,
             "#c51b7d"
            ],
            [
             0.2,
             "#de77ae"
            ],
            [
             0.3,
             "#f1b6da"
            ],
            [
             0.4,
             "#fde0ef"
            ],
            [
             0.5,
             "#f7f7f7"
            ],
            [
             0.6,
             "#e6f5d0"
            ],
            [
             0.7,
             "#b8e186"
            ],
            [
             0.8,
             "#7fbc41"
            ],
            [
             0.9,
             "#4d9221"
            ],
            [
             1,
             "#276419"
            ]
           ],
           "sequential": [
            [
             0,
             "#0d0887"
            ],
            [
             0.1111111111111111,
             "#46039f"
            ],
            [
             0.2222222222222222,
             "#7201a8"
            ],
            [
             0.3333333333333333,
             "#9c179e"
            ],
            [
             0.4444444444444444,
             "#bd3786"
            ],
            [
             0.5555555555555556,
             "#d8576b"
            ],
            [
             0.6666666666666666,
             "#ed7953"
            ],
            [
             0.7777777777777778,
             "#fb9f3a"
            ],
            [
             0.8888888888888888,
             "#fdca26"
            ],
            [
             1,
             "#f0f921"
            ]
           ],
           "sequentialminus": [
            [
             0,
             "#0d0887"
            ],
            [
             0.1111111111111111,
             "#46039f"
            ],
            [
             0.2222222222222222,
             "#7201a8"
            ],
            [
             0.3333333333333333,
             "#9c179e"
            ],
            [
             0.4444444444444444,
             "#bd3786"
            ],
            [
             0.5555555555555556,
             "#d8576b"
            ],
            [
             0.6666666666666666,
             "#ed7953"
            ],
            [
             0.7777777777777778,
             "#fb9f3a"
            ],
            [
             0.8888888888888888,
             "#fdca26"
            ],
            [
             1,
             "#f0f921"
            ]
           ]
          },
          "colorway": [
           "#636efa",
           "#EF553B",
           "#00cc96",
           "#ab63fa",
           "#FFA15A",
           "#19d3f3",
           "#FF6692",
           "#B6E880",
           "#FF97FF",
           "#FECB52"
          ],
          "font": {
           "color": "#2a3f5f"
          },
          "geo": {
           "bgcolor": "white",
           "lakecolor": "white",
           "landcolor": "#E5ECF6",
           "showlakes": true,
           "showland": true,
           "subunitcolor": "white"
          },
          "hoverlabel": {
           "align": "left"
          },
          "hovermode": "closest",
          "mapbox": {
           "style": "light"
          },
          "paper_bgcolor": "white",
          "plot_bgcolor": "#E5ECF6",
          "polar": {
           "angularaxis": {
            "gridcolor": "white",
            "linecolor": "white",
            "ticks": ""
           },
           "bgcolor": "#E5ECF6",
           "radialaxis": {
            "gridcolor": "white",
            "linecolor": "white",
            "ticks": ""
           }
          },
          "scene": {
           "xaxis": {
            "backgroundcolor": "#E5ECF6",
            "gridcolor": "white",
            "gridwidth": 2,
            "linecolor": "white",
            "showbackground": true,
            "ticks": "",
            "zerolinecolor": "white"
           },
           "yaxis": {
            "backgroundcolor": "#E5ECF6",
            "gridcolor": "white",
            "gridwidth": 2,
            "linecolor": "white",
            "showbackground": true,
            "ticks": "",
            "zerolinecolor": "white"
           },
           "zaxis": {
            "backgroundcolor": "#E5ECF6",
            "gridcolor": "white",
            "gridwidth": 2,
            "linecolor": "white",
            "showbackground": true,
            "ticks": "",
            "zerolinecolor": "white"
           }
          },
          "shapedefaults": {
           "line": {
            "color": "#2a3f5f"
           }
          },
          "ternary": {
           "aaxis": {
            "gridcolor": "white",
            "linecolor": "white",
            "ticks": ""
           },
           "baxis": {
            "gridcolor": "white",
            "linecolor": "white",
            "ticks": ""
           },
           "bgcolor": "#E5ECF6",
           "caxis": {
            "gridcolor": "white",
            "linecolor": "white",
            "ticks": ""
           }
          },
          "title": {
           "x": 0.05
          },
          "xaxis": {
           "automargin": true,
           "gridcolor": "white",
           "linecolor": "white",
           "ticks": "",
           "title": {
            "standoff": 15
           },
           "zerolinecolor": "white",
           "zerolinewidth": 2
          },
          "yaxis": {
           "automargin": true,
           "gridcolor": "white",
           "linecolor": "white",
           "ticks": "",
           "title": {
            "standoff": 15
           },
           "zerolinecolor": "white",
           "zerolinewidth": 2
          }
         }
        },
        "title": {
         "text": "FORMULA 1 MSC CRUISES JAPANESE GRAND PRIX 2024 - Race Pit Stop Strategy"
        },
        "xaxis": {
         "anchor": "y",
         "domain": [
          0,
          1
         ],
         "title": {
          "text": "Lap Number"
         }
        },
        "yaxis": {
         "anchor": "x",
         "categoryarray": [
          "ALB",
          "RIC",
          "ZHO",
          "SAR",
          "GAS",
          "OCO",
          "BOT",
          "MAG",
          "STR",
          "HUL",
          "TSU",
          "HAM",
          "PIA",
          "RUS",
          "ALO",
          "NOR",
          "LEC",
          "SAI",
          "PER",
          "VER"
         ],
         "categoryorder": "array",
         "domain": [
          0,
          1
         ],
         "title": {
          "text": "Driver"
         }
        }
       }
      }
     },
     "metadata": {},
     "output_type": "display_data"
    }
   ],
   "source": [
    "import fastf1 as ff1\n",
    "import pandas as pd\n",
    "import plotly.express as px\n",
    "\n",
    "# (キャッシュを有効にする)\n",
    "ff1.Cache.enable_cache('./cache') \n",
    "\n",
    "# --- タイヤ色の定義 (app.pyからコピー) ---\n",
    "TYRE_COLORS = {\n",
    "    'SOFT': '#dc143c', 'MEDIUM': '#ffd700', 'HARD': '#f8f8ff',\n",
    "    'INTERMEDIATE': '#4CAF50', 'WET': '#0D47A1'\n",
    "}\n",
    "\n",
    "print(\"--- ピット戦略タイムラインのプロトタイプ (px.bar 版) ---\")\n",
    "\n",
    "# 1. 分析対象のセッションをロード\n",
    "try:\n",
    "    session = ff1.get_session(2024, 'Japanese Grand Prix', 'R')\n",
    "    session.load()\n",
    "    laps = session.laps\n",
    "    results = session.results\n",
    "    \n",
    "    print(f\"{session.event['OfficialEventName']} のデータをロードしました。\")\n",
    "\n",
    "    # 2. 'laps' (DataFrame) を 'Driver' と 'Stint' でグループ化\n",
    "    stints_df = laps.groupby(['Driver', 'Stint']).agg(\n",
    "        Lap_Start=('LapNumber', 'min'),   \n",
    "        Lap_End=('LapNumber', 'max'),     \n",
    "        Compound=('Compound', 'first')    \n",
    "    ).reset_index()\n",
    "    \n",
    "    # 3. ★★★ 新機能 ★★★ バーの「長さ」を計算\n",
    "    # (例: 1周目から15周目なら、長さは 15 - 1 + 1 = 15周)\n",
    "    stints_df['Stint_Length'] = stints_df['Lap_End'] - stints_df['Lap_Start'] + 1\n",
    "    \n",
    "    # 4. Y軸ソート用のドライバーリストを取得 (決勝順位順)\n",
    "    drivers_list_sorted = results['Abbreviation'].tolist() # results は 'Abbreviation' だった\n",
    "\n",
    "    print(\"\\nスティントデータ (先頭5行):\")\n",
    "    print(stints_df.head())\n",
    "\n",
    "    # 5. ★★★ 修正点 ★★★ px.timeline の代わりに px.bar を使用\n",
    "    fig_timeline = px.bar(\n",
    "        stints_df,\n",
    "        base=\"Lap_Start\",        # ★ X軸の「開始位置」\n",
    "        x=\"Stint_Length\",       # ★ X軸の「バーの長さ」\n",
    "        y=\"Driver\",             \n",
    "        color=\"Compound\",       \n",
    "        color_discrete_map=TYRE_COLORS, \n",
    "        orientation='h',        # ★ 水平（horizontal）バーチャートにする\n",
    "        hover_data=['Stint', 'Lap_Start', 'Lap_End'] # マウスオーバー情報\n",
    "    )\n",
    "    \n",
    "    # 6. Y軸をレース順位（リストの逆順）に並び替え\n",
    "    fig_timeline.update_yaxes(categoryorder='array', categoryarray=list(reversed(drivers_list_sorted)))\n",
    "    \n",
    "    # 7. グラフのタイトルとX軸ラベルを設定\n",
    "    fig_timeline.update_layout(\n",
    "        title=f\"{session.event['OfficialEventName']} - Race Pit Stop Strategy\",\n",
    "        xaxis_title=\"Lap Number\"\n",
    "    )\n",
    "\n",
    "    # 8. Notebook上にグラフを表示\n",
    "    fig_timeline.show()\n",
    "\n",
    "except Exception as e:\n",
    "    print(f\"エラーが発生しました: {e}\")"
   ]
  },
  {
   "cell_type": "code",
   "execution_count": 6,
   "id": "90df09e9",
   "metadata": {},
   "outputs": [
    {
     "name": "stderr",
     "output_type": "stream",
     "text": [
      "core           INFO \tLoading data for Japanese Grand Prix - Race [v3.6.1]\n",
      "req            INFO \tUsing cached data for session_info\n",
      "req            INFO \tUsing cached data for driver_info\n",
      "req            INFO \tUsing cached data for session_status_data\n",
      "req            INFO \tUsing cached data for lap_count\n",
      "req            INFO \tUsing cached data for track_status_data\n",
      "req            INFO \tUsing cached data for _extended_timing_data\n",
      "req            INFO \tUsing cached data for timing_app_data\n",
      "core           INFO \tProcessing timing data...\n"
     ]
    },
    {
     "name": "stdout",
     "output_type": "stream",
     "text": [
      "--- チーム別 Deg Rate 分析モデル (手動・燃料 + 路面進化 補正版) ---\n"
     ]
    },
    {
     "name": "stderr",
     "output_type": "stream",
     "text": [
      "req            INFO \tUsing cached data for car_data\n",
      "req            INFO \tUsing cached data for position_data\n",
      "req            INFO \tUsing cached data for weather_data\n",
      "req            INFO \tUsing cached data for race_control_messages\n",
      "core           INFO \tFinished loading data for 20 drivers: ['1', '11', '55', '16', '4', '14', '63', '81', '44', '22', '27', '18', '20', '77', '31', '10', '2', '24', '3', '23']\n"
     ]
    },
    {
     "name": "stdout",
     "output_type": "stream",
     "text": [
      "FORMULA 1 MSC CRUISES JAPANESE GRAND PRIX 2024 のデータをロードしました。\n",
      "\n",
      "--- 分析結果 (デグラデーション率 - 燃料 & 路面進化 補正済み) ---\n",
      "           TeamName Compound  DegRate_sec_lap  BasePace_sec  LapsAnalyzed\n",
      "15           Alpine   MEDIUM         0.029577     96.457769            31\n",
      "16           Alpine     HARD        -0.330593    101.789320            59\n",
      "8      Aston Martin     SOFT        -0.251908     99.055281            34\n",
      "6      Aston Martin   MEDIUM         0.034537     95.483151            26\n",
      "7      Aston Martin     HARD         0.035264     94.963928            28\n",
      "2           Ferrari   MEDIUM         0.054883     94.745923            52\n",
      "3           Ferrari     HARD         0.051399     93.940145            40\n",
      "12     Haas F1 Team   MEDIUM        -0.491602    104.374725            19\n",
      "13     Haas F1 Team     HARD         0.105772     94.960867            70\n",
      "14      Kick Sauber     HARD         0.091982     95.307328            43\n",
      "4           McLaren   MEDIUM         0.293174     92.979403            15\n",
      "5           McLaren     HARD         0.055679     94.457326            75\n",
      "9          Mercedes   MEDIUM         0.165531     92.831992            24\n",
      "10         Mercedes     HARD         0.156993     94.079068            64\n",
      "11               RB     HARD         0.039858     95.771108            40\n",
      "0   Red Bull Racing   MEDIUM         0.118469     93.716939            55\n",
      "1   Red Bull Racing     HARD         0.080066     93.196538            35\n",
      "17         Williams     HARD        -0.252512    100.343080            29\n"
     ]
    },
    {
     "data": {
      "application/vnd.plotly.v1+json": {
       "config": {
        "plotlyServerURL": "https://plot.ly"
       },
       "data": [
        {
         "alignmentgroup": "True",
         "hovertemplate": "Compound=SOFT<br>TeamName=%{x}<br>Degradation Rate (seconds per lap)=%{y}<extra></extra>",
         "legendgroup": "SOFT",
         "marker": {
          "color": "#dc143c",
          "pattern": {
           "shape": ""
          }
         },
         "name": "SOFT",
         "offsetgroup": "SOFT",
         "orientation": "v",
         "showlegend": true,
         "textposition": "auto",
         "type": "bar",
         "x": [
          "Aston Martin"
         ],
         "xaxis": "x",
         "y": {
          "bdata": "AZoejUQf0L8=",
          "dtype": "f8"
         },
         "yaxis": "y"
        },
        {
         "alignmentgroup": "True",
         "hovertemplate": "Compound=MEDIUM<br>TeamName=%{x}<br>Degradation Rate (seconds per lap)=%{y}<extra></extra>",
         "legendgroup": "MEDIUM",
         "marker": {
          "color": "#ffd700",
          "pattern": {
           "shape": ""
          }
         },
         "name": "MEDIUM",
         "offsetgroup": "MEDIUM",
         "orientation": "v",
         "showlegend": true,
         "textposition": "auto",
         "type": "bar",
         "x": [
          "Alpine",
          "Aston Martin",
          "Ferrari",
          "Haas F1 Team",
          "McLaren",
          "Mercedes",
          "Red Bull Racing"
         ],
         "xaxis": "x",
         "y": {
          "bdata": "s0fF5HlJnj8TzZQ4z66hP5IQ2teQGaw/xpxvNGd2379hoUNYXMPSP2z0wAQeMMU/7oGpQfhTvj8=",
          "dtype": "f8"
         },
         "yaxis": "y"
        },
        {
         "alignmentgroup": "True",
         "hovertemplate": "Compound=HARD<br>TeamName=%{x}<br>Degradation Rate (seconds per lap)=%{y}<extra></extra>",
         "legendgroup": "HARD",
         "marker": {
          "color": "#66d6fb",
          "pattern": {
           "shape": ""
          }
         },
         "name": "HARD",
         "offsetgroup": "HARD",
         "orientation": "v",
         "showlegend": true,
         "textposition": "auto",
         "type": "bar",
         "x": [
          "Alpine",
          "Aston Martin",
          "Ferrari",
          "Haas F1 Team",
          "Kick Sauber",
          "McLaren",
          "Mercedes",
          "RB",
          "Red Bull Racing",
          "Williams"
         ],
         "xaxis": "x",
         "y": {
          "bdata": "bcP8LHAo1b/SHS/0Jw6iP4W3qvLyUKo/hmD41+YTuz/E+MTdGoy3P+mJbun4gaw//v5O1VsYxD+BgoVZN2ikP05P8vA0f7Q/0rXEyCgp0L8=",
          "dtype": "f8"
         },
         "yaxis": "y"
        }
       ],
       "layout": {
        "barmode": "group",
        "legend": {
         "title": {
          "text": "Compound"
         },
         "tracegroupgap": 0
        },
        "template": {
         "data": {
          "bar": [
           {
            "error_x": {
             "color": "#2a3f5f"
            },
            "error_y": {
             "color": "#2a3f5f"
            },
            "marker": {
             "line": {
              "color": "#E5ECF6",
              "width": 0.5
             },
             "pattern": {
              "fillmode": "overlay",
              "size": 10,
              "solidity": 0.2
             }
            },
            "type": "bar"
           }
          ],
          "barpolar": [
           {
            "marker": {
             "line": {
              "color": "#E5ECF6",
              "width": 0.5
             },
             "pattern": {
              "fillmode": "overlay",
              "size": 10,
              "solidity": 0.2
             }
            },
            "type": "barpolar"
           }
          ],
          "carpet": [
           {
            "aaxis": {
             "endlinecolor": "#2a3f5f",
             "gridcolor": "white",
             "linecolor": "white",
             "minorgridcolor": "white",
             "startlinecolor": "#2a3f5f"
            },
            "baxis": {
             "endlinecolor": "#2a3f5f",
             "gridcolor": "white",
             "linecolor": "white",
             "minorgridcolor": "white",
             "startlinecolor": "#2a3f5f"
            },
            "type": "carpet"
           }
          ],
          "choropleth": [
           {
            "colorbar": {
             "outlinewidth": 0,
             "ticks": ""
            },
            "type": "choropleth"
           }
          ],
          "contour": [
           {
            "colorbar": {
             "outlinewidth": 0,
             "ticks": ""
            },
            "colorscale": [
             [
              0,
              "#0d0887"
             ],
             [
              0.1111111111111111,
              "#46039f"
             ],
             [
              0.2222222222222222,
              "#7201a8"
             ],
             [
              0.3333333333333333,
              "#9c179e"
             ],
             [
              0.4444444444444444,
              "#bd3786"
             ],
             [
              0.5555555555555556,
              "#d8576b"
             ],
             [
              0.6666666666666666,
              "#ed7953"
             ],
             [
              0.7777777777777778,
              "#fb9f3a"
             ],
             [
              0.8888888888888888,
              "#fdca26"
             ],
             [
              1,
              "#f0f921"
             ]
            ],
            "type": "contour"
           }
          ],
          "contourcarpet": [
           {
            "colorbar": {
             "outlinewidth": 0,
             "ticks": ""
            },
            "type": "contourcarpet"
           }
          ],
          "heatmap": [
           {
            "colorbar": {
             "outlinewidth": 0,
             "ticks": ""
            },
            "colorscale": [
             [
              0,
              "#0d0887"
             ],
             [
              0.1111111111111111,
              "#46039f"
             ],
             [
              0.2222222222222222,
              "#7201a8"
             ],
             [
              0.3333333333333333,
              "#9c179e"
             ],
             [
              0.4444444444444444,
              "#bd3786"
             ],
             [
              0.5555555555555556,
              "#d8576b"
             ],
             [
              0.6666666666666666,
              "#ed7953"
             ],
             [
              0.7777777777777778,
              "#fb9f3a"
             ],
             [
              0.8888888888888888,
              "#fdca26"
             ],
             [
              1,
              "#f0f921"
             ]
            ],
            "type": "heatmap"
           }
          ],
          "histogram": [
           {
            "marker": {
             "pattern": {
              "fillmode": "overlay",
              "size": 10,
              "solidity": 0.2
             }
            },
            "type": "histogram"
           }
          ],
          "histogram2d": [
           {
            "colorbar": {
             "outlinewidth": 0,
             "ticks": ""
            },
            "colorscale": [
             [
              0,
              "#0d0887"
             ],
             [
              0.1111111111111111,
              "#46039f"
             ],
             [
              0.2222222222222222,
              "#7201a8"
             ],
             [
              0.3333333333333333,
              "#9c179e"
             ],
             [
              0.4444444444444444,
              "#bd3786"
             ],
             [
              0.5555555555555556,
              "#d8576b"
             ],
             [
              0.6666666666666666,
              "#ed7953"
             ],
             [
              0.7777777777777778,
              "#fb9f3a"
             ],
             [
              0.8888888888888888,
              "#fdca26"
             ],
             [
              1,
              "#f0f921"
             ]
            ],
            "type": "histogram2d"
           }
          ],
          "histogram2dcontour": [
           {
            "colorbar": {
             "outlinewidth": 0,
             "ticks": ""
            },
            "colorscale": [
             [
              0,
              "#0d0887"
             ],
             [
              0.1111111111111111,
              "#46039f"
             ],
             [
              0.2222222222222222,
              "#7201a8"
             ],
             [
              0.3333333333333333,
              "#9c179e"
             ],
             [
              0.4444444444444444,
              "#bd3786"
             ],
             [
              0.5555555555555556,
              "#d8576b"
             ],
             [
              0.6666666666666666,
              "#ed7953"
             ],
             [
              0.7777777777777778,
              "#fb9f3a"
             ],
             [
              0.8888888888888888,
              "#fdca26"
             ],
             [
              1,
              "#f0f921"
             ]
            ],
            "type": "histogram2dcontour"
           }
          ],
          "mesh3d": [
           {
            "colorbar": {
             "outlinewidth": 0,
             "ticks": ""
            },
            "type": "mesh3d"
           }
          ],
          "parcoords": [
           {
            "line": {
             "colorbar": {
              "outlinewidth": 0,
              "ticks": ""
             }
            },
            "type": "parcoords"
           }
          ],
          "pie": [
           {
            "automargin": true,
            "type": "pie"
           }
          ],
          "scatter": [
           {
            "fillpattern": {
             "fillmode": "overlay",
             "size": 10,
             "solidity": 0.2
            },
            "type": "scatter"
           }
          ],
          "scatter3d": [
           {
            "line": {
             "colorbar": {
              "outlinewidth": 0,
              "ticks": ""
             }
            },
            "marker": {
             "colorbar": {
              "outlinewidth": 0,
              "ticks": ""
             }
            },
            "type": "scatter3d"
           }
          ],
          "scattercarpet": [
           {
            "marker": {
             "colorbar": {
              "outlinewidth": 0,
              "ticks": ""
             }
            },
            "type": "scattercarpet"
           }
          ],
          "scattergeo": [
           {
            "marker": {
             "colorbar": {
              "outlinewidth": 0,
              "ticks": ""
             }
            },
            "type": "scattergeo"
           }
          ],
          "scattergl": [
           {
            "marker": {
             "colorbar": {
              "outlinewidth": 0,
              "ticks": ""
             }
            },
            "type": "scattergl"
           }
          ],
          "scattermap": [
           {
            "marker": {
             "colorbar": {
              "outlinewidth": 0,
              "ticks": ""
             }
            },
            "type": "scattermap"
           }
          ],
          "scattermapbox": [
           {
            "marker": {
             "colorbar": {
              "outlinewidth": 0,
              "ticks": ""
             }
            },
            "type": "scattermapbox"
           }
          ],
          "scatterpolar": [
           {
            "marker": {
             "colorbar": {
              "outlinewidth": 0,
              "ticks": ""
             }
            },
            "type": "scatterpolar"
           }
          ],
          "scatterpolargl": [
           {
            "marker": {
             "colorbar": {
              "outlinewidth": 0,
              "ticks": ""
             }
            },
            "type": "scatterpolargl"
           }
          ],
          "scatterternary": [
           {
            "marker": {
             "colorbar": {
              "outlinewidth": 0,
              "ticks": ""
             }
            },
            "type": "scatterternary"
           }
          ],
          "surface": [
           {
            "colorbar": {
             "outlinewidth": 0,
             "ticks": ""
            },
            "colorscale": [
             [
              0,
              "#0d0887"
             ],
             [
              0.1111111111111111,
              "#46039f"
             ],
             [
              0.2222222222222222,
              "#7201a8"
             ],
             [
              0.3333333333333333,
              "#9c179e"
             ],
             [
              0.4444444444444444,
              "#bd3786"
             ],
             [
              0.5555555555555556,
              "#d8576b"
             ],
             [
              0.6666666666666666,
              "#ed7953"
             ],
             [
              0.7777777777777778,
              "#fb9f3a"
             ],
             [
              0.8888888888888888,
              "#fdca26"
             ],
             [
              1,
              "#f0f921"
             ]
            ],
            "type": "surface"
           }
          ],
          "table": [
           {
            "cells": {
             "fill": {
              "color": "#EBF0F8"
             },
             "line": {
              "color": "white"
             }
            },
            "header": {
             "fill": {
              "color": "#C8D4E3"
             },
             "line": {
              "color": "white"
             }
            },
            "type": "table"
           }
          ]
         },
         "layout": {
          "annotationdefaults": {
           "arrowcolor": "#2a3f5f",
           "arrowhead": 0,
           "arrowwidth": 1
          },
          "autotypenumbers": "strict",
          "coloraxis": {
           "colorbar": {
            "outlinewidth": 0,
            "ticks": ""
           }
          },
          "colorscale": {
           "diverging": [
            [
             0,
             "#8e0152"
            ],
            [
             0.1,
             "#c51b7d"
            ],
            [
             0.2,
             "#de77ae"
            ],
            [
             0.3,
             "#f1b6da"
            ],
            [
             0.4,
             "#fde0ef"
            ],
            [
             0.5,
             "#f7f7f7"
            ],
            [
             0.6,
             "#e6f5d0"
            ],
            [
             0.7,
             "#b8e186"
            ],
            [
             0.8,
             "#7fbc41"
            ],
            [
             0.9,
             "#4d9221"
            ],
            [
             1,
             "#276419"
            ]
           ],
           "sequential": [
            [
             0,
             "#0d0887"
            ],
            [
             0.1111111111111111,
             "#46039f"
            ],
            [
             0.2222222222222222,
             "#7201a8"
            ],
            [
             0.3333333333333333,
             "#9c179e"
            ],
            [
             0.4444444444444444,
             "#bd3786"
            ],
            [
             0.5555555555555556,
             "#d8576b"
            ],
            [
             0.6666666666666666,
             "#ed7953"
            ],
            [
             0.7777777777777778,
             "#fb9f3a"
            ],
            [
             0.8888888888888888,
             "#fdca26"
            ],
            [
             1,
             "#f0f921"
            ]
           ],
           "sequentialminus": [
            [
             0,
             "#0d0887"
            ],
            [
             0.1111111111111111,
             "#46039f"
            ],
            [
             0.2222222222222222,
             "#7201a8"
            ],
            [
             0.3333333333333333,
             "#9c179e"
            ],
            [
             0.4444444444444444,
             "#bd3786"
            ],
            [
             0.5555555555555556,
             "#d8576b"
            ],
            [
             0.6666666666666666,
             "#ed7953"
            ],
            [
             0.7777777777777778,
             "#fb9f3a"
            ],
            [
             0.8888888888888888,
             "#fdca26"
            ],
            [
             1,
             "#f0f921"
            ]
           ]
          },
          "colorway": [
           "#636efa",
           "#EF553B",
           "#00cc96",
           "#ab63fa",
           "#FFA15A",
           "#19d3f3",
           "#FF6692",
           "#B6E880",
           "#FF97FF",
           "#FECB52"
          ],
          "font": {
           "color": "#2a3f5f"
          },
          "geo": {
           "bgcolor": "white",
           "lakecolor": "white",
           "landcolor": "#E5ECF6",
           "showlakes": true,
           "showland": true,
           "subunitcolor": "white"
          },
          "hoverlabel": {
           "align": "left"
          },
          "hovermode": "closest",
          "mapbox": {
           "style": "light"
          },
          "paper_bgcolor": "white",
          "plot_bgcolor": "#E5ECF6",
          "polar": {
           "angularaxis": {
            "gridcolor": "white",
            "linecolor": "white",
            "ticks": ""
           },
           "bgcolor": "#E5ECF6",
           "radialaxis": {
            "gridcolor": "white",
            "linecolor": "white",
            "ticks": ""
           }
          },
          "scene": {
           "xaxis": {
            "backgroundcolor": "#E5ECF6",
            "gridcolor": "white",
            "gridwidth": 2,
            "linecolor": "white",
            "showbackground": true,
            "ticks": "",
            "zerolinecolor": "white"
           },
           "yaxis": {
            "backgroundcolor": "#E5ECF6",
            "gridcolor": "white",
            "gridwidth": 2,
            "linecolor": "white",
            "showbackground": true,
            "ticks": "",
            "zerolinecolor": "white"
           },
           "zaxis": {
            "backgroundcolor": "#E5ECF6",
            "gridcolor": "white",
            "gridwidth": 2,
            "linecolor": "white",
            "showbackground": true,
            "ticks": "",
            "zerolinecolor": "white"
           }
          },
          "shapedefaults": {
           "line": {
            "color": "#2a3f5f"
           }
          },
          "ternary": {
           "aaxis": {
            "gridcolor": "white",
            "linecolor": "white",
            "ticks": ""
           },
           "baxis": {
            "gridcolor": "white",
            "linecolor": "white",
            "ticks": ""
           },
           "bgcolor": "#E5ECF6",
           "caxis": {
            "gridcolor": "white",
            "linecolor": "white",
            "ticks": ""
           }
          },
          "title": {
           "x": 0.05
          },
          "xaxis": {
           "automargin": true,
           "gridcolor": "white",
           "linecolor": "white",
           "ticks": "",
           "title": {
            "standoff": 15
           },
           "zerolinecolor": "white",
           "zerolinewidth": 2
          },
          "yaxis": {
           "automargin": true,
           "gridcolor": "white",
           "linecolor": "white",
           "ticks": "",
           "title": {
            "standoff": 15
           },
           "zerolinecolor": "white",
           "zerolinewidth": 2
          }
         }
        },
        "title": {
         "text": "FORMULA 1 MSC CRUISES JAPANESE GRAND PRIX 2024 - Calculated Deg Rate (Fuel + Track Evo Corrected)"
        },
        "xaxis": {
         "anchor": "y",
         "domain": [
          0,
          1
         ],
         "title": {
          "text": "TeamName"
         }
        },
        "yaxis": {
         "anchor": "x",
         "domain": [
          0,
          1
         ],
         "title": {
          "text": "Degradation Rate (seconds per lap)"
         }
        }
       }
      }
     },
     "metadata": {},
     "output_type": "display_data"
    }
   ],
   "source": [
    "import fastf1 as ff1\n",
    "import pandas as pd\n",
    "import plotly.express as px\n",
    "from sklearn.linear_model import LinearRegression\n",
    "import numpy as np\n",
    "\n",
    "# (キャッシュを有効にする)\n",
    "ff1.Cache.enable_cache('./cache') \n",
    "\n",
    "# --- タイヤ色の定義 ---\n",
    "TYRE_COLORS = {\n",
    "    'SOFT': '#dc143c', 'MEDIUM': '#ffd700', 'HARD': '#66d6fb',\n",
    "    'INTERMEDIATE': '#4CAF50', 'WET': '#0D47A1'\n",
    "}\n",
    "\n",
    "# --- 補正のためのパラメーター定義 ---\n",
    "STARTING_FUEL_KG = 110.0\n",
    "FUEL_BURN_RATE_KG_PER_LAP = 1.6\n",
    "FUEL_EFFECT_SEC_PER_KG = 0.03\n",
    "TRACK_EVO_EFFECT_SEC_PER_LAP = 0.01 # ★★★ 修正点1: 路面進化の定数を定義 ★★★\n",
    "\n",
    "print(\"--- チーム別 Deg Rate 分析モデル (手動・燃料 + 路面進化 補正版) ---\")\n",
    "\n",
    "# 1. 分析対象のセッションをロード\n",
    "try:\n",
    "    session = ff1.get_session(2024, 'Japanese Grand Prix', 'R')\n",
    "    session.load()\n",
    "    laps = session.laps\n",
    "    results = session.results\n",
    "    print(f\"{session.event['OfficialEventName']} のデータをロードしました。\")\n",
    "\n",
    "    # 2. 'laps' と 'results' を結合\n",
    "    laps_with_team = pd.merge(\n",
    "        laps,\n",
    "        results[['Abbreviation', 'TeamName']], \n",
    "        left_on='Driver',\n",
    "        right_on='Abbreviation',\n",
    "        how='left'\n",
    "    )\n",
    "    \n",
    "    # 3. 「真のクリーンラップ」を抽出\n",
    "    clean_laps = laps_with_team.loc[\n",
    "        (laps_with_team['PitInTime'].isna()) & \n",
    "        (laps_with_team['PitOutTime'].isna()) & \n",
    "        (laps_with_team['TrackStatus'] == '1') & \n",
    "        (laps_with_team['LapNumber'] > 1)\n",
    "    ].dropna(subset=['LapTime'])\n",
    "    \n",
    "    clean_laps = clean_laps.copy()\n",
    "    clean_laps['LapTimeSeconds'] = clean_laps['LapTime'].dt.total_seconds()\n",
    "    \n",
    "    # 4. 「燃料補正」\n",
    "    clean_laps['FuelLoad_KG'] = STARTING_FUEL_KG - (clean_laps['LapNumber'] * FUEL_BURN_RATE_KG_PER_LAP)\n",
    "    clean_laps['FuelPenalty_sec'] = clean_laps['FuelLoad_KG'] * FUEL_EFFECT_SEC_PER_KG\n",
    "    \n",
    "    # 5. ★★★ 修正点2: 「路面進化」補正 ★★★\n",
    "    clean_laps['TrackEvo_Gain_sec'] = (clean_laps['LapNumber'] - 1) * TRACK_EVO_EFFECT_SEC_PER_LAP\n",
    "    \n",
    "    # 6. ★★★ 修正点3: 「完全補正済み」タイムを計算 ★★★\n",
    "    clean_laps['FullyCorrected_LapTimeSeconds'] = (\n",
    "        clean_laps['LapTimeSeconds'] - \n",
    "        clean_laps['FuelPenalty_sec'] + # 燃料の重さ分を引く (速くする)\n",
    "        clean_laps['TrackEvo_Gain_sec']  # 路面進化のズルした分を足す (遅くする)\n",
    "    )\n",
    "    \n",
    "    # 7. 分析結果を格納するリスト\n",
    "    deg_data = []\n",
    "    \n",
    "    # 8. チームごと、コンパウンドごとにループ\n",
    "    for team in clean_laps['TeamName'].unique():\n",
    "        for compound in clean_laps['Compound'].unique():\n",
    "            \n",
    "            subset = clean_laps.loc[\n",
    "                (clean_laps['TeamName'] == team) & \n",
    "                (clean_laps['Compound'] == compound)\n",
    "            ]\n",
    "            subset = subset.dropna(subset=['TyreLife', 'FullyCorrected_LapTimeSeconds'])\n",
    "            \n",
    "            if len(subset) > 10: # 10周を超えるデータのみ\n",
    "                model = LinearRegression()\n",
    "                \n",
    "                X = subset[['TyreLife']] \n",
    "                y = subset['FullyCorrected_LapTimeSeconds']\n",
    "                \n",
    "                model.fit(X, y) \n",
    "                \n",
    "                deg_rate_sec_per_lap = model.coef_[0]\n",
    "                base_pace = model.intercept_\n",
    "                \n",
    "                deg_data.append({\n",
    "                    'TeamName': team,\n",
    "                    'Compound': compound,\n",
    "                    'DegRate_sec_lap': deg_rate_sec_per_lap,\n",
    "                    'BasePace_sec': base_pace,\n",
    "                    'LapsAnalyzed': len(subset)\n",
    "                })\n",
    "\n",
    "    # 9. 結果をDataFrameに変換\n",
    "    deg_df = pd.DataFrame(deg_data)\n",
    "    \n",
    "    if deg_df.empty:\n",
    "        print(\"エラー: 10周を超える分析可能なクリーンラップデータがありませんでした。\")\n",
    "    else:\n",
    "        \n",
    "        # 10. コンパウンドの順序を定義\n",
    "        compound_order = ['SOFT', 'MEDIUM', 'HARD', 'INTERMEDIATE', 'WET']\n",
    "        compound_dtype = pd.CategoricalDtype(categories=compound_order, ordered=True)\n",
    "        deg_df['Compound'] = deg_df['Compound'].astype(compound_dtype)\n",
    "        deg_df = deg_df.sort_values(by=['TeamName', 'Compound'])\n",
    "        \n",
    "        print(\"\\n--- 分析結果 (デグラデーション率 - 燃料 & 路面進化 補正済み) ---\")\n",
    "        print(deg_df) # 最終的な Deg Rate\n",
    "\n",
    "        # 11. Plotlyで結果を可視化\n",
    "        fig_deg_bar = px.bar(\n",
    "            deg_df,\n",
    "            x='TeamName',\n",
    "            y='DegRate_sec_lap',\n",
    "            color='Compound',\n",
    "            barmode='group',\n",
    "            color_discrete_map=TYRE_COLORS,\n",
    "            category_orders={'Compound': compound_order},\n",
    "            title=f\"{session.event['OfficialEventName']} - Calculated Deg Rate (Fuel + Track Evo Corrected)\",\n",
    "            labels={'DegRate_sec_lap': 'Degradation Rate (seconds per lap)'}\n",
    "        )\n",
    "        fig_deg_bar.show()\n",
    "\n",
    "except Exception as e:\n",
    "    print(f\"エラーが発生しました: {e}\")"
   ]
  },
  {
   "cell_type": "code",
   "execution_count": 7,
   "id": "3226018f",
   "metadata": {},
   "outputs": [
    {
     "name": "stderr",
     "output_type": "stream",
     "text": [
      "core           INFO \tLoading data for Japanese Grand Prix - Qualifying [v3.6.1]\n",
      "req            INFO \tUsing cached data for session_info\n",
      "req            INFO \tUsing cached data for driver_info\n"
     ]
    },
    {
     "name": "stdout",
     "output_type": "stream",
     "text": [
      "--- 予選セクタータイム分析 (results lookup 版) ---\n"
     ]
    },
    {
     "name": "stderr",
     "output_type": "stream",
     "text": [
      "req            INFO \tUsing cached data for session_status_data\n",
      "req            INFO \tUsing cached data for track_status_data\n",
      "req            INFO \tUsing cached data for _extended_timing_data\n",
      "req            INFO \tUsing cached data for timing_app_data\n",
      "core           INFO \tProcessing timing data...\n",
      "req            INFO \tUsing cached data for car_data\n",
      "req            INFO \tUsing cached data for position_data\n",
      "req            INFO \tUsing cached data for weather_data\n",
      "req            INFO \tUsing cached data for race_control_messages\n",
      "core           INFO \tFinished loading data for 20 drivers: ['1', '11', '4', '55', '14', '81', '44', '16', '63', '22', '3', '27', '77', '23', '31', '18', '10', '20', '2', '24']\n"
     ]
    },
    {
     "name": "stdout",
     "output_type": "stream",
     "text": [
      "FORMULA 1 MSC CRUISES JAPANESE GRAND PRIX 2024 の予選データをロードしました。\n",
      "\n",
      "--- Q1 の分析結果 ---\n"
     ]
    },
    {
     "data": {
      "text/html": [
       "<style type=\"text/css\">\n",
       "#T_af25b_row0_col1, #T_af25b_row0_col2, #T_af25b_row0_col4, #T_af25b_row3_col3 {\n",
       "  background-color: purple;\n",
       "  color: white;\n",
       "}\n",
       "</style>\n",
       "<table id=\"T_af25b\">\n",
       "  <thead>\n",
       "    <tr>\n",
       "      <th id=\"T_af25b_level0_col0\" class=\"col_heading level0 col0\" >Driver</th>\n",
       "      <th id=\"T_af25b_level0_col1\" class=\"col_heading level0 col1\" >LapTime</th>\n",
       "      <th id=\"T_af25b_level0_col2\" class=\"col_heading level0 col2\" >Sector1Time</th>\n",
       "      <th id=\"T_af25b_level0_col3\" class=\"col_heading level0 col3\" >Sector2Time</th>\n",
       "      <th id=\"T_af25b_level0_col4\" class=\"col_heading level0 col4\" >Sector3Time</th>\n",
       "      <th id=\"T_af25b_level0_col5\" class=\"col_heading level0 col5\" >Compound</th>\n",
       "    </tr>\n",
       "  </thead>\n",
       "  <tbody>\n",
       "    <tr>\n",
       "      <td id=\"T_af25b_row0_col0\" class=\"data row0 col0\" >VER</td>\n",
       "      <td id=\"T_af25b_row0_col1\" class=\"data row0 col1\" >1:28.866</td>\n",
       "      <td id=\"T_af25b_row0_col2\" class=\"data row0 col2\" >31.091</td>\n",
       "      <td id=\"T_af25b_row0_col3\" class=\"data row0 col3\" >40.100</td>\n",
       "      <td id=\"T_af25b_row0_col4\" class=\"data row0 col4\" >17.675</td>\n",
       "      <td id=\"T_af25b_row0_col5\" class=\"data row0 col5\" >SOFT</td>\n",
       "    </tr>\n",
       "    <tr>\n",
       "      <td id=\"T_af25b_row1_col0\" class=\"data row1 col0\" >ALO</td>\n",
       "      <td id=\"T_af25b_row1_col1\" class=\"data row1 col1\" >1:29.254</td>\n",
       "      <td id=\"T_af25b_row1_col2\" class=\"data row1 col2\" >31.136</td>\n",
       "      <td id=\"T_af25b_row1_col3\" class=\"data row1 col3\" >40.272</td>\n",
       "      <td id=\"T_af25b_row1_col4\" class=\"data row1 col4\" >17.846</td>\n",
       "      <td id=\"T_af25b_row1_col5\" class=\"data row1 col5\" >SOFT</td>\n",
       "    </tr>\n",
       "    <tr>\n",
       "      <td id=\"T_af25b_row2_col0\" class=\"data row2 col0\" >PER</td>\n",
       "      <td id=\"T_af25b_row2_col1\" class=\"data row2 col1\" >1:29.303</td>\n",
       "      <td id=\"T_af25b_row2_col2\" class=\"data row2 col2\" >31.255</td>\n",
       "      <td id=\"T_af25b_row2_col3\" class=\"data row2 col3\" >40.218</td>\n",
       "      <td id=\"T_af25b_row2_col4\" class=\"data row2 col4\" >17.830</td>\n",
       "      <td id=\"T_af25b_row2_col5\" class=\"data row2 col5\" >SOFT</td>\n",
       "    </tr>\n",
       "    <tr>\n",
       "      <td id=\"T_af25b_row3_col0\" class=\"data row3 col0\" >LEC</td>\n",
       "      <td id=\"T_af25b_row3_col1\" class=\"data row3 col1\" >1:29.338</td>\n",
       "      <td id=\"T_af25b_row3_col2\" class=\"data row3 col2\" >31.452</td>\n",
       "      <td id=\"T_af25b_row3_col3\" class=\"data row3 col3\" >40.084</td>\n",
       "      <td id=\"T_af25b_row3_col4\" class=\"data row3 col4\" >17.802</td>\n",
       "      <td id=\"T_af25b_row3_col5\" class=\"data row3 col5\" >SOFT</td>\n",
       "    </tr>\n",
       "    <tr>\n",
       "      <td id=\"T_af25b_row4_col0\" class=\"data row4 col0\" >PIA</td>\n",
       "      <td id=\"T_af25b_row4_col1\" class=\"data row4 col1\" >1:29.425</td>\n",
       "      <td id=\"T_af25b_row4_col2\" class=\"data row4 col2\" >31.253</td>\n",
       "      <td id=\"T_af25b_row4_col3\" class=\"data row4 col3\" >40.367</td>\n",
       "      <td id=\"T_af25b_row4_col4\" class=\"data row4 col4\" >17.805</td>\n",
       "      <td id=\"T_af25b_row4_col5\" class=\"data row4 col5\" >SOFT</td>\n",
       "    </tr>\n",
       "    <tr>\n",
       "      <td id=\"T_af25b_row5_col0\" class=\"data row5 col0\" >SAI</td>\n",
       "      <td id=\"T_af25b_row5_col1\" class=\"data row5 col1\" >1:29.513</td>\n",
       "      <td id=\"T_af25b_row5_col2\" class=\"data row5 col2\" >31.369</td>\n",
       "      <td id=\"T_af25b_row5_col3\" class=\"data row5 col3\" >40.292</td>\n",
       "      <td id=\"T_af25b_row5_col4\" class=\"data row5 col4\" >17.852</td>\n",
       "      <td id=\"T_af25b_row5_col5\" class=\"data row5 col5\" >SOFT</td>\n",
       "    </tr>\n",
       "    <tr>\n",
       "      <td id=\"T_af25b_row6_col0\" class=\"data row6 col0\" >NOR</td>\n",
       "      <td id=\"T_af25b_row6_col1\" class=\"data row6 col1\" >1:29.536</td>\n",
       "      <td id=\"T_af25b_row6_col2\" class=\"data row6 col2\" >31.234</td>\n",
       "      <td id=\"T_af25b_row6_col3\" class=\"data row6 col3\" >40.517</td>\n",
       "      <td id=\"T_af25b_row6_col4\" class=\"data row6 col4\" >17.785</td>\n",
       "      <td id=\"T_af25b_row6_col5\" class=\"data row6 col5\" >SOFT</td>\n",
       "    </tr>\n",
       "    <tr>\n",
       "      <td id=\"T_af25b_row7_col0\" class=\"data row7 col0\" >BOT</td>\n",
       "      <td id=\"T_af25b_row7_col1\" class=\"data row7 col1\" >1:29.602</td>\n",
       "      <td id=\"T_af25b_row7_col2\" class=\"data row7 col2\" >31.509</td>\n",
       "      <td id=\"T_af25b_row7_col3\" class=\"data row7 col3\" >40.359</td>\n",
       "      <td id=\"T_af25b_row7_col4\" class=\"data row7 col4\" >17.734</td>\n",
       "      <td id=\"T_af25b_row7_col5\" class=\"data row7 col5\" >SOFT</td>\n",
       "    </tr>\n",
       "    <tr>\n",
       "      <td id=\"T_af25b_row8_col0\" class=\"data row8 col0\" >HAM</td>\n",
       "      <td id=\"T_af25b_row8_col1\" class=\"data row8 col1\" >1:29.661</td>\n",
       "      <td id=\"T_af25b_row8_col2\" class=\"data row8 col2\" >31.408</td>\n",
       "      <td id=\"T_af25b_row8_col3\" class=\"data row8 col3\" >40.427</td>\n",
       "      <td id=\"T_af25b_row8_col4\" class=\"data row8 col4\" >17.826</td>\n",
       "      <td id=\"T_af25b_row8_col5\" class=\"data row8 col5\" >SOFT</td>\n",
       "    </tr>\n",
       "    <tr>\n",
       "      <td id=\"T_af25b_row9_col0\" class=\"data row9 col0\" >RIC</td>\n",
       "      <td id=\"T_af25b_row9_col1\" class=\"data row9 col1\" >1:29.727</td>\n",
       "      <td id=\"T_af25b_row9_col2\" class=\"data row9 col2\" >31.390</td>\n",
       "      <td id=\"T_af25b_row9_col3\" class=\"data row9 col3\" >40.518</td>\n",
       "      <td id=\"T_af25b_row9_col4\" class=\"data row9 col4\" >17.819</td>\n",
       "      <td id=\"T_af25b_row9_col5\" class=\"data row9 col5\" >SOFT</td>\n",
       "    </tr>\n",
       "    <tr>\n",
       "      <td id=\"T_af25b_row10_col0\" class=\"data row10 col0\" >TSU</td>\n",
       "      <td id=\"T_af25b_row10_col1\" class=\"data row10 col1\" >1:29.775</td>\n",
       "      <td id=\"T_af25b_row10_col2\" class=\"data row10 col2\" >31.358</td>\n",
       "      <td id=\"T_af25b_row10_col3\" class=\"data row10 col3\" >40.621</td>\n",
       "      <td id=\"T_af25b_row10_col4\" class=\"data row10 col4\" >17.796</td>\n",
       "      <td id=\"T_af25b_row10_col5\" class=\"data row10 col5\" >SOFT</td>\n",
       "    </tr>\n",
       "    <tr>\n",
       "      <td id=\"T_af25b_row11_col0\" class=\"data row11 col0\" >RUS</td>\n",
       "      <td id=\"T_af25b_row11_col1\" class=\"data row11 col1\" >1:29.799</td>\n",
       "      <td id=\"T_af25b_row11_col2\" class=\"data row11 col2\" >31.679</td>\n",
       "      <td id=\"T_af25b_row11_col3\" class=\"data row11 col3\" >40.338</td>\n",
       "      <td id=\"T_af25b_row11_col4\" class=\"data row11 col4\" >17.782</td>\n",
       "      <td id=\"T_af25b_row11_col5\" class=\"data row11 col5\" >SOFT</td>\n",
       "    </tr>\n",
       "    <tr>\n",
       "      <td id=\"T_af25b_row12_col0\" class=\"data row12 col0\" >OCO</td>\n",
       "      <td id=\"T_af25b_row12_col1\" class=\"data row12 col1\" >1:29.811</td>\n",
       "      <td id=\"T_af25b_row12_col2\" class=\"data row12 col2\" >31.505</td>\n",
       "      <td id=\"T_af25b_row12_col3\" class=\"data row12 col3\" >40.456</td>\n",
       "      <td id=\"T_af25b_row12_col4\" class=\"data row12 col4\" >17.850</td>\n",
       "      <td id=\"T_af25b_row12_col5\" class=\"data row12 col5\" >SOFT</td>\n",
       "    </tr>\n",
       "    <tr>\n",
       "      <td id=\"T_af25b_row13_col0\" class=\"data row13 col0\" >HUL</td>\n",
       "      <td id=\"T_af25b_row13_col1\" class=\"data row13 col1\" >1:29.821</td>\n",
       "      <td id=\"T_af25b_row13_col2\" class=\"data row13 col2\" >31.676</td>\n",
       "      <td id=\"T_af25b_row13_col3\" class=\"data row13 col3\" >40.394</td>\n",
       "      <td id=\"T_af25b_row13_col4\" class=\"data row13 col4\" >17.751</td>\n",
       "      <td id=\"T_af25b_row13_col5\" class=\"data row13 col5\" >SOFT</td>\n",
       "    </tr>\n",
       "    <tr>\n",
       "      <td id=\"T_af25b_row14_col0\" class=\"data row14 col0\" >ALB</td>\n",
       "      <td id=\"T_af25b_row14_col1\" class=\"data row14 col1\" >1:29.963</td>\n",
       "      <td id=\"T_af25b_row14_col2\" class=\"data row14 col2\" >31.584</td>\n",
       "      <td id=\"T_af25b_row14_col3\" class=\"data row14 col3\" >40.602</td>\n",
       "      <td id=\"T_af25b_row14_col4\" class=\"data row14 col4\" >17.777</td>\n",
       "      <td id=\"T_af25b_row14_col5\" class=\"data row14 col5\" >SOFT</td>\n",
       "    </tr>\n",
       "    <tr>\n",
       "      <td id=\"T_af25b_row15_col0\" class=\"data row15 col0\" >STR</td>\n",
       "      <td id=\"T_af25b_row15_col1\" class=\"data row15 col1\" >1:30.024</td>\n",
       "      <td id=\"T_af25b_row15_col2\" class=\"data row15 col2\" >31.498</td>\n",
       "      <td id=\"T_af25b_row15_col3\" class=\"data row15 col3\" >40.546</td>\n",
       "      <td id=\"T_af25b_row15_col4\" class=\"data row15 col4\" >17.980</td>\n",
       "      <td id=\"T_af25b_row15_col5\" class=\"data row15 col5\" >SOFT</td>\n",
       "    </tr>\n",
       "    <tr>\n",
       "      <td id=\"T_af25b_row16_col0\" class=\"data row16 col0\" >GAS</td>\n",
       "      <td id=\"T_af25b_row16_col1\" class=\"data row16 col1\" >1:30.119</td>\n",
       "      <td id=\"T_af25b_row16_col2\" class=\"data row16 col2\" >31.468</td>\n",
       "      <td id=\"T_af25b_row16_col3\" class=\"data row16 col3\" >40.662</td>\n",
       "      <td id=\"T_af25b_row16_col4\" class=\"data row16 col4\" >17.989</td>\n",
       "      <td id=\"T_af25b_row16_col5\" class=\"data row16 col5\" >SOFT</td>\n",
       "    </tr>\n",
       "    <tr>\n",
       "      <td id=\"T_af25b_row17_col0\" class=\"data row17 col0\" >MAG</td>\n",
       "      <td id=\"T_af25b_row17_col1\" class=\"data row17 col1\" >1:30.131</td>\n",
       "      <td id=\"T_af25b_row17_col2\" class=\"data row17 col2\" >31.786</td>\n",
       "      <td id=\"T_af25b_row17_col3\" class=\"data row17 col3\" >40.482</td>\n",
       "      <td id=\"T_af25b_row17_col4\" class=\"data row17 col4\" >17.863</td>\n",
       "      <td id=\"T_af25b_row17_col5\" class=\"data row17 col5\" >SOFT</td>\n",
       "    </tr>\n",
       "    <tr>\n",
       "      <td id=\"T_af25b_row18_col0\" class=\"data row18 col0\" >SAR</td>\n",
       "      <td id=\"T_af25b_row18_col1\" class=\"data row18 col1\" >1:30.139</td>\n",
       "      <td id=\"T_af25b_row18_col2\" class=\"data row18 col2\" >31.744</td>\n",
       "      <td id=\"T_af25b_row18_col3\" class=\"data row18 col3\" >40.542</td>\n",
       "      <td id=\"T_af25b_row18_col4\" class=\"data row18 col4\" >17.853</td>\n",
       "      <td id=\"T_af25b_row18_col5\" class=\"data row18 col5\" >SOFT</td>\n",
       "    </tr>\n",
       "    <tr>\n",
       "      <td id=\"T_af25b_row19_col0\" class=\"data row19 col0\" >ZHO</td>\n",
       "      <td id=\"T_af25b_row19_col1\" class=\"data row19 col1\" >1:30.143</td>\n",
       "      <td id=\"T_af25b_row19_col2\" class=\"data row19 col2\" >31.685</td>\n",
       "      <td id=\"T_af25b_row19_col3\" class=\"data row19 col3\" >40.487</td>\n",
       "      <td id=\"T_af25b_row19_col4\" class=\"data row19 col4\" >17.971</td>\n",
       "      <td id=\"T_af25b_row19_col5\" class=\"data row19 col5\" >SOFT</td>\n",
       "    </tr>\n",
       "  </tbody>\n",
       "</table>\n"
      ],
      "text/plain": [
       "<IPython.core.display.HTML object>"
      ]
     },
     "metadata": {},
     "output_type": "display_data"
    },
    {
     "name": "stdout",
     "output_type": "stream",
     "text": [
      "\n",
      "--- Q2 の分析結果 ---\n"
     ]
    },
    {
     "data": {
      "text/html": [
       "<style type=\"text/css\">\n",
       "#T_90829_row0_col1, #T_90829_row0_col4, #T_90829_row1_col3, #T_90829_row3_col2 {\n",
       "  background-color: purple;\n",
       "  color: white;\n",
       "}\n",
       "</style>\n",
       "<table id=\"T_90829\">\n",
       "  <thead>\n",
       "    <tr>\n",
       "      <th id=\"T_90829_level0_col0\" class=\"col_heading level0 col0\" >Driver</th>\n",
       "      <th id=\"T_90829_level0_col1\" class=\"col_heading level0 col1\" >LapTime</th>\n",
       "      <th id=\"T_90829_level0_col2\" class=\"col_heading level0 col2\" >Sector1Time</th>\n",
       "      <th id=\"T_90829_level0_col3\" class=\"col_heading level0 col3\" >Sector2Time</th>\n",
       "      <th id=\"T_90829_level0_col4\" class=\"col_heading level0 col4\" >Sector3Time</th>\n",
       "      <th id=\"T_90829_level0_col5\" class=\"col_heading level0 col5\" >Compound</th>\n",
       "    </tr>\n",
       "  </thead>\n",
       "  <tbody>\n",
       "    <tr>\n",
       "      <td id=\"T_90829_row0_col0\" class=\"data row0 col0\" >VER</td>\n",
       "      <td id=\"T_90829_row0_col1\" class=\"data row0 col1\" >1:28.740</td>\n",
       "      <td id=\"T_90829_row0_col2\" class=\"data row0 col2\" >31.063</td>\n",
       "      <td id=\"T_90829_row0_col3\" class=\"data row0 col3\" >40.056</td>\n",
       "      <td id=\"T_90829_row0_col4\" class=\"data row0 col4\" >17.621</td>\n",
       "      <td id=\"T_90829_row0_col5\" class=\"data row0 col5\" >SOFT</td>\n",
       "    </tr>\n",
       "    <tr>\n",
       "      <td id=\"T_90829_row1_col0\" class=\"data row1 col0\" >PER</td>\n",
       "      <td id=\"T_90829_row1_col1\" class=\"data row1 col1\" >1:28.752</td>\n",
       "      <td id=\"T_90829_row1_col2\" class=\"data row1 col2\" >31.047</td>\n",
       "      <td id=\"T_90829_row1_col3\" class=\"data row1 col3\" >40.008</td>\n",
       "      <td id=\"T_90829_row1_col4\" class=\"data row1 col4\" >17.697</td>\n",
       "      <td id=\"T_90829_row1_col5\" class=\"data row1 col5\" >SOFT</td>\n",
       "    </tr>\n",
       "    <tr>\n",
       "      <td id=\"T_90829_row2_col0\" class=\"data row2 col0\" >HAM</td>\n",
       "      <td id=\"T_90829_row2_col1\" class=\"data row2 col1\" >1:28.887</td>\n",
       "      <td id=\"T_90829_row2_col2\" class=\"data row2 col2\" >31.110</td>\n",
       "      <td id=\"T_90829_row2_col3\" class=\"data row2 col3\" >40.050</td>\n",
       "      <td id=\"T_90829_row2_col4\" class=\"data row2 col4\" >17.727</td>\n",
       "      <td id=\"T_90829_row2_col5\" class=\"data row2 col5\" >SOFT</td>\n",
       "    </tr>\n",
       "    <tr>\n",
       "      <td id=\"T_90829_row3_col0\" class=\"data row3 col0\" >NOR</td>\n",
       "      <td id=\"T_90829_row3_col1\" class=\"data row3 col1\" >1:28.940</td>\n",
       "      <td id=\"T_90829_row3_col2\" class=\"data row3 col2\" >30.996</td>\n",
       "      <td id=\"T_90829_row3_col3\" class=\"data row3 col3\" >40.230</td>\n",
       "      <td id=\"T_90829_row3_col4\" class=\"data row3 col4\" >17.714</td>\n",
       "      <td id=\"T_90829_row3_col5\" class=\"data row3 col5\" >SOFT</td>\n",
       "    </tr>\n",
       "    <tr>\n",
       "      <td id=\"T_90829_row4_col0\" class=\"data row4 col0\" >ALO</td>\n",
       "      <td id=\"T_90829_row4_col1\" class=\"data row4 col1\" >1:29.082</td>\n",
       "      <td id=\"T_90829_row4_col2\" class=\"data row4 col2\" >31.142</td>\n",
       "      <td id=\"T_90829_row4_col3\" class=\"data row4 col3\" >40.179</td>\n",
       "      <td id=\"T_90829_row4_col4\" class=\"data row4 col4\" >17.761</td>\n",
       "      <td id=\"T_90829_row4_col5\" class=\"data row4 col5\" >SOFT</td>\n",
       "    </tr>\n",
       "    <tr>\n",
       "      <td id=\"T_90829_row5_col0\" class=\"data row5 col0\" >SAI</td>\n",
       "      <td id=\"T_90829_row5_col1\" class=\"data row5 col1\" >1:29.099</td>\n",
       "      <td id=\"T_90829_row5_col2\" class=\"data row5 col2\" >31.203</td>\n",
       "      <td id=\"T_90829_row5_col3\" class=\"data row5 col3\" >40.174</td>\n",
       "      <td id=\"T_90829_row5_col4\" class=\"data row5 col4\" >17.722</td>\n",
       "      <td id=\"T_90829_row5_col5\" class=\"data row5 col5\" >SOFT</td>\n",
       "    </tr>\n",
       "    <tr>\n",
       "      <td id=\"T_90829_row6_col0\" class=\"data row6 col0\" >RUS</td>\n",
       "      <td id=\"T_90829_row6_col1\" class=\"data row6 col1\" >1:29.140</td>\n",
       "      <td id=\"T_90829_row6_col2\" class=\"data row6 col2\" >31.330</td>\n",
       "      <td id=\"T_90829_row6_col3\" class=\"data row6 col3\" >40.092</td>\n",
       "      <td id=\"T_90829_row6_col4\" class=\"data row6 col4\" >17.718</td>\n",
       "      <td id=\"T_90829_row6_col5\" class=\"data row6 col5\" >SOFT</td>\n",
       "    </tr>\n",
       "    <tr>\n",
       "      <td id=\"T_90829_row7_col0\" class=\"data row7 col0\" >PIA</td>\n",
       "      <td id=\"T_90829_row7_col1\" class=\"data row7 col1\" >1:29.148</td>\n",
       "      <td id=\"T_90829_row7_col2\" class=\"data row7 col2\" >31.020</td>\n",
       "      <td id=\"T_90829_row7_col3\" class=\"data row7 col3\" >40.271</td>\n",
       "      <td id=\"T_90829_row7_col4\" class=\"data row7 col4\" >17.857</td>\n",
       "      <td id=\"T_90829_row7_col5\" class=\"data row7 col5\" >SOFT</td>\n",
       "    </tr>\n",
       "    <tr>\n",
       "      <td id=\"T_90829_row8_col0\" class=\"data row8 col0\" >LEC</td>\n",
       "      <td id=\"T_90829_row8_col1\" class=\"data row8 col1\" >1:29.196</td>\n",
       "      <td id=\"T_90829_row8_col2\" class=\"data row8 col2\" >31.246</td>\n",
       "      <td id=\"T_90829_row8_col3\" class=\"data row8 col3\" >40.093</td>\n",
       "      <td id=\"T_90829_row8_col4\" class=\"data row8 col4\" >17.857</td>\n",
       "      <td id=\"T_90829_row8_col5\" class=\"data row8 col5\" >SOFT</td>\n",
       "    </tr>\n",
       "    <tr>\n",
       "      <td id=\"T_90829_row9_col0\" class=\"data row9 col0\" >TSU</td>\n",
       "      <td id=\"T_90829_row9_col1\" class=\"data row9 col1\" >1:29.417</td>\n",
       "      <td id=\"T_90829_row9_col2\" class=\"data row9 col2\" >31.283</td>\n",
       "      <td id=\"T_90829_row9_col3\" class=\"data row9 col3\" >40.423</td>\n",
       "      <td id=\"T_90829_row9_col4\" class=\"data row9 col4\" >17.711</td>\n",
       "      <td id=\"T_90829_row9_col5\" class=\"data row9 col5\" >SOFT</td>\n",
       "    </tr>\n",
       "    <tr>\n",
       "      <td id=\"T_90829_row10_col0\" class=\"data row10 col0\" >RIC</td>\n",
       "      <td id=\"T_90829_row10_col1\" class=\"data row10 col1\" >1:29.472</td>\n",
       "      <td id=\"T_90829_row10_col2\" class=\"data row10 col2\" >31.352</td>\n",
       "      <td id=\"T_90829_row10_col3\" class=\"data row10 col3\" >40.402</td>\n",
       "      <td id=\"T_90829_row10_col4\" class=\"data row10 col4\" >17.718</td>\n",
       "      <td id=\"T_90829_row10_col5\" class=\"data row10 col5\" >SOFT</td>\n",
       "    </tr>\n",
       "    <tr>\n",
       "      <td id=\"T_90829_row11_col0\" class=\"data row11 col0\" >HUL</td>\n",
       "      <td id=\"T_90829_row11_col1\" class=\"data row11 col1\" >1:29.494</td>\n",
       "      <td id=\"T_90829_row11_col2\" class=\"data row11 col2\" >31.558</td>\n",
       "      <td id=\"T_90829_row11_col3\" class=\"data row11 col3\" >40.238</td>\n",
       "      <td id=\"T_90829_row11_col4\" class=\"data row11 col4\" >17.698</td>\n",
       "      <td id=\"T_90829_row11_col5\" class=\"data row11 col5\" >SOFT</td>\n",
       "    </tr>\n",
       "    <tr>\n",
       "      <td id=\"T_90829_row12_col0\" class=\"data row12 col0\" >BOT</td>\n",
       "      <td id=\"T_90829_row12_col1\" class=\"data row12 col1\" >1:29.593</td>\n",
       "      <td id=\"T_90829_row12_col2\" class=\"data row12 col2\" >31.357</td>\n",
       "      <td id=\"T_90829_row12_col3\" class=\"data row12 col3\" >40.478</td>\n",
       "      <td id=\"T_90829_row12_col4\" class=\"data row12 col4\" >17.758</td>\n",
       "      <td id=\"T_90829_row12_col5\" class=\"data row12 col5\" >SOFT</td>\n",
       "    </tr>\n",
       "    <tr>\n",
       "      <td id=\"T_90829_row13_col0\" class=\"data row13 col0\" >ALB</td>\n",
       "      <td id=\"T_90829_row13_col1\" class=\"data row13 col1\" >1:29.714</td>\n",
       "      <td id=\"T_90829_row13_col2\" class=\"data row13 col2\" >31.617</td>\n",
       "      <td id=\"T_90829_row13_col3\" class=\"data row13 col3\" >40.381</td>\n",
       "      <td id=\"T_90829_row13_col4\" class=\"data row13 col4\" >17.716</td>\n",
       "      <td id=\"T_90829_row13_col5\" class=\"data row13 col5\" >SOFT</td>\n",
       "    </tr>\n",
       "    <tr>\n",
       "      <td id=\"T_90829_row14_col0\" class=\"data row14 col0\" >OCO</td>\n",
       "      <td id=\"T_90829_row14_col1\" class=\"data row14 col1\" >1:29.816</td>\n",
       "      <td id=\"T_90829_row14_col2\" class=\"data row14 col2\" >31.474</td>\n",
       "      <td id=\"T_90829_row14_col3\" class=\"data row14 col3\" >40.481</td>\n",
       "      <td id=\"T_90829_row14_col4\" class=\"data row14 col4\" >17.861</td>\n",
       "      <td id=\"T_90829_row14_col5\" class=\"data row14 col5\" >SOFT</td>\n",
       "    </tr>\n",
       "  </tbody>\n",
       "</table>\n"
      ],
      "text/plain": [
       "<IPython.core.display.HTML object>"
      ]
     },
     "metadata": {},
     "output_type": "display_data"
    },
    {
     "name": "stdout",
     "output_type": "stream",
     "text": [
      "\n",
      "--- Q3 の分析結果 ---\n"
     ]
    },
    {
     "data": {
      "text/html": [
       "<style type=\"text/css\">\n",
       "#T_c879e_row0_col1, #T_c879e_row0_col2, #T_c879e_row0_col4, #T_c879e_row1_col3 {\n",
       "  background-color: purple;\n",
       "  color: white;\n",
       "}\n",
       "</style>\n",
       "<table id=\"T_c879e\">\n",
       "  <thead>\n",
       "    <tr>\n",
       "      <th id=\"T_c879e_level0_col0\" class=\"col_heading level0 col0\" >Driver</th>\n",
       "      <th id=\"T_c879e_level0_col1\" class=\"col_heading level0 col1\" >LapTime</th>\n",
       "      <th id=\"T_c879e_level0_col2\" class=\"col_heading level0 col2\" >Sector1Time</th>\n",
       "      <th id=\"T_c879e_level0_col3\" class=\"col_heading level0 col3\" >Sector2Time</th>\n",
       "      <th id=\"T_c879e_level0_col4\" class=\"col_heading level0 col4\" >Sector3Time</th>\n",
       "      <th id=\"T_c879e_level0_col5\" class=\"col_heading level0 col5\" >Compound</th>\n",
       "    </tr>\n",
       "  </thead>\n",
       "  <tbody>\n",
       "    <tr>\n",
       "      <td id=\"T_c879e_row0_col0\" class=\"data row0 col0\" >VER</td>\n",
       "      <td id=\"T_c879e_row0_col1\" class=\"data row0 col1\" >1:28.197</td>\n",
       "      <td id=\"T_c879e_row0_col2\" class=\"data row0 col2\" >30.777</td>\n",
       "      <td id=\"T_c879e_row0_col3\" class=\"data row0 col3\" >39.850</td>\n",
       "      <td id=\"T_c879e_row0_col4\" class=\"data row0 col4\" >17.570</td>\n",
       "      <td id=\"T_c879e_row0_col5\" class=\"data row0 col5\" >SOFT</td>\n",
       "    </tr>\n",
       "    <tr>\n",
       "      <td id=\"T_c879e_row1_col0\" class=\"data row1 col0\" >PER</td>\n",
       "      <td id=\"T_c879e_row1_col1\" class=\"data row1 col1\" >1:28.263</td>\n",
       "      <td id=\"T_c879e_row1_col2\" class=\"data row1 col2\" >30.846</td>\n",
       "      <td id=\"T_c879e_row1_col3\" class=\"data row1 col3\" >39.763</td>\n",
       "      <td id=\"T_c879e_row1_col4\" class=\"data row1 col4\" >17.654</td>\n",
       "      <td id=\"T_c879e_row1_col5\" class=\"data row1 col5\" >SOFT</td>\n",
       "    </tr>\n",
       "    <tr>\n",
       "      <td id=\"T_c879e_row2_col0\" class=\"data row2 col0\" >NOR</td>\n",
       "      <td id=\"T_c879e_row2_col1\" class=\"data row2 col1\" >1:28.489</td>\n",
       "      <td id=\"T_c879e_row2_col2\" class=\"data row2 col2\" >30.800</td>\n",
       "      <td id=\"T_c879e_row2_col3\" class=\"data row2 col3\" >40.039</td>\n",
       "      <td id=\"T_c879e_row2_col4\" class=\"data row2 col4\" >17.650</td>\n",
       "      <td id=\"T_c879e_row2_col5\" class=\"data row2 col5\" >SOFT</td>\n",
       "    </tr>\n",
       "    <tr>\n",
       "      <td id=\"T_c879e_row3_col0\" class=\"data row3 col0\" >SAI</td>\n",
       "      <td id=\"T_c879e_row3_col1\" class=\"data row3 col1\" >1:28.682</td>\n",
       "      <td id=\"T_c879e_row3_col2\" class=\"data row3 col2\" >30.968</td>\n",
       "      <td id=\"T_c879e_row3_col3\" class=\"data row3 col3\" >39.989</td>\n",
       "      <td id=\"T_c879e_row3_col4\" class=\"data row3 col4\" >17.725</td>\n",
       "      <td id=\"T_c879e_row3_col5\" class=\"data row3 col5\" >SOFT</td>\n",
       "    </tr>\n",
       "    <tr>\n",
       "      <td id=\"T_c879e_row4_col0\" class=\"data row4 col0\" >ALO</td>\n",
       "      <td id=\"T_c879e_row4_col1\" class=\"data row4 col1\" >1:28.686</td>\n",
       "      <td id=\"T_c879e_row4_col2\" class=\"data row4 col2\" >30.964</td>\n",
       "      <td id=\"T_c879e_row4_col3\" class=\"data row4 col3\" >40.027</td>\n",
       "      <td id=\"T_c879e_row4_col4\" class=\"data row4 col4\" >17.695</td>\n",
       "      <td id=\"T_c879e_row4_col5\" class=\"data row4 col5\" >SOFT</td>\n",
       "    </tr>\n",
       "    <tr>\n",
       "      <td id=\"T_c879e_row5_col0\" class=\"data row5 col0\" >PIA</td>\n",
       "      <td id=\"T_c879e_row5_col1\" class=\"data row5 col1\" >1:28.760</td>\n",
       "      <td id=\"T_c879e_row5_col2\" class=\"data row5 col2\" >30.837</td>\n",
       "      <td id=\"T_c879e_row5_col3\" class=\"data row5 col3\" >40.227</td>\n",
       "      <td id=\"T_c879e_row5_col4\" class=\"data row5 col4\" >17.696</td>\n",
       "      <td id=\"T_c879e_row5_col5\" class=\"data row5 col5\" >SOFT</td>\n",
       "    </tr>\n",
       "    <tr>\n",
       "      <td id=\"T_c879e_row6_col0\" class=\"data row6 col0\" >HAM</td>\n",
       "      <td id=\"T_c879e_row6_col1\" class=\"data row6 col1\" >1:28.766</td>\n",
       "      <td id=\"T_c879e_row6_col2\" class=\"data row6 col2\" >30.915</td>\n",
       "      <td id=\"T_c879e_row6_col3\" class=\"data row6 col3\" >40.156</td>\n",
       "      <td id=\"T_c879e_row6_col4\" class=\"data row6 col4\" >17.695</td>\n",
       "      <td id=\"T_c879e_row6_col5\" class=\"data row6 col5\" >SOFT</td>\n",
       "    </tr>\n",
       "    <tr>\n",
       "      <td id=\"T_c879e_row7_col0\" class=\"data row7 col0\" >LEC</td>\n",
       "      <td id=\"T_c879e_row7_col1\" class=\"data row7 col1\" >1:28.786</td>\n",
       "      <td id=\"T_c879e_row7_col2\" class=\"data row7 col2\" >31.109</td>\n",
       "      <td id=\"T_c879e_row7_col3\" class=\"data row7 col3\" >39.866</td>\n",
       "      <td id=\"T_c879e_row7_col4\" class=\"data row7 col4\" >17.811</td>\n",
       "      <td id=\"T_c879e_row7_col5\" class=\"data row7 col5\" >SOFT</td>\n",
       "    </tr>\n",
       "    <tr>\n",
       "      <td id=\"T_c879e_row8_col0\" class=\"data row8 col0\" >RUS</td>\n",
       "      <td id=\"T_c879e_row8_col1\" class=\"data row8 col1\" >1:29.008</td>\n",
       "      <td id=\"T_c879e_row8_col2\" class=\"data row8 col2\" >31.181</td>\n",
       "      <td id=\"T_c879e_row8_col3\" class=\"data row8 col3\" >40.123</td>\n",
       "      <td id=\"T_c879e_row8_col4\" class=\"data row8 col4\" >17.704</td>\n",
       "      <td id=\"T_c879e_row8_col5\" class=\"data row8 col5\" >SOFT</td>\n",
       "    </tr>\n",
       "    <tr>\n",
       "      <td id=\"T_c879e_row9_col0\" class=\"data row9 col0\" >TSU</td>\n",
       "      <td id=\"T_c879e_row9_col1\" class=\"data row9 col1\" >1:29.413</td>\n",
       "      <td id=\"T_c879e_row9_col2\" class=\"data row9 col2\" >31.318</td>\n",
       "      <td id=\"T_c879e_row9_col3\" class=\"data row9 col3\" >40.248</td>\n",
       "      <td id=\"T_c879e_row9_col4\" class=\"data row9 col4\" >17.847</td>\n",
       "      <td id=\"T_c879e_row9_col5\" class=\"data row9 col5\" >SOFT</td>\n",
       "    </tr>\n",
       "  </tbody>\n",
       "</table>\n"
      ],
      "text/plain": [
       "<IPython.core.display.HTML object>"
      ]
     },
     "metadata": {},
     "output_type": "display_data"
    }
   ],
   "source": [
    "import fastf1 as ff1\n",
    "import pandas as pd\n",
    "from IPython.display import display, HTML # For displaying styled table in notebook\n",
    "\n",
    "# (キャッシュを有効にする)\n",
    "ff1.Cache.enable_cache('./cache') \n",
    "\n",
    "# --- タイヤ色の定義 ---\n",
    "TYRE_COLORS = {\n",
    "    'SOFT': '#dc143c', 'MEDIUM': '#ffd700', 'HARD': '#66d6fb',\n",
    "    'INTERMEDIATE': '#4CAF50', 'WET': '#0D47A1'\n",
    "}\n",
    "\n",
    "print(\"--- 予選セクタータイム分析 (results lookup 版) ---\")\n",
    "\n",
    "# 1. 分析対象のセッションをロード (例: 2024年 鈴鹿 予選 'Q')\n",
    "try:\n",
    "    session = ff1.get_session(2024, 'Japanese Grand Prix', 'Q') # 'Q' を指定\n",
    "    session.load()\n",
    "    laps = session.laps\n",
    "    results = session.results # ★★★ 予選結果もロード ★★★\n",
    "    print(f\"{session.event['OfficialEventName']} の予選データをロードしました。\")\n",
    "\n",
    "    # 2. ★★★ 新ロジック: Q1, Q2, Q3 のリストを定義 ★★★\n",
    "    segments = ['Q1', 'Q2', 'Q3']\n",
    "    \n",
    "    # results DataFrameに必要な列 ('Q1', 'Q2', 'Q3') があるか確認\n",
    "    if not all(seg in results.columns for seg in segments):\n",
    "        print(f\"エラー: results DataFrameに Q1/Q2/Q3 列が見つかりません。 (Columns: {results.columns})\")\n",
    "    else:\n",
    "        \n",
    "        # 3. 各セグメントごとにループ処理\n",
    "        for segment in segments:\n",
    "            print(f\"\\n--- {segment} の分析結果 ---\")\n",
    "            \n",
    "            # 3a. resultsから当該セグメントのベストタイムを抽出 (NaTを除外)\n",
    "            segment_best_times = results[['Abbreviation', segment]].dropna(subset=[segment])\n",
    "            if segment_best_times.empty:\n",
    "                print(f\"{segment} に有効なタイム記録がありません。\")\n",
    "                continue\n",
    "\n",
    "            # 3b. lapsとresultsをマージして、各ドライバーの「セグメントベストタイム」に一致するラップを探す\n",
    "            # 注意: laps['Driver'] と results['Abbreviation'] を使う\n",
    "            merged_laps = pd.merge(\n",
    "                laps, \n",
    "                segment_best_times, \n",
    "                left_on='Driver', \n",
    "                right_on='Abbreviation'\n",
    "            )\n",
    "            \n",
    "            # 'LapTime' と resultsから持ってきたセグメントタイム (例: 'Q1') が一致する行を抽出\n",
    "            # Timedelta比較のための許容誤差（例: 0.001秒）を設ける方が安全だが、まずは完全一致で試す\n",
    "            best_laps_in_segment = merged_laps[merged_laps['LapTime'] == merged_laps[segment]]\n",
    "\n",
    "            # (もし完全一致で見つからないドライバーが多い場合、ここで近似値検索のロジックが必要)\n",
    "            if best_laps_in_segment.empty:\n",
    "                 print(f\"警告: {segment} のベストタイムに完全に一致するラップが見つかりませんでした。\")\n",
    "                 continue # (または近似値検索へ)\n",
    "\n",
    "            # 3c. 必要な列だけを抽出・整理\n",
    "            # (重複する可能性があるため、ドライバーごとに最初の1件だけ取る)\n",
    "            fastest_laps_segment = best_laps_in_segment.loc[\n",
    "                best_laps_in_segment.groupby('Driver')['LapTime'].idxmin()\n",
    "            ]\n",
    "\n",
    "            cols_to_select = ['Driver', 'LapTime', 'Sector1Time', 'Sector2Time', 'Sector3Time', 'Compound']\n",
    "            available_cols = [col for col in cols_to_select if col in fastest_laps_segment.columns]\n",
    "            \n",
    "            if not available_cols:\n",
    "                print(f\"エラー: {segment} の最速ラップに必要な列が見つかりません。\")\n",
    "                continue\n",
    "            \n",
    "            quali_results = fastest_laps_segment[available_cols].copy()\n",
    "            quali_results = quali_results.reset_index(drop=True)\n",
    "\n",
    "            # 3d. LapTime でソート\n",
    "            if 'LapTime' in quali_results.columns:\n",
    "                quali_results = quali_results.sort_values(by='LapTime')\n",
    "            else:\n",
    "                print(f\"警告: {segment} で 'LapTime'列がないため、ソートできません。\")\n",
    "\n",
    "            # 3e. ハイライトのための準備\n",
    "            min_laptime = quali_results['LapTime'].min() if 'LapTime' in quali_results.columns else None\n",
    "            min_s1 = quali_results['Sector1Time'].min() if 'Sector1Time' in quali_results.columns else None\n",
    "            min_s2 = quali_results['Sector2Time'].min() if 'Sector2Time' in quali_results.columns else None\n",
    "            min_s3 = quali_results['Sector3Time'].min() if 'Sector3Time' in quali_results.columns else None\n",
    "            \n",
    "            # 3f. Pandas Styler で色付け\n",
    "            def highlight_fastest(s, min_value):\n",
    "                if min_value is None: return ['' for _ in s]\n",
    "                try: is_min = s == min_value\n",
    "                except TypeError: is_min = s.isna() & pd.isna(min_value)\n",
    "                return ['background-color: purple; color: white' if v else '' for v in is_min]\n",
    "\n",
    "            styled_results = quali_results.style\n",
    "            if min_laptime is not None: styled_results = styled_results.apply(highlight_fastest, min_value=min_laptime, subset=['LapTime'])\n",
    "            if min_s1 is not None: styled_results = styled_results.apply(highlight_fastest, min_value=min_s1, subset=['Sector1Time'])\n",
    "            if min_s2 is not None: styled_results = styled_results.apply(highlight_fastest, min_value=min_s2, subset=['Sector2Time'])\n",
    "            if min_s3 is not None: styled_results = styled_results.apply(highlight_fastest, min_value=min_s3, subset=['Sector3Time'])\n",
    "            \n",
    "            # TimeDelta型の表示を見やすくする\n",
    "            format_dict = {}\n",
    "            if 'LapTime' in quali_results.columns: format_dict['LapTime'] = lambda x: f\"{x.seconds // 60}:{x.seconds % 60:02d}.{x.microseconds // 1000:03d}\" if pd.notna(x) else \"\"\n",
    "            if 'Sector1Time' in quali_results.columns: format_dict['Sector1Time'] = lambda x: f\"{x.seconds % 60}.{x.microseconds // 1000:03d}\" if pd.notna(x) else \"\"\n",
    "            if 'Sector2Time' in quali_results.columns: format_dict['Sector2Time'] = lambda x: f\"{x.seconds % 60}.{x.microseconds // 1000:03d}\" if pd.notna(x) else \"\"\n",
    "            if 'Sector3Time' in quali_results.columns: format_dict['Sector3Time'] = lambda x: f\"{x.seconds % 60}.{x.microseconds // 1000:03d}\" if pd.notna(x) else \"\"\n",
    "            \n",
    "            styled_results = styled_results.format(format_dict)\n",
    "            styled_results = styled_results.hide(axis='index')\n",
    "\n",
    "            # 3g. Jupyter Notebookに表示 (HTMLとして)\n",
    "            display(HTML(styled_results.to_html(escape=False, index=False, border=0)))\n",
    "\n",
    "except Exception as e:\n",
    "    print(f\"エラーが発生しました: {e}\")"
   ]
  },
  {
   "cell_type": "code",
   "execution_count": 8,
   "id": "506bff16",
   "metadata": {},
   "outputs": [
    {
     "data": {
      "text/html": [
       "<div>\n",
       "<style scoped>\n",
       "    .dataframe tbody tr th:only-of-type {\n",
       "        vertical-align: middle;\n",
       "    }\n",
       "\n",
       "    .dataframe tbody tr th {\n",
       "        vertical-align: top;\n",
       "    }\n",
       "\n",
       "    .dataframe thead th {\n",
       "        text-align: right;\n",
       "    }\n",
       "</style>\n",
       "<table border=\"1\" class=\"dataframe\">\n",
       "  <thead>\n",
       "    <tr style=\"text-align: right;\">\n",
       "      <th></th>\n",
       "      <th>Time</th>\n",
       "      <th>Driver</th>\n",
       "      <th>DriverNumber</th>\n",
       "      <th>LapTime</th>\n",
       "      <th>LapNumber</th>\n",
       "      <th>Stint</th>\n",
       "      <th>PitOutTime</th>\n",
       "      <th>PitInTime</th>\n",
       "      <th>Sector1Time</th>\n",
       "      <th>Sector2Time</th>\n",
       "      <th>...</th>\n",
       "      <th>FreshTyre</th>\n",
       "      <th>Team</th>\n",
       "      <th>LapStartTime</th>\n",
       "      <th>LapStartDate</th>\n",
       "      <th>TrackStatus</th>\n",
       "      <th>Position</th>\n",
       "      <th>Deleted</th>\n",
       "      <th>DeletedReason</th>\n",
       "      <th>FastF1Generated</th>\n",
       "      <th>IsAccurate</th>\n",
       "    </tr>\n",
       "  </thead>\n",
       "  <tbody>\n",
       "    <tr>\n",
       "      <th>0</th>\n",
       "      <td>0 days 00:18:21.338000</td>\n",
       "      <td>VER</td>\n",
       "      <td>1</td>\n",
       "      <td>NaT</td>\n",
       "      <td>1.0</td>\n",
       "      <td>1.0</td>\n",
       "      <td>0 days 00:16:20.823000</td>\n",
       "      <td>NaT</td>\n",
       "      <td>NaT</td>\n",
       "      <td>0 days 00:00:52.689000</td>\n",
       "      <td>...</td>\n",
       "      <td>True</td>\n",
       "      <td>Red Bull Racing</td>\n",
       "      <td>0 days 00:16:20.823000</td>\n",
       "      <td>2024-04-06 06:04:13.394</td>\n",
       "      <td>1</td>\n",
       "      <td>NaN</td>\n",
       "      <td>False</td>\n",
       "      <td></td>\n",
       "      <td>False</td>\n",
       "      <td>False</td>\n",
       "    </tr>\n",
       "    <tr>\n",
       "      <th>1</th>\n",
       "      <td>0 days 00:19:50.204000</td>\n",
       "      <td>VER</td>\n",
       "      <td>1</td>\n",
       "      <td>0 days 00:01:28.866000</td>\n",
       "      <td>2.0</td>\n",
       "      <td>1.0</td>\n",
       "      <td>NaT</td>\n",
       "      <td>NaT</td>\n",
       "      <td>0 days 00:00:31.091000</td>\n",
       "      <td>0 days 00:00:40.100000</td>\n",
       "      <td>...</td>\n",
       "      <td>True</td>\n",
       "      <td>Red Bull Racing</td>\n",
       "      <td>0 days 00:18:21.338000</td>\n",
       "      <td>2024-04-06 06:06:13.909</td>\n",
       "      <td>1</td>\n",
       "      <td>NaN</td>\n",
       "      <td>False</td>\n",
       "      <td></td>\n",
       "      <td>False</td>\n",
       "      <td>True</td>\n",
       "    </tr>\n",
       "    <tr>\n",
       "      <th>2</th>\n",
       "      <td>0 days 00:21:51.889000</td>\n",
       "      <td>VER</td>\n",
       "      <td>1</td>\n",
       "      <td>0 days 00:02:01.685000</td>\n",
       "      <td>3.0</td>\n",
       "      <td>1.0</td>\n",
       "      <td>NaT</td>\n",
       "      <td>0 days 00:21:50.714000</td>\n",
       "      <td>0 days 00:00:49.767000</td>\n",
       "      <td>0 days 00:00:49.058000</td>\n",
       "      <td>...</td>\n",
       "      <td>True</td>\n",
       "      <td>Red Bull Racing</td>\n",
       "      <td>0 days 00:19:50.204000</td>\n",
       "      <td>2024-04-06 06:07:42.775</td>\n",
       "      <td>1</td>\n",
       "      <td>NaN</td>\n",
       "      <td>False</td>\n",
       "      <td></td>\n",
       "      <td>False</td>\n",
       "      <td>False</td>\n",
       "    </tr>\n",
       "    <tr>\n",
       "      <th>3</th>\n",
       "      <td>0 days 00:39:25.998000</td>\n",
       "      <td>VER</td>\n",
       "      <td>1</td>\n",
       "      <td>NaT</td>\n",
       "      <td>4.0</td>\n",
       "      <td>2.0</td>\n",
       "      <td>0 days 00:37:28.837000</td>\n",
       "      <td>NaT</td>\n",
       "      <td>NaT</td>\n",
       "      <td>0 days 00:00:49.062000</td>\n",
       "      <td>...</td>\n",
       "      <td>True</td>\n",
       "      <td>Red Bull Racing</td>\n",
       "      <td>0 days 00:21:51.889000</td>\n",
       "      <td>2024-04-06 06:09:44.460</td>\n",
       "      <td>1</td>\n",
       "      <td>NaN</td>\n",
       "      <td>False</td>\n",
       "      <td></td>\n",
       "      <td>False</td>\n",
       "      <td>False</td>\n",
       "    </tr>\n",
       "    <tr>\n",
       "      <th>4</th>\n",
       "      <td>0 days 00:40:54.738000</td>\n",
       "      <td>VER</td>\n",
       "      <td>1</td>\n",
       "      <td>0 days 00:01:28.740000</td>\n",
       "      <td>5.0</td>\n",
       "      <td>2.0</td>\n",
       "      <td>NaT</td>\n",
       "      <td>NaT</td>\n",
       "      <td>0 days 00:00:31.063000</td>\n",
       "      <td>0 days 00:00:40.056000</td>\n",
       "      <td>...</td>\n",
       "      <td>True</td>\n",
       "      <td>Red Bull Racing</td>\n",
       "      <td>0 days 00:39:25.998000</td>\n",
       "      <td>2024-04-06 06:27:18.569</td>\n",
       "      <td>1</td>\n",
       "      <td>NaN</td>\n",
       "      <td>False</td>\n",
       "      <td></td>\n",
       "      <td>False</td>\n",
       "      <td>True</td>\n",
       "    </tr>\n",
       "    <tr>\n",
       "      <th>...</th>\n",
       "      <td>...</td>\n",
       "      <td>...</td>\n",
       "      <td>...</td>\n",
       "      <td>...</td>\n",
       "      <td>...</td>\n",
       "      <td>...</td>\n",
       "      <td>...</td>\n",
       "      <td>...</td>\n",
       "      <td>...</td>\n",
       "      <td>...</td>\n",
       "      <td>...</td>\n",
       "      <td>...</td>\n",
       "      <td>...</td>\n",
       "      <td>...</td>\n",
       "      <td>...</td>\n",
       "      <td>...</td>\n",
       "      <td>...</td>\n",
       "      <td>...</td>\n",
       "      <td>...</td>\n",
       "      <td>...</td>\n",
       "      <td>...</td>\n",
       "    </tr>\n",
       "    <tr>\n",
       "      <th>218</th>\n",
       "      <td>0 days 00:22:13.139000</td>\n",
       "      <td>ZHO</td>\n",
       "      <td>24</td>\n",
       "      <td>0 days 00:01:30.811000</td>\n",
       "      <td>2.0</td>\n",
       "      <td>1.0</td>\n",
       "      <td>NaT</td>\n",
       "      <td>NaT</td>\n",
       "      <td>0 days 00:00:32.018000</td>\n",
       "      <td>0 days 00:00:40.747000</td>\n",
       "      <td>...</td>\n",
       "      <td>True</td>\n",
       "      <td>Kick Sauber</td>\n",
       "      <td>0 days 00:20:42.328000</td>\n",
       "      <td>2024-04-06 06:08:34.899</td>\n",
       "      <td>1</td>\n",
       "      <td>NaN</td>\n",
       "      <td>False</td>\n",
       "      <td></td>\n",
       "      <td>False</td>\n",
       "      <td>True</td>\n",
       "    </tr>\n",
       "    <tr>\n",
       "      <th>219</th>\n",
       "      <td>0 days 00:24:02.511000</td>\n",
       "      <td>ZHO</td>\n",
       "      <td>24</td>\n",
       "      <td>0 days 00:01:49.372000</td>\n",
       "      <td>3.0</td>\n",
       "      <td>1.0</td>\n",
       "      <td>NaT</td>\n",
       "      <td>0 days 00:24:00.417000</td>\n",
       "      <td>0 days 00:00:38.796000</td>\n",
       "      <td>0 days 00:00:45.474000</td>\n",
       "      <td>...</td>\n",
       "      <td>True</td>\n",
       "      <td>Kick Sauber</td>\n",
       "      <td>0 days 00:22:13.139000</td>\n",
       "      <td>2024-04-06 06:10:05.710</td>\n",
       "      <td>1</td>\n",
       "      <td>NaN</td>\n",
       "      <td>False</td>\n",
       "      <td></td>\n",
       "      <td>False</td>\n",
       "      <td>False</td>\n",
       "    </tr>\n",
       "    <tr>\n",
       "      <th>220</th>\n",
       "      <td>0 days 00:29:41.509000</td>\n",
       "      <td>ZHO</td>\n",
       "      <td>24</td>\n",
       "      <td>NaT</td>\n",
       "      <td>4.0</td>\n",
       "      <td>2.0</td>\n",
       "      <td>0 days 00:27:47.283000</td>\n",
       "      <td>NaT</td>\n",
       "      <td>NaT</td>\n",
       "      <td>0 days 00:00:49.550000</td>\n",
       "      <td>...</td>\n",
       "      <td>True</td>\n",
       "      <td>Kick Sauber</td>\n",
       "      <td>0 days 00:24:02.511000</td>\n",
       "      <td>2024-04-06 06:11:55.082</td>\n",
       "      <td>1</td>\n",
       "      <td>NaN</td>\n",
       "      <td>False</td>\n",
       "      <td></td>\n",
       "      <td>False</td>\n",
       "      <td>False</td>\n",
       "    </tr>\n",
       "    <tr>\n",
       "      <th>221</th>\n",
       "      <td>0 days 00:31:11.652000</td>\n",
       "      <td>ZHO</td>\n",
       "      <td>24</td>\n",
       "      <td>0 days 00:01:30.143000</td>\n",
       "      <td>5.0</td>\n",
       "      <td>2.0</td>\n",
       "      <td>NaT</td>\n",
       "      <td>NaT</td>\n",
       "      <td>0 days 00:00:31.685000</td>\n",
       "      <td>0 days 00:00:40.487000</td>\n",
       "      <td>...</td>\n",
       "      <td>True</td>\n",
       "      <td>Kick Sauber</td>\n",
       "      <td>0 days 00:29:41.509000</td>\n",
       "      <td>2024-04-06 06:17:34.080</td>\n",
       "      <td>1</td>\n",
       "      <td>NaN</td>\n",
       "      <td>False</td>\n",
       "      <td></td>\n",
       "      <td>False</td>\n",
       "      <td>True</td>\n",
       "    </tr>\n",
       "    <tr>\n",
       "      <th>222</th>\n",
       "      <td>0 days 00:33:13.743000</td>\n",
       "      <td>ZHO</td>\n",
       "      <td>24</td>\n",
       "      <td>0 days 00:02:02.091000</td>\n",
       "      <td>6.0</td>\n",
       "      <td>2.0</td>\n",
       "      <td>NaT</td>\n",
       "      <td>0 days 00:33:12.491000</td>\n",
       "      <td>0 days 00:00:43.520000</td>\n",
       "      <td>0 days 00:00:49.596000</td>\n",
       "      <td>...</td>\n",
       "      <td>True</td>\n",
       "      <td>Kick Sauber</td>\n",
       "      <td>0 days 00:31:11.652000</td>\n",
       "      <td>2024-04-06 06:19:04.223</td>\n",
       "      <td>1</td>\n",
       "      <td>NaN</td>\n",
       "      <td>False</td>\n",
       "      <td></td>\n",
       "      <td>False</td>\n",
       "      <td>False</td>\n",
       "    </tr>\n",
       "  </tbody>\n",
       "</table>\n",
       "<p>223 rows × 31 columns</p>\n",
       "</div>"
      ],
      "text/plain": [
       "                      Time Driver DriverNumber                LapTime  \\\n",
       "0   0 days 00:18:21.338000    VER            1                    NaT   \n",
       "1   0 days 00:19:50.204000    VER            1 0 days 00:01:28.866000   \n",
       "2   0 days 00:21:51.889000    VER            1 0 days 00:02:01.685000   \n",
       "3   0 days 00:39:25.998000    VER            1                    NaT   \n",
       "4   0 days 00:40:54.738000    VER            1 0 days 00:01:28.740000   \n",
       "..                     ...    ...          ...                    ...   \n",
       "218 0 days 00:22:13.139000    ZHO           24 0 days 00:01:30.811000   \n",
       "219 0 days 00:24:02.511000    ZHO           24 0 days 00:01:49.372000   \n",
       "220 0 days 00:29:41.509000    ZHO           24                    NaT   \n",
       "221 0 days 00:31:11.652000    ZHO           24 0 days 00:01:30.143000   \n",
       "222 0 days 00:33:13.743000    ZHO           24 0 days 00:02:02.091000   \n",
       "\n",
       "     LapNumber  Stint             PitOutTime              PitInTime  \\\n",
       "0          1.0    1.0 0 days 00:16:20.823000                    NaT   \n",
       "1          2.0    1.0                    NaT                    NaT   \n",
       "2          3.0    1.0                    NaT 0 days 00:21:50.714000   \n",
       "3          4.0    2.0 0 days 00:37:28.837000                    NaT   \n",
       "4          5.0    2.0                    NaT                    NaT   \n",
       "..         ...    ...                    ...                    ...   \n",
       "218        2.0    1.0                    NaT                    NaT   \n",
       "219        3.0    1.0                    NaT 0 days 00:24:00.417000   \n",
       "220        4.0    2.0 0 days 00:27:47.283000                    NaT   \n",
       "221        5.0    2.0                    NaT                    NaT   \n",
       "222        6.0    2.0                    NaT 0 days 00:33:12.491000   \n",
       "\n",
       "               Sector1Time            Sector2Time  ... FreshTyre  \\\n",
       "0                      NaT 0 days 00:00:52.689000  ...      True   \n",
       "1   0 days 00:00:31.091000 0 days 00:00:40.100000  ...      True   \n",
       "2   0 days 00:00:49.767000 0 days 00:00:49.058000  ...      True   \n",
       "3                      NaT 0 days 00:00:49.062000  ...      True   \n",
       "4   0 days 00:00:31.063000 0 days 00:00:40.056000  ...      True   \n",
       "..                     ...                    ...  ...       ...   \n",
       "218 0 days 00:00:32.018000 0 days 00:00:40.747000  ...      True   \n",
       "219 0 days 00:00:38.796000 0 days 00:00:45.474000  ...      True   \n",
       "220                    NaT 0 days 00:00:49.550000  ...      True   \n",
       "221 0 days 00:00:31.685000 0 days 00:00:40.487000  ...      True   \n",
       "222 0 days 00:00:43.520000 0 days 00:00:49.596000  ...      True   \n",
       "\n",
       "                Team           LapStartTime            LapStartDate  \\\n",
       "0    Red Bull Racing 0 days 00:16:20.823000 2024-04-06 06:04:13.394   \n",
       "1    Red Bull Racing 0 days 00:18:21.338000 2024-04-06 06:06:13.909   \n",
       "2    Red Bull Racing 0 days 00:19:50.204000 2024-04-06 06:07:42.775   \n",
       "3    Red Bull Racing 0 days 00:21:51.889000 2024-04-06 06:09:44.460   \n",
       "4    Red Bull Racing 0 days 00:39:25.998000 2024-04-06 06:27:18.569   \n",
       "..               ...                    ...                     ...   \n",
       "218      Kick Sauber 0 days 00:20:42.328000 2024-04-06 06:08:34.899   \n",
       "219      Kick Sauber 0 days 00:22:13.139000 2024-04-06 06:10:05.710   \n",
       "220      Kick Sauber 0 days 00:24:02.511000 2024-04-06 06:11:55.082   \n",
       "221      Kick Sauber 0 days 00:29:41.509000 2024-04-06 06:17:34.080   \n",
       "222      Kick Sauber 0 days 00:31:11.652000 2024-04-06 06:19:04.223   \n",
       "\n",
       "     TrackStatus  Position  Deleted  DeletedReason  FastF1Generated IsAccurate  \n",
       "0              1       NaN    False                           False      False  \n",
       "1              1       NaN    False                           False       True  \n",
       "2              1       NaN    False                           False      False  \n",
       "3              1       NaN    False                           False      False  \n",
       "4              1       NaN    False                           False       True  \n",
       "..           ...       ...      ...            ...              ...        ...  \n",
       "218            1       NaN    False                           False       True  \n",
       "219            1       NaN    False                           False      False  \n",
       "220            1       NaN    False                           False      False  \n",
       "221            1       NaN    False                           False       True  \n",
       "222            1       NaN    False                           False      False  \n",
       "\n",
       "[223 rows x 31 columns]"
      ]
     },
     "metadata": {},
     "output_type": "display_data"
    }
   ],
   "source": [
    "display(laps)\n"
   ]
  },
  {
   "cell_type": "code",
   "execution_count": 9,
   "id": "e5e93943",
   "metadata": {},
   "outputs": [
    {
     "name": "stdout",
     "output_type": "stream",
     "text": [
      "Index(['DriverNumber', 'BroadcastName', 'Abbreviation', 'DriverId', 'TeamName',\n",
      "       'TeamColor', 'TeamId', 'FirstName', 'LastName', 'FullName',\n",
      "       'HeadshotUrl', 'CountryCode', 'Position', 'ClassifiedPosition',\n",
      "       'GridPosition', 'Q1', 'Q2', 'Q3', 'Time', 'Status', 'Points', 'Laps'],\n",
      "      dtype='object')\n"
     ]
    }
   ],
   "source": [
    "print(results.columns)"
   ]
  },
  {
   "cell_type": "code",
   "execution_count": 10,
   "id": "29f9ea91",
   "metadata": {},
   "outputs": [
    {
     "name": "stderr",
     "output_type": "stream",
     "text": [
      "C:\\Users\\taise\\AppData\\Local\\Temp\\ipykernel_22040\\461188307.py:21: SettingWithCopyWarning:\n",
      "\n",
      "\n",
      "A value is trying to be set on a copy of a slice from a DataFrame.\n",
      "Try using .loc[row_indexer,col_indexer] = value instead\n",
      "\n",
      "See the caveats in the documentation: https://pandas.pydata.org/pandas-docs/stable/user_guide/indexing.html#returning-a-view-versus-a-copy\n",
      "\n",
      "C:\\Users\\taise\\AppData\\Local\\Temp\\ipykernel_22040\\461188307.py:22: SettingWithCopyWarning:\n",
      "\n",
      "\n",
      "A value is trying to be set on a copy of a slice from a DataFrame.\n",
      "Try using .loc[row_indexer,col_indexer] = value instead\n",
      "\n",
      "See the caveats in the documentation: https://pandas.pydata.org/pandas-docs/stable/user_guide/indexing.html#returning-a-view-versus-a-copy\n",
      "\n",
      "C:\\Users\\taise\\AppData\\Local\\Temp\\ipykernel_22040\\461188307.py:23: SettingWithCopyWarning:\n",
      "\n",
      "\n",
      "A value is trying to be set on a copy of a slice from a DataFrame.\n",
      "Try using .loc[row_indexer,col_indexer] = value instead\n",
      "\n",
      "See the caveats in the documentation: https://pandas.pydata.org/pandas-docs/stable/user_guide/indexing.html#returning-a-view-versus-a-copy\n",
      "\n",
      "C:\\Users\\taise\\AppData\\Local\\Temp\\ipykernel_22040\\461188307.py:24: SettingWithCopyWarning:\n",
      "\n",
      "\n",
      "A value is trying to be set on a copy of a slice from a DataFrame.\n",
      "Try using .loc[row_indexer,col_indexer] = value instead\n",
      "\n",
      "See the caveats in the documentation: https://pandas.pydata.org/pandas-docs/stable/user_guide/indexing.html#returning-a-view-versus-a-copy\n",
      "\n",
      "C:\\Users\\taise\\AppData\\Local\\Temp\\ipykernel_22040\\461188307.py:26: SettingWithCopyWarning:\n",
      "\n",
      "\n",
      "A value is trying to be set on a copy of a slice from a DataFrame.\n",
      "Try using .loc[row_indexer,col_indexer] = value instead\n",
      "\n",
      "See the caveats in the documentation: https://pandas.pydata.org/pandas-docs/stable/user_guide/indexing.html#returning-a-view-versus-a-copy\n",
      "\n"
     ]
    }
   ],
   "source": [
    "import re\n",
    "import numpy as np\n",
    "laps=laps.copy()\n",
    "cond_out = laps[\"PitOutTime\"].notna()\n",
    "cond_in = laps[\"PitInTime\"].notna()\n",
    "conditions = [cond_out, cond_in]\n",
    "choices = [\"OutLap\", \"InLap\"]\n",
    "laps[\"State\"] = np.select(conditions, choices, default=\"Attack Lap\")\n",
    "\n",
    "laps = laps[[\"Driver\", \"State\",\"LapTime\", \"Stint\", \"Sector1Time\", \"Sector2Time\", \"Sector3Time\", \"LapStartDate\"]]\n",
    "\n",
    "def format_time(td):\n",
    "    if pd.isna(td):\n",
    "        return \"\"\n",
    "    total_seconds=td.total_seconds()\n",
    "    minutes=int(total_seconds//60)\n",
    "    seconds = int(total_seconds % 60)\n",
    "    milliseconds = int((total_seconds - int(total_seconds)) * 1000)\n",
    "    return f\"{minutes:02}:{seconds:02}.{milliseconds:03}\"\n",
    "\n",
    "laps[\"LapTime\"]=laps[\"LapTime\"].apply(format_time)\n",
    "laps[\"Sector1Time\"]=laps[\"Sector1Time\"].apply(format_time)\n",
    "laps[\"Sector2Time\"]=laps[\"Sector2Time\"].apply(format_time)\n",
    "laps[\"Sector3Time\"]=laps[\"Sector3Time\"].apply(format_time)\n",
    "\n",
    "laps[\"Stint\"]=laps[\"Stint\"].astype(int)"
   ]
  },
  {
   "cell_type": "code",
   "execution_count": 11,
   "id": "fbfddbef",
   "metadata": {},
   "outputs": [],
   "source": [
    "results=results.copy()\n",
    "results = results[[\"Abbreviation\",\"TeamColor\",'Q1', 'Q2', 'Q3']]\n",
    "def format_time(td):\n",
    "    if pd.isna(td):\n",
    "        return \"\"\n",
    "    total_seconds=td.total_seconds()\n",
    "    minutes=int(total_seconds//60)\n",
    "    seconds = int(total_seconds % 60)\n",
    "    milliseconds = int((total_seconds - int(total_seconds)) * 1000)\n",
    "    return f\"{minutes:02}:{seconds:02}.{milliseconds:03}\"\n",
    "results[\"Q1\"]=results[\"Q1\"].apply(format_time)\n",
    "results[\"Q2\"]=results[\"Q2\"].apply(format_time)\n",
    "results[\"Q3\"]=results[\"Q3\"].apply(format_time)"
   ]
  },
  {
   "cell_type": "code",
   "execution_count": 12,
   "id": "4b44a328",
   "metadata": {},
   "outputs": [
    {
     "data": {
      "text/html": [
       "<div>\n",
       "<style scoped>\n",
       "    .dataframe tbody tr th:only-of-type {\n",
       "        vertical-align: middle;\n",
       "    }\n",
       "\n",
       "    .dataframe tbody tr th {\n",
       "        vertical-align: top;\n",
       "    }\n",
       "\n",
       "    .dataframe thead th {\n",
       "        text-align: right;\n",
       "    }\n",
       "</style>\n",
       "<table border=\"1\" class=\"dataframe\">\n",
       "  <thead>\n",
       "    <tr style=\"text-align: right;\">\n",
       "      <th></th>\n",
       "      <th>Abbreviation</th>\n",
       "      <th>TeamColor</th>\n",
       "      <th>Q1</th>\n",
       "      <th>Q2</th>\n",
       "      <th>Q3</th>\n",
       "    </tr>\n",
       "  </thead>\n",
       "  <tbody>\n",
       "    <tr>\n",
       "      <th>1</th>\n",
       "      <td>VER</td>\n",
       "      <td>3671C6</td>\n",
       "      <td>01:28.865</td>\n",
       "      <td>01:28.739</td>\n",
       "      <td>01:28.197</td>\n",
       "    </tr>\n",
       "    <tr>\n",
       "      <th>11</th>\n",
       "      <td>PER</td>\n",
       "      <td>3671C6</td>\n",
       "      <td>01:29.302</td>\n",
       "      <td>01:28.751</td>\n",
       "      <td>01:28.263</td>\n",
       "    </tr>\n",
       "    <tr>\n",
       "      <th>4</th>\n",
       "      <td>NOR</td>\n",
       "      <td>FF8000</td>\n",
       "      <td>01:29.536</td>\n",
       "      <td>01:28.939</td>\n",
       "      <td>01:28.489</td>\n",
       "    </tr>\n",
       "    <tr>\n",
       "      <th>55</th>\n",
       "      <td>SAI</td>\n",
       "      <td>E80020</td>\n",
       "      <td>01:29.513</td>\n",
       "      <td>01:29.099</td>\n",
       "      <td>01:28.682</td>\n",
       "    </tr>\n",
       "    <tr>\n",
       "      <th>14</th>\n",
       "      <td>ALO</td>\n",
       "      <td>229971</td>\n",
       "      <td>01:29.254</td>\n",
       "      <td>01:29.081</td>\n",
       "      <td>01:28.686</td>\n",
       "    </tr>\n",
       "    <tr>\n",
       "      <th>81</th>\n",
       "      <td>PIA</td>\n",
       "      <td>FF8000</td>\n",
       "      <td>01:29.424</td>\n",
       "      <td>01:29.147</td>\n",
       "      <td>01:28.760</td>\n",
       "    </tr>\n",
       "    <tr>\n",
       "      <th>44</th>\n",
       "      <td>HAM</td>\n",
       "      <td>27F4D2</td>\n",
       "      <td>01:29.661</td>\n",
       "      <td>01:28.887</td>\n",
       "      <td>01:28.766</td>\n",
       "    </tr>\n",
       "    <tr>\n",
       "      <th>16</th>\n",
       "      <td>LEC</td>\n",
       "      <td>E80020</td>\n",
       "      <td>01:29.337</td>\n",
       "      <td>01:29.195</td>\n",
       "      <td>01:28.786</td>\n",
       "    </tr>\n",
       "    <tr>\n",
       "      <th>63</th>\n",
       "      <td>RUS</td>\n",
       "      <td>27F4D2</td>\n",
       "      <td>01:29.799</td>\n",
       "      <td>01:29.140</td>\n",
       "      <td>01:29.007</td>\n",
       "    </tr>\n",
       "    <tr>\n",
       "      <th>22</th>\n",
       "      <td>TSU</td>\n",
       "      <td>6692FF</td>\n",
       "      <td>01:29.775</td>\n",
       "      <td>01:29.417</td>\n",
       "      <td>01:29.412</td>\n",
       "    </tr>\n",
       "    <tr>\n",
       "      <th>3</th>\n",
       "      <td>RIC</td>\n",
       "      <td>6692FF</td>\n",
       "      <td>01:29.727</td>\n",
       "      <td>01:29.471</td>\n",
       "      <td></td>\n",
       "    </tr>\n",
       "    <tr>\n",
       "      <th>27</th>\n",
       "      <td>HUL</td>\n",
       "      <td>B6BABD</td>\n",
       "      <td>01:29.820</td>\n",
       "      <td>01:29.493</td>\n",
       "      <td></td>\n",
       "    </tr>\n",
       "    <tr>\n",
       "      <th>77</th>\n",
       "      <td>BOT</td>\n",
       "      <td>52e252</td>\n",
       "      <td>01:29.602</td>\n",
       "      <td>01:29.593</td>\n",
       "      <td></td>\n",
       "    </tr>\n",
       "    <tr>\n",
       "      <th>23</th>\n",
       "      <td>ALB</td>\n",
       "      <td>64C4FF</td>\n",
       "      <td>01:29.962</td>\n",
       "      <td>01:29.713</td>\n",
       "      <td></td>\n",
       "    </tr>\n",
       "    <tr>\n",
       "      <th>31</th>\n",
       "      <td>OCO</td>\n",
       "      <td>0093cc</td>\n",
       "      <td>01:29.811</td>\n",
       "      <td>01:29.816</td>\n",
       "      <td></td>\n",
       "    </tr>\n",
       "    <tr>\n",
       "      <th>18</th>\n",
       "      <td>STR</td>\n",
       "      <td>229971</td>\n",
       "      <td>01:30.024</td>\n",
       "      <td></td>\n",
       "      <td></td>\n",
       "    </tr>\n",
       "    <tr>\n",
       "      <th>10</th>\n",
       "      <td>GAS</td>\n",
       "      <td>0093cc</td>\n",
       "      <td>01:30.118</td>\n",
       "      <td></td>\n",
       "      <td></td>\n",
       "    </tr>\n",
       "    <tr>\n",
       "      <th>20</th>\n",
       "      <td>MAG</td>\n",
       "      <td>B6BABD</td>\n",
       "      <td>01:30.131</td>\n",
       "      <td></td>\n",
       "      <td></td>\n",
       "    </tr>\n",
       "    <tr>\n",
       "      <th>2</th>\n",
       "      <td>SAR</td>\n",
       "      <td>64C4FF</td>\n",
       "      <td>01:30.138</td>\n",
       "      <td></td>\n",
       "      <td></td>\n",
       "    </tr>\n",
       "    <tr>\n",
       "      <th>24</th>\n",
       "      <td>ZHO</td>\n",
       "      <td>52e252</td>\n",
       "      <td>01:30.143</td>\n",
       "      <td></td>\n",
       "      <td></td>\n",
       "    </tr>\n",
       "  </tbody>\n",
       "</table>\n",
       "</div>"
      ],
      "text/plain": [
       "   Abbreviation TeamColor         Q1         Q2         Q3\n",
       "1           VER    3671C6  01:28.865  01:28.739  01:28.197\n",
       "11          PER    3671C6  01:29.302  01:28.751  01:28.263\n",
       "4           NOR    FF8000  01:29.536  01:28.939  01:28.489\n",
       "55          SAI    E80020  01:29.513  01:29.099  01:28.682\n",
       "14          ALO    229971  01:29.254  01:29.081  01:28.686\n",
       "81          PIA    FF8000  01:29.424  01:29.147  01:28.760\n",
       "44          HAM    27F4D2  01:29.661  01:28.887  01:28.766\n",
       "16          LEC    E80020  01:29.337  01:29.195  01:28.786\n",
       "63          RUS    27F4D2  01:29.799  01:29.140  01:29.007\n",
       "22          TSU    6692FF  01:29.775  01:29.417  01:29.412\n",
       "3           RIC    6692FF  01:29.727  01:29.471           \n",
       "27          HUL    B6BABD  01:29.820  01:29.493           \n",
       "77          BOT    52e252  01:29.602  01:29.593           \n",
       "23          ALB    64C4FF  01:29.962  01:29.713           \n",
       "31          OCO    0093cc  01:29.811  01:29.816           \n",
       "18          STR    229971  01:30.024                      \n",
       "10          GAS    0093cc  01:30.118                      \n",
       "20          MAG    B6BABD  01:30.131                      \n",
       "2           SAR    64C4FF  01:30.138                      \n",
       "24          ZHO    52e252  01:30.143                      "
      ]
     },
     "metadata": {},
     "output_type": "display_data"
    }
   ],
   "source": [
    "display(results)"
   ]
  },
  {
   "cell_type": "code",
   "execution_count": 13,
   "id": "a06f16f6",
   "metadata": {},
   "outputs": [
    {
     "data": {
      "text/html": [
       "<style type=\"text/css\">\n",
       "#T_a0b77_row1_col0, #T_a0b77_row1_col1, #T_a0b77_row1_col2, #T_a0b77_row1_col3, #T_a0b77_row1_col4, #T_a0b77_row1_col5, #T_a0b77_row1_col6, #T_a0b77_row1_col7, #T_a0b77_row13_col0, #T_a0b77_row13_col1, #T_a0b77_row13_col2, #T_a0b77_row13_col3, #T_a0b77_row13_col4, #T_a0b77_row13_col5, #T_a0b77_row13_col6, #T_a0b77_row13_col7, #T_a0b77_row25_col0, #T_a0b77_row25_col1, #T_a0b77_row25_col2, #T_a0b77_row25_col3, #T_a0b77_row25_col4, #T_a0b77_row25_col5, #T_a0b77_row25_col6, #T_a0b77_row25_col7, #T_a0b77_row38_col0, #T_a0b77_row38_col1, #T_a0b77_row38_col2, #T_a0b77_row38_col3, #T_a0b77_row38_col4, #T_a0b77_row38_col5, #T_a0b77_row38_col6, #T_a0b77_row38_col7, #T_a0b77_row50_col0, #T_a0b77_row50_col1, #T_a0b77_row50_col2, #T_a0b77_row50_col3, #T_a0b77_row50_col4, #T_a0b77_row50_col5, #T_a0b77_row50_col6, #T_a0b77_row50_col7, #T_a0b77_row62_col0, #T_a0b77_row62_col1, #T_a0b77_row62_col2, #T_a0b77_row62_col3, #T_a0b77_row62_col4, #T_a0b77_row62_col5, #T_a0b77_row62_col6, #T_a0b77_row62_col7, #T_a0b77_row74_col0, #T_a0b77_row74_col1, #T_a0b77_row74_col2, #T_a0b77_row74_col3, #T_a0b77_row74_col4, #T_a0b77_row74_col5, #T_a0b77_row74_col6, #T_a0b77_row74_col7, #T_a0b77_row92_col0, #T_a0b77_row92_col1, #T_a0b77_row92_col2, #T_a0b77_row92_col3, #T_a0b77_row92_col4, #T_a0b77_row92_col5, #T_a0b77_row92_col6, #T_a0b77_row92_col7, #T_a0b77_row101_col0, #T_a0b77_row101_col1, #T_a0b77_row101_col2, #T_a0b77_row101_col3, #T_a0b77_row101_col4, #T_a0b77_row101_col5, #T_a0b77_row101_col6, #T_a0b77_row101_col7, #T_a0b77_row116_col0, #T_a0b77_row116_col1, #T_a0b77_row116_col2, #T_a0b77_row116_col3, #T_a0b77_row116_col4, #T_a0b77_row116_col5, #T_a0b77_row116_col6, #T_a0b77_row116_col7, #T_a0b77_row119_col0, #T_a0b77_row119_col1, #T_a0b77_row119_col2, #T_a0b77_row119_col3, #T_a0b77_row119_col4, #T_a0b77_row119_col5, #T_a0b77_row119_col6, #T_a0b77_row119_col7, #T_a0b77_row137_col0, #T_a0b77_row137_col1, #T_a0b77_row137_col2, #T_a0b77_row137_col3, #T_a0b77_row137_col4, #T_a0b77_row137_col5, #T_a0b77_row137_col6, #T_a0b77_row137_col7, #T_a0b77_row149_col0, #T_a0b77_row149_col1, #T_a0b77_row149_col2, #T_a0b77_row149_col3, #T_a0b77_row149_col4, #T_a0b77_row149_col5, #T_a0b77_row149_col6, #T_a0b77_row149_col7, #T_a0b77_row161_col0, #T_a0b77_row161_col1, #T_a0b77_row161_col2, #T_a0b77_row161_col3, #T_a0b77_row161_col4, #T_a0b77_row161_col5, #T_a0b77_row161_col6, #T_a0b77_row161_col7, #T_a0b77_row173_col0, #T_a0b77_row173_col1, #T_a0b77_row173_col2, #T_a0b77_row173_col3, #T_a0b77_row173_col4, #T_a0b77_row173_col5, #T_a0b77_row173_col6, #T_a0b77_row173_col7, #T_a0b77_row182_col0, #T_a0b77_row182_col1, #T_a0b77_row182_col2, #T_a0b77_row182_col3, #T_a0b77_row182_col4, #T_a0b77_row182_col5, #T_a0b77_row182_col6, #T_a0b77_row182_col7, #T_a0b77_row191_col0, #T_a0b77_row191_col1, #T_a0b77_row191_col2, #T_a0b77_row191_col3, #T_a0b77_row191_col4, #T_a0b77_row191_col5, #T_a0b77_row191_col6, #T_a0b77_row191_col7, #T_a0b77_row200_col0, #T_a0b77_row200_col1, #T_a0b77_row200_col2, #T_a0b77_row200_col3, #T_a0b77_row200_col4, #T_a0b77_row200_col5, #T_a0b77_row200_col6, #T_a0b77_row200_col7, #T_a0b77_row209_col0, #T_a0b77_row209_col1, #T_a0b77_row209_col2, #T_a0b77_row209_col3, #T_a0b77_row209_col4, #T_a0b77_row209_col5, #T_a0b77_row209_col6, #T_a0b77_row209_col7, #T_a0b77_row215_col0, #T_a0b77_row215_col1, #T_a0b77_row215_col2, #T_a0b77_row215_col3, #T_a0b77_row215_col4, #T_a0b77_row215_col5, #T_a0b77_row215_col6, #T_a0b77_row215_col7, #T_a0b77_row221_col0, #T_a0b77_row221_col1, #T_a0b77_row221_col2, #T_a0b77_row221_col3, #T_a0b77_row221_col4, #T_a0b77_row221_col5, #T_a0b77_row221_col6, #T_a0b77_row221_col7 {\n",
       "  background-color: #d0f0c0;\n",
       "  color: black;\n",
       "}\n",
       "#T_a0b77_row4_col0, #T_a0b77_row4_col1, #T_a0b77_row4_col2, #T_a0b77_row4_col3, #T_a0b77_row4_col4, #T_a0b77_row4_col5, #T_a0b77_row4_col6, #T_a0b77_row4_col7, #T_a0b77_row16_col0, #T_a0b77_row16_col1, #T_a0b77_row16_col2, #T_a0b77_row16_col3, #T_a0b77_row16_col4, #T_a0b77_row16_col5, #T_a0b77_row16_col6, #T_a0b77_row16_col7, #T_a0b77_row29_col0, #T_a0b77_row29_col1, #T_a0b77_row29_col2, #T_a0b77_row29_col3, #T_a0b77_row29_col4, #T_a0b77_row29_col5, #T_a0b77_row29_col6, #T_a0b77_row29_col7, #T_a0b77_row41_col0, #T_a0b77_row41_col1, #T_a0b77_row41_col2, #T_a0b77_row41_col3, #T_a0b77_row41_col4, #T_a0b77_row41_col5, #T_a0b77_row41_col6, #T_a0b77_row41_col7, #T_a0b77_row53_col0, #T_a0b77_row53_col1, #T_a0b77_row53_col2, #T_a0b77_row53_col3, #T_a0b77_row53_col4, #T_a0b77_row53_col5, #T_a0b77_row53_col6, #T_a0b77_row53_col7, #T_a0b77_row65_col0, #T_a0b77_row65_col1, #T_a0b77_row65_col2, #T_a0b77_row65_col3, #T_a0b77_row65_col4, #T_a0b77_row65_col5, #T_a0b77_row65_col6, #T_a0b77_row65_col7, #T_a0b77_row80_col0, #T_a0b77_row80_col1, #T_a0b77_row80_col2, #T_a0b77_row80_col3, #T_a0b77_row80_col4, #T_a0b77_row80_col5, #T_a0b77_row80_col6, #T_a0b77_row80_col7, #T_a0b77_row95_col0, #T_a0b77_row95_col1, #T_a0b77_row95_col2, #T_a0b77_row95_col3, #T_a0b77_row95_col4, #T_a0b77_row95_col5, #T_a0b77_row95_col6, #T_a0b77_row95_col7, #T_a0b77_row107_col0, #T_a0b77_row107_col1, #T_a0b77_row107_col2, #T_a0b77_row107_col3, #T_a0b77_row107_col4, #T_a0b77_row107_col5, #T_a0b77_row107_col6, #T_a0b77_row107_col7, #T_a0b77_row125_col0, #T_a0b77_row125_col1, #T_a0b77_row125_col2, #T_a0b77_row125_col3, #T_a0b77_row125_col4, #T_a0b77_row125_col5, #T_a0b77_row125_col6, #T_a0b77_row125_col7, #T_a0b77_row143_col0, #T_a0b77_row143_col1, #T_a0b77_row143_col2, #T_a0b77_row143_col3, #T_a0b77_row143_col4, #T_a0b77_row143_col5, #T_a0b77_row143_col6, #T_a0b77_row143_col7, #T_a0b77_row155_col0, #T_a0b77_row155_col1, #T_a0b77_row155_col2, #T_a0b77_row155_col3, #T_a0b77_row155_col4, #T_a0b77_row155_col5, #T_a0b77_row155_col6, #T_a0b77_row155_col7, #T_a0b77_row167_col0, #T_a0b77_row167_col1, #T_a0b77_row167_col2, #T_a0b77_row167_col3, #T_a0b77_row167_col4, #T_a0b77_row167_col5, #T_a0b77_row167_col6, #T_a0b77_row167_col7, #T_a0b77_row176_col0, #T_a0b77_row176_col1, #T_a0b77_row176_col2, #T_a0b77_row176_col3, #T_a0b77_row176_col4, #T_a0b77_row176_col5, #T_a0b77_row176_col6, #T_a0b77_row176_col7, #T_a0b77_row188_col0, #T_a0b77_row188_col1, #T_a0b77_row188_col2, #T_a0b77_row188_col3, #T_a0b77_row188_col4, #T_a0b77_row188_col5, #T_a0b77_row188_col6, #T_a0b77_row188_col7 {\n",
       "  background-color: #add8e6;\n",
       "  color: black;\n",
       "}\n",
       "#T_a0b77_row10_col0, #T_a0b77_row10_col1, #T_a0b77_row10_col2, #T_a0b77_row10_col3, #T_a0b77_row10_col4, #T_a0b77_row10_col5, #T_a0b77_row10_col6, #T_a0b77_row10_col7, #T_a0b77_row22_col0, #T_a0b77_row22_col1, #T_a0b77_row22_col2, #T_a0b77_row22_col3, #T_a0b77_row22_col4, #T_a0b77_row22_col5, #T_a0b77_row22_col6, #T_a0b77_row22_col7, #T_a0b77_row32_col0, #T_a0b77_row32_col1, #T_a0b77_row32_col2, #T_a0b77_row32_col3, #T_a0b77_row32_col4, #T_a0b77_row32_col5, #T_a0b77_row32_col6, #T_a0b77_row32_col7, #T_a0b77_row44_col0, #T_a0b77_row44_col1, #T_a0b77_row44_col2, #T_a0b77_row44_col3, #T_a0b77_row44_col4, #T_a0b77_row44_col5, #T_a0b77_row44_col6, #T_a0b77_row44_col7, #T_a0b77_row59_col0, #T_a0b77_row59_col1, #T_a0b77_row59_col2, #T_a0b77_row59_col3, #T_a0b77_row59_col4, #T_a0b77_row59_col5, #T_a0b77_row59_col6, #T_a0b77_row59_col7, #T_a0b77_row68_col0, #T_a0b77_row68_col1, #T_a0b77_row68_col2, #T_a0b77_row68_col3, #T_a0b77_row68_col4, #T_a0b77_row68_col5, #T_a0b77_row68_col6, #T_a0b77_row68_col7, #T_a0b77_row83_col0, #T_a0b77_row83_col1, #T_a0b77_row83_col2, #T_a0b77_row83_col3, #T_a0b77_row83_col4, #T_a0b77_row83_col5, #T_a0b77_row83_col6, #T_a0b77_row83_col7, #T_a0b77_row98_col0, #T_a0b77_row98_col1, #T_a0b77_row98_col2, #T_a0b77_row98_col3, #T_a0b77_row98_col4, #T_a0b77_row98_col5, #T_a0b77_row98_col6, #T_a0b77_row98_col7, #T_a0b77_row110_col0, #T_a0b77_row110_col1, #T_a0b77_row110_col2, #T_a0b77_row110_col3, #T_a0b77_row110_col4, #T_a0b77_row110_col5, #T_a0b77_row110_col6, #T_a0b77_row110_col7, #T_a0b77_row131_col0, #T_a0b77_row131_col1, #T_a0b77_row131_col2, #T_a0b77_row131_col3, #T_a0b77_row131_col4, #T_a0b77_row131_col5, #T_a0b77_row131_col6, #T_a0b77_row131_col7 {\n",
       "  background-color: #ffc0cb;\n",
       "  color: black;\n",
       "}\n",
       "</style>\n",
       "<table id=\"T_a0b77\">\n",
       "  <thead>\n",
       "    <tr>\n",
       "      <th class=\"blank level0\" >&nbsp;</th>\n",
       "      <th id=\"T_a0b77_level0_col0\" class=\"col_heading level0 col0\" >Driver</th>\n",
       "      <th id=\"T_a0b77_level0_col1\" class=\"col_heading level0 col1\" >State</th>\n",
       "      <th id=\"T_a0b77_level0_col2\" class=\"col_heading level0 col2\" >LapTime</th>\n",
       "      <th id=\"T_a0b77_level0_col3\" class=\"col_heading level0 col3\" >Stint</th>\n",
       "      <th id=\"T_a0b77_level0_col4\" class=\"col_heading level0 col4\" >Sector1Time</th>\n",
       "      <th id=\"T_a0b77_level0_col5\" class=\"col_heading level0 col5\" >Sector2Time</th>\n",
       "      <th id=\"T_a0b77_level0_col6\" class=\"col_heading level0 col6\" >Sector3Time</th>\n",
       "      <th id=\"T_a0b77_level0_col7\" class=\"col_heading level0 col7\" >LapStartDate</th>\n",
       "    </tr>\n",
       "  </thead>\n",
       "  <tbody>\n",
       "    <tr>\n",
       "      <th id=\"T_a0b77_level0_row0\" class=\"row_heading level0 row0\" >0</th>\n",
       "      <td id=\"T_a0b77_row0_col0\" class=\"data row0 col0\" >VER</td>\n",
       "      <td id=\"T_a0b77_row0_col1\" class=\"data row0 col1\" >OutLap</td>\n",
       "      <td id=\"T_a0b77_row0_col2\" class=\"data row0 col2\" ></td>\n",
       "      <td id=\"T_a0b77_row0_col3\" class=\"data row0 col3\" >1</td>\n",
       "      <td id=\"T_a0b77_row0_col4\" class=\"data row0 col4\" ></td>\n",
       "      <td id=\"T_a0b77_row0_col5\" class=\"data row0 col5\" >00:52.689</td>\n",
       "      <td id=\"T_a0b77_row0_col6\" class=\"data row0 col6\" >00:20.504</td>\n",
       "      <td id=\"T_a0b77_row0_col7\" class=\"data row0 col7\" >2024-04-06 06:04:13.394000</td>\n",
       "    </tr>\n",
       "    <tr>\n",
       "      <th id=\"T_a0b77_level0_row1\" class=\"row_heading level0 row1\" >1</th>\n",
       "      <td id=\"T_a0b77_row1_col0\" class=\"data row1 col0\" >VER</td>\n",
       "      <td id=\"T_a0b77_row1_col1\" class=\"data row1 col1\" >Attack Lap</td>\n",
       "      <td id=\"T_a0b77_row1_col2\" class=\"data row1 col2\" >01:28.865</td>\n",
       "      <td id=\"T_a0b77_row1_col3\" class=\"data row1 col3\" >1</td>\n",
       "      <td id=\"T_a0b77_row1_col4\" class=\"data row1 col4\" >00:31.091</td>\n",
       "      <td id=\"T_a0b77_row1_col5\" class=\"data row1 col5\" >00:40.100</td>\n",
       "      <td id=\"T_a0b77_row1_col6\" class=\"data row1 col6\" >00:17.675</td>\n",
       "      <td id=\"T_a0b77_row1_col7\" class=\"data row1 col7\" >2024-04-06 06:06:13.909000</td>\n",
       "    </tr>\n",
       "    <tr>\n",
       "      <th id=\"T_a0b77_level0_row2\" class=\"row_heading level0 row2\" >2</th>\n",
       "      <td id=\"T_a0b77_row2_col0\" class=\"data row2 col0\" >VER</td>\n",
       "      <td id=\"T_a0b77_row2_col1\" class=\"data row2 col1\" >InLap</td>\n",
       "      <td id=\"T_a0b77_row2_col2\" class=\"data row2 col2\" >02:01.685</td>\n",
       "      <td id=\"T_a0b77_row2_col3\" class=\"data row2 col3\" >1</td>\n",
       "      <td id=\"T_a0b77_row2_col4\" class=\"data row2 col4\" >00:49.767</td>\n",
       "      <td id=\"T_a0b77_row2_col5\" class=\"data row2 col5\" >00:49.057</td>\n",
       "      <td id=\"T_a0b77_row2_col6\" class=\"data row2 col6\" >00:22.859</td>\n",
       "      <td id=\"T_a0b77_row2_col7\" class=\"data row2 col7\" >2024-04-06 06:07:42.775000</td>\n",
       "    </tr>\n",
       "    <tr>\n",
       "      <th id=\"T_a0b77_level0_row3\" class=\"row_heading level0 row3\" >3</th>\n",
       "      <td id=\"T_a0b77_row3_col0\" class=\"data row3 col0\" >VER</td>\n",
       "      <td id=\"T_a0b77_row3_col1\" class=\"data row3 col1\" >OutLap</td>\n",
       "      <td id=\"T_a0b77_row3_col2\" class=\"data row3 col2\" ></td>\n",
       "      <td id=\"T_a0b77_row3_col3\" class=\"data row3 col3\" >2</td>\n",
       "      <td id=\"T_a0b77_row3_col4\" class=\"data row3 col4\" ></td>\n",
       "      <td id=\"T_a0b77_row3_col5\" class=\"data row3 col5\" >00:49.061</td>\n",
       "      <td id=\"T_a0b77_row3_col6\" class=\"data row3 col6\" >00:20.649</td>\n",
       "      <td id=\"T_a0b77_row3_col7\" class=\"data row3 col7\" >2024-04-06 06:09:44.460000</td>\n",
       "    </tr>\n",
       "    <tr>\n",
       "      <th id=\"T_a0b77_level0_row4\" class=\"row_heading level0 row4\" >4</th>\n",
       "      <td id=\"T_a0b77_row4_col0\" class=\"data row4 col0\" >VER</td>\n",
       "      <td id=\"T_a0b77_row4_col1\" class=\"data row4 col1\" >Attack Lap</td>\n",
       "      <td id=\"T_a0b77_row4_col2\" class=\"data row4 col2\" >01:28.739</td>\n",
       "      <td id=\"T_a0b77_row4_col3\" class=\"data row4 col3\" >2</td>\n",
       "      <td id=\"T_a0b77_row4_col4\" class=\"data row4 col4\" >00:31.062</td>\n",
       "      <td id=\"T_a0b77_row4_col5\" class=\"data row4 col5\" >00:40.055</td>\n",
       "      <td id=\"T_a0b77_row4_col6\" class=\"data row4 col6\" >00:17.620</td>\n",
       "      <td id=\"T_a0b77_row4_col7\" class=\"data row4 col7\" >2024-04-06 06:27:18.569000</td>\n",
       "    </tr>\n",
       "    <tr>\n",
       "      <th id=\"T_a0b77_level0_row5\" class=\"row_heading level0 row5\" >5</th>\n",
       "      <td id=\"T_a0b77_row5_col0\" class=\"data row5 col0\" >VER</td>\n",
       "      <td id=\"T_a0b77_row5_col1\" class=\"data row5 col1\" >InLap</td>\n",
       "      <td id=\"T_a0b77_row5_col2\" class=\"data row5 col2\" >01:54.936</td>\n",
       "      <td id=\"T_a0b77_row5_col3\" class=\"data row5 col3\" >2</td>\n",
       "      <td id=\"T_a0b77_row5_col4\" class=\"data row5 col4\" >00:40.368</td>\n",
       "      <td id=\"T_a0b77_row5_col5\" class=\"data row5 col5\" >00:50.878</td>\n",
       "      <td id=\"T_a0b77_row5_col6\" class=\"data row5 col6\" >00:23.690</td>\n",
       "      <td id=\"T_a0b77_row5_col7\" class=\"data row5 col7\" >2024-04-06 06:28:47.309000</td>\n",
       "    </tr>\n",
       "    <tr>\n",
       "      <th id=\"T_a0b77_level0_row6\" class=\"row_heading level0 row6\" >6</th>\n",
       "      <td id=\"T_a0b77_row6_col0\" class=\"data row6 col0\" >VER</td>\n",
       "      <td id=\"T_a0b77_row6_col1\" class=\"data row6 col1\" >OutLap</td>\n",
       "      <td id=\"T_a0b77_row6_col2\" class=\"data row6 col2\" ></td>\n",
       "      <td id=\"T_a0b77_row6_col3\" class=\"data row6 col3\" >3</td>\n",
       "      <td id=\"T_a0b77_row6_col4\" class=\"data row6 col4\" ></td>\n",
       "      <td id=\"T_a0b77_row6_col5\" class=\"data row6 col5\" >00:51.603</td>\n",
       "      <td id=\"T_a0b77_row6_col6\" class=\"data row6 col6\" >00:19.582</td>\n",
       "      <td id=\"T_a0b77_row6_col7\" class=\"data row6 col7\" >2024-04-06 06:30:42.246000</td>\n",
       "    </tr>\n",
       "    <tr>\n",
       "      <th id=\"T_a0b77_level0_row7\" class=\"row_heading level0 row7\" >7</th>\n",
       "      <td id=\"T_a0b77_row7_col0\" class=\"data row7 col0\" >VER</td>\n",
       "      <td id=\"T_a0b77_row7_col1\" class=\"data row7 col1\" >Attack Lap</td>\n",
       "      <td id=\"T_a0b77_row7_col2\" class=\"data row7 col2\" >01:28.239</td>\n",
       "      <td id=\"T_a0b77_row7_col3\" class=\"data row7 col3\" >3</td>\n",
       "      <td id=\"T_a0b77_row7_col4\" class=\"data row7 col4\" >00:30.868</td>\n",
       "      <td id=\"T_a0b77_row7_col5\" class=\"data row7 col5\" >00:39.868</td>\n",
       "      <td id=\"T_a0b77_row7_col6\" class=\"data row7 col6\" >00:17.503</td>\n",
       "      <td id=\"T_a0b77_row7_col7\" class=\"data row7 col7\" >2024-04-06 06:50:19.873000</td>\n",
       "    </tr>\n",
       "    <tr>\n",
       "      <th id=\"T_a0b77_level0_row8\" class=\"row_heading level0 row8\" >8</th>\n",
       "      <td id=\"T_a0b77_row8_col0\" class=\"data row8 col0\" >VER</td>\n",
       "      <td id=\"T_a0b77_row8_col1\" class=\"data row8 col1\" >InLap</td>\n",
       "      <td id=\"T_a0b77_row8_col2\" class=\"data row8 col2\" >01:50.480</td>\n",
       "      <td id=\"T_a0b77_row8_col3\" class=\"data row8 col3\" >3</td>\n",
       "      <td id=\"T_a0b77_row8_col4\" class=\"data row8 col4\" >00:37.826</td>\n",
       "      <td id=\"T_a0b77_row8_col5\" class=\"data row8 col5\" >00:48.566</td>\n",
       "      <td id=\"T_a0b77_row8_col6\" class=\"data row8 col6\" >00:24.086</td>\n",
       "      <td id=\"T_a0b77_row8_col7\" class=\"data row8 col7\" >2024-04-06 06:51:48.113000</td>\n",
       "    </tr>\n",
       "    <tr>\n",
       "      <th id=\"T_a0b77_level0_row9\" class=\"row_heading level0 row9\" >9</th>\n",
       "      <td id=\"T_a0b77_row9_col0\" class=\"data row9 col0\" >VER</td>\n",
       "      <td id=\"T_a0b77_row9_col1\" class=\"data row9 col1\" >OutLap</td>\n",
       "      <td id=\"T_a0b77_row9_col2\" class=\"data row9 col2\" ></td>\n",
       "      <td id=\"T_a0b77_row9_col3\" class=\"data row9 col3\" >4</td>\n",
       "      <td id=\"T_a0b77_row9_col4\" class=\"data row9 col4\" ></td>\n",
       "      <td id=\"T_a0b77_row9_col5\" class=\"data row9 col5\" >00:50.779</td>\n",
       "      <td id=\"T_a0b77_row9_col6\" class=\"data row9 col6\" >00:19.667</td>\n",
       "      <td id=\"T_a0b77_row9_col7\" class=\"data row9 col7\" >2024-04-06 06:53:38.593000</td>\n",
       "    </tr>\n",
       "    <tr>\n",
       "      <th id=\"T_a0b77_level0_row10\" class=\"row_heading level0 row10\" >10</th>\n",
       "      <td id=\"T_a0b77_row10_col0\" class=\"data row10 col0\" >VER</td>\n",
       "      <td id=\"T_a0b77_row10_col1\" class=\"data row10 col1\" >Attack Lap</td>\n",
       "      <td id=\"T_a0b77_row10_col2\" class=\"data row10 col2\" >01:28.197</td>\n",
       "      <td id=\"T_a0b77_row10_col3\" class=\"data row10 col3\" >4</td>\n",
       "      <td id=\"T_a0b77_row10_col4\" class=\"data row10 col4\" >00:30.777</td>\n",
       "      <td id=\"T_a0b77_row10_col5\" class=\"data row10 col5\" >00:39.850</td>\n",
       "      <td id=\"T_a0b77_row10_col6\" class=\"data row10 col6\" >00:17.570</td>\n",
       "      <td id=\"T_a0b77_row10_col7\" class=\"data row10 col7\" >2024-04-06 06:58:14.726000</td>\n",
       "    </tr>\n",
       "    <tr>\n",
       "      <th id=\"T_a0b77_level0_row11\" class=\"row_heading level0 row11\" >11</th>\n",
       "      <td id=\"T_a0b77_row11_col0\" class=\"data row11 col0\" >VER</td>\n",
       "      <td id=\"T_a0b77_row11_col1\" class=\"data row11 col1\" >InLap</td>\n",
       "      <td id=\"T_a0b77_row11_col2\" class=\"data row11 col2\" >01:59.609</td>\n",
       "      <td id=\"T_a0b77_row11_col3\" class=\"data row11 col3\" >4</td>\n",
       "      <td id=\"T_a0b77_row11_col4\" class=\"data row11 col4\" >00:41.031</td>\n",
       "      <td id=\"T_a0b77_row11_col5\" class=\"data row11 col5\" >00:51.540</td>\n",
       "      <td id=\"T_a0b77_row11_col6\" class=\"data row11 col6\" >00:27.036</td>\n",
       "      <td id=\"T_a0b77_row11_col7\" class=\"data row11 col7\" >2024-04-06 06:59:42.923000</td>\n",
       "    </tr>\n",
       "    <tr>\n",
       "      <th id=\"T_a0b77_level0_row12\" class=\"row_heading level0 row12\" >12</th>\n",
       "      <td id=\"T_a0b77_row12_col0\" class=\"data row12 col0\" >PER</td>\n",
       "      <td id=\"T_a0b77_row12_col1\" class=\"data row12 col1\" >OutLap</td>\n",
       "      <td id=\"T_a0b77_row12_col2\" class=\"data row12 col2\" ></td>\n",
       "      <td id=\"T_a0b77_row12_col3\" class=\"data row12 col3\" >1</td>\n",
       "      <td id=\"T_a0b77_row12_col4\" class=\"data row12 col4\" ></td>\n",
       "      <td id=\"T_a0b77_row12_col5\" class=\"data row12 col5\" >00:50.252</td>\n",
       "      <td id=\"T_a0b77_row12_col6\" class=\"data row12 col6\" >00:22.797</td>\n",
       "      <td id=\"T_a0b77_row12_col7\" class=\"data row12 col7\" >2024-04-06 06:04:07.283000</td>\n",
       "    </tr>\n",
       "    <tr>\n",
       "      <th id=\"T_a0b77_level0_row13\" class=\"row_heading level0 row13\" >13</th>\n",
       "      <td id=\"T_a0b77_row13_col0\" class=\"data row13 col0\" >PER</td>\n",
       "      <td id=\"T_a0b77_row13_col1\" class=\"data row13 col1\" >Attack Lap</td>\n",
       "      <td id=\"T_a0b77_row13_col2\" class=\"data row13 col2\" >01:29.302</td>\n",
       "      <td id=\"T_a0b77_row13_col3\" class=\"data row13 col3\" >1</td>\n",
       "      <td id=\"T_a0b77_row13_col4\" class=\"data row13 col4\" >00:31.254</td>\n",
       "      <td id=\"T_a0b77_row13_col5\" class=\"data row13 col5\" >00:40.218</td>\n",
       "      <td id=\"T_a0b77_row13_col6\" class=\"data row13 col6\" >00:17.829</td>\n",
       "      <td id=\"T_a0b77_row13_col7\" class=\"data row13 col7\" >2024-04-06 06:05:59.707000</td>\n",
       "    </tr>\n",
       "    <tr>\n",
       "      <th id=\"T_a0b77_level0_row14\" class=\"row_heading level0 row14\" >14</th>\n",
       "      <td id=\"T_a0b77_row14_col0\" class=\"data row14 col0\" >PER</td>\n",
       "      <td id=\"T_a0b77_row14_col1\" class=\"data row14 col1\" >InLap</td>\n",
       "      <td id=\"T_a0b77_row14_col2\" class=\"data row14 col2\" >02:06.525</td>\n",
       "      <td id=\"T_a0b77_row14_col3\" class=\"data row14 col3\" >1</td>\n",
       "      <td id=\"T_a0b77_row14_col4\" class=\"data row14 col4\" >00:47.737</td>\n",
       "      <td id=\"T_a0b77_row14_col5\" class=\"data row14 col5\" >00:51.993</td>\n",
       "      <td id=\"T_a0b77_row14_col6\" class=\"data row14 col6\" >00:26.794</td>\n",
       "      <td id=\"T_a0b77_row14_col7\" class=\"data row14 col7\" >2024-04-06 06:07:29.010000</td>\n",
       "    </tr>\n",
       "    <tr>\n",
       "      <th id=\"T_a0b77_level0_row15\" class=\"row_heading level0 row15\" >15</th>\n",
       "      <td id=\"T_a0b77_row15_col0\" class=\"data row15 col0\" >PER</td>\n",
       "      <td id=\"T_a0b77_row15_col1\" class=\"data row15 col1\" >OutLap</td>\n",
       "      <td id=\"T_a0b77_row15_col2\" class=\"data row15 col2\" ></td>\n",
       "      <td id=\"T_a0b77_row15_col3\" class=\"data row15 col3\" >2</td>\n",
       "      <td id=\"T_a0b77_row15_col4\" class=\"data row15 col4\" ></td>\n",
       "      <td id=\"T_a0b77_row15_col5\" class=\"data row15 col5\" >00:50.506</td>\n",
       "      <td id=\"T_a0b77_row15_col6\" class=\"data row15 col6\" >00:21.716</td>\n",
       "      <td id=\"T_a0b77_row15_col7\" class=\"data row15 col7\" >2024-04-06 06:09:35.535000</td>\n",
       "    </tr>\n",
       "    <tr>\n",
       "      <th id=\"T_a0b77_level0_row16\" class=\"row_heading level0 row16\" >16</th>\n",
       "      <td id=\"T_a0b77_row16_col0\" class=\"data row16 col0\" >PER</td>\n",
       "      <td id=\"T_a0b77_row16_col1\" class=\"data row16 col1\" >Attack Lap</td>\n",
       "      <td id=\"T_a0b77_row16_col2\" class=\"data row16 col2\" >01:28.751</td>\n",
       "      <td id=\"T_a0b77_row16_col3\" class=\"data row16 col3\" >2</td>\n",
       "      <td id=\"T_a0b77_row16_col4\" class=\"data row16 col4\" >00:31.047</td>\n",
       "      <td id=\"T_a0b77_row16_col5\" class=\"data row16 col5\" >00:40.008</td>\n",
       "      <td id=\"T_a0b77_row16_col6\" class=\"data row16 col6\" >00:17.696</td>\n",
       "      <td id=\"T_a0b77_row16_col7\" class=\"data row16 col7\" >2024-04-06 06:27:03.972000</td>\n",
       "    </tr>\n",
       "    <tr>\n",
       "      <th id=\"T_a0b77_level0_row17\" class=\"row_heading level0 row17\" >17</th>\n",
       "      <td id=\"T_a0b77_row17_col0\" class=\"data row17 col0\" >PER</td>\n",
       "      <td id=\"T_a0b77_row17_col1\" class=\"data row17 col1\" >InLap</td>\n",
       "      <td id=\"T_a0b77_row17_col2\" class=\"data row17 col2\" >02:03.486</td>\n",
       "      <td id=\"T_a0b77_row17_col3\" class=\"data row17 col3\" >2</td>\n",
       "      <td id=\"T_a0b77_row17_col4\" class=\"data row17 col4\" >00:42.005</td>\n",
       "      <td id=\"T_a0b77_row17_col5\" class=\"data row17 col5\" >00:52.430</td>\n",
       "      <td id=\"T_a0b77_row17_col6\" class=\"data row17 col6\" >00:29.050</td>\n",
       "      <td id=\"T_a0b77_row17_col7\" class=\"data row17 col7\" >2024-04-06 06:28:32.724000</td>\n",
       "    </tr>\n",
       "    <tr>\n",
       "      <th id=\"T_a0b77_level0_row18\" class=\"row_heading level0 row18\" >18</th>\n",
       "      <td id=\"T_a0b77_row18_col0\" class=\"data row18 col0\" >PER</td>\n",
       "      <td id=\"T_a0b77_row18_col1\" class=\"data row18 col1\" >OutLap</td>\n",
       "      <td id=\"T_a0b77_row18_col2\" class=\"data row18 col2\" ></td>\n",
       "      <td id=\"T_a0b77_row18_col3\" class=\"data row18 col3\" >3</td>\n",
       "      <td id=\"T_a0b77_row18_col4\" class=\"data row18 col4\" ></td>\n",
       "      <td id=\"T_a0b77_row18_col5\" class=\"data row18 col5\" >00:52.926</td>\n",
       "      <td id=\"T_a0b77_row18_col6\" class=\"data row18 col6\" >00:20.550</td>\n",
       "      <td id=\"T_a0b77_row18_col7\" class=\"data row18 col7\" >2024-04-06 06:30:36.211000</td>\n",
       "    </tr>\n",
       "    <tr>\n",
       "      <th id=\"T_a0b77_level0_row19\" class=\"row_heading level0 row19\" >19</th>\n",
       "      <td id=\"T_a0b77_row19_col0\" class=\"data row19 col0\" >PER</td>\n",
       "      <td id=\"T_a0b77_row19_col1\" class=\"data row19 col1\" >Attack Lap</td>\n",
       "      <td id=\"T_a0b77_row19_col2\" class=\"data row19 col2\" >01:28.605</td>\n",
       "      <td id=\"T_a0b77_row19_col3\" class=\"data row19 col3\" >3</td>\n",
       "      <td id=\"T_a0b77_row19_col4\" class=\"data row19 col4\" >00:30.896</td>\n",
       "      <td id=\"T_a0b77_row19_col5\" class=\"data row19 col5\" >00:39.932</td>\n",
       "      <td id=\"T_a0b77_row19_col6\" class=\"data row19 col6\" >00:17.774</td>\n",
       "      <td id=\"T_a0b77_row19_col7\" class=\"data row19 col7\" >2024-04-06 06:50:27.470000</td>\n",
       "    </tr>\n",
       "    <tr>\n",
       "      <th id=\"T_a0b77_level0_row20\" class=\"row_heading level0 row20\" >20</th>\n",
       "      <td id=\"T_a0b77_row20_col0\" class=\"data row20 col0\" >PER</td>\n",
       "      <td id=\"T_a0b77_row20_col1\" class=\"data row20 col1\" >InLap</td>\n",
       "      <td id=\"T_a0b77_row20_col2\" class=\"data row20 col2\" >01:54.230</td>\n",
       "      <td id=\"T_a0b77_row20_col3\" class=\"data row20 col3\" >3</td>\n",
       "      <td id=\"T_a0b77_row20_col4\" class=\"data row20 col4\" >00:40.561</td>\n",
       "      <td id=\"T_a0b77_row20_col5\" class=\"data row20 col5\" >00:50.311</td>\n",
       "      <td id=\"T_a0b77_row20_col6\" class=\"data row20 col6\" >00:23.356</td>\n",
       "      <td id=\"T_a0b77_row20_col7\" class=\"data row20 col7\" >2024-04-06 06:51:56.075000</td>\n",
       "    </tr>\n",
       "    <tr>\n",
       "      <th id=\"T_a0b77_level0_row21\" class=\"row_heading level0 row21\" >21</th>\n",
       "      <td id=\"T_a0b77_row21_col0\" class=\"data row21 col0\" >PER</td>\n",
       "      <td id=\"T_a0b77_row21_col1\" class=\"data row21 col1\" >OutLap</td>\n",
       "      <td id=\"T_a0b77_row21_col2\" class=\"data row21 col2\" ></td>\n",
       "      <td id=\"T_a0b77_row21_col3\" class=\"data row21 col3\" >4</td>\n",
       "      <td id=\"T_a0b77_row21_col4\" class=\"data row21 col4\" ></td>\n",
       "      <td id=\"T_a0b77_row21_col5\" class=\"data row21 col5\" >00:54.978</td>\n",
       "      <td id=\"T_a0b77_row21_col6\" class=\"data row21 col6\" >00:20.202</td>\n",
       "      <td id=\"T_a0b77_row21_col7\" class=\"data row21 col7\" >2024-04-06 06:53:50.305000</td>\n",
       "    </tr>\n",
       "    <tr>\n",
       "      <th id=\"T_a0b77_level0_row22\" class=\"row_heading level0 row22\" >22</th>\n",
       "      <td id=\"T_a0b77_row22_col0\" class=\"data row22 col0\" >PER</td>\n",
       "      <td id=\"T_a0b77_row22_col1\" class=\"data row22 col1\" >Attack Lap</td>\n",
       "      <td id=\"T_a0b77_row22_col2\" class=\"data row22 col2\" >01:28.263</td>\n",
       "      <td id=\"T_a0b77_row22_col3\" class=\"data row22 col3\" >4</td>\n",
       "      <td id=\"T_a0b77_row22_col4\" class=\"data row22 col4\" >00:30.846</td>\n",
       "      <td id=\"T_a0b77_row22_col5\" class=\"data row22 col5\" >00:39.762</td>\n",
       "      <td id=\"T_a0b77_row22_col6\" class=\"data row22 col6\" >00:17.653</td>\n",
       "      <td id=\"T_a0b77_row22_col7\" class=\"data row22 col7\" >2024-04-06 06:58:03.124000</td>\n",
       "    </tr>\n",
       "    <tr>\n",
       "      <th id=\"T_a0b77_level0_row23\" class=\"row_heading level0 row23\" >23</th>\n",
       "      <td id=\"T_a0b77_row23_col0\" class=\"data row23 col0\" >PER</td>\n",
       "      <td id=\"T_a0b77_row23_col1\" class=\"data row23 col1\" >InLap</td>\n",
       "      <td id=\"T_a0b77_row23_col2\" class=\"data row23 col2\" >02:05.625</td>\n",
       "      <td id=\"T_a0b77_row23_col3\" class=\"data row23 col3\" >4</td>\n",
       "      <td id=\"T_a0b77_row23_col4\" class=\"data row23 col4\" >00:43.005</td>\n",
       "      <td id=\"T_a0b77_row23_col5\" class=\"data row23 col5\" >00:54.195</td>\n",
       "      <td id=\"T_a0b77_row23_col6\" class=\"data row23 col6\" >00:28.425</td>\n",
       "      <td id=\"T_a0b77_row23_col7\" class=\"data row23 col7\" >2024-04-06 06:59:31.387000</td>\n",
       "    </tr>\n",
       "    <tr>\n",
       "      <th id=\"T_a0b77_level0_row24\" class=\"row_heading level0 row24\" >24</th>\n",
       "      <td id=\"T_a0b77_row24_col0\" class=\"data row24 col0\" >NOR</td>\n",
       "      <td id=\"T_a0b77_row24_col1\" class=\"data row24 col1\" >OutLap</td>\n",
       "      <td id=\"T_a0b77_row24_col2\" class=\"data row24 col2\" ></td>\n",
       "      <td id=\"T_a0b77_row24_col3\" class=\"data row24 col3\" >1</td>\n",
       "      <td id=\"T_a0b77_row24_col4\" class=\"data row24 col4\" ></td>\n",
       "      <td id=\"T_a0b77_row24_col5\" class=\"data row24 col5\" >00:51.543</td>\n",
       "      <td id=\"T_a0b77_row24_col6\" class=\"data row24 col6\" >00:27.394</td>\n",
       "      <td id=\"T_a0b77_row24_col7\" class=\"data row24 col7\" >2024-04-06 06:06:33.877000</td>\n",
       "    </tr>\n",
       "    <tr>\n",
       "      <th id=\"T_a0b77_level0_row25\" class=\"row_heading level0 row25\" >25</th>\n",
       "      <td id=\"T_a0b77_row25_col0\" class=\"data row25 col0\" >NOR</td>\n",
       "      <td id=\"T_a0b77_row25_col1\" class=\"data row25 col1\" >Attack Lap</td>\n",
       "      <td id=\"T_a0b77_row25_col2\" class=\"data row25 col2\" >01:29.536</td>\n",
       "      <td id=\"T_a0b77_row25_col3\" class=\"data row25 col3\" >1</td>\n",
       "      <td id=\"T_a0b77_row25_col4\" class=\"data row25 col4\" >00:31.234</td>\n",
       "      <td id=\"T_a0b77_row25_col5\" class=\"data row25 col5\" >00:40.517</td>\n",
       "      <td id=\"T_a0b77_row25_col6\" class=\"data row25 col6\" >00:17.785</td>\n",
       "      <td id=\"T_a0b77_row25_col7\" class=\"data row25 col7\" >2024-04-06 06:08:43.844000</td>\n",
       "    </tr>\n",
       "    <tr>\n",
       "      <th id=\"T_a0b77_level0_row26\" class=\"row_heading level0 row26\" >26</th>\n",
       "      <td id=\"T_a0b77_row26_col0\" class=\"data row26 col0\" >NOR</td>\n",
       "      <td id=\"T_a0b77_row26_col1\" class=\"data row26 col1\" >InLap</td>\n",
       "      <td id=\"T_a0b77_row26_col2\" class=\"data row26 col2\" >01:54.506</td>\n",
       "      <td id=\"T_a0b77_row26_col3\" class=\"data row26 col3\" >1</td>\n",
       "      <td id=\"T_a0b77_row26_col4\" class=\"data row26 col4\" >00:40.814</td>\n",
       "      <td id=\"T_a0b77_row26_col5\" class=\"data row26 col5\" >00:49.145</td>\n",
       "      <td id=\"T_a0b77_row26_col6\" class=\"data row26 col6\" >00:24.545</td>\n",
       "      <td id=\"T_a0b77_row26_col7\" class=\"data row26 col7\" >2024-04-06 06:10:13.380000</td>\n",
       "    </tr>\n",
       "    <tr>\n",
       "      <th id=\"T_a0b77_level0_row27\" class=\"row_heading level0 row27\" >27</th>\n",
       "      <td id=\"T_a0b77_row27_col0\" class=\"data row27 col0\" >NOR</td>\n",
       "      <td id=\"T_a0b77_row27_col1\" class=\"data row27 col1\" >OutLap</td>\n",
       "      <td id=\"T_a0b77_row27_col2\" class=\"data row27 col2\" ></td>\n",
       "      <td id=\"T_a0b77_row27_col3\" class=\"data row27 col3\" >2</td>\n",
       "      <td id=\"T_a0b77_row27_col4\" class=\"data row27 col4\" ></td>\n",
       "      <td id=\"T_a0b77_row27_col5\" class=\"data row27 col5\" >00:50.932</td>\n",
       "      <td id=\"T_a0b77_row27_col6\" class=\"data row27 col6\" >00:23.902</td>\n",
       "      <td id=\"T_a0b77_row27_col7\" class=\"data row27 col7\" >2024-04-06 06:12:07.886000</td>\n",
       "    </tr>\n",
       "    <tr>\n",
       "      <th id=\"T_a0b77_level0_row28\" class=\"row_heading level0 row28\" >28</th>\n",
       "      <td id=\"T_a0b77_row28_col0\" class=\"data row28 col0\" >NOR</td>\n",
       "      <td id=\"T_a0b77_row28_col1\" class=\"data row28 col1\" >OutLap</td>\n",
       "      <td id=\"T_a0b77_row28_col2\" class=\"data row28 col2\" ></td>\n",
       "      <td id=\"T_a0b77_row28_col3\" class=\"data row28 col3\" >3</td>\n",
       "      <td id=\"T_a0b77_row28_col4\" class=\"data row28 col4\" ></td>\n",
       "      <td id=\"T_a0b77_row28_col5\" class=\"data row28 col5\" >00:53.582</td>\n",
       "      <td id=\"T_a0b77_row28_col6\" class=\"data row28 col6\" >00:22.146</td>\n",
       "      <td id=\"T_a0b77_row28_col7\" class=\"data row28 col7\" >2024-04-06 06:17:50.295000</td>\n",
       "    </tr>\n",
       "    <tr>\n",
       "      <th id=\"T_a0b77_level0_row29\" class=\"row_heading level0 row29\" >29</th>\n",
       "      <td id=\"T_a0b77_row29_col0\" class=\"data row29 col0\" >NOR</td>\n",
       "      <td id=\"T_a0b77_row29_col1\" class=\"data row29 col1\" >Attack Lap</td>\n",
       "      <td id=\"T_a0b77_row29_col2\" class=\"data row29 col2\" >01:28.939</td>\n",
       "      <td id=\"T_a0b77_row29_col3\" class=\"data row29 col3\" >3</td>\n",
       "      <td id=\"T_a0b77_row29_col4\" class=\"data row29 col4\" >00:30.995</td>\n",
       "      <td id=\"T_a0b77_row29_col5\" class=\"data row29 col5\" >00:40.229</td>\n",
       "      <td id=\"T_a0b77_row29_col6\" class=\"data row29 col6\" >00:17.713</td>\n",
       "      <td id=\"T_a0b77_row29_col7\" class=\"data row29 col7\" >2024-04-06 06:29:25.097000</td>\n",
       "    </tr>\n",
       "    <tr>\n",
       "      <th id=\"T_a0b77_level0_row30\" class=\"row_heading level0 row30\" >30</th>\n",
       "      <td id=\"T_a0b77_row30_col0\" class=\"data row30 col0\" >NOR</td>\n",
       "      <td id=\"T_a0b77_row30_col1\" class=\"data row30 col1\" >InLap</td>\n",
       "      <td id=\"T_a0b77_row30_col2\" class=\"data row30 col2\" >01:55.638</td>\n",
       "      <td id=\"T_a0b77_row30_col3\" class=\"data row30 col3\" >3</td>\n",
       "      <td id=\"T_a0b77_row30_col4\" class=\"data row30 col4\" >00:41.457</td>\n",
       "      <td id=\"T_a0b77_row30_col5\" class=\"data row30 col5\" >00:48.578</td>\n",
       "      <td id=\"T_a0b77_row30_col6\" class=\"data row30 col6\" >00:25.602</td>\n",
       "      <td id=\"T_a0b77_row30_col7\" class=\"data row30 col7\" >2024-04-06 06:30:54.037000</td>\n",
       "    </tr>\n",
       "    <tr>\n",
       "      <th id=\"T_a0b77_level0_row31\" class=\"row_heading level0 row31\" >31</th>\n",
       "      <td id=\"T_a0b77_row31_col0\" class=\"data row31 col0\" >NOR</td>\n",
       "      <td id=\"T_a0b77_row31_col1\" class=\"data row31 col1\" >OutLap</td>\n",
       "      <td id=\"T_a0b77_row31_col2\" class=\"data row31 col2\" ></td>\n",
       "      <td id=\"T_a0b77_row31_col3\" class=\"data row31 col3\" >4</td>\n",
       "      <td id=\"T_a0b77_row31_col4\" class=\"data row31 col4\" ></td>\n",
       "      <td id=\"T_a0b77_row31_col5\" class=\"data row31 col5\" >00:49.450</td>\n",
       "      <td id=\"T_a0b77_row31_col6\" class=\"data row31 col6\" >00:25.518</td>\n",
       "      <td id=\"T_a0b77_row31_col7\" class=\"data row31 col7\" >2024-04-06 06:32:49.675000</td>\n",
       "    </tr>\n",
       "    <tr>\n",
       "      <th id=\"T_a0b77_level0_row32\" class=\"row_heading level0 row32\" >32</th>\n",
       "      <td id=\"T_a0b77_row32_col0\" class=\"data row32 col0\" >NOR</td>\n",
       "      <td id=\"T_a0b77_row32_col1\" class=\"data row32 col1\" >Attack Lap</td>\n",
       "      <td id=\"T_a0b77_row32_col2\" class=\"data row32 col2\" >01:28.489</td>\n",
       "      <td id=\"T_a0b77_row32_col3\" class=\"data row32 col3\" >4</td>\n",
       "      <td id=\"T_a0b77_row32_col4\" class=\"data row32 col4\" >00:30.800</td>\n",
       "      <td id=\"T_a0b77_row32_col5\" class=\"data row32 col5\" >00:40.039</td>\n",
       "      <td id=\"T_a0b77_row32_col6\" class=\"data row32 col6\" >00:17.649</td>\n",
       "      <td id=\"T_a0b77_row32_col7\" class=\"data row32 col7\" >2024-04-06 06:51:10.056000</td>\n",
       "    </tr>\n",
       "    <tr>\n",
       "      <th id=\"T_a0b77_level0_row33\" class=\"row_heading level0 row33\" >33</th>\n",
       "      <td id=\"T_a0b77_row33_col0\" class=\"data row33 col0\" >NOR</td>\n",
       "      <td id=\"T_a0b77_row33_col1\" class=\"data row33 col1\" >InLap</td>\n",
       "      <td id=\"T_a0b77_row33_col2\" class=\"data row33 col2\" >01:52.625</td>\n",
       "      <td id=\"T_a0b77_row33_col3\" class=\"data row33 col3\" >4</td>\n",
       "      <td id=\"T_a0b77_row33_col4\" class=\"data row33 col4\" >00:40.046</td>\n",
       "      <td id=\"T_a0b77_row33_col5\" class=\"data row33 col5\" >00:48.045</td>\n",
       "      <td id=\"T_a0b77_row33_col6\" class=\"data row33 col6\" >00:24.532</td>\n",
       "      <td id=\"T_a0b77_row33_col7\" class=\"data row33 col7\" >2024-04-06 06:52:38.545000</td>\n",
       "    </tr>\n",
       "    <tr>\n",
       "      <th id=\"T_a0b77_level0_row34\" class=\"row_heading level0 row34\" >34</th>\n",
       "      <td id=\"T_a0b77_row34_col0\" class=\"data row34 col0\" >NOR</td>\n",
       "      <td id=\"T_a0b77_row34_col1\" class=\"data row34 col1\" >OutLap</td>\n",
       "      <td id=\"T_a0b77_row34_col2\" class=\"data row34 col2\" ></td>\n",
       "      <td id=\"T_a0b77_row34_col3\" class=\"data row34 col3\" >5</td>\n",
       "      <td id=\"T_a0b77_row34_col4\" class=\"data row34 col4\" ></td>\n",
       "      <td id=\"T_a0b77_row34_col5\" class=\"data row34 col5\" >00:51.040</td>\n",
       "      <td id=\"T_a0b77_row34_col6\" class=\"data row34 col6\" >00:21.751</td>\n",
       "      <td id=\"T_a0b77_row34_col7\" class=\"data row34 col7\" >2024-04-06 06:54:31.170000</td>\n",
       "    </tr>\n",
       "    <tr>\n",
       "      <th id=\"T_a0b77_level0_row35\" class=\"row_heading level0 row35\" >35</th>\n",
       "      <td id=\"T_a0b77_row35_col0\" class=\"data row35 col0\" >NOR</td>\n",
       "      <td id=\"T_a0b77_row35_col1\" class=\"data row35 col1\" >Attack Lap</td>\n",
       "      <td id=\"T_a0b77_row35_col2\" class=\"data row35 col2\" >01:28.584</td>\n",
       "      <td id=\"T_a0b77_row35_col3\" class=\"data row35 col3\" >5</td>\n",
       "      <td id=\"T_a0b77_row35_col4\" class=\"data row35 col4\" >00:30.900</td>\n",
       "      <td id=\"T_a0b77_row35_col5\" class=\"data row35 col5\" >00:40.049</td>\n",
       "      <td id=\"T_a0b77_row35_col6\" class=\"data row35 col6\" >00:17.634</td>\n",
       "      <td id=\"T_a0b77_row35_col7\" class=\"data row35 col7\" >2024-04-06 06:58:56.983000</td>\n",
       "    </tr>\n",
       "    <tr>\n",
       "      <th id=\"T_a0b77_level0_row36\" class=\"row_heading level0 row36\" >36</th>\n",
       "      <td id=\"T_a0b77_row36_col0\" class=\"data row36 col0\" >NOR</td>\n",
       "      <td id=\"T_a0b77_row36_col1\" class=\"data row36 col1\" >InLap</td>\n",
       "      <td id=\"T_a0b77_row36_col2\" class=\"data row36 col2\" >02:04.647</td>\n",
       "      <td id=\"T_a0b77_row36_col3\" class=\"data row36 col3\" >5</td>\n",
       "      <td id=\"T_a0b77_row36_col4\" class=\"data row36 col4\" >00:43.872</td>\n",
       "      <td id=\"T_a0b77_row36_col5\" class=\"data row36 col5\" >00:49.046</td>\n",
       "      <td id=\"T_a0b77_row36_col6\" class=\"data row36 col6\" >00:31.727</td>\n",
       "      <td id=\"T_a0b77_row36_col7\" class=\"data row36 col7\" >2024-04-06 07:00:25.568000</td>\n",
       "    </tr>\n",
       "    <tr>\n",
       "      <th id=\"T_a0b77_level0_row37\" class=\"row_heading level0 row37\" >37</th>\n",
       "      <td id=\"T_a0b77_row37_col0\" class=\"data row37 col0\" >SAI</td>\n",
       "      <td id=\"T_a0b77_row37_col1\" class=\"data row37 col1\" >OutLap</td>\n",
       "      <td id=\"T_a0b77_row37_col2\" class=\"data row37 col2\" ></td>\n",
       "      <td id=\"T_a0b77_row37_col3\" class=\"data row37 col3\" >1</td>\n",
       "      <td id=\"T_a0b77_row37_col4\" class=\"data row37 col4\" ></td>\n",
       "      <td id=\"T_a0b77_row37_col5\" class=\"data row37 col5\" >00:51.926</td>\n",
       "      <td id=\"T_a0b77_row37_col6\" class=\"data row37 col6\" >00:25.379</td>\n",
       "      <td id=\"T_a0b77_row37_col7\" class=\"data row37 col7\" >2024-04-06 06:04:28.680000</td>\n",
       "    </tr>\n",
       "    <tr>\n",
       "      <th id=\"T_a0b77_level0_row38\" class=\"row_heading level0 row38\" >38</th>\n",
       "      <td id=\"T_a0b77_row38_col0\" class=\"data row38 col0\" >SAI</td>\n",
       "      <td id=\"T_a0b77_row38_col1\" class=\"data row38 col1\" >Attack Lap</td>\n",
       "      <td id=\"T_a0b77_row38_col2\" class=\"data row38 col2\" >01:29.513</td>\n",
       "      <td id=\"T_a0b77_row38_col3\" class=\"data row38 col3\" >1</td>\n",
       "      <td id=\"T_a0b77_row38_col4\" class=\"data row38 col4\" >00:31.368</td>\n",
       "      <td id=\"T_a0b77_row38_col5\" class=\"data row38 col5\" >00:40.292</td>\n",
       "      <td id=\"T_a0b77_row38_col6\" class=\"data row38 col6\" >00:17.852</td>\n",
       "      <td id=\"T_a0b77_row38_col7\" class=\"data row38 col7\" >2024-04-06 06:06:32.620000</td>\n",
       "    </tr>\n",
       "    <tr>\n",
       "      <th id=\"T_a0b77_level0_row39\" class=\"row_heading level0 row39\" >39</th>\n",
       "      <td id=\"T_a0b77_row39_col0\" class=\"data row39 col0\" >SAI</td>\n",
       "      <td id=\"T_a0b77_row39_col1\" class=\"data row39 col1\" >InLap</td>\n",
       "      <td id=\"T_a0b77_row39_col2\" class=\"data row39 col2\" >02:01.237</td>\n",
       "      <td id=\"T_a0b77_row39_col3\" class=\"data row39 col3\" >1</td>\n",
       "      <td id=\"T_a0b77_row39_col4\" class=\"data row39 col4\" >00:44.396</td>\n",
       "      <td id=\"T_a0b77_row39_col5\" class=\"data row39 col5\" >00:50.646</td>\n",
       "      <td id=\"T_a0b77_row39_col6\" class=\"data row39 col6\" >00:26.196</td>\n",
       "      <td id=\"T_a0b77_row39_col7\" class=\"data row39 col7\" >2024-04-06 06:08:02.133000</td>\n",
       "    </tr>\n",
       "    <tr>\n",
       "      <th id=\"T_a0b77_level0_row40\" class=\"row_heading level0 row40\" >40</th>\n",
       "      <td id=\"T_a0b77_row40_col0\" class=\"data row40 col0\" >SAI</td>\n",
       "      <td id=\"T_a0b77_row40_col1\" class=\"data row40 col1\" >OutLap</td>\n",
       "      <td id=\"T_a0b77_row40_col2\" class=\"data row40 col2\" ></td>\n",
       "      <td id=\"T_a0b77_row40_col3\" class=\"data row40 col3\" >2</td>\n",
       "      <td id=\"T_a0b77_row40_col4\" class=\"data row40 col4\" ></td>\n",
       "      <td id=\"T_a0b77_row40_col5\" class=\"data row40 col5\" >00:47.021</td>\n",
       "      <td id=\"T_a0b77_row40_col6\" class=\"data row40 col6\" >00:32.115</td>\n",
       "      <td id=\"T_a0b77_row40_col7\" class=\"data row40 col7\" >2024-04-06 06:10:03.371000</td>\n",
       "    </tr>\n",
       "    <tr>\n",
       "      <th id=\"T_a0b77_level0_row41\" class=\"row_heading level0 row41\" >41</th>\n",
       "      <td id=\"T_a0b77_row41_col0\" class=\"data row41 col0\" >SAI</td>\n",
       "      <td id=\"T_a0b77_row41_col1\" class=\"data row41 col1\" >Attack Lap</td>\n",
       "      <td id=\"T_a0b77_row41_col2\" class=\"data row41 col2\" >01:29.099</td>\n",
       "      <td id=\"T_a0b77_row41_col3\" class=\"data row41 col3\" >2</td>\n",
       "      <td id=\"T_a0b77_row41_col4\" class=\"data row41 col4\" >00:31.202</td>\n",
       "      <td id=\"T_a0b77_row41_col5\" class=\"data row41 col5\" >00:40.173</td>\n",
       "      <td id=\"T_a0b77_row41_col6\" class=\"data row41 col6\" >00:17.722</td>\n",
       "      <td id=\"T_a0b77_row41_col7\" class=\"data row41 col7\" >2024-04-06 06:30:28.097000</td>\n",
       "    </tr>\n",
       "    <tr>\n",
       "      <th id=\"T_a0b77_level0_row42\" class=\"row_heading level0 row42\" >42</th>\n",
       "      <td id=\"T_a0b77_row42_col0\" class=\"data row42 col0\" >SAI</td>\n",
       "      <td id=\"T_a0b77_row42_col1\" class=\"data row42 col1\" >InLap</td>\n",
       "      <td id=\"T_a0b77_row42_col2\" class=\"data row42 col2\" >01:54.626</td>\n",
       "      <td id=\"T_a0b77_row42_col3\" class=\"data row42 col3\" >2</td>\n",
       "      <td id=\"T_a0b77_row42_col4\" class=\"data row42 col4\" >00:41.747</td>\n",
       "      <td id=\"T_a0b77_row42_col5\" class=\"data row42 col5\" >00:47.664</td>\n",
       "      <td id=\"T_a0b77_row42_col6\" class=\"data row42 col6\" >00:25.213</td>\n",
       "      <td id=\"T_a0b77_row42_col7\" class=\"data row42 col7\" >2024-04-06 06:31:57.196000</td>\n",
       "    </tr>\n",
       "    <tr>\n",
       "      <th id=\"T_a0b77_level0_row43\" class=\"row_heading level0 row43\" >43</th>\n",
       "      <td id=\"T_a0b77_row43_col0\" class=\"data row43 col0\" >SAI</td>\n",
       "      <td id=\"T_a0b77_row43_col1\" class=\"data row43 col1\" >OutLap</td>\n",
       "      <td id=\"T_a0b77_row43_col2\" class=\"data row43 col2\" ></td>\n",
       "      <td id=\"T_a0b77_row43_col3\" class=\"data row43 col3\" >3</td>\n",
       "      <td id=\"T_a0b77_row43_col4\" class=\"data row43 col4\" ></td>\n",
       "      <td id=\"T_a0b77_row43_col5\" class=\"data row43 col5\" >00:54.582</td>\n",
       "      <td id=\"T_a0b77_row43_col6\" class=\"data row43 col6\" >00:23.670</td>\n",
       "      <td id=\"T_a0b77_row43_col7\" class=\"data row43 col7\" >2024-04-06 06:33:51.822000</td>\n",
       "    </tr>\n",
       "    <tr>\n",
       "      <th id=\"T_a0b77_level0_row44\" class=\"row_heading level0 row44\" >44</th>\n",
       "      <td id=\"T_a0b77_row44_col0\" class=\"data row44 col0\" >SAI</td>\n",
       "      <td id=\"T_a0b77_row44_col1\" class=\"data row44 col1\" >Attack Lap</td>\n",
       "      <td id=\"T_a0b77_row44_col2\" class=\"data row44 col2\" >01:28.682</td>\n",
       "      <td id=\"T_a0b77_row44_col3\" class=\"data row44 col3\" >3</td>\n",
       "      <td id=\"T_a0b77_row44_col4\" class=\"data row44 col4\" >00:30.968</td>\n",
       "      <td id=\"T_a0b77_row44_col5\" class=\"data row44 col5\" >00:39.988</td>\n",
       "      <td id=\"T_a0b77_row44_col6\" class=\"data row44 col6\" >00:17.725</td>\n",
       "      <td id=\"T_a0b77_row44_col7\" class=\"data row44 col7\" >2024-04-06 06:50:53.062000</td>\n",
       "    </tr>\n",
       "    <tr>\n",
       "      <th id=\"T_a0b77_level0_row45\" class=\"row_heading level0 row45\" >45</th>\n",
       "      <td id=\"T_a0b77_row45_col0\" class=\"data row45 col0\" >SAI</td>\n",
       "      <td id=\"T_a0b77_row45_col1\" class=\"data row45 col1\" >InLap</td>\n",
       "      <td id=\"T_a0b77_row45_col2\" class=\"data row45 col2\" >01:55.903</td>\n",
       "      <td id=\"T_a0b77_row45_col3\" class=\"data row45 col3\" >3</td>\n",
       "      <td id=\"T_a0b77_row45_col4\" class=\"data row45 col4\" >00:40.884</td>\n",
       "      <td id=\"T_a0b77_row45_col5\" class=\"data row45 col5\" >00:49.098</td>\n",
       "      <td id=\"T_a0b77_row45_col6\" class=\"data row45 col6\" >00:25.920</td>\n",
       "      <td id=\"T_a0b77_row45_col7\" class=\"data row45 col7\" >2024-04-06 06:52:21.744000</td>\n",
       "    </tr>\n",
       "    <tr>\n",
       "      <th id=\"T_a0b77_level0_row46\" class=\"row_heading level0 row46\" >46</th>\n",
       "      <td id=\"T_a0b77_row46_col0\" class=\"data row46 col0\" >SAI</td>\n",
       "      <td id=\"T_a0b77_row46_col1\" class=\"data row46 col1\" >OutLap</td>\n",
       "      <td id=\"T_a0b77_row46_col2\" class=\"data row46 col2\" ></td>\n",
       "      <td id=\"T_a0b77_row46_col3\" class=\"data row46 col3\" >4</td>\n",
       "      <td id=\"T_a0b77_row46_col4\" class=\"data row46 col4\" ></td>\n",
       "      <td id=\"T_a0b77_row46_col5\" class=\"data row46 col5\" >00:54.216</td>\n",
       "      <td id=\"T_a0b77_row46_col6\" class=\"data row46 col6\" >00:23.588</td>\n",
       "      <td id=\"T_a0b77_row46_col7\" class=\"data row46 col7\" >2024-04-06 06:54:17.647000</td>\n",
       "    </tr>\n",
       "    <tr>\n",
       "      <th id=\"T_a0b77_level0_row47\" class=\"row_heading level0 row47\" >47</th>\n",
       "      <td id=\"T_a0b77_row47_col0\" class=\"data row47 col0\" >SAI</td>\n",
       "      <td id=\"T_a0b77_row47_col1\" class=\"data row47 col1\" >Attack Lap</td>\n",
       "      <td id=\"T_a0b77_row47_col2\" class=\"data row47 col2\" >01:28.810</td>\n",
       "      <td id=\"T_a0b77_row47_col3\" class=\"data row47 col3\" >4</td>\n",
       "      <td id=\"T_a0b77_row47_col4\" class=\"data row47 col4\" >00:31.047</td>\n",
       "      <td id=\"T_a0b77_row47_col5\" class=\"data row47 col5\" >00:40.024</td>\n",
       "      <td id=\"T_a0b77_row47_col6\" class=\"data row47 col6\" >00:17.737</td>\n",
       "      <td id=\"T_a0b77_row47_col7\" class=\"data row47 col7\" >2024-04-06 06:58:25.381000</td>\n",
       "    </tr>\n",
       "    <tr>\n",
       "      <th id=\"T_a0b77_level0_row48\" class=\"row_heading level0 row48\" >48</th>\n",
       "      <td id=\"T_a0b77_row48_col0\" class=\"data row48 col0\" >SAI</td>\n",
       "      <td id=\"T_a0b77_row48_col1\" class=\"data row48 col1\" >InLap</td>\n",
       "      <td id=\"T_a0b77_row48_col2\" class=\"data row48 col2\" >02:06.673</td>\n",
       "      <td id=\"T_a0b77_row48_col3\" class=\"data row48 col3\" >4</td>\n",
       "      <td id=\"T_a0b77_row48_col4\" class=\"data row48 col4\" >00:44.515</td>\n",
       "      <td id=\"T_a0b77_row48_col5\" class=\"data row48 col5\" >00:52.296</td>\n",
       "      <td id=\"T_a0b77_row48_col6\" class=\"data row48 col6\" >00:29.859</td>\n",
       "      <td id=\"T_a0b77_row48_col7\" class=\"data row48 col7\" >2024-04-06 06:59:54.191000</td>\n",
       "    </tr>\n",
       "    <tr>\n",
       "      <th id=\"T_a0b77_level0_row49\" class=\"row_heading level0 row49\" >49</th>\n",
       "      <td id=\"T_a0b77_row49_col0\" class=\"data row49 col0\" >ALO</td>\n",
       "      <td id=\"T_a0b77_row49_col1\" class=\"data row49 col1\" >OutLap</td>\n",
       "      <td id=\"T_a0b77_row49_col2\" class=\"data row49 col2\" ></td>\n",
       "      <td id=\"T_a0b77_row49_col3\" class=\"data row49 col3\" >1</td>\n",
       "      <td id=\"T_a0b77_row49_col4\" class=\"data row49 col4\" ></td>\n",
       "      <td id=\"T_a0b77_row49_col5\" class=\"data row49 col5\" >00:52.365</td>\n",
       "      <td id=\"T_a0b77_row49_col6\" class=\"data row49 col6\" >00:21.725</td>\n",
       "      <td id=\"T_a0b77_row49_col7\" class=\"data row49 col7\" >2024-04-06 06:04:55.953000</td>\n",
       "    </tr>\n",
       "    <tr>\n",
       "      <th id=\"T_a0b77_level0_row50\" class=\"row_heading level0 row50\" >50</th>\n",
       "      <td id=\"T_a0b77_row50_col0\" class=\"data row50 col0\" >ALO</td>\n",
       "      <td id=\"T_a0b77_row50_col1\" class=\"data row50 col1\" >Attack Lap</td>\n",
       "      <td id=\"T_a0b77_row50_col2\" class=\"data row50 col2\" >01:29.254</td>\n",
       "      <td id=\"T_a0b77_row50_col3\" class=\"data row50 col3\" >1</td>\n",
       "      <td id=\"T_a0b77_row50_col4\" class=\"data row50 col4\" >00:31.135</td>\n",
       "      <td id=\"T_a0b77_row50_col5\" class=\"data row50 col5\" >00:40.271</td>\n",
       "      <td id=\"T_a0b77_row50_col6\" class=\"data row50 col6\" >00:17.846</td>\n",
       "      <td id=\"T_a0b77_row50_col7\" class=\"data row50 col7\" >2024-04-06 06:07:13.535000</td>\n",
       "    </tr>\n",
       "    <tr>\n",
       "      <th id=\"T_a0b77_level0_row51\" class=\"row_heading level0 row51\" >51</th>\n",
       "      <td id=\"T_a0b77_row51_col0\" class=\"data row51 col0\" >ALO</td>\n",
       "      <td id=\"T_a0b77_row51_col1\" class=\"data row51 col1\" >InLap</td>\n",
       "      <td id=\"T_a0b77_row51_col2\" class=\"data row51 col2\" >02:07.287</td>\n",
       "      <td id=\"T_a0b77_row51_col3\" class=\"data row51 col3\" >1</td>\n",
       "      <td id=\"T_a0b77_row51_col4\" class=\"data row51 col4\" >00:44.674</td>\n",
       "      <td id=\"T_a0b77_row51_col5\" class=\"data row51 col5\" >00:52.545</td>\n",
       "      <td id=\"T_a0b77_row51_col6\" class=\"data row51 col6\" >00:30.067</td>\n",
       "      <td id=\"T_a0b77_row51_col7\" class=\"data row51 col7\" >2024-04-06 06:08:42.789000</td>\n",
       "    </tr>\n",
       "    <tr>\n",
       "      <th id=\"T_a0b77_level0_row52\" class=\"row_heading level0 row52\" >52</th>\n",
       "      <td id=\"T_a0b77_row52_col0\" class=\"data row52 col0\" >ALO</td>\n",
       "      <td id=\"T_a0b77_row52_col1\" class=\"data row52 col1\" >OutLap</td>\n",
       "      <td id=\"T_a0b77_row52_col2\" class=\"data row52 col2\" ></td>\n",
       "      <td id=\"T_a0b77_row52_col3\" class=\"data row52 col3\" >2</td>\n",
       "      <td id=\"T_a0b77_row52_col4\" class=\"data row52 col4\" ></td>\n",
       "      <td id=\"T_a0b77_row52_col5\" class=\"data row52 col5\" >00:53.063</td>\n",
       "      <td id=\"T_a0b77_row52_col6\" class=\"data row52 col6\" >00:22.059</td>\n",
       "      <td id=\"T_a0b77_row52_col7\" class=\"data row52 col7\" >2024-04-06 06:10:50.077000</td>\n",
       "    </tr>\n",
       "    <tr>\n",
       "      <th id=\"T_a0b77_level0_row53\" class=\"row_heading level0 row53\" >53</th>\n",
       "      <td id=\"T_a0b77_row53_col0\" class=\"data row53 col0\" >ALO</td>\n",
       "      <td id=\"T_a0b77_row53_col1\" class=\"data row53 col1\" >Attack Lap</td>\n",
       "      <td id=\"T_a0b77_row53_col2\" class=\"data row53 col2\" >01:29.081</td>\n",
       "      <td id=\"T_a0b77_row53_col3\" class=\"data row53 col3\" >2</td>\n",
       "      <td id=\"T_a0b77_row53_col4\" class=\"data row53 col4\" >00:31.141</td>\n",
       "      <td id=\"T_a0b77_row53_col5\" class=\"data row53 col5\" >00:40.179</td>\n",
       "      <td id=\"T_a0b77_row53_col6\" class=\"data row53 col6\" >00:17.760</td>\n",
       "      <td id=\"T_a0b77_row53_col7\" class=\"data row53 col7\" >2024-04-06 06:29:05.972000</td>\n",
       "    </tr>\n",
       "    <tr>\n",
       "      <th id=\"T_a0b77_level0_row54\" class=\"row_heading level0 row54\" >54</th>\n",
       "      <td id=\"T_a0b77_row54_col0\" class=\"data row54 col0\" >ALO</td>\n",
       "      <td id=\"T_a0b77_row54_col1\" class=\"data row54 col1\" >InLap</td>\n",
       "      <td id=\"T_a0b77_row54_col2\" class=\"data row54 col2\" >02:03.591</td>\n",
       "      <td id=\"T_a0b77_row54_col3\" class=\"data row54 col3\" >2</td>\n",
       "      <td id=\"T_a0b77_row54_col4\" class=\"data row54 col4\" >00:43.174</td>\n",
       "      <td id=\"T_a0b77_row54_col5\" class=\"data row54 col5\" >00:52.692</td>\n",
       "      <td id=\"T_a0b77_row54_col6\" class=\"data row54 col6\" >00:27.725</td>\n",
       "      <td id=\"T_a0b77_row54_col7\" class=\"data row54 col7\" >2024-04-06 06:30:35.054000</td>\n",
       "    </tr>\n",
       "    <tr>\n",
       "      <th id=\"T_a0b77_level0_row55\" class=\"row_heading level0 row55\" >55</th>\n",
       "      <td id=\"T_a0b77_row55_col0\" class=\"data row55 col0\" >ALO</td>\n",
       "      <td id=\"T_a0b77_row55_col1\" class=\"data row55 col1\" >OutLap</td>\n",
       "      <td id=\"T_a0b77_row55_col2\" class=\"data row55 col2\" ></td>\n",
       "      <td id=\"T_a0b77_row55_col3\" class=\"data row55 col3\" >3</td>\n",
       "      <td id=\"T_a0b77_row55_col4\" class=\"data row55 col4\" ></td>\n",
       "      <td id=\"T_a0b77_row55_col5\" class=\"data row55 col5\" >00:51.798</td>\n",
       "      <td id=\"T_a0b77_row55_col6\" class=\"data row55 col6\" >00:22.120</td>\n",
       "      <td id=\"T_a0b77_row55_col7\" class=\"data row55 col7\" >2024-04-06 06:32:38.646000</td>\n",
       "    </tr>\n",
       "    <tr>\n",
       "      <th id=\"T_a0b77_level0_row56\" class=\"row_heading level0 row56\" >56</th>\n",
       "      <td id=\"T_a0b77_row56_col0\" class=\"data row56 col0\" >ALO</td>\n",
       "      <td id=\"T_a0b77_row56_col1\" class=\"data row56 col1\" >Attack Lap</td>\n",
       "      <td id=\"T_a0b77_row56_col2\" class=\"data row56 col2\" >01:28.849</td>\n",
       "      <td id=\"T_a0b77_row56_col3\" class=\"data row56 col3\" >3</td>\n",
       "      <td id=\"T_a0b77_row56_col4\" class=\"data row56 col4\" >00:31.039</td>\n",
       "      <td id=\"T_a0b77_row56_col5\" class=\"data row56 col5\" >00:40.098</td>\n",
       "      <td id=\"T_a0b77_row56_col6\" class=\"data row56 col6\" >00:17.710</td>\n",
       "      <td id=\"T_a0b77_row56_col7\" class=\"data row56 col7\" >2024-04-06 06:50:44.702000</td>\n",
       "    </tr>\n",
       "    <tr>\n",
       "      <th id=\"T_a0b77_level0_row57\" class=\"row_heading level0 row57\" >57</th>\n",
       "      <td id=\"T_a0b77_row57_col0\" class=\"data row57 col0\" >ALO</td>\n",
       "      <td id=\"T_a0b77_row57_col1\" class=\"data row57 col1\" >InLap</td>\n",
       "      <td id=\"T_a0b77_row57_col2\" class=\"data row57 col2\" >02:01.194</td>\n",
       "      <td id=\"T_a0b77_row57_col3\" class=\"data row57 col3\" >3</td>\n",
       "      <td id=\"T_a0b77_row57_col4\" class=\"data row57 col4\" >00:42.156</td>\n",
       "      <td id=\"T_a0b77_row57_col5\" class=\"data row57 col5\" >00:50.502</td>\n",
       "      <td id=\"T_a0b77_row57_col6\" class=\"data row57 col6\" >00:28.535</td>\n",
       "      <td id=\"T_a0b77_row57_col7\" class=\"data row57 col7\" >2024-04-06 06:52:13.551000</td>\n",
       "    </tr>\n",
       "    <tr>\n",
       "      <th id=\"T_a0b77_level0_row58\" class=\"row_heading level0 row58\" >58</th>\n",
       "      <td id=\"T_a0b77_row58_col0\" class=\"data row58 col0\" >ALO</td>\n",
       "      <td id=\"T_a0b77_row58_col1\" class=\"data row58 col1\" >OutLap</td>\n",
       "      <td id=\"T_a0b77_row58_col2\" class=\"data row58 col2\" ></td>\n",
       "      <td id=\"T_a0b77_row58_col3\" class=\"data row58 col3\" >4</td>\n",
       "      <td id=\"T_a0b77_row58_col4\" class=\"data row58 col4\" ></td>\n",
       "      <td id=\"T_a0b77_row58_col5\" class=\"data row58 col5\" >00:51.737</td>\n",
       "      <td id=\"T_a0b77_row58_col6\" class=\"data row58 col6\" >00:21.702</td>\n",
       "      <td id=\"T_a0b77_row58_col7\" class=\"data row58 col7\" >2024-04-06 06:54:14.745000</td>\n",
       "    </tr>\n",
       "    <tr>\n",
       "      <th id=\"T_a0b77_level0_row59\" class=\"row_heading level0 row59\" >59</th>\n",
       "      <td id=\"T_a0b77_row59_col0\" class=\"data row59 col0\" >ALO</td>\n",
       "      <td id=\"T_a0b77_row59_col1\" class=\"data row59 col1\" >Attack Lap</td>\n",
       "      <td id=\"T_a0b77_row59_col2\" class=\"data row59 col2\" >01:28.686</td>\n",
       "      <td id=\"T_a0b77_row59_col3\" class=\"data row59 col3\" >4</td>\n",
       "      <td id=\"T_a0b77_row59_col4\" class=\"data row59 col4\" >00:30.963</td>\n",
       "      <td id=\"T_a0b77_row59_col5\" class=\"data row59 col5\" >00:40.027</td>\n",
       "      <td id=\"T_a0b77_row59_col6\" class=\"data row59 col6\" >00:17.695</td>\n",
       "      <td id=\"T_a0b77_row59_col7\" class=\"data row59 col7\" >2024-04-06 06:58:51.275000</td>\n",
       "    </tr>\n",
       "    <tr>\n",
       "      <th id=\"T_a0b77_level0_row60\" class=\"row_heading level0 row60\" >60</th>\n",
       "      <td id=\"T_a0b77_row60_col0\" class=\"data row60 col0\" >ALO</td>\n",
       "      <td id=\"T_a0b77_row60_col1\" class=\"data row60 col1\" >InLap</td>\n",
       "      <td id=\"T_a0b77_row60_col2\" class=\"data row60 col2\" >02:09.169</td>\n",
       "      <td id=\"T_a0b77_row60_col3\" class=\"data row60 col3\" >4</td>\n",
       "      <td id=\"T_a0b77_row60_col4\" class=\"data row60 col4\" >00:41.728</td>\n",
       "      <td id=\"T_a0b77_row60_col5\" class=\"data row60 col5\" >00:51.902</td>\n",
       "      <td id=\"T_a0b77_row60_col6\" class=\"data row60 col6\" >00:35.539</td>\n",
       "      <td id=\"T_a0b77_row60_col7\" class=\"data row60 col7\" >2024-04-06 07:00:19.961000</td>\n",
       "    </tr>\n",
       "    <tr>\n",
       "      <th id=\"T_a0b77_level0_row61\" class=\"row_heading level0 row61\" >61</th>\n",
       "      <td id=\"T_a0b77_row61_col0\" class=\"data row61 col0\" >PIA</td>\n",
       "      <td id=\"T_a0b77_row61_col1\" class=\"data row61 col1\" >OutLap</td>\n",
       "      <td id=\"T_a0b77_row61_col2\" class=\"data row61 col2\" ></td>\n",
       "      <td id=\"T_a0b77_row61_col3\" class=\"data row61 col3\" >1</td>\n",
       "      <td id=\"T_a0b77_row61_col4\" class=\"data row61 col4\" ></td>\n",
       "      <td id=\"T_a0b77_row61_col5\" class=\"data row61 col5\" >00:50.567</td>\n",
       "      <td id=\"T_a0b77_row61_col6\" class=\"data row61 col6\" >00:24.483</td>\n",
       "      <td id=\"T_a0b77_row61_col7\" class=\"data row61 col7\" >2024-04-06 06:04:49.866000</td>\n",
       "    </tr>\n",
       "    <tr>\n",
       "      <th id=\"T_a0b77_level0_row62\" class=\"row_heading level0 row62\" >62</th>\n",
       "      <td id=\"T_a0b77_row62_col0\" class=\"data row62 col0\" >PIA</td>\n",
       "      <td id=\"T_a0b77_row62_col1\" class=\"data row62 col1\" >Attack Lap</td>\n",
       "      <td id=\"T_a0b77_row62_col2\" class=\"data row62 col2\" >01:29.424</td>\n",
       "      <td id=\"T_a0b77_row62_col3\" class=\"data row62 col3\" >1</td>\n",
       "      <td id=\"T_a0b77_row62_col4\" class=\"data row62 col4\" >00:31.253</td>\n",
       "      <td id=\"T_a0b77_row62_col5\" class=\"data row62 col5\" >00:40.366</td>\n",
       "      <td id=\"T_a0b77_row62_col6\" class=\"data row62 col6\" >00:17.804</td>\n",
       "      <td id=\"T_a0b77_row62_col7\" class=\"data row62 col7\" >2024-04-06 06:06:57.442000</td>\n",
       "    </tr>\n",
       "    <tr>\n",
       "      <th id=\"T_a0b77_level0_row63\" class=\"row_heading level0 row63\" >63</th>\n",
       "      <td id=\"T_a0b77_row63_col0\" class=\"data row63 col0\" >PIA</td>\n",
       "      <td id=\"T_a0b77_row63_col1\" class=\"data row63 col1\" >InLap</td>\n",
       "      <td id=\"T_a0b77_row63_col2\" class=\"data row63 col2\" >01:59.667</td>\n",
       "      <td id=\"T_a0b77_row63_col3\" class=\"data row63 col3\" >1</td>\n",
       "      <td id=\"T_a0b77_row63_col4\" class=\"data row63 col4\" >00:40.929</td>\n",
       "      <td id=\"T_a0b77_row63_col5\" class=\"data row63 col5\" >00:52.554</td>\n",
       "      <td id=\"T_a0b77_row63_col6\" class=\"data row63 col6\" >00:26.182</td>\n",
       "      <td id=\"T_a0b77_row63_col7\" class=\"data row63 col7\" >2024-04-06 06:08:26.867000</td>\n",
       "    </tr>\n",
       "    <tr>\n",
       "      <th id=\"T_a0b77_level0_row64\" class=\"row_heading level0 row64\" >64</th>\n",
       "      <td id=\"T_a0b77_row64_col0\" class=\"data row64 col0\" >PIA</td>\n",
       "      <td id=\"T_a0b77_row64_col1\" class=\"data row64 col1\" >OutLap</td>\n",
       "      <td id=\"T_a0b77_row64_col2\" class=\"data row64 col2\" ></td>\n",
       "      <td id=\"T_a0b77_row64_col3\" class=\"data row64 col3\" >2</td>\n",
       "      <td id=\"T_a0b77_row64_col4\" class=\"data row64 col4\" ></td>\n",
       "      <td id=\"T_a0b77_row64_col5\" class=\"data row64 col5\" >00:49.280</td>\n",
       "      <td id=\"T_a0b77_row64_col6\" class=\"data row64 col6\" >00:24.390</td>\n",
       "      <td id=\"T_a0b77_row64_col7\" class=\"data row64 col7\" >2024-04-06 06:10:26.534000</td>\n",
       "    </tr>\n",
       "    <tr>\n",
       "      <th id=\"T_a0b77_level0_row65\" class=\"row_heading level0 row65\" >65</th>\n",
       "      <td id=\"T_a0b77_row65_col0\" class=\"data row65 col0\" >PIA</td>\n",
       "      <td id=\"T_a0b77_row65_col1\" class=\"data row65 col1\" >Attack Lap</td>\n",
       "      <td id=\"T_a0b77_row65_col2\" class=\"data row65 col2\" >01:29.147</td>\n",
       "      <td id=\"T_a0b77_row65_col3\" class=\"data row65 col3\" >2</td>\n",
       "      <td id=\"T_a0b77_row65_col4\" class=\"data row65 col4\" >00:31.019</td>\n",
       "      <td id=\"T_a0b77_row65_col5\" class=\"data row65 col5\" >00:40.271</td>\n",
       "      <td id=\"T_a0b77_row65_col6\" class=\"data row65 col6\" >00:17.856</td>\n",
       "      <td id=\"T_a0b77_row65_col7\" class=\"data row65 col7\" >2024-04-06 06:28:48.906000</td>\n",
       "    </tr>\n",
       "    <tr>\n",
       "      <th id=\"T_a0b77_level0_row66\" class=\"row_heading level0 row66\" >66</th>\n",
       "      <td id=\"T_a0b77_row66_col0\" class=\"data row66 col0\" >PIA</td>\n",
       "      <td id=\"T_a0b77_row66_col1\" class=\"data row66 col1\" >InLap</td>\n",
       "      <td id=\"T_a0b77_row66_col2\" class=\"data row66 col2\" >01:55.197</td>\n",
       "      <td id=\"T_a0b77_row66_col3\" class=\"data row66 col3\" >2</td>\n",
       "      <td id=\"T_a0b77_row66_col4\" class=\"data row66 col4\" >00:41.517</td>\n",
       "      <td id=\"T_a0b77_row66_col5\" class=\"data row66 col5\" >00:50.304</td>\n",
       "      <td id=\"T_a0b77_row66_col6\" class=\"data row66 col6\" >00:23.375</td>\n",
       "      <td id=\"T_a0b77_row66_col7\" class=\"data row66 col7\" >2024-04-06 06:30:18.054000</td>\n",
       "    </tr>\n",
       "    <tr>\n",
       "      <th id=\"T_a0b77_level0_row67\" class=\"row_heading level0 row67\" >67</th>\n",
       "      <td id=\"T_a0b77_row67_col0\" class=\"data row67 col0\" >PIA</td>\n",
       "      <td id=\"T_a0b77_row67_col1\" class=\"data row67 col1\" >OutLap</td>\n",
       "      <td id=\"T_a0b77_row67_col2\" class=\"data row67 col2\" ></td>\n",
       "      <td id=\"T_a0b77_row67_col3\" class=\"data row67 col3\" >3</td>\n",
       "      <td id=\"T_a0b77_row67_col4\" class=\"data row67 col4\" ></td>\n",
       "      <td id=\"T_a0b77_row67_col5\" class=\"data row67 col5\" >00:51.692</td>\n",
       "      <td id=\"T_a0b77_row67_col6\" class=\"data row67 col6\" >00:25.800</td>\n",
       "      <td id=\"T_a0b77_row67_col7\" class=\"data row67 col7\" >2024-04-06 06:32:13.251000</td>\n",
       "    </tr>\n",
       "    <tr>\n",
       "      <th id=\"T_a0b77_level0_row68\" class=\"row_heading level0 row68\" >68</th>\n",
       "      <td id=\"T_a0b77_row68_col0\" class=\"data row68 col0\" >PIA</td>\n",
       "      <td id=\"T_a0b77_row68_col1\" class=\"data row68 col1\" >Attack Lap</td>\n",
       "      <td id=\"T_a0b77_row68_col2\" class=\"data row68 col2\" >01:28.760</td>\n",
       "      <td id=\"T_a0b77_row68_col3\" class=\"data row68 col3\" >3</td>\n",
       "      <td id=\"T_a0b77_row68_col4\" class=\"data row68 col4\" >00:30.836</td>\n",
       "      <td id=\"T_a0b77_row68_col5\" class=\"data row68 col5\" >00:40.226</td>\n",
       "      <td id=\"T_a0b77_row68_col6\" class=\"data row68 col6\" >00:17.696</td>\n",
       "      <td id=\"T_a0b77_row68_col7\" class=\"data row68 col7\" >2024-04-06 06:51:02.065000</td>\n",
       "    </tr>\n",
       "    <tr>\n",
       "      <th id=\"T_a0b77_level0_row69\" class=\"row_heading level0 row69\" >69</th>\n",
       "      <td id=\"T_a0b77_row69_col0\" class=\"data row69 col0\" >PIA</td>\n",
       "      <td id=\"T_a0b77_row69_col1\" class=\"data row69 col1\" >InLap</td>\n",
       "      <td id=\"T_a0b77_row69_col2\" class=\"data row69 col2\" >01:52.510</td>\n",
       "      <td id=\"T_a0b77_row69_col3\" class=\"data row69 col3\" >3</td>\n",
       "      <td id=\"T_a0b77_row69_col4\" class=\"data row69 col4\" >00:39.137</td>\n",
       "      <td id=\"T_a0b77_row69_col5\" class=\"data row69 col5\" >00:48.030</td>\n",
       "      <td id=\"T_a0b77_row69_col6\" class=\"data row69 col6\" >00:25.343</td>\n",
       "      <td id=\"T_a0b77_row69_col7\" class=\"data row69 col7\" >2024-04-06 06:52:30.825000</td>\n",
       "    </tr>\n",
       "    <tr>\n",
       "      <th id=\"T_a0b77_level0_row70\" class=\"row_heading level0 row70\" >70</th>\n",
       "      <td id=\"T_a0b77_row70_col0\" class=\"data row70 col0\" >PIA</td>\n",
       "      <td id=\"T_a0b77_row70_col1\" class=\"data row70 col1\" >OutLap</td>\n",
       "      <td id=\"T_a0b77_row70_col2\" class=\"data row70 col2\" ></td>\n",
       "      <td id=\"T_a0b77_row70_col3\" class=\"data row70 col3\" >4</td>\n",
       "      <td id=\"T_a0b77_row70_col4\" class=\"data row70 col4\" ></td>\n",
       "      <td id=\"T_a0b77_row70_col5\" class=\"data row70 col5\" >00:51.042</td>\n",
       "      <td id=\"T_a0b77_row70_col6\" class=\"data row70 col6\" >00:23.161</td>\n",
       "      <td id=\"T_a0b77_row70_col7\" class=\"data row70 col7\" >2024-04-06 06:54:23.336000</td>\n",
       "    </tr>\n",
       "    <tr>\n",
       "      <th id=\"T_a0b77_level0_row71\" class=\"row_heading level0 row71\" >71</th>\n",
       "      <td id=\"T_a0b77_row71_col0\" class=\"data row71 col0\" >PIA</td>\n",
       "      <td id=\"T_a0b77_row71_col1\" class=\"data row71 col1\" >Attack Lap</td>\n",
       "      <td id=\"T_a0b77_row71_col2\" class=\"data row71 col2\" >01:29.015</td>\n",
       "      <td id=\"T_a0b77_row71_col3\" class=\"data row71 col3\" >4</td>\n",
       "      <td id=\"T_a0b77_row71_col4\" class=\"data row71 col4\" >00:30.923</td>\n",
       "      <td id=\"T_a0b77_row71_col5\" class=\"data row71 col5\" >00:40.235</td>\n",
       "      <td id=\"T_a0b77_row71_col6\" class=\"data row71 col6\" >00:17.856</td>\n",
       "      <td id=\"T_a0b77_row71_col7\" class=\"data row71 col7\" >2024-04-06 06:59:08.432000</td>\n",
       "    </tr>\n",
       "    <tr>\n",
       "      <th id=\"T_a0b77_level0_row72\" class=\"row_heading level0 row72\" >72</th>\n",
       "      <td id=\"T_a0b77_row72_col0\" class=\"data row72 col0\" >PIA</td>\n",
       "      <td id=\"T_a0b77_row72_col1\" class=\"data row72 col1\" >InLap</td>\n",
       "      <td id=\"T_a0b77_row72_col2\" class=\"data row72 col2\" >02:07.111</td>\n",
       "      <td id=\"T_a0b77_row72_col3\" class=\"data row72 col3\" >4</td>\n",
       "      <td id=\"T_a0b77_row72_col4\" class=\"data row72 col4\" >00:39.603</td>\n",
       "      <td id=\"T_a0b77_row72_col5\" class=\"data row72 col5\" >00:51.558</td>\n",
       "      <td id=\"T_a0b77_row72_col6\" class=\"data row72 col6\" >00:35.948</td>\n",
       "      <td id=\"T_a0b77_row72_col7\" class=\"data row72 col7\" >2024-04-06 07:00:37.447000</td>\n",
       "    </tr>\n",
       "    <tr>\n",
       "      <th id=\"T_a0b77_level0_row73\" class=\"row_heading level0 row73\" >73</th>\n",
       "      <td id=\"T_a0b77_row73_col0\" class=\"data row73 col0\" >HAM</td>\n",
       "      <td id=\"T_a0b77_row73_col1\" class=\"data row73 col1\" >OutLap</td>\n",
       "      <td id=\"T_a0b77_row73_col2\" class=\"data row73 col2\" ></td>\n",
       "      <td id=\"T_a0b77_row73_col3\" class=\"data row73 col3\" >1</td>\n",
       "      <td id=\"T_a0b77_row73_col4\" class=\"data row73 col4\" ></td>\n",
       "      <td id=\"T_a0b77_row73_col5\" class=\"data row73 col5\" >00:52.125</td>\n",
       "      <td id=\"T_a0b77_row73_col6\" class=\"data row73 col6\" >00:21.774</td>\n",
       "      <td id=\"T_a0b77_row73_col7\" class=\"data row73 col7\" >2024-04-06 06:04:31.565000</td>\n",
       "    </tr>\n",
       "    <tr>\n",
       "      <th id=\"T_a0b77_level0_row74\" class=\"row_heading level0 row74\" >74</th>\n",
       "      <td id=\"T_a0b77_row74_col0\" class=\"data row74 col0\" >HAM</td>\n",
       "      <td id=\"T_a0b77_row74_col1\" class=\"data row74 col1\" >Attack Lap</td>\n",
       "      <td id=\"T_a0b77_row74_col2\" class=\"data row74 col2\" >01:29.661</td>\n",
       "      <td id=\"T_a0b77_row74_col3\" class=\"data row74 col3\" >1</td>\n",
       "      <td id=\"T_a0b77_row74_col4\" class=\"data row74 col4\" >00:31.408</td>\n",
       "      <td id=\"T_a0b77_row74_col5\" class=\"data row74 col5\" >00:40.426</td>\n",
       "      <td id=\"T_a0b77_row74_col6\" class=\"data row74 col6\" >00:17.826</td>\n",
       "      <td id=\"T_a0b77_row74_col7\" class=\"data row74 col7\" >2024-04-06 06:06:40.829000</td>\n",
       "    </tr>\n",
       "    <tr>\n",
       "      <th id=\"T_a0b77_level0_row75\" class=\"row_heading level0 row75\" >75</th>\n",
       "      <td id=\"T_a0b77_row75_col0\" class=\"data row75 col0\" >HAM</td>\n",
       "      <td id=\"T_a0b77_row75_col1\" class=\"data row75 col1\" >InLap</td>\n",
       "      <td id=\"T_a0b77_row75_col2\" class=\"data row75 col2\" >02:02.995</td>\n",
       "      <td id=\"T_a0b77_row75_col3\" class=\"data row75 col3\" >1</td>\n",
       "      <td id=\"T_a0b77_row75_col4\" class=\"data row75 col4\" >00:41.426</td>\n",
       "      <td id=\"T_a0b77_row75_col5\" class=\"data row75 col5\" >00:52.783</td>\n",
       "      <td id=\"T_a0b77_row75_col6\" class=\"data row75 col6\" >00:28.785</td>\n",
       "      <td id=\"T_a0b77_row75_col7\" class=\"data row75 col7\" >2024-04-06 06:08:10.490000</td>\n",
       "    </tr>\n",
       "    <tr>\n",
       "      <th id=\"T_a0b77_level0_row76\" class=\"row_heading level0 row76\" >76</th>\n",
       "      <td id=\"T_a0b77_row76_col0\" class=\"data row76 col0\" >HAM</td>\n",
       "      <td id=\"T_a0b77_row76_col1\" class=\"data row76 col1\" >OutLap</td>\n",
       "      <td id=\"T_a0b77_row76_col2\" class=\"data row76 col2\" ></td>\n",
       "      <td id=\"T_a0b77_row76_col3\" class=\"data row76 col3\" >2</td>\n",
       "      <td id=\"T_a0b77_row76_col4\" class=\"data row76 col4\" ></td>\n",
       "      <td id=\"T_a0b77_row76_col5\" class=\"data row76 col5\" >00:53.174</td>\n",
       "      <td id=\"T_a0b77_row76_col6\" class=\"data row76 col6\" >00:20.914</td>\n",
       "      <td id=\"T_a0b77_row76_col7\" class=\"data row76 col7\" >2024-04-06 06:10:13.486000</td>\n",
       "    </tr>\n",
       "    <tr>\n",
       "      <th id=\"T_a0b77_level0_row77\" class=\"row_heading level0 row77\" >77</th>\n",
       "      <td id=\"T_a0b77_row77_col0\" class=\"data row77 col0\" >HAM</td>\n",
       "      <td id=\"T_a0b77_row77_col1\" class=\"data row77 col1\" >Attack Lap</td>\n",
       "      <td id=\"T_a0b77_row77_col2\" class=\"data row77 col2\" >01:29.805</td>\n",
       "      <td id=\"T_a0b77_row77_col3\" class=\"data row77 col3\" >2</td>\n",
       "      <td id=\"T_a0b77_row77_col4\" class=\"data row77 col4\" >00:31.524</td>\n",
       "      <td id=\"T_a0b77_row77_col5\" class=\"data row77 col5\" >00:40.506</td>\n",
       "      <td id=\"T_a0b77_row77_col6\" class=\"data row77 col6\" >00:17.774</td>\n",
       "      <td id=\"T_a0b77_row77_col7\" class=\"data row77 col7\" >2024-04-06 06:29:17.251000</td>\n",
       "    </tr>\n",
       "    <tr>\n",
       "      <th id=\"T_a0b77_level0_row78\" class=\"row_heading level0 row78\" >78</th>\n",
       "      <td id=\"T_a0b77_row78_col0\" class=\"data row78 col0\" >HAM</td>\n",
       "      <td id=\"T_a0b77_row78_col1\" class=\"data row78 col1\" >InLap</td>\n",
       "      <td id=\"T_a0b77_row78_col2\" class=\"data row78 col2\" >01:42.826</td>\n",
       "      <td id=\"T_a0b77_row78_col3\" class=\"data row78 col3\" >2</td>\n",
       "      <td id=\"T_a0b77_row78_col4\" class=\"data row78 col4\" >00:35.137</td>\n",
       "      <td id=\"T_a0b77_row78_col5\" class=\"data row78 col5\" >00:45.070</td>\n",
       "      <td id=\"T_a0b77_row78_col6\" class=\"data row78 col6\" >00:22.620</td>\n",
       "      <td id=\"T_a0b77_row78_col7\" class=\"data row78 col7\" >2024-04-06 06:30:47.056000</td>\n",
       "    </tr>\n",
       "    <tr>\n",
       "      <th id=\"T_a0b77_level0_row79\" class=\"row_heading level0 row79\" >79</th>\n",
       "      <td id=\"T_a0b77_row79_col0\" class=\"data row79 col0\" >HAM</td>\n",
       "      <td id=\"T_a0b77_row79_col1\" class=\"data row79 col1\" >OutLap</td>\n",
       "      <td id=\"T_a0b77_row79_col2\" class=\"data row79 col2\" ></td>\n",
       "      <td id=\"T_a0b77_row79_col3\" class=\"data row79 col3\" >3</td>\n",
       "      <td id=\"T_a0b77_row79_col4\" class=\"data row79 col4\" ></td>\n",
       "      <td id=\"T_a0b77_row79_col5\" class=\"data row79 col5\" >00:53.768</td>\n",
       "      <td id=\"T_a0b77_row79_col6\" class=\"data row79 col6\" >00:20.978</td>\n",
       "      <td id=\"T_a0b77_row79_col7\" class=\"data row79 col7\" >2024-04-06 06:32:29.883000</td>\n",
       "    </tr>\n",
       "    <tr>\n",
       "      <th id=\"T_a0b77_level0_row80\" class=\"row_heading level0 row80\" >80</th>\n",
       "      <td id=\"T_a0b77_row80_col0\" class=\"data row80 col0\" >HAM</td>\n",
       "      <td id=\"T_a0b77_row80_col1\" class=\"data row80 col1\" >Attack Lap</td>\n",
       "      <td id=\"T_a0b77_row80_col2\" class=\"data row80 col2\" >01:28.887</td>\n",
       "      <td id=\"T_a0b77_row80_col3\" class=\"data row80 col3\" >3</td>\n",
       "      <td id=\"T_a0b77_row80_col4\" class=\"data row80 col4\" >00:31.109</td>\n",
       "      <td id=\"T_a0b77_row80_col5\" class=\"data row80 col5\" >00:40.049</td>\n",
       "      <td id=\"T_a0b77_row80_col6\" class=\"data row80 col6\" >00:17.727</td>\n",
       "      <td id=\"T_a0b77_row80_col7\" class=\"data row80 col7\" >2024-04-06 06:38:12.902000</td>\n",
       "    </tr>\n",
       "    <tr>\n",
       "      <th id=\"T_a0b77_level0_row81\" class=\"row_heading level0 row81\" >81</th>\n",
       "      <td id=\"T_a0b77_row81_col0\" class=\"data row81 col0\" >HAM</td>\n",
       "      <td id=\"T_a0b77_row81_col1\" class=\"data row81 col1\" >InLap</td>\n",
       "      <td id=\"T_a0b77_row81_col2\" class=\"data row81 col2\" >01:56.150</td>\n",
       "      <td id=\"T_a0b77_row81_col3\" class=\"data row81 col3\" >3</td>\n",
       "      <td id=\"T_a0b77_row81_col4\" class=\"data row81 col4\" >00:40.834</td>\n",
       "      <td id=\"T_a0b77_row81_col5\" class=\"data row81 col5\" >00:49.595</td>\n",
       "      <td id=\"T_a0b77_row81_col6\" class=\"data row81 col6\" >00:25.719</td>\n",
       "      <td id=\"T_a0b77_row81_col7\" class=\"data row81 col7\" >2024-04-06 06:39:41.789000</td>\n",
       "    </tr>\n",
       "    <tr>\n",
       "      <th id=\"T_a0b77_level0_row82\" class=\"row_heading level0 row82\" >82</th>\n",
       "      <td id=\"T_a0b77_row82_col0\" class=\"data row82 col0\" >HAM</td>\n",
       "      <td id=\"T_a0b77_row82_col1\" class=\"data row82 col1\" >OutLap</td>\n",
       "      <td id=\"T_a0b77_row82_col2\" class=\"data row82 col2\" ></td>\n",
       "      <td id=\"T_a0b77_row82_col3\" class=\"data row82 col3\" >4</td>\n",
       "      <td id=\"T_a0b77_row82_col4\" class=\"data row82 col4\" ></td>\n",
       "      <td id=\"T_a0b77_row82_col5\" class=\"data row82 col5\" >00:54.539</td>\n",
       "      <td id=\"T_a0b77_row82_col6\" class=\"data row82 col6\" >00:20.381</td>\n",
       "      <td id=\"T_a0b77_row82_col7\" class=\"data row82 col7\" >2024-04-06 06:41:37.939000</td>\n",
       "    </tr>\n",
       "    <tr>\n",
       "      <th id=\"T_a0b77_level0_row83\" class=\"row_heading level0 row83\" >83</th>\n",
       "      <td id=\"T_a0b77_row83_col0\" class=\"data row83 col0\" >HAM</td>\n",
       "      <td id=\"T_a0b77_row83_col1\" class=\"data row83 col1\" >Attack Lap</td>\n",
       "      <td id=\"T_a0b77_row83_col2\" class=\"data row83 col2\" >01:28.766</td>\n",
       "      <td id=\"T_a0b77_row83_col3\" class=\"data row83 col3\" >4</td>\n",
       "      <td id=\"T_a0b77_row83_col4\" class=\"data row83 col4\" >00:30.914</td>\n",
       "      <td id=\"T_a0b77_row83_col5\" class=\"data row83 col5\" >00:40.155</td>\n",
       "      <td id=\"T_a0b77_row83_col6\" class=\"data row83 col6\" >00:17.695</td>\n",
       "      <td id=\"T_a0b77_row83_col7\" class=\"data row83 col7\" >2024-04-06 06:50:03.107000</td>\n",
       "    </tr>\n",
       "    <tr>\n",
       "      <th id=\"T_a0b77_level0_row84\" class=\"row_heading level0 row84\" >84</th>\n",
       "      <td id=\"T_a0b77_row84_col0\" class=\"data row84 col0\" >HAM</td>\n",
       "      <td id=\"T_a0b77_row84_col1\" class=\"data row84 col1\" >InLap</td>\n",
       "      <td id=\"T_a0b77_row84_col2\" class=\"data row84 col2\" >01:47.371</td>\n",
       "      <td id=\"T_a0b77_row84_col3\" class=\"data row84 col3\" >4</td>\n",
       "      <td id=\"T_a0b77_row84_col4\" class=\"data row84 col4\" >00:35.438</td>\n",
       "      <td id=\"T_a0b77_row84_col5\" class=\"data row84 col5\" >00:47.125</td>\n",
       "      <td id=\"T_a0b77_row84_col6\" class=\"data row84 col6\" >00:24.807</td>\n",
       "      <td id=\"T_a0b77_row84_col7\" class=\"data row84 col7\" >2024-04-06 06:51:31.873000</td>\n",
       "    </tr>\n",
       "    <tr>\n",
       "      <th id=\"T_a0b77_level0_row85\" class=\"row_heading level0 row85\" >85</th>\n",
       "      <td id=\"T_a0b77_row85_col0\" class=\"data row85 col0\" >HAM</td>\n",
       "      <td id=\"T_a0b77_row85_col1\" class=\"data row85 col1\" >OutLap</td>\n",
       "      <td id=\"T_a0b77_row85_col2\" class=\"data row85 col2\" ></td>\n",
       "      <td id=\"T_a0b77_row85_col3\" class=\"data row85 col3\" >5</td>\n",
       "      <td id=\"T_a0b77_row85_col4\" class=\"data row85 col4\" ></td>\n",
       "      <td id=\"T_a0b77_row85_col5\" class=\"data row85 col5\" >00:53.159</td>\n",
       "      <td id=\"T_a0b77_row85_col6\" class=\"data row85 col6\" >00:20.376</td>\n",
       "      <td id=\"T_a0b77_row85_col7\" class=\"data row85 col7\" >2024-04-06 06:53:19.245000</td>\n",
       "    </tr>\n",
       "    <tr>\n",
       "      <th id=\"T_a0b77_level0_row86\" class=\"row_heading level0 row86\" >86</th>\n",
       "      <td id=\"T_a0b77_row86_col0\" class=\"data row86 col0\" >HAM</td>\n",
       "      <td id=\"T_a0b77_row86_col1\" class=\"data row86 col1\" >Attack Lap</td>\n",
       "      <td id=\"T_a0b77_row86_col2\" class=\"data row86 col2\" >01:28.873</td>\n",
       "      <td id=\"T_a0b77_row86_col3\" class=\"data row86 col3\" >5</td>\n",
       "      <td id=\"T_a0b77_row86_col4\" class=\"data row86 col4\" >00:31.092</td>\n",
       "      <td id=\"T_a0b77_row86_col5\" class=\"data row86 col5\" >00:40.008</td>\n",
       "      <td id=\"T_a0b77_row86_col6\" class=\"data row86 col6\" >00:17.771</td>\n",
       "      <td id=\"T_a0b77_row86_col7\" class=\"data row86 col7\" >2024-04-06 06:59:23.567000</td>\n",
       "    </tr>\n",
       "    <tr>\n",
       "      <th id=\"T_a0b77_level0_row87\" class=\"row_heading level0 row87\" >87</th>\n",
       "      <td id=\"T_a0b77_row87_col0\" class=\"data row87 col0\" >HAM</td>\n",
       "      <td id=\"T_a0b77_row87_col1\" class=\"data row87 col1\" >InLap</td>\n",
       "      <td id=\"T_a0b77_row87_col2\" class=\"data row87 col2\" >02:06.837</td>\n",
       "      <td id=\"T_a0b77_row87_col3\" class=\"data row87 col3\" >5</td>\n",
       "      <td id=\"T_a0b77_row87_col4\" class=\"data row87 col4\" >00:44.927</td>\n",
       "      <td id=\"T_a0b77_row87_col5\" class=\"data row87 col5\" >00:51.420</td>\n",
       "      <td id=\"T_a0b77_row87_col6\" class=\"data row87 col6\" >00:30.487</td>\n",
       "      <td id=\"T_a0b77_row87_col7\" class=\"data row87 col7\" >2024-04-06 07:00:52.440000</td>\n",
       "    </tr>\n",
       "    <tr>\n",
       "      <th id=\"T_a0b77_level0_row88\" class=\"row_heading level0 row88\" >88</th>\n",
       "      <td id=\"T_a0b77_row88_col0\" class=\"data row88 col0\" >LEC</td>\n",
       "      <td id=\"T_a0b77_row88_col1\" class=\"data row88 col1\" >OutLap</td>\n",
       "      <td id=\"T_a0b77_row88_col2\" class=\"data row88 col2\" ></td>\n",
       "      <td id=\"T_a0b77_row88_col3\" class=\"data row88 col3\" >1</td>\n",
       "      <td id=\"T_a0b77_row88_col4\" class=\"data row88 col4\" ></td>\n",
       "      <td id=\"T_a0b77_row88_col5\" class=\"data row88 col5\" >00:49.372</td>\n",
       "      <td id=\"T_a0b77_row88_col6\" class=\"data row88 col6\" >00:26.641</td>\n",
       "      <td id=\"T_a0b77_row88_col7\" class=\"data row88 col7\" >2024-04-06 06:04:25.699000</td>\n",
       "    </tr>\n",
       "    <tr>\n",
       "      <th id=\"T_a0b77_level0_row89\" class=\"row_heading level0 row89\" >89</th>\n",
       "      <td id=\"T_a0b77_row89_col0\" class=\"data row89 col0\" >LEC</td>\n",
       "      <td id=\"T_a0b77_row89_col1\" class=\"data row89 col1\" >Attack Lap</td>\n",
       "      <td id=\"T_a0b77_row89_col2\" class=\"data row89 col2\" >01:29.885</td>\n",
       "      <td id=\"T_a0b77_row89_col3\" class=\"data row89 col3\" >1</td>\n",
       "      <td id=\"T_a0b77_row89_col4\" class=\"data row89 col4\" >00:31.748</td>\n",
       "      <td id=\"T_a0b77_row89_col5\" class=\"data row89 col5\" >00:40.228</td>\n",
       "      <td id=\"T_a0b77_row89_col6\" class=\"data row89 col6\" >00:17.908</td>\n",
       "      <td id=\"T_a0b77_row89_col7\" class=\"data row89 col7\" >2024-04-06 06:06:25.006000</td>\n",
       "    </tr>\n",
       "    <tr>\n",
       "      <th id=\"T_a0b77_level0_row90\" class=\"row_heading level0 row90\" >90</th>\n",
       "      <td id=\"T_a0b77_row90_col0\" class=\"data row90 col0\" >LEC</td>\n",
       "      <td id=\"T_a0b77_row90_col1\" class=\"data row90 col1\" >InLap</td>\n",
       "      <td id=\"T_a0b77_row90_col2\" class=\"data row90 col2\" >01:57.572</td>\n",
       "      <td id=\"T_a0b77_row90_col3\" class=\"data row90 col3\" >1</td>\n",
       "      <td id=\"T_a0b77_row90_col4\" class=\"data row90 col4\" >00:43.917</td>\n",
       "      <td id=\"T_a0b77_row90_col5\" class=\"data row90 col5\" >00:47.969</td>\n",
       "      <td id=\"T_a0b77_row90_col6\" class=\"data row90 col6\" >00:25.686</td>\n",
       "      <td id=\"T_a0b77_row90_col7\" class=\"data row90 col7\" >2024-04-06 06:07:54.892000</td>\n",
       "    </tr>\n",
       "    <tr>\n",
       "      <th id=\"T_a0b77_level0_row91\" class=\"row_heading level0 row91\" >91</th>\n",
       "      <td id=\"T_a0b77_row91_col0\" class=\"data row91 col0\" >LEC</td>\n",
       "      <td id=\"T_a0b77_row91_col1\" class=\"data row91 col1\" >OutLap</td>\n",
       "      <td id=\"T_a0b77_row91_col2\" class=\"data row91 col2\" ></td>\n",
       "      <td id=\"T_a0b77_row91_col3\" class=\"data row91 col3\" >2</td>\n",
       "      <td id=\"T_a0b77_row91_col4\" class=\"data row91 col4\" ></td>\n",
       "      <td id=\"T_a0b77_row91_col5\" class=\"data row91 col5\" >00:46.238</td>\n",
       "      <td id=\"T_a0b77_row91_col6\" class=\"data row91 col6\" >00:20.940</td>\n",
       "      <td id=\"T_a0b77_row91_col7\" class=\"data row91 col7\" >2024-04-06 06:09:52.465000</td>\n",
       "    </tr>\n",
       "    <tr>\n",
       "      <th id=\"T_a0b77_level0_row92\" class=\"row_heading level0 row92\" >92</th>\n",
       "      <td id=\"T_a0b77_row92_col0\" class=\"data row92 col0\" >LEC</td>\n",
       "      <td id=\"T_a0b77_row92_col1\" class=\"data row92 col1\" >Attack Lap</td>\n",
       "      <td id=\"T_a0b77_row92_col2\" class=\"data row92 col2\" >01:29.337</td>\n",
       "      <td id=\"T_a0b77_row92_col3\" class=\"data row92 col3\" >2</td>\n",
       "      <td id=\"T_a0b77_row92_col4\" class=\"data row92 col4\" >00:31.452</td>\n",
       "      <td id=\"T_a0b77_row92_col5\" class=\"data row92 col5\" >00:40.084</td>\n",
       "      <td id=\"T_a0b77_row92_col6\" class=\"data row92 col6\" >00:17.801</td>\n",
       "      <td id=\"T_a0b77_row92_col7\" class=\"data row92 col7\" >2024-04-06 06:16:14.025000</td>\n",
       "    </tr>\n",
       "    <tr>\n",
       "      <th id=\"T_a0b77_level0_row93\" class=\"row_heading level0 row93\" >93</th>\n",
       "      <td id=\"T_a0b77_row93_col0\" class=\"data row93 col0\" >LEC</td>\n",
       "      <td id=\"T_a0b77_row93_col1\" class=\"data row93 col1\" >InLap</td>\n",
       "      <td id=\"T_a0b77_row93_col2\" class=\"data row93 col2\" >02:03.102</td>\n",
       "      <td id=\"T_a0b77_row93_col3\" class=\"data row93 col3\" >2</td>\n",
       "      <td id=\"T_a0b77_row93_col4\" class=\"data row93 col4\" >00:47.945</td>\n",
       "      <td id=\"T_a0b77_row93_col5\" class=\"data row93 col5\" >00:49.481</td>\n",
       "      <td id=\"T_a0b77_row93_col6\" class=\"data row93 col6\" >00:25.673</td>\n",
       "      <td id=\"T_a0b77_row93_col7\" class=\"data row93 col7\" >2024-04-06 06:17:43.363000</td>\n",
       "    </tr>\n",
       "    <tr>\n",
       "      <th id=\"T_a0b77_level0_row94\" class=\"row_heading level0 row94\" >94</th>\n",
       "      <td id=\"T_a0b77_row94_col0\" class=\"data row94 col0\" >LEC</td>\n",
       "      <td id=\"T_a0b77_row94_col1\" class=\"data row94 col1\" >OutLap</td>\n",
       "      <td id=\"T_a0b77_row94_col2\" class=\"data row94 col2\" ></td>\n",
       "      <td id=\"T_a0b77_row94_col3\" class=\"data row94 col3\" >3</td>\n",
       "      <td id=\"T_a0b77_row94_col4\" class=\"data row94 col4\" ></td>\n",
       "      <td id=\"T_a0b77_row94_col5\" class=\"data row94 col5\" >00:51.688</td>\n",
       "      <td id=\"T_a0b77_row94_col6\" class=\"data row94 col6\" >00:26.184</td>\n",
       "      <td id=\"T_a0b77_row94_col7\" class=\"data row94 col7\" >2024-04-06 06:19:46.465000</td>\n",
       "    </tr>\n",
       "    <tr>\n",
       "      <th id=\"T_a0b77_level0_row95\" class=\"row_heading level0 row95\" >95</th>\n",
       "      <td id=\"T_a0b77_row95_col0\" class=\"data row95 col0\" >LEC</td>\n",
       "      <td id=\"T_a0b77_row95_col1\" class=\"data row95 col1\" >Attack Lap</td>\n",
       "      <td id=\"T_a0b77_row95_col2\" class=\"data row95 col2\" >01:29.195</td>\n",
       "      <td id=\"T_a0b77_row95_col3\" class=\"data row95 col3\" >3</td>\n",
       "      <td id=\"T_a0b77_row95_col4\" class=\"data row95 col4\" >00:31.245</td>\n",
       "      <td id=\"T_a0b77_row95_col5\" class=\"data row95 col5\" >00:40.093</td>\n",
       "      <td id=\"T_a0b77_row95_col6\" class=\"data row95 col6\" >00:17.856</td>\n",
       "      <td id=\"T_a0b77_row95_col7\" class=\"data row95 col7\" >2024-04-06 06:30:20.043000</td>\n",
       "    </tr>\n",
       "    <tr>\n",
       "      <th id=\"T_a0b77_level0_row96\" class=\"row_heading level0 row96\" >96</th>\n",
       "      <td id=\"T_a0b77_row96_col0\" class=\"data row96 col0\" >LEC</td>\n",
       "      <td id=\"T_a0b77_row96_col1\" class=\"data row96 col1\" >InLap</td>\n",
       "      <td id=\"T_a0b77_row96_col2\" class=\"data row96 col2\" >01:55.924</td>\n",
       "      <td id=\"T_a0b77_row96_col3\" class=\"data row96 col3\" >3</td>\n",
       "      <td id=\"T_a0b77_row96_col4\" class=\"data row96 col4\" >00:43.213</td>\n",
       "      <td id=\"T_a0b77_row96_col5\" class=\"data row96 col5\" >00:48.124</td>\n",
       "      <td id=\"T_a0b77_row96_col6\" class=\"data row96 col6\" >00:24.586</td>\n",
       "      <td id=\"T_a0b77_row96_col7\" class=\"data row96 col7\" >2024-04-06 06:31:49.239000</td>\n",
       "    </tr>\n",
       "    <tr>\n",
       "      <th id=\"T_a0b77_level0_row97\" class=\"row_heading level0 row97\" >97</th>\n",
       "      <td id=\"T_a0b77_row97_col0\" class=\"data row97 col0\" >LEC</td>\n",
       "      <td id=\"T_a0b77_row97_col1\" class=\"data row97 col1\" >OutLap</td>\n",
       "      <td id=\"T_a0b77_row97_col2\" class=\"data row97 col2\" ></td>\n",
       "      <td id=\"T_a0b77_row97_col3\" class=\"data row97 col3\" >4</td>\n",
       "      <td id=\"T_a0b77_row97_col4\" class=\"data row97 col4\" ></td>\n",
       "      <td id=\"T_a0b77_row97_col5\" class=\"data row97 col5\" >00:49.310</td>\n",
       "      <td id=\"T_a0b77_row97_col6\" class=\"data row97 col6\" >00:20.233</td>\n",
       "      <td id=\"T_a0b77_row97_col7\" class=\"data row97 col7\" >2024-04-06 06:33:45.163000</td>\n",
       "    </tr>\n",
       "    <tr>\n",
       "      <th id=\"T_a0b77_level0_row98\" class=\"row_heading level0 row98\" >98</th>\n",
       "      <td id=\"T_a0b77_row98_col0\" class=\"data row98 col0\" >LEC</td>\n",
       "      <td id=\"T_a0b77_row98_col1\" class=\"data row98 col1\" >Attack Lap</td>\n",
       "      <td id=\"T_a0b77_row98_col2\" class=\"data row98 col2\" >01:28.786</td>\n",
       "      <td id=\"T_a0b77_row98_col3\" class=\"data row98 col3\" >4</td>\n",
       "      <td id=\"T_a0b77_row98_col4\" class=\"data row98 col4\" >00:31.109</td>\n",
       "      <td id=\"T_a0b77_row98_col5\" class=\"data row98 col5\" >00:39.865</td>\n",
       "      <td id=\"T_a0b77_row98_col6\" class=\"data row98 col6\" >00:17.811</td>\n",
       "      <td id=\"T_a0b77_row98_col7\" class=\"data row98 col7\" >2024-04-06 06:55:15.272000</td>\n",
       "    </tr>\n",
       "    <tr>\n",
       "      <th id=\"T_a0b77_level0_row99\" class=\"row_heading level0 row99\" >99</th>\n",
       "      <td id=\"T_a0b77_row99_col0\" class=\"data row99 col0\" >LEC</td>\n",
       "      <td id=\"T_a0b77_row99_col1\" class=\"data row99 col1\" >InLap</td>\n",
       "      <td id=\"T_a0b77_row99_col2\" class=\"data row99 col2\" >02:00.468</td>\n",
       "      <td id=\"T_a0b77_row99_col3\" class=\"data row99 col3\" >4</td>\n",
       "      <td id=\"T_a0b77_row99_col4\" class=\"data row99 col4\" >00:44.482</td>\n",
       "      <td id=\"T_a0b77_row99_col5\" class=\"data row99 col5\" >00:50.377</td>\n",
       "      <td id=\"T_a0b77_row99_col6\" class=\"data row99 col6\" >00:25.608</td>\n",
       "      <td id=\"T_a0b77_row99_col7\" class=\"data row99 col7\" >2024-04-06 06:56:44.058000</td>\n",
       "    </tr>\n",
       "    <tr>\n",
       "      <th id=\"T_a0b77_level0_row100\" class=\"row_heading level0 row100\" >100</th>\n",
       "      <td id=\"T_a0b77_row100_col0\" class=\"data row100 col0\" >RUS</td>\n",
       "      <td id=\"T_a0b77_row100_col1\" class=\"data row100 col1\" >OutLap</td>\n",
       "      <td id=\"T_a0b77_row100_col2\" class=\"data row100 col2\" ></td>\n",
       "      <td id=\"T_a0b77_row100_col3\" class=\"data row100 col3\" >1</td>\n",
       "      <td id=\"T_a0b77_row100_col4\" class=\"data row100 col4\" ></td>\n",
       "      <td id=\"T_a0b77_row100_col5\" class=\"data row100 col5\" >00:50.054</td>\n",
       "      <td id=\"T_a0b77_row100_col6\" class=\"data row100 col6\" >00:21.432</td>\n",
       "      <td id=\"T_a0b77_row100_col7\" class=\"data row100 col7\" >2024-04-06 06:04:42.046000</td>\n",
       "    </tr>\n",
       "    <tr>\n",
       "      <th id=\"T_a0b77_level0_row101\" class=\"row_heading level0 row101\" >101</th>\n",
       "      <td id=\"T_a0b77_row101_col0\" class=\"data row101 col0\" >RUS</td>\n",
       "      <td id=\"T_a0b77_row101_col1\" class=\"data row101 col1\" >Attack Lap</td>\n",
       "      <td id=\"T_a0b77_row101_col2\" class=\"data row101 col2\" >01:29.799</td>\n",
       "      <td id=\"T_a0b77_row101_col3\" class=\"data row101 col3\" >1</td>\n",
       "      <td id=\"T_a0b77_row101_col4\" class=\"data row101 col4\" >00:31.678</td>\n",
       "      <td id=\"T_a0b77_row101_col5\" class=\"data row101 col5\" >00:40.338</td>\n",
       "      <td id=\"T_a0b77_row101_col6\" class=\"data row101 col6\" >00:17.782</td>\n",
       "      <td id=\"T_a0b77_row101_col7\" class=\"data row101 col7\" >2024-04-06 06:06:48.421000</td>\n",
       "    </tr>\n",
       "    <tr>\n",
       "      <th id=\"T_a0b77_level0_row102\" class=\"row_heading level0 row102\" >102</th>\n",
       "      <td id=\"T_a0b77_row102_col0\" class=\"data row102 col0\" >RUS</td>\n",
       "      <td id=\"T_a0b77_row102_col1\" class=\"data row102 col1\" >InLap</td>\n",
       "      <td id=\"T_a0b77_row102_col2\" class=\"data row102 col2\" >02:05.093</td>\n",
       "      <td id=\"T_a0b77_row102_col3\" class=\"data row102 col3\" >1</td>\n",
       "      <td id=\"T_a0b77_row102_col4\" class=\"data row102 col4\" >00:45.773</td>\n",
       "      <td id=\"T_a0b77_row102_col5\" class=\"data row102 col5\" >00:52.765</td>\n",
       "      <td id=\"T_a0b77_row102_col6\" class=\"data row102 col6\" >00:26.554</td>\n",
       "      <td id=\"T_a0b77_row102_col7\" class=\"data row102 col7\" >2024-04-06 06:08:18.220000</td>\n",
       "    </tr>\n",
       "    <tr>\n",
       "      <th id=\"T_a0b77_level0_row103\" class=\"row_heading level0 row103\" >103</th>\n",
       "      <td id=\"T_a0b77_row103_col0\" class=\"data row103 col0\" >RUS</td>\n",
       "      <td id=\"T_a0b77_row103_col1\" class=\"data row103 col1\" >OutLap</td>\n",
       "      <td id=\"T_a0b77_row103_col2\" class=\"data row103 col2\" ></td>\n",
       "      <td id=\"T_a0b77_row103_col3\" class=\"data row103 col3\" >2</td>\n",
       "      <td id=\"T_a0b77_row103_col4\" class=\"data row103 col4\" ></td>\n",
       "      <td id=\"T_a0b77_row103_col5\" class=\"data row103 col5\" >00:50.497</td>\n",
       "      <td id=\"T_a0b77_row103_col6\" class=\"data row103 col6\" >00:22.803</td>\n",
       "      <td id=\"T_a0b77_row103_col7\" class=\"data row103 col7\" >2024-04-06 06:10:23.314000</td>\n",
       "    </tr>\n",
       "    <tr>\n",
       "      <th id=\"T_a0b77_level0_row104\" class=\"row_heading level0 row104\" >104</th>\n",
       "      <td id=\"T_a0b77_row104_col0\" class=\"data row104 col0\" >RUS</td>\n",
       "      <td id=\"T_a0b77_row104_col1\" class=\"data row104 col1\" >Attack Lap</td>\n",
       "      <td id=\"T_a0b77_row104_col2\" class=\"data row104 col2\" >01:29.828</td>\n",
       "      <td id=\"T_a0b77_row104_col3\" class=\"data row104 col3\" >2</td>\n",
       "      <td id=\"T_a0b77_row104_col4\" class=\"data row104 col4\" >00:31.498</td>\n",
       "      <td id=\"T_a0b77_row104_col5\" class=\"data row104 col5\" >00:40.451</td>\n",
       "      <td id=\"T_a0b77_row104_col6\" class=\"data row104 col6\" >00:17.879</td>\n",
       "      <td id=\"T_a0b77_row104_col7\" class=\"data row104 col7\" >2024-04-06 06:29:44.566000</td>\n",
       "    </tr>\n",
       "    <tr>\n",
       "      <th id=\"T_a0b77_level0_row105\" class=\"row_heading level0 row105\" >105</th>\n",
       "      <td id=\"T_a0b77_row105_col0\" class=\"data row105 col0\" >RUS</td>\n",
       "      <td id=\"T_a0b77_row105_col1\" class=\"data row105 col1\" >InLap</td>\n",
       "      <td id=\"T_a0b77_row105_col2\" class=\"data row105 col2\" >02:03.924</td>\n",
       "      <td id=\"T_a0b77_row105_col3\" class=\"data row105 col3\" >2</td>\n",
       "      <td id=\"T_a0b77_row105_col4\" class=\"data row105 col4\" >00:41.790</td>\n",
       "      <td id=\"T_a0b77_row105_col5\" class=\"data row105 col5\" >00:55.868</td>\n",
       "      <td id=\"T_a0b77_row105_col6\" class=\"data row105 col6\" >00:26.265</td>\n",
       "      <td id=\"T_a0b77_row105_col7\" class=\"data row105 col7\" >2024-04-06 06:31:14.395000</td>\n",
       "    </tr>\n",
       "    <tr>\n",
       "      <th id=\"T_a0b77_level0_row106\" class=\"row_heading level0 row106\" >106</th>\n",
       "      <td id=\"T_a0b77_row106_col0\" class=\"data row106 col0\" >RUS</td>\n",
       "      <td id=\"T_a0b77_row106_col1\" class=\"data row106 col1\" >OutLap</td>\n",
       "      <td id=\"T_a0b77_row106_col2\" class=\"data row106 col2\" ></td>\n",
       "      <td id=\"T_a0b77_row106_col3\" class=\"data row106 col3\" >3</td>\n",
       "      <td id=\"T_a0b77_row106_col4\" class=\"data row106 col4\" ></td>\n",
       "      <td id=\"T_a0b77_row106_col5\" class=\"data row106 col5\" >00:54.173</td>\n",
       "      <td id=\"T_a0b77_row106_col6\" class=\"data row106 col6\" >00:23.294</td>\n",
       "      <td id=\"T_a0b77_row106_col7\" class=\"data row106 col7\" >2024-04-06 06:33:18.319000</td>\n",
       "    </tr>\n",
       "    <tr>\n",
       "      <th id=\"T_a0b77_level0_row107\" class=\"row_heading level0 row107\" >107</th>\n",
       "      <td id=\"T_a0b77_row107_col0\" class=\"data row107 col0\" >RUS</td>\n",
       "      <td id=\"T_a0b77_row107_col1\" class=\"data row107 col1\" >Attack Lap</td>\n",
       "      <td id=\"T_a0b77_row107_col2\" class=\"data row107 col2\" >01:29.140</td>\n",
       "      <td id=\"T_a0b77_row107_col3\" class=\"data row107 col3\" >3</td>\n",
       "      <td id=\"T_a0b77_row107_col4\" class=\"data row107 col4\" >00:31.329</td>\n",
       "      <td id=\"T_a0b77_row107_col5\" class=\"data row107 col5\" >00:40.091</td>\n",
       "      <td id=\"T_a0b77_row107_col6\" class=\"data row107 col6\" >00:17.718</td>\n",
       "      <td id=\"T_a0b77_row107_col7\" class=\"data row107 col7\" >2024-04-06 06:38:20.959000</td>\n",
       "    </tr>\n",
       "    <tr>\n",
       "      <th id=\"T_a0b77_level0_row108\" class=\"row_heading level0 row108\" >108</th>\n",
       "      <td id=\"T_a0b77_row108_col0\" class=\"data row108 col0\" >RUS</td>\n",
       "      <td id=\"T_a0b77_row108_col1\" class=\"data row108 col1\" >InLap</td>\n",
       "      <td id=\"T_a0b77_row108_col2\" class=\"data row108 col2\" >02:06.504</td>\n",
       "      <td id=\"T_a0b77_row108_col3\" class=\"data row108 col3\" >3</td>\n",
       "      <td id=\"T_a0b77_row108_col4\" class=\"data row108 col4\" >00:44.862</td>\n",
       "      <td id=\"T_a0b77_row108_col5\" class=\"data row108 col5\" >00:55.450</td>\n",
       "      <td id=\"T_a0b77_row108_col6\" class=\"data row108 col6\" >00:26.190</td>\n",
       "      <td id=\"T_a0b77_row108_col7\" class=\"data row108 col7\" >2024-04-06 06:39:50.099000</td>\n",
       "    </tr>\n",
       "    <tr>\n",
       "      <th id=\"T_a0b77_level0_row109\" class=\"row_heading level0 row109\" >109</th>\n",
       "      <td id=\"T_a0b77_row109_col0\" class=\"data row109 col0\" >RUS</td>\n",
       "      <td id=\"T_a0b77_row109_col1\" class=\"data row109 col1\" >OutLap</td>\n",
       "      <td id=\"T_a0b77_row109_col2\" class=\"data row109 col2\" ></td>\n",
       "      <td id=\"T_a0b77_row109_col3\" class=\"data row109 col3\" >4</td>\n",
       "      <td id=\"T_a0b77_row109_col4\" class=\"data row109 col4\" ></td>\n",
       "      <td id=\"T_a0b77_row109_col5\" class=\"data row109 col5\" >00:51.514</td>\n",
       "      <td id=\"T_a0b77_row109_col6\" class=\"data row109 col6\" >00:22.618</td>\n",
       "      <td id=\"T_a0b77_row109_col7\" class=\"data row109 col7\" >2024-04-06 06:41:56.603000</td>\n",
       "    </tr>\n",
       "    <tr>\n",
       "      <th id=\"T_a0b77_level0_row110\" class=\"row_heading level0 row110\" >110</th>\n",
       "      <td id=\"T_a0b77_row110_col0\" class=\"data row110 col0\" >RUS</td>\n",
       "      <td id=\"T_a0b77_row110_col1\" class=\"data row110 col1\" >Attack Lap</td>\n",
       "      <td id=\"T_a0b77_row110_col2\" class=\"data row110 col2\" >01:29.007</td>\n",
       "      <td id=\"T_a0b77_row110_col3\" class=\"data row110 col3\" >4</td>\n",
       "      <td id=\"T_a0b77_row110_col4\" class=\"data row110 col4\" >00:31.181</td>\n",
       "      <td id=\"T_a0b77_row110_col5\" class=\"data row110 col5\" >00:40.122</td>\n",
       "      <td id=\"T_a0b77_row110_col6\" class=\"data row110 col6\" >00:17.704</td>\n",
       "      <td id=\"T_a0b77_row110_col7\" class=\"data row110 col7\" >2024-04-06 06:50:11.145000</td>\n",
       "    </tr>\n",
       "    <tr>\n",
       "      <th id=\"T_a0b77_level0_row111\" class=\"row_heading level0 row111\" >111</th>\n",
       "      <td id=\"T_a0b77_row111_col0\" class=\"data row111 col0\" >RUS</td>\n",
       "      <td id=\"T_a0b77_row111_col1\" class=\"data row111 col1\" >InLap</td>\n",
       "      <td id=\"T_a0b77_row111_col2\" class=\"data row111 col2\" >01:51.644</td>\n",
       "      <td id=\"T_a0b77_row111_col3\" class=\"data row111 col3\" >4</td>\n",
       "      <td id=\"T_a0b77_row111_col4\" class=\"data row111 col4\" >00:41.956</td>\n",
       "      <td id=\"T_a0b77_row111_col5\" class=\"data row111 col5\" >00:46.789</td>\n",
       "      <td id=\"T_a0b77_row111_col6\" class=\"data row111 col6\" >00:22.899</td>\n",
       "      <td id=\"T_a0b77_row111_col7\" class=\"data row111 col7\" >2024-04-06 06:51:40.153000</td>\n",
       "    </tr>\n",
       "    <tr>\n",
       "      <th id=\"T_a0b77_level0_row112\" class=\"row_heading level0 row112\" >112</th>\n",
       "      <td id=\"T_a0b77_row112_col0\" class=\"data row112 col0\" >RUS</td>\n",
       "      <td id=\"T_a0b77_row112_col1\" class=\"data row112 col1\" >OutLap</td>\n",
       "      <td id=\"T_a0b77_row112_col2\" class=\"data row112 col2\" ></td>\n",
       "      <td id=\"T_a0b77_row112_col3\" class=\"data row112 col3\" >5</td>\n",
       "      <td id=\"T_a0b77_row112_col4\" class=\"data row112 col4\" ></td>\n",
       "      <td id=\"T_a0b77_row112_col5\" class=\"data row112 col5\" >00:51.997</td>\n",
       "      <td id=\"T_a0b77_row112_col6\" class=\"data row112 col6\" >00:23.266</td>\n",
       "      <td id=\"T_a0b77_row112_col7\" class=\"data row112 col7\" >2024-04-06 06:53:31.798000</td>\n",
       "    </tr>\n",
       "    <tr>\n",
       "      <th id=\"T_a0b77_level0_row113\" class=\"row_heading level0 row113\" >113</th>\n",
       "      <td id=\"T_a0b77_row113_col0\" class=\"data row113 col0\" >RUS</td>\n",
       "      <td id=\"T_a0b77_row113_col1\" class=\"data row113 col1\" >Attack Lap</td>\n",
       "      <td id=\"T_a0b77_row113_col2\" class=\"data row113 col2\" >01:29.016</td>\n",
       "      <td id=\"T_a0b77_row113_col3\" class=\"data row113 col3\" >5</td>\n",
       "      <td id=\"T_a0b77_row113_col4\" class=\"data row113 col4\" >00:31.073</td>\n",
       "      <td id=\"T_a0b77_row113_col5\" class=\"data row113 col5\" >00:40.143</td>\n",
       "      <td id=\"T_a0b77_row113_col6\" class=\"data row113 col6\" >00:17.800</td>\n",
       "      <td id=\"T_a0b77_row113_col7\" class=\"data row113 col7\" >2024-04-06 06:59:33.185000</td>\n",
       "    </tr>\n",
       "    <tr>\n",
       "      <th id=\"T_a0b77_level0_row114\" class=\"row_heading level0 row114\" >114</th>\n",
       "      <td id=\"T_a0b77_row114_col0\" class=\"data row114 col0\" >RUS</td>\n",
       "      <td id=\"T_a0b77_row114_col1\" class=\"data row114 col1\" >InLap</td>\n",
       "      <td id=\"T_a0b77_row114_col2\" class=\"data row114 col2\" >02:11.140</td>\n",
       "      <td id=\"T_a0b77_row114_col3\" class=\"data row114 col3\" >5</td>\n",
       "      <td id=\"T_a0b77_row114_col4\" class=\"data row114 col4\" >00:45.060</td>\n",
       "      <td id=\"T_a0b77_row114_col5\" class=\"data row114 col5\" >00:55.253</td>\n",
       "      <td id=\"T_a0b77_row114_col6\" class=\"data row114 col6\" >00:30.827</td>\n",
       "      <td id=\"T_a0b77_row114_col7\" class=\"data row114 col7\" >2024-04-06 07:01:02.202000</td>\n",
       "    </tr>\n",
       "    <tr>\n",
       "      <th id=\"T_a0b77_level0_row115\" class=\"row_heading level0 row115\" >115</th>\n",
       "      <td id=\"T_a0b77_row115_col0\" class=\"data row115 col0\" >TSU</td>\n",
       "      <td id=\"T_a0b77_row115_col1\" class=\"data row115 col1\" >OutLap</td>\n",
       "      <td id=\"T_a0b77_row115_col2\" class=\"data row115 col2\" ></td>\n",
       "      <td id=\"T_a0b77_row115_col3\" class=\"data row115 col3\" >1</td>\n",
       "      <td id=\"T_a0b77_row115_col4\" class=\"data row115 col4\" ></td>\n",
       "      <td id=\"T_a0b77_row115_col5\" class=\"data row115 col5\" >00:53.265</td>\n",
       "      <td id=\"T_a0b77_row115_col6\" class=\"data row115 col6\" >00:19.286</td>\n",
       "      <td id=\"T_a0b77_row115_col7\" class=\"data row115 col7\" >2024-04-06 06:06:07.750000</td>\n",
       "    </tr>\n",
       "    <tr>\n",
       "      <th id=\"T_a0b77_level0_row116\" class=\"row_heading level0 row116\" >116</th>\n",
       "      <td id=\"T_a0b77_row116_col0\" class=\"data row116 col0\" >TSU</td>\n",
       "      <td id=\"T_a0b77_row116_col1\" class=\"data row116 col1\" >Attack Lap</td>\n",
       "      <td id=\"T_a0b77_row116_col2\" class=\"data row116 col2\" >01:29.820</td>\n",
       "      <td id=\"T_a0b77_row116_col3\" class=\"data row116 col3\" >1</td>\n",
       "      <td id=\"T_a0b77_row116_col4\" class=\"data row116 col4\" >00:31.481</td>\n",
       "      <td id=\"T_a0b77_row116_col5\" class=\"data row116 col5\" >00:40.485</td>\n",
       "      <td id=\"T_a0b77_row116_col6\" class=\"data row116 col6\" >00:17.853</td>\n",
       "      <td id=\"T_a0b77_row116_col7\" class=\"data row116 col7\" >2024-04-06 06:08:07.134000</td>\n",
       "    </tr>\n",
       "    <tr>\n",
       "      <th id=\"T_a0b77_level0_row117\" class=\"row_heading level0 row117\" >117</th>\n",
       "      <td id=\"T_a0b77_row117_col0\" class=\"data row117 col0\" >TSU</td>\n",
       "      <td id=\"T_a0b77_row117_col1\" class=\"data row117 col1\" >InLap</td>\n",
       "      <td id=\"T_a0b77_row117_col2\" class=\"data row117 col2\" >01:44.540</td>\n",
       "      <td id=\"T_a0b77_row117_col3\" class=\"data row117 col3\" >1</td>\n",
       "      <td id=\"T_a0b77_row117_col4\" class=\"data row117 col4\" >00:35.804</td>\n",
       "      <td id=\"T_a0b77_row117_col5\" class=\"data row117 col5\" >00:45.420</td>\n",
       "      <td id=\"T_a0b77_row117_col6\" class=\"data row117 col6\" >00:23.315</td>\n",
       "      <td id=\"T_a0b77_row117_col7\" class=\"data row117 col7\" >2024-04-06 06:09:36.955000</td>\n",
       "    </tr>\n",
       "    <tr>\n",
       "      <th id=\"T_a0b77_level0_row118\" class=\"row_heading level0 row118\" >118</th>\n",
       "      <td id=\"T_a0b77_row118_col0\" class=\"data row118 col0\" >TSU</td>\n",
       "      <td id=\"T_a0b77_row118_col1\" class=\"data row118 col1\" >OutLap</td>\n",
       "      <td id=\"T_a0b77_row118_col2\" class=\"data row118 col2\" ></td>\n",
       "      <td id=\"T_a0b77_row118_col3\" class=\"data row118 col3\" >2</td>\n",
       "      <td id=\"T_a0b77_row118_col4\" class=\"data row118 col4\" ></td>\n",
       "      <td id=\"T_a0b77_row118_col5\" class=\"data row118 col5\" >00:46.253</td>\n",
       "      <td id=\"T_a0b77_row118_col6\" class=\"data row118 col6\" >00:28.833</td>\n",
       "      <td id=\"T_a0b77_row118_col7\" class=\"data row118 col7\" >2024-04-06 06:11:21.495000</td>\n",
       "    </tr>\n",
       "    <tr>\n",
       "      <th id=\"T_a0b77_level0_row119\" class=\"row_heading level0 row119\" >119</th>\n",
       "      <td id=\"T_a0b77_row119_col0\" class=\"data row119 col0\" >TSU</td>\n",
       "      <td id=\"T_a0b77_row119_col1\" class=\"data row119 col1\" >Attack Lap</td>\n",
       "      <td id=\"T_a0b77_row119_col2\" class=\"data row119 col2\" >01:29.775</td>\n",
       "      <td id=\"T_a0b77_row119_col3\" class=\"data row119 col3\" >2</td>\n",
       "      <td id=\"T_a0b77_row119_col4\" class=\"data row119 col4\" >00:31.358</td>\n",
       "      <td id=\"T_a0b77_row119_col5\" class=\"data row119 col5\" >00:40.621</td>\n",
       "      <td id=\"T_a0b77_row119_col6\" class=\"data row119 col6\" >00:17.795</td>\n",
       "      <td id=\"T_a0b77_row119_col7\" class=\"data row119 col7\" >2024-04-06 06:17:23.687000</td>\n",
       "    </tr>\n",
       "    <tr>\n",
       "      <th id=\"T_a0b77_level0_row120\" class=\"row_heading level0 row120\" >120</th>\n",
       "      <td id=\"T_a0b77_row120_col0\" class=\"data row120 col0\" >TSU</td>\n",
       "      <td id=\"T_a0b77_row120_col1\" class=\"data row120 col1\" >InLap</td>\n",
       "      <td id=\"T_a0b77_row120_col2\" class=\"data row120 col2\" >01:53.313</td>\n",
       "      <td id=\"T_a0b77_row120_col3\" class=\"data row120 col3\" >2</td>\n",
       "      <td id=\"T_a0b77_row120_col4\" class=\"data row120 col4\" >00:39.576</td>\n",
       "      <td id=\"T_a0b77_row120_col5\" class=\"data row120 col5\" >00:47.692</td>\n",
       "      <td id=\"T_a0b77_row120_col6\" class=\"data row120 col6\" >00:26.044</td>\n",
       "      <td id=\"T_a0b77_row120_col7\" class=\"data row120 col7\" >2024-04-06 06:18:53.462000</td>\n",
       "    </tr>\n",
       "    <tr>\n",
       "      <th id=\"T_a0b77_level0_row121\" class=\"row_heading level0 row121\" >121</th>\n",
       "      <td id=\"T_a0b77_row121_col0\" class=\"data row121 col0\" >TSU</td>\n",
       "      <td id=\"T_a0b77_row121_col1\" class=\"data row121 col1\" >OutLap</td>\n",
       "      <td id=\"T_a0b77_row121_col2\" class=\"data row121 col2\" ></td>\n",
       "      <td id=\"T_a0b77_row121_col3\" class=\"data row121 col3\" >3</td>\n",
       "      <td id=\"T_a0b77_row121_col4\" class=\"data row121 col4\" ></td>\n",
       "      <td id=\"T_a0b77_row121_col5\" class=\"data row121 col5\" >00:50.387</td>\n",
       "      <td id=\"T_a0b77_row121_col6\" class=\"data row121 col6\" >00:21.763</td>\n",
       "      <td id=\"T_a0b77_row121_col7\" class=\"data row121 col7\" >2024-04-06 06:20:46.775000</td>\n",
       "    </tr>\n",
       "    <tr>\n",
       "      <th id=\"T_a0b77_level0_row122\" class=\"row_heading level0 row122\" >122</th>\n",
       "      <td id=\"T_a0b77_row122_col0\" class=\"data row122 col0\" >TSU</td>\n",
       "      <td id=\"T_a0b77_row122_col1\" class=\"data row122 col1\" >Attack Lap</td>\n",
       "      <td id=\"T_a0b77_row122_col2\" class=\"data row122 col2\" >01:30.399</td>\n",
       "      <td id=\"T_a0b77_row122_col3\" class=\"data row122 col3\" >3</td>\n",
       "      <td id=\"T_a0b77_row122_col4\" class=\"data row122 col4\" >00:31.733</td>\n",
       "      <td id=\"T_a0b77_row122_col5\" class=\"data row122 col5\" >00:40.719</td>\n",
       "      <td id=\"T_a0b77_row122_col6\" class=\"data row122 col6\" >00:17.946</td>\n",
       "      <td id=\"T_a0b77_row122_col7\" class=\"data row122 col7\" >2024-04-06 06:29:32.594000</td>\n",
       "    </tr>\n",
       "    <tr>\n",
       "      <th id=\"T_a0b77_level0_row123\" class=\"row_heading level0 row123\" >123</th>\n",
       "      <td id=\"T_a0b77_row123_col0\" class=\"data row123 col0\" >TSU</td>\n",
       "      <td id=\"T_a0b77_row123_col1\" class=\"data row123 col1\" >InLap</td>\n",
       "      <td id=\"T_a0b77_row123_col2\" class=\"data row123 col2\" >01:47.356</td>\n",
       "      <td id=\"T_a0b77_row123_col3\" class=\"data row123 col3\" >3</td>\n",
       "      <td id=\"T_a0b77_row123_col4\" class=\"data row123 col4\" >00:35.768</td>\n",
       "      <td id=\"T_a0b77_row123_col5\" class=\"data row123 col5\" >00:46.344</td>\n",
       "      <td id=\"T_a0b77_row123_col6\" class=\"data row123 col6\" >00:25.245</td>\n",
       "      <td id=\"T_a0b77_row123_col7\" class=\"data row123 col7\" >2024-04-06 06:31:02.993000</td>\n",
       "    </tr>\n",
       "    <tr>\n",
       "      <th id=\"T_a0b77_level0_row124\" class=\"row_heading level0 row124\" >124</th>\n",
       "      <td id=\"T_a0b77_row124_col0\" class=\"data row124 col0\" >TSU</td>\n",
       "      <td id=\"T_a0b77_row124_col1\" class=\"data row124 col1\" >OutLap</td>\n",
       "      <td id=\"T_a0b77_row124_col2\" class=\"data row124 col2\" ></td>\n",
       "      <td id=\"T_a0b77_row124_col3\" class=\"data row124 col3\" >4</td>\n",
       "      <td id=\"T_a0b77_row124_col4\" class=\"data row124 col4\" ></td>\n",
       "      <td id=\"T_a0b77_row124_col5\" class=\"data row124 col5\" >00:47.475</td>\n",
       "      <td id=\"T_a0b77_row124_col6\" class=\"data row124 col6\" >00:23.250</td>\n",
       "      <td id=\"T_a0b77_row124_col7\" class=\"data row124 col7\" >2024-04-06 06:32:50.350000</td>\n",
       "    </tr>\n",
       "    <tr>\n",
       "      <th id=\"T_a0b77_level0_row125\" class=\"row_heading level0 row125\" >125</th>\n",
       "      <td id=\"T_a0b77_row125_col0\" class=\"data row125 col0\" >TSU</td>\n",
       "      <td id=\"T_a0b77_row125_col1\" class=\"data row125 col1\" >Attack Lap</td>\n",
       "      <td id=\"T_a0b77_row125_col2\" class=\"data row125 col2\" >01:29.417</td>\n",
       "      <td id=\"T_a0b77_row125_col3\" class=\"data row125 col3\" >4</td>\n",
       "      <td id=\"T_a0b77_row125_col4\" class=\"data row125 col4\" >00:31.283</td>\n",
       "      <td id=\"T_a0b77_row125_col5\" class=\"data row125 col5\" >00:40.423</td>\n",
       "      <td id=\"T_a0b77_row125_col6\" class=\"data row125 col6\" >00:17.710</td>\n",
       "      <td id=\"T_a0b77_row125_col7\" class=\"data row125 col7\" >2024-04-06 06:39:01.936000</td>\n",
       "    </tr>\n",
       "    <tr>\n",
       "      <th id=\"T_a0b77_level0_row126\" class=\"row_heading level0 row126\" >126</th>\n",
       "      <td id=\"T_a0b77_row126_col0\" class=\"data row126 col0\" >TSU</td>\n",
       "      <td id=\"T_a0b77_row126_col1\" class=\"data row126 col1\" >InLap</td>\n",
       "      <td id=\"T_a0b77_row126_col2\" class=\"data row126 col2\" >01:57.953</td>\n",
       "      <td id=\"T_a0b77_row126_col3\" class=\"data row126 col3\" >4</td>\n",
       "      <td id=\"T_a0b77_row126_col4\" class=\"data row126 col4\" >00:39.131</td>\n",
       "      <td id=\"T_a0b77_row126_col5\" class=\"data row126 col5\" >00:52.235</td>\n",
       "      <td id=\"T_a0b77_row126_col6\" class=\"data row126 col6\" >00:26.585</td>\n",
       "      <td id=\"T_a0b77_row126_col7\" class=\"data row126 col7\" >2024-04-06 06:40:31.353000</td>\n",
       "    </tr>\n",
       "    <tr>\n",
       "      <th id=\"T_a0b77_level0_row127\" class=\"row_heading level0 row127\" >127</th>\n",
       "      <td id=\"T_a0b77_row127_col0\" class=\"data row127 col0\" >TSU</td>\n",
       "      <td id=\"T_a0b77_row127_col1\" class=\"data row127 col1\" >OutLap</td>\n",
       "      <td id=\"T_a0b77_row127_col2\" class=\"data row127 col2\" ></td>\n",
       "      <td id=\"T_a0b77_row127_col3\" class=\"data row127 col3\" >5</td>\n",
       "      <td id=\"T_a0b77_row127_col4\" class=\"data row127 col4\" ></td>\n",
       "      <td id=\"T_a0b77_row127_col5\" class=\"data row127 col5\" >00:46.423</td>\n",
       "      <td id=\"T_a0b77_row127_col6\" class=\"data row127 col6\" >00:26.067</td>\n",
       "      <td id=\"T_a0b77_row127_col7\" class=\"data row127 col7\" >2024-04-06 06:42:29.306000</td>\n",
       "    </tr>\n",
       "    <tr>\n",
       "      <th id=\"T_a0b77_level0_row128\" class=\"row_heading level0 row128\" >128</th>\n",
       "      <td id=\"T_a0b77_row128_col0\" class=\"data row128 col0\" >TSU</td>\n",
       "      <td id=\"T_a0b77_row128_col1\" class=\"data row128 col1\" >Attack Lap</td>\n",
       "      <td id=\"T_a0b77_row128_col2\" class=\"data row128 col2\" >01:30.191</td>\n",
       "      <td id=\"T_a0b77_row128_col3\" class=\"data row128 col3\" >5</td>\n",
       "      <td id=\"T_a0b77_row128_col4\" class=\"data row128 col4\" >00:31.597</td>\n",
       "      <td id=\"T_a0b77_row128_col5\" class=\"data row128 col5\" >00:40.801</td>\n",
       "      <td id=\"T_a0b77_row128_col6\" class=\"data row128 col6\" >00:17.792</td>\n",
       "      <td id=\"T_a0b77_row128_col7\" class=\"data row128 col7\" >2024-04-06 06:51:16.924000</td>\n",
       "    </tr>\n",
       "    <tr>\n",
       "      <th id=\"T_a0b77_level0_row129\" class=\"row_heading level0 row129\" >129</th>\n",
       "      <td id=\"T_a0b77_row129_col0\" class=\"data row129 col0\" >TSU</td>\n",
       "      <td id=\"T_a0b77_row129_col1\" class=\"data row129 col1\" >InLap</td>\n",
       "      <td id=\"T_a0b77_row129_col2\" class=\"data row129 col2\" >01:47.168</td>\n",
       "      <td id=\"T_a0b77_row129_col3\" class=\"data row129 col3\" >5</td>\n",
       "      <td id=\"T_a0b77_row129_col4\" class=\"data row129 col4\" >00:35.529</td>\n",
       "      <td id=\"T_a0b77_row129_col5\" class=\"data row129 col5\" >00:46.167</td>\n",
       "      <td id=\"T_a0b77_row129_col6\" class=\"data row129 col6\" >00:25.472</td>\n",
       "      <td id=\"T_a0b77_row129_col7\" class=\"data row129 col7\" >2024-04-06 06:52:47.115000</td>\n",
       "    </tr>\n",
       "    <tr>\n",
       "      <th id=\"T_a0b77_level0_row130\" class=\"row_heading level0 row130\" >130</th>\n",
       "      <td id=\"T_a0b77_row130_col0\" class=\"data row130 col0\" >TSU</td>\n",
       "      <td id=\"T_a0b77_row130_col1\" class=\"data row130 col1\" >OutLap</td>\n",
       "      <td id=\"T_a0b77_row130_col2\" class=\"data row130 col2\" ></td>\n",
       "      <td id=\"T_a0b77_row130_col3\" class=\"data row130 col3\" >6</td>\n",
       "      <td id=\"T_a0b77_row130_col4\" class=\"data row130 col4\" ></td>\n",
       "      <td id=\"T_a0b77_row130_col5\" class=\"data row130 col5\" >00:52.085</td>\n",
       "      <td id=\"T_a0b77_row130_col6\" class=\"data row130 col6\" >00:23.611</td>\n",
       "      <td id=\"T_a0b77_row130_col7\" class=\"data row130 col7\" >2024-04-06 06:54:34.284000</td>\n",
       "    </tr>\n",
       "    <tr>\n",
       "      <th id=\"T_a0b77_level0_row131\" class=\"row_heading level0 row131\" >131</th>\n",
       "      <td id=\"T_a0b77_row131_col0\" class=\"data row131 col0\" >TSU</td>\n",
       "      <td id=\"T_a0b77_row131_col1\" class=\"data row131 col1\" >Attack Lap</td>\n",
       "      <td id=\"T_a0b77_row131_col2\" class=\"data row131 col2\" >01:29.412</td>\n",
       "      <td id=\"T_a0b77_row131_col3\" class=\"data row131 col3\" >6</td>\n",
       "      <td id=\"T_a0b77_row131_col4\" class=\"data row131 col4\" >00:31.318</td>\n",
       "      <td id=\"T_a0b77_row131_col5\" class=\"data row131 col5\" >00:40.247</td>\n",
       "      <td id=\"T_a0b77_row131_col6\" class=\"data row131 col6\" >00:17.847</td>\n",
       "      <td id=\"T_a0b77_row131_col7\" class=\"data row131 col7\" >2024-04-06 06:58:33.020000</td>\n",
       "    </tr>\n",
       "    <tr>\n",
       "      <th id=\"T_a0b77_level0_row132\" class=\"row_heading level0 row132\" >132</th>\n",
       "      <td id=\"T_a0b77_row132_col0\" class=\"data row132 col0\" >TSU</td>\n",
       "      <td id=\"T_a0b77_row132_col1\" class=\"data row132 col1\" >InLap</td>\n",
       "      <td id=\"T_a0b77_row132_col2\" class=\"data row132 col2\" >02:05.632</td>\n",
       "      <td id=\"T_a0b77_row132_col3\" class=\"data row132 col3\" >6</td>\n",
       "      <td id=\"T_a0b77_row132_col4\" class=\"data row132 col4\" >00:48.097</td>\n",
       "      <td id=\"T_a0b77_row132_col5\" class=\"data row132 col5\" >00:50.421</td>\n",
       "      <td id=\"T_a0b77_row132_col6\" class=\"data row132 col6\" >00:27.114</td>\n",
       "      <td id=\"T_a0b77_row132_col7\" class=\"data row132 col7\" >2024-04-06 07:00:02.433000</td>\n",
       "    </tr>\n",
       "    <tr>\n",
       "      <th id=\"T_a0b77_level0_row133\" class=\"row_heading level0 row133\" >133</th>\n",
       "      <td id=\"T_a0b77_row133_col0\" class=\"data row133 col0\" >RIC</td>\n",
       "      <td id=\"T_a0b77_row133_col1\" class=\"data row133 col1\" >OutLap</td>\n",
       "      <td id=\"T_a0b77_row133_col2\" class=\"data row133 col2\" ></td>\n",
       "      <td id=\"T_a0b77_row133_col3\" class=\"data row133 col3\" >1</td>\n",
       "      <td id=\"T_a0b77_row133_col4\" class=\"data row133 col4\" ></td>\n",
       "      <td id=\"T_a0b77_row133_col5\" class=\"data row133 col5\" >00:53.146</td>\n",
       "      <td id=\"T_a0b77_row133_col6\" class=\"data row133 col6\" >00:22.981</td>\n",
       "      <td id=\"T_a0b77_row133_col7\" class=\"data row133 col7\" >2024-04-06 06:05:22.147000</td>\n",
       "    </tr>\n",
       "    <tr>\n",
       "      <th id=\"T_a0b77_level0_row134\" class=\"row_heading level0 row134\" >134</th>\n",
       "      <td id=\"T_a0b77_row134_col0\" class=\"data row134 col0\" >RIC</td>\n",
       "      <td id=\"T_a0b77_row134_col1\" class=\"data row134 col1\" >Attack Lap</td>\n",
       "      <td id=\"T_a0b77_row134_col2\" class=\"data row134 col2\" >01:30.105</td>\n",
       "      <td id=\"T_a0b77_row134_col3\" class=\"data row134 col3\" >1</td>\n",
       "      <td id=\"T_a0b77_row134_col4\" class=\"data row134 col4\" >00:31.728</td>\n",
       "      <td id=\"T_a0b77_row134_col5\" class=\"data row134 col5\" >00:40.564</td>\n",
       "      <td id=\"T_a0b77_row134_col6\" class=\"data row134 col6\" >00:17.811</td>\n",
       "      <td id=\"T_a0b77_row134_col7\" class=\"data row134 col7\" >2024-04-06 06:07:39.532000</td>\n",
       "    </tr>\n",
       "    <tr>\n",
       "      <th id=\"T_a0b77_level0_row135\" class=\"row_heading level0 row135\" >135</th>\n",
       "      <td id=\"T_a0b77_row135_col0\" class=\"data row135 col0\" >RIC</td>\n",
       "      <td id=\"T_a0b77_row135_col1\" class=\"data row135 col1\" >InLap</td>\n",
       "      <td id=\"T_a0b77_row135_col2\" class=\"data row135 col2\" >01:56.585</td>\n",
       "      <td id=\"T_a0b77_row135_col3\" class=\"data row135 col3\" >1</td>\n",
       "      <td id=\"T_a0b77_row135_col4\" class=\"data row135 col4\" >00:40.713</td>\n",
       "      <td id=\"T_a0b77_row135_col5\" class=\"data row135 col5\" >00:51.378</td>\n",
       "      <td id=\"T_a0b77_row135_col6\" class=\"data row135 col6\" >00:24.493</td>\n",
       "      <td id=\"T_a0b77_row135_col7\" class=\"data row135 col7\" >2024-04-06 06:09:09.637000</td>\n",
       "    </tr>\n",
       "    <tr>\n",
       "      <th id=\"T_a0b77_level0_row136\" class=\"row_heading level0 row136\" >136</th>\n",
       "      <td id=\"T_a0b77_row136_col0\" class=\"data row136 col0\" >RIC</td>\n",
       "      <td id=\"T_a0b77_row136_col1\" class=\"data row136 col1\" >OutLap</td>\n",
       "      <td id=\"T_a0b77_row136_col2\" class=\"data row136 col2\" ></td>\n",
       "      <td id=\"T_a0b77_row136_col3\" class=\"data row136 col3\" >2</td>\n",
       "      <td id=\"T_a0b77_row136_col4\" class=\"data row136 col4\" ></td>\n",
       "      <td id=\"T_a0b77_row136_col5\" class=\"data row136 col5\" >00:50.890</td>\n",
       "      <td id=\"T_a0b77_row136_col6\" class=\"data row136 col6\" >00:23.731</td>\n",
       "      <td id=\"T_a0b77_row136_col7\" class=\"data row136 col7\" >2024-04-06 06:11:06.223000</td>\n",
       "    </tr>\n",
       "    <tr>\n",
       "      <th id=\"T_a0b77_level0_row137\" class=\"row_heading level0 row137\" >137</th>\n",
       "      <td id=\"T_a0b77_row137_col0\" class=\"data row137 col0\" >RIC</td>\n",
       "      <td id=\"T_a0b77_row137_col1\" class=\"data row137 col1\" >Attack Lap</td>\n",
       "      <td id=\"T_a0b77_row137_col2\" class=\"data row137 col2\" >01:29.727</td>\n",
       "      <td id=\"T_a0b77_row137_col3\" class=\"data row137 col3\" >2</td>\n",
       "      <td id=\"T_a0b77_row137_col4\" class=\"data row137 col4\" >00:31.390</td>\n",
       "      <td id=\"T_a0b77_row137_col5\" class=\"data row137 col5\" >00:40.518</td>\n",
       "      <td id=\"T_a0b77_row137_col6\" class=\"data row137 col6\" >00:17.818</td>\n",
       "      <td id=\"T_a0b77_row137_col7\" class=\"data row137 col7\" >2024-04-06 06:17:13.412000</td>\n",
       "    </tr>\n",
       "    <tr>\n",
       "      <th id=\"T_a0b77_level0_row138\" class=\"row_heading level0 row138\" >138</th>\n",
       "      <td id=\"T_a0b77_row138_col0\" class=\"data row138 col0\" >RIC</td>\n",
       "      <td id=\"T_a0b77_row138_col1\" class=\"data row138 col1\" >InLap</td>\n",
       "      <td id=\"T_a0b77_row138_col2\" class=\"data row138 col2\" >02:00.165</td>\n",
       "      <td id=\"T_a0b77_row138_col3\" class=\"data row138 col3\" >2</td>\n",
       "      <td id=\"T_a0b77_row138_col4\" class=\"data row138 col4\" >00:43.932</td>\n",
       "      <td id=\"T_a0b77_row138_col5\" class=\"data row138 col5\" >00:49.363</td>\n",
       "      <td id=\"T_a0b77_row138_col6\" class=\"data row138 col6\" >00:26.870</td>\n",
       "      <td id=\"T_a0b77_row138_col7\" class=\"data row138 col7\" >2024-04-06 06:18:43.139000</td>\n",
       "    </tr>\n",
       "    <tr>\n",
       "      <th id=\"T_a0b77_level0_row139\" class=\"row_heading level0 row139\" >139</th>\n",
       "      <td id=\"T_a0b77_row139_col0\" class=\"data row139 col0\" >RIC</td>\n",
       "      <td id=\"T_a0b77_row139_col1\" class=\"data row139 col1\" >OutLap</td>\n",
       "      <td id=\"T_a0b77_row139_col2\" class=\"data row139 col2\" ></td>\n",
       "      <td id=\"T_a0b77_row139_col3\" class=\"data row139 col3\" >3</td>\n",
       "      <td id=\"T_a0b77_row139_col4\" class=\"data row139 col4\" ></td>\n",
       "      <td id=\"T_a0b77_row139_col5\" class=\"data row139 col5\" >00:54.661</td>\n",
       "      <td id=\"T_a0b77_row139_col6\" class=\"data row139 col6\" >00:20.054</td>\n",
       "      <td id=\"T_a0b77_row139_col7\" class=\"data row139 col7\" >2024-04-06 06:20:43.305000</td>\n",
       "    </tr>\n",
       "    <tr>\n",
       "      <th id=\"T_a0b77_level0_row140\" class=\"row_heading level0 row140\" >140</th>\n",
       "      <td id=\"T_a0b77_row140_col0\" class=\"data row140 col0\" >RIC</td>\n",
       "      <td id=\"T_a0b77_row140_col1\" class=\"data row140 col1\" >Attack Lap</td>\n",
       "      <td id=\"T_a0b77_row140_col2\" class=\"data row140 col2\" >01:30.873</td>\n",
       "      <td id=\"T_a0b77_row140_col3\" class=\"data row140 col3\" >3</td>\n",
       "      <td id=\"T_a0b77_row140_col4\" class=\"data row140 col4\" >00:31.957</td>\n",
       "      <td id=\"T_a0b77_row140_col5\" class=\"data row140 col5\" >00:40.874</td>\n",
       "      <td id=\"T_a0b77_row140_col6\" class=\"data row140 col6\" >00:18.042</td>\n",
       "      <td id=\"T_a0b77_row140_col7\" class=\"data row140 col7\" >2024-04-06 06:30:06.921000</td>\n",
       "    </tr>\n",
       "    <tr>\n",
       "      <th id=\"T_a0b77_level0_row141\" class=\"row_heading level0 row141\" >141</th>\n",
       "      <td id=\"T_a0b77_row141_col0\" class=\"data row141 col0\" >RIC</td>\n",
       "      <td id=\"T_a0b77_row141_col1\" class=\"data row141 col1\" >InLap</td>\n",
       "      <td id=\"T_a0b77_row141_col2\" class=\"data row141 col2\" >01:44.890</td>\n",
       "      <td id=\"T_a0b77_row141_col3\" class=\"data row141 col3\" >3</td>\n",
       "      <td id=\"T_a0b77_row141_col4\" class=\"data row141 col4\" >00:35.963</td>\n",
       "      <td id=\"T_a0b77_row141_col5\" class=\"data row141 col5\" >00:45.219</td>\n",
       "      <td id=\"T_a0b77_row141_col6\" class=\"data row141 col6\" >00:23.707</td>\n",
       "      <td id=\"T_a0b77_row141_col7\" class=\"data row141 col7\" >2024-04-06 06:31:37.794000</td>\n",
       "    </tr>\n",
       "    <tr>\n",
       "      <th id=\"T_a0b77_level0_row142\" class=\"row_heading level0 row142\" >142</th>\n",
       "      <td id=\"T_a0b77_row142_col0\" class=\"data row142 col0\" >RIC</td>\n",
       "      <td id=\"T_a0b77_row142_col1\" class=\"data row142 col1\" >OutLap</td>\n",
       "      <td id=\"T_a0b77_row142_col2\" class=\"data row142 col2\" ></td>\n",
       "      <td id=\"T_a0b77_row142_col3\" class=\"data row142 col3\" >4</td>\n",
       "      <td id=\"T_a0b77_row142_col4\" class=\"data row142 col4\" ></td>\n",
       "      <td id=\"T_a0b77_row142_col5\" class=\"data row142 col5\" >00:52.676</td>\n",
       "      <td id=\"T_a0b77_row142_col6\" class=\"data row142 col6\" >00:22.800</td>\n",
       "      <td id=\"T_a0b77_row142_col7\" class=\"data row142 col7\" >2024-04-06 06:33:22.684000</td>\n",
       "    </tr>\n",
       "    <tr>\n",
       "      <th id=\"T_a0b77_level0_row143\" class=\"row_heading level0 row143\" >143</th>\n",
       "      <td id=\"T_a0b77_row143_col0\" class=\"data row143 col0\" >RIC</td>\n",
       "      <td id=\"T_a0b77_row143_col1\" class=\"data row143 col1\" >Attack Lap</td>\n",
       "      <td id=\"T_a0b77_row143_col2\" class=\"data row143 col2\" >01:29.471</td>\n",
       "      <td id=\"T_a0b77_row143_col3\" class=\"data row143 col3\" >4</td>\n",
       "      <td id=\"T_a0b77_row143_col4\" class=\"data row143 col4\" >00:31.352</td>\n",
       "      <td id=\"T_a0b77_row143_col5\" class=\"data row143 col5\" >00:40.402</td>\n",
       "      <td id=\"T_a0b77_row143_col6\" class=\"data row143 col6\" >00:17.718</td>\n",
       "      <td id=\"T_a0b77_row143_col7\" class=\"data row143 col7\" >2024-04-06 06:38:44.785000</td>\n",
       "    </tr>\n",
       "    <tr>\n",
       "      <th id=\"T_a0b77_level0_row144\" class=\"row_heading level0 row144\" >144</th>\n",
       "      <td id=\"T_a0b77_row144_col0\" class=\"data row144 col0\" >RIC</td>\n",
       "      <td id=\"T_a0b77_row144_col1\" class=\"data row144 col1\" >InLap</td>\n",
       "      <td id=\"T_a0b77_row144_col2\" class=\"data row144 col2\" >01:56.852</td>\n",
       "      <td id=\"T_a0b77_row144_col3\" class=\"data row144 col3\" >4</td>\n",
       "      <td id=\"T_a0b77_row144_col4\" class=\"data row144 col4\" >00:43.585</td>\n",
       "      <td id=\"T_a0b77_row144_col5\" class=\"data row144 col5\" >00:47.408</td>\n",
       "      <td id=\"T_a0b77_row144_col6\" class=\"data row144 col6\" >00:25.858</td>\n",
       "      <td id=\"T_a0b77_row144_col7\" class=\"data row144 col7\" >2024-04-06 06:40:14.257000</td>\n",
       "    </tr>\n",
       "    <tr>\n",
       "      <th id=\"T_a0b77_level0_row145\" class=\"row_heading level0 row145\" >145</th>\n",
       "      <td id=\"T_a0b77_row145_col0\" class=\"data row145 col0\" >HUL</td>\n",
       "      <td id=\"T_a0b77_row145_col1\" class=\"data row145 col1\" >OutLap</td>\n",
       "      <td id=\"T_a0b77_row145_col2\" class=\"data row145 col2\" ></td>\n",
       "      <td id=\"T_a0b77_row145_col3\" class=\"data row145 col3\" >1</td>\n",
       "      <td id=\"T_a0b77_row145_col4\" class=\"data row145 col4\" ></td>\n",
       "      <td id=\"T_a0b77_row145_col5\" class=\"data row145 col5\" >00:49.473</td>\n",
       "      <td id=\"T_a0b77_row145_col6\" class=\"data row145 col6\" >00:27.878</td>\n",
       "      <td id=\"T_a0b77_row145_col7\" class=\"data row145 col7\" >2024-04-06 06:06:00.011000</td>\n",
       "    </tr>\n",
       "    <tr>\n",
       "      <th id=\"T_a0b77_level0_row146\" class=\"row_heading level0 row146\" >146</th>\n",
       "      <td id=\"T_a0b77_row146_col0\" class=\"data row146 col0\" >HUL</td>\n",
       "      <td id=\"T_a0b77_row146_col1\" class=\"data row146 col1\" >Attack Lap</td>\n",
       "      <td id=\"T_a0b77_row146_col2\" class=\"data row146 col2\" >01:30.518</td>\n",
       "      <td id=\"T_a0b77_row146_col3\" class=\"data row146 col3\" >1</td>\n",
       "      <td id=\"T_a0b77_row146_col4\" class=\"data row146 col4\" >00:32.097</td>\n",
       "      <td id=\"T_a0b77_row146_col5\" class=\"data row146 col5\" >00:40.587</td>\n",
       "      <td id=\"T_a0b77_row146_col6\" class=\"data row146 col6\" >00:17.833</td>\n",
       "      <td id=\"T_a0b77_row146_col7\" class=\"data row146 col7\" >2024-04-06 06:07:56.869000</td>\n",
       "    </tr>\n",
       "    <tr>\n",
       "      <th id=\"T_a0b77_level0_row147\" class=\"row_heading level0 row147\" >147</th>\n",
       "      <td id=\"T_a0b77_row147_col0\" class=\"data row147 col0\" >HUL</td>\n",
       "      <td id=\"T_a0b77_row147_col1\" class=\"data row147 col1\" >InLap</td>\n",
       "      <td id=\"T_a0b77_row147_col2\" class=\"data row147 col2\" >01:48.123</td>\n",
       "      <td id=\"T_a0b77_row147_col3\" class=\"data row147 col3\" >1</td>\n",
       "      <td id=\"T_a0b77_row147_col4\" class=\"data row147 col4\" >00:37.036</td>\n",
       "      <td id=\"T_a0b77_row147_col5\" class=\"data row147 col5\" >00:46.222</td>\n",
       "      <td id=\"T_a0b77_row147_col6\" class=\"data row147 col6\" >00:24.864</td>\n",
       "      <td id=\"T_a0b77_row147_col7\" class=\"data row147 col7\" >2024-04-06 06:09:27.387000</td>\n",
       "    </tr>\n",
       "    <tr>\n",
       "      <th id=\"T_a0b77_level0_row148\" class=\"row_heading level0 row148\" >148</th>\n",
       "      <td id=\"T_a0b77_row148_col0\" class=\"data row148 col0\" >HUL</td>\n",
       "      <td id=\"T_a0b77_row148_col1\" class=\"data row148 col1\" >OutLap</td>\n",
       "      <td id=\"T_a0b77_row148_col2\" class=\"data row148 col2\" ></td>\n",
       "      <td id=\"T_a0b77_row148_col3\" class=\"data row148 col3\" >2</td>\n",
       "      <td id=\"T_a0b77_row148_col4\" class=\"data row148 col4\" ></td>\n",
       "      <td id=\"T_a0b77_row148_col5\" class=\"data row148 col5\" >00:51.588</td>\n",
       "      <td id=\"T_a0b77_row148_col6\" class=\"data row148 col6\" >00:24.298</td>\n",
       "      <td id=\"T_a0b77_row148_col7\" class=\"data row148 col7\" >2024-04-06 06:11:15.510000</td>\n",
       "    </tr>\n",
       "    <tr>\n",
       "      <th id=\"T_a0b77_level0_row149\" class=\"row_heading level0 row149\" >149</th>\n",
       "      <td id=\"T_a0b77_row149_col0\" class=\"data row149 col0\" >HUL</td>\n",
       "      <td id=\"T_a0b77_row149_col1\" class=\"data row149 col1\" >Attack Lap</td>\n",
       "      <td id=\"T_a0b77_row149_col2\" class=\"data row149 col2\" >01:29.820</td>\n",
       "      <td id=\"T_a0b77_row149_col3\" class=\"data row149 col3\" >2</td>\n",
       "      <td id=\"T_a0b77_row149_col4\" class=\"data row149 col4\" >00:31.675</td>\n",
       "      <td id=\"T_a0b77_row149_col5\" class=\"data row149 col5\" >00:40.393</td>\n",
       "      <td id=\"T_a0b77_row149_col6\" class=\"data row149 col6\" >00:17.751</td>\n",
       "      <td id=\"T_a0b77_row149_col7\" class=\"data row149 col7\" >2024-04-06 06:16:50.968000</td>\n",
       "    </tr>\n",
       "    <tr>\n",
       "      <th id=\"T_a0b77_level0_row150\" class=\"row_heading level0 row150\" >150</th>\n",
       "      <td id=\"T_a0b77_row150_col0\" class=\"data row150 col0\" >HUL</td>\n",
       "      <td id=\"T_a0b77_row150_col1\" class=\"data row150 col1\" >InLap</td>\n",
       "      <td id=\"T_a0b77_row150_col2\" class=\"data row150 col2\" >01:48.811</td>\n",
       "      <td id=\"T_a0b77_row150_col3\" class=\"data row150 col3\" >2</td>\n",
       "      <td id=\"T_a0b77_row150_col4\" class=\"data row150 col4\" >00:39.506</td>\n",
       "      <td id=\"T_a0b77_row150_col5\" class=\"data row150 col5\" >00:45.488</td>\n",
       "      <td id=\"T_a0b77_row150_col6\" class=\"data row150 col6\" >00:23.815</td>\n",
       "      <td id=\"T_a0b77_row150_col7\" class=\"data row150 col7\" >2024-04-06 06:18:20.789000</td>\n",
       "    </tr>\n",
       "    <tr>\n",
       "      <th id=\"T_a0b77_level0_row151\" class=\"row_heading level0 row151\" >151</th>\n",
       "      <td id=\"T_a0b77_row151_col0\" class=\"data row151 col0\" >HUL</td>\n",
       "      <td id=\"T_a0b77_row151_col1\" class=\"data row151 col1\" >OutLap</td>\n",
       "      <td id=\"T_a0b77_row151_col2\" class=\"data row151 col2\" ></td>\n",
       "      <td id=\"T_a0b77_row151_col3\" class=\"data row151 col3\" >3</td>\n",
       "      <td id=\"T_a0b77_row151_col4\" class=\"data row151 col4\" ></td>\n",
       "      <td id=\"T_a0b77_row151_col5\" class=\"data row151 col5\" >00:48.811</td>\n",
       "      <td id=\"T_a0b77_row151_col6\" class=\"data row151 col6\" >00:19.035</td>\n",
       "      <td id=\"T_a0b77_row151_col7\" class=\"data row151 col7\" >2024-04-06 06:20:09.600000</td>\n",
       "    </tr>\n",
       "    <tr>\n",
       "      <th id=\"T_a0b77_level0_row152\" class=\"row_heading level0 row152\" >152</th>\n",
       "      <td id=\"T_a0b77_row152_col0\" class=\"data row152 col0\" >HUL</td>\n",
       "      <td id=\"T_a0b77_row152_col1\" class=\"data row152 col1\" >Attack Lap</td>\n",
       "      <td id=\"T_a0b77_row152_col2\" class=\"data row152 col2\" >01:30.658</td>\n",
       "      <td id=\"T_a0b77_row152_col3\" class=\"data row152 col3\" >3</td>\n",
       "      <td id=\"T_a0b77_row152_col4\" class=\"data row152 col4\" >00:32.146</td>\n",
       "      <td id=\"T_a0b77_row152_col5\" class=\"data row152 col5\" >00:40.679</td>\n",
       "      <td id=\"T_a0b77_row152_col6\" class=\"data row152 col6\" >00:17.830</td>\n",
       "      <td id=\"T_a0b77_row152_col7\" class=\"data row152 col7\" >2024-04-06 06:28:29.811000</td>\n",
       "    </tr>\n",
       "    <tr>\n",
       "      <th id=\"T_a0b77_level0_row153\" class=\"row_heading level0 row153\" >153</th>\n",
       "      <td id=\"T_a0b77_row153_col0\" class=\"data row153 col0\" >HUL</td>\n",
       "      <td id=\"T_a0b77_row153_col1\" class=\"data row153 col1\" >InLap</td>\n",
       "      <td id=\"T_a0b77_row153_col2\" class=\"data row153 col2\" >01:46.846</td>\n",
       "      <td id=\"T_a0b77_row153_col3\" class=\"data row153 col3\" >3</td>\n",
       "      <td id=\"T_a0b77_row153_col4\" class=\"data row153 col4\" >00:38.493</td>\n",
       "      <td id=\"T_a0b77_row153_col5\" class=\"data row153 col5\" >00:44.993</td>\n",
       "      <td id=\"T_a0b77_row153_col6\" class=\"data row153 col6\" >00:23.359</td>\n",
       "      <td id=\"T_a0b77_row153_col7\" class=\"data row153 col7\" >2024-04-06 06:30:00.469000</td>\n",
       "    </tr>\n",
       "    <tr>\n",
       "      <th id=\"T_a0b77_level0_row154\" class=\"row_heading level0 row154\" >154</th>\n",
       "      <td id=\"T_a0b77_row154_col0\" class=\"data row154 col0\" >HUL</td>\n",
       "      <td id=\"T_a0b77_row154_col1\" class=\"data row154 col1\" >OutLap</td>\n",
       "      <td id=\"T_a0b77_row154_col2\" class=\"data row154 col2\" ></td>\n",
       "      <td id=\"T_a0b77_row154_col3\" class=\"data row154 col3\" >4</td>\n",
       "      <td id=\"T_a0b77_row154_col4\" class=\"data row154 col4\" ></td>\n",
       "      <td id=\"T_a0b77_row154_col5\" class=\"data row154 col5\" >00:51.362</td>\n",
       "      <td id=\"T_a0b77_row154_col6\" class=\"data row154 col6\" >00:24.484</td>\n",
       "      <td id=\"T_a0b77_row154_col7\" class=\"data row154 col7\" >2024-04-06 06:31:47.316000</td>\n",
       "    </tr>\n",
       "    <tr>\n",
       "      <th id=\"T_a0b77_level0_row155\" class=\"row_heading level0 row155\" >155</th>\n",
       "      <td id=\"T_a0b77_row155_col0\" class=\"data row155 col0\" >HUL</td>\n",
       "      <td id=\"T_a0b77_row155_col1\" class=\"data row155 col1\" >Attack Lap</td>\n",
       "      <td id=\"T_a0b77_row155_col2\" class=\"data row155 col2\" >01:29.493</td>\n",
       "      <td id=\"T_a0b77_row155_col3\" class=\"data row155 col3\" >4</td>\n",
       "      <td id=\"T_a0b77_row155_col4\" class=\"data row155 col4\" >00:31.557</td>\n",
       "      <td id=\"T_a0b77_row155_col5\" class=\"data row155 col5\" >00:40.237</td>\n",
       "      <td id=\"T_a0b77_row155_col6\" class=\"data row155 col6\" >00:17.698</td>\n",
       "      <td id=\"T_a0b77_row155_col7\" class=\"data row155 col7\" >2024-04-06 06:38:26.603000</td>\n",
       "    </tr>\n",
       "    <tr>\n",
       "      <th id=\"T_a0b77_level0_row156\" class=\"row_heading level0 row156\" >156</th>\n",
       "      <td id=\"T_a0b77_row156_col0\" class=\"data row156 col0\" >HUL</td>\n",
       "      <td id=\"T_a0b77_row156_col1\" class=\"data row156 col1\" >InLap</td>\n",
       "      <td id=\"T_a0b77_row156_col2\" class=\"data row156 col2\" >01:55.248</td>\n",
       "      <td id=\"T_a0b77_row156_col3\" class=\"data row156 col3\" >4</td>\n",
       "      <td id=\"T_a0b77_row156_col4\" class=\"data row156 col4\" >00:38.634</td>\n",
       "      <td id=\"T_a0b77_row156_col5\" class=\"data row156 col5\" >00:48.113</td>\n",
       "      <td id=\"T_a0b77_row156_col6\" class=\"data row156 col6\" >00:28.500</td>\n",
       "      <td id=\"T_a0b77_row156_col7\" class=\"data row156 col7\" >2024-04-06 06:39:56.097000</td>\n",
       "    </tr>\n",
       "    <tr>\n",
       "      <th id=\"T_a0b77_level0_row157\" class=\"row_heading level0 row157\" >157</th>\n",
       "      <td id=\"T_a0b77_row157_col0\" class=\"data row157 col0\" >BOT</td>\n",
       "      <td id=\"T_a0b77_row157_col1\" class=\"data row157 col1\" >OutLap</td>\n",
       "      <td id=\"T_a0b77_row157_col2\" class=\"data row157 col2\" ></td>\n",
       "      <td id=\"T_a0b77_row157_col3\" class=\"data row157 col3\" >1</td>\n",
       "      <td id=\"T_a0b77_row157_col4\" class=\"data row157 col4\" ></td>\n",
       "      <td id=\"T_a0b77_row157_col5\" class=\"data row157 col5\" >00:54.625</td>\n",
       "      <td id=\"T_a0b77_row157_col6\" class=\"data row157 col6\" >00:19.856</td>\n",
       "      <td id=\"T_a0b77_row157_col7\" class=\"data row157 col7\" >2024-04-06 06:06:14.129000</td>\n",
       "    </tr>\n",
       "    <tr>\n",
       "      <th id=\"T_a0b77_level0_row158\" class=\"row_heading level0 row158\" >158</th>\n",
       "      <td id=\"T_a0b77_row158_col0\" class=\"data row158 col0\" >BOT</td>\n",
       "      <td id=\"T_a0b77_row158_col1\" class=\"data row158 col1\" >Attack Lap</td>\n",
       "      <td id=\"T_a0b77_row158_col2\" class=\"data row158 col2\" >01:30.084</td>\n",
       "      <td id=\"T_a0b77_row158_col3\" class=\"data row158 col3\" >1</td>\n",
       "      <td id=\"T_a0b77_row158_col4\" class=\"data row158 col4\" >00:31.524</td>\n",
       "      <td id=\"T_a0b77_row158_col5\" class=\"data row158 col5\" >00:40.613</td>\n",
       "      <td id=\"T_a0b77_row158_col6\" class=\"data row158 col6\" >00:17.946</td>\n",
       "      <td id=\"T_a0b77_row158_col7\" class=\"data row158 col7\" >2024-04-06 06:08:24.143000</td>\n",
       "    </tr>\n",
       "    <tr>\n",
       "      <th id=\"T_a0b77_level0_row159\" class=\"row_heading level0 row159\" >159</th>\n",
       "      <td id=\"T_a0b77_row159_col0\" class=\"data row159 col0\" >BOT</td>\n",
       "      <td id=\"T_a0b77_row159_col1\" class=\"data row159 col1\" >InLap</td>\n",
       "      <td id=\"T_a0b77_row159_col2\" class=\"data row159 col2\" >01:50.864</td>\n",
       "      <td id=\"T_a0b77_row159_col3\" class=\"data row159 col3\" >1</td>\n",
       "      <td id=\"T_a0b77_row159_col4\" class=\"data row159 col4\" >00:39.963</td>\n",
       "      <td id=\"T_a0b77_row159_col5\" class=\"data row159 col5\" >00:47.694</td>\n",
       "      <td id=\"T_a0b77_row159_col6\" class=\"data row159 col6\" >00:23.207</td>\n",
       "      <td id=\"T_a0b77_row159_col7\" class=\"data row159 col7\" >2024-04-06 06:09:54.227000</td>\n",
       "    </tr>\n",
       "    <tr>\n",
       "      <th id=\"T_a0b77_level0_row160\" class=\"row_heading level0 row160\" >160</th>\n",
       "      <td id=\"T_a0b77_row160_col0\" class=\"data row160 col0\" >BOT</td>\n",
       "      <td id=\"T_a0b77_row160_col1\" class=\"data row160 col1\" >OutLap</td>\n",
       "      <td id=\"T_a0b77_row160_col2\" class=\"data row160 col2\" ></td>\n",
       "      <td id=\"T_a0b77_row160_col3\" class=\"data row160 col3\" >2</td>\n",
       "      <td id=\"T_a0b77_row160_col4\" class=\"data row160 col4\" ></td>\n",
       "      <td id=\"T_a0b77_row160_col5\" class=\"data row160 col5\" >00:47.113</td>\n",
       "      <td id=\"T_a0b77_row160_col6\" class=\"data row160 col6\" >00:26.097</td>\n",
       "      <td id=\"T_a0b77_row160_col7\" class=\"data row160 col7\" >2024-04-06 06:11:45.091000</td>\n",
       "    </tr>\n",
       "    <tr>\n",
       "      <th id=\"T_a0b77_level0_row161\" class=\"row_heading level0 row161\" >161</th>\n",
       "      <td id=\"T_a0b77_row161_col0\" class=\"data row161 col0\" >BOT</td>\n",
       "      <td id=\"T_a0b77_row161_col1\" class=\"data row161 col1\" >Attack Lap</td>\n",
       "      <td id=\"T_a0b77_row161_col2\" class=\"data row161 col2\" >01:29.602</td>\n",
       "      <td id=\"T_a0b77_row161_col3\" class=\"data row161 col3\" >2</td>\n",
       "      <td id=\"T_a0b77_row161_col4\" class=\"data row161 col4\" >00:31.509</td>\n",
       "      <td id=\"T_a0b77_row161_col5\" class=\"data row161 col5\" >00:40.359</td>\n",
       "      <td id=\"T_a0b77_row161_col6\" class=\"data row161 col6\" >00:17.734</td>\n",
       "      <td id=\"T_a0b77_row161_col7\" class=\"data row161 col7\" >2024-04-06 06:17:28.164000</td>\n",
       "    </tr>\n",
       "    <tr>\n",
       "      <th id=\"T_a0b77_level0_row162\" class=\"row_heading level0 row162\" >162</th>\n",
       "      <td id=\"T_a0b77_row162_col0\" class=\"data row162 col0\" >BOT</td>\n",
       "      <td id=\"T_a0b77_row162_col1\" class=\"data row162 col1\" >InLap</td>\n",
       "      <td id=\"T_a0b77_row162_col2\" class=\"data row162 col2\" >01:58.647</td>\n",
       "      <td id=\"T_a0b77_row162_col3\" class=\"data row162 col3\" >2</td>\n",
       "      <td id=\"T_a0b77_row162_col4\" class=\"data row162 col4\" >00:40.490</td>\n",
       "      <td id=\"T_a0b77_row162_col5\" class=\"data row162 col5\" >00:52.807</td>\n",
       "      <td id=\"T_a0b77_row162_col6\" class=\"data row162 col6\" >00:25.350</td>\n",
       "      <td id=\"T_a0b77_row162_col7\" class=\"data row162 col7\" >2024-04-06 06:18:57.766000</td>\n",
       "    </tr>\n",
       "    <tr>\n",
       "      <th id=\"T_a0b77_level0_row163\" class=\"row_heading level0 row163\" >163</th>\n",
       "      <td id=\"T_a0b77_row163_col0\" class=\"data row163 col0\" >BOT</td>\n",
       "      <td id=\"T_a0b77_row163_col1\" class=\"data row163 col1\" >OutLap</td>\n",
       "      <td id=\"T_a0b77_row163_col2\" class=\"data row163 col2\" ></td>\n",
       "      <td id=\"T_a0b77_row163_col3\" class=\"data row163 col3\" >3</td>\n",
       "      <td id=\"T_a0b77_row163_col4\" class=\"data row163 col4\" ></td>\n",
       "      <td id=\"T_a0b77_row163_col5\" class=\"data row163 col5\" >00:51.478</td>\n",
       "      <td id=\"T_a0b77_row163_col6\" class=\"data row163 col6\" >00:23.675</td>\n",
       "      <td id=\"T_a0b77_row163_col7\" class=\"data row163 col7\" >2024-04-06 06:20:56.414000</td>\n",
       "    </tr>\n",
       "    <tr>\n",
       "      <th id=\"T_a0b77_level0_row164\" class=\"row_heading level0 row164\" >164</th>\n",
       "      <td id=\"T_a0b77_row164_col0\" class=\"data row164 col0\" >BOT</td>\n",
       "      <td id=\"T_a0b77_row164_col1\" class=\"data row164 col1\" >Attack Lap</td>\n",
       "      <td id=\"T_a0b77_row164_col2\" class=\"data row164 col2\" >01:30.299</td>\n",
       "      <td id=\"T_a0b77_row164_col3\" class=\"data row164 col3\" >3</td>\n",
       "      <td id=\"T_a0b77_row164_col4\" class=\"data row164 col4\" >00:31.714</td>\n",
       "      <td id=\"T_a0b77_row164_col5\" class=\"data row164 col5\" >00:40.670</td>\n",
       "      <td id=\"T_a0b77_row164_col6\" class=\"data row164 col6\" >00:17.914</td>\n",
       "      <td id=\"T_a0b77_row164_col7\" class=\"data row164 col7\" >2024-04-06 06:30:32.410000</td>\n",
       "    </tr>\n",
       "    <tr>\n",
       "      <th id=\"T_a0b77_level0_row165\" class=\"row_heading level0 row165\" >165</th>\n",
       "      <td id=\"T_a0b77_row165_col0\" class=\"data row165 col0\" >BOT</td>\n",
       "      <td id=\"T_a0b77_row165_col1\" class=\"data row165 col1\" >InLap</td>\n",
       "      <td id=\"T_a0b77_row165_col2\" class=\"data row165 col2\" >01:48.980</td>\n",
       "      <td id=\"T_a0b77_row165_col3\" class=\"data row165 col3\" >3</td>\n",
       "      <td id=\"T_a0b77_row165_col4\" class=\"data row165 col4\" >00:37.953</td>\n",
       "      <td id=\"T_a0b77_row165_col5\" class=\"data row165 col5\" >00:46.695</td>\n",
       "      <td id=\"T_a0b77_row165_col6\" class=\"data row165 col6\" >00:24.332</td>\n",
       "      <td id=\"T_a0b77_row165_col7\" class=\"data row165 col7\" >2024-04-06 06:32:02.710000</td>\n",
       "    </tr>\n",
       "    <tr>\n",
       "      <th id=\"T_a0b77_level0_row166\" class=\"row_heading level0 row166\" >166</th>\n",
       "      <td id=\"T_a0b77_row166_col0\" class=\"data row166 col0\" >BOT</td>\n",
       "      <td id=\"T_a0b77_row166_col1\" class=\"data row166 col1\" >OutLap</td>\n",
       "      <td id=\"T_a0b77_row166_col2\" class=\"data row166 col2\" ></td>\n",
       "      <td id=\"T_a0b77_row166_col3\" class=\"data row166 col3\" >4</td>\n",
       "      <td id=\"T_a0b77_row166_col4\" class=\"data row166 col4\" ></td>\n",
       "      <td id=\"T_a0b77_row166_col5\" class=\"data row166 col5\" >00:47.402</td>\n",
       "      <td id=\"T_a0b77_row166_col6\" class=\"data row166 col6\" >00:21.094</td>\n",
       "      <td id=\"T_a0b77_row166_col7\" class=\"data row166 col7\" >2024-04-06 06:33:51.691000</td>\n",
       "    </tr>\n",
       "    <tr>\n",
       "      <th id=\"T_a0b77_level0_row167\" class=\"row_heading level0 row167\" >167</th>\n",
       "      <td id=\"T_a0b77_row167_col0\" class=\"data row167 col0\" >BOT</td>\n",
       "      <td id=\"T_a0b77_row167_col1\" class=\"data row167 col1\" >Attack Lap</td>\n",
       "      <td id=\"T_a0b77_row167_col2\" class=\"data row167 col2\" >01:29.593</td>\n",
       "      <td id=\"T_a0b77_row167_col3\" class=\"data row167 col3\" >4</td>\n",
       "      <td id=\"T_a0b77_row167_col4\" class=\"data row167 col4\" >00:31.356</td>\n",
       "      <td id=\"T_a0b77_row167_col5\" class=\"data row167 col5\" >00:40.478</td>\n",
       "      <td id=\"T_a0b77_row167_col6\" class=\"data row167 col6\" >00:17.757</td>\n",
       "      <td id=\"T_a0b77_row167_col7\" class=\"data row167 col7\" >2024-04-06 06:39:08.317000</td>\n",
       "    </tr>\n",
       "    <tr>\n",
       "      <th id=\"T_a0b77_level0_row168\" class=\"row_heading level0 row168\" >168</th>\n",
       "      <td id=\"T_a0b77_row168_col0\" class=\"data row168 col0\" >BOT</td>\n",
       "      <td id=\"T_a0b77_row168_col1\" class=\"data row168 col1\" >InLap</td>\n",
       "      <td id=\"T_a0b77_row168_col2\" class=\"data row168 col2\" >02:02.734</td>\n",
       "      <td id=\"T_a0b77_row168_col3\" class=\"data row168 col3\" >4</td>\n",
       "      <td id=\"T_a0b77_row168_col4\" class=\"data row168 col4\" >00:42.529</td>\n",
       "      <td id=\"T_a0b77_row168_col5\" class=\"data row168 col5\" >00:52.195</td>\n",
       "      <td id=\"T_a0b77_row168_col6\" class=\"data row168 col6\" >00:28.010</td>\n",
       "      <td id=\"T_a0b77_row168_col7\" class=\"data row168 col7\" >2024-04-06 06:40:37.910000</td>\n",
       "    </tr>\n",
       "    <tr>\n",
       "      <th id=\"T_a0b77_level0_row169\" class=\"row_heading level0 row169\" >169</th>\n",
       "      <td id=\"T_a0b77_row169_col0\" class=\"data row169 col0\" >ALB</td>\n",
       "      <td id=\"T_a0b77_row169_col1\" class=\"data row169 col1\" >OutLap</td>\n",
       "      <td id=\"T_a0b77_row169_col2\" class=\"data row169 col2\" ></td>\n",
       "      <td id=\"T_a0b77_row169_col3\" class=\"data row169 col3\" >1</td>\n",
       "      <td id=\"T_a0b77_row169_col4\" class=\"data row169 col4\" ></td>\n",
       "      <td id=\"T_a0b77_row169_col5\" class=\"data row169 col5\" >00:50.914</td>\n",
       "      <td id=\"T_a0b77_row169_col6\" class=\"data row169 col6\" >00:21.600</td>\n",
       "      <td id=\"T_a0b77_row169_col7\" class=\"data row169 col7\" >2024-04-06 06:03:53.467000</td>\n",
       "    </tr>\n",
       "    <tr>\n",
       "      <th id=\"T_a0b77_level0_row170\" class=\"row_heading level0 row170\" >170</th>\n",
       "      <td id=\"T_a0b77_row170_col0\" class=\"data row170 col0\" >ALB</td>\n",
       "      <td id=\"T_a0b77_row170_col1\" class=\"data row170 col1\" >Attack Lap</td>\n",
       "      <td id=\"T_a0b77_row170_col2\" class=\"data row170 col2\" >01:30.368</td>\n",
       "      <td id=\"T_a0b77_row170_col3\" class=\"data row170 col3\" >1</td>\n",
       "      <td id=\"T_a0b77_row170_col4\" class=\"data row170 col4\" >00:32.011</td>\n",
       "      <td id=\"T_a0b77_row170_col5\" class=\"data row170 col5\" >00:40.658</td>\n",
       "      <td id=\"T_a0b77_row170_col6\" class=\"data row170 col6\" >00:17.699</td>\n",
       "      <td id=\"T_a0b77_row170_col7\" class=\"data row170 col7\" >2024-04-06 06:05:51.906000</td>\n",
       "    </tr>\n",
       "    <tr>\n",
       "      <th id=\"T_a0b77_level0_row171\" class=\"row_heading level0 row171\" >171</th>\n",
       "      <td id=\"T_a0b77_row171_col0\" class=\"data row171 col0\" >ALB</td>\n",
       "      <td id=\"T_a0b77_row171_col1\" class=\"data row171 col1\" >InLap</td>\n",
       "      <td id=\"T_a0b77_row171_col2\" class=\"data row171 col2\" >02:14.419</td>\n",
       "      <td id=\"T_a0b77_row171_col3\" class=\"data row171 col3\" >1</td>\n",
       "      <td id=\"T_a0b77_row171_col4\" class=\"data row171 col4\" >00:53.128</td>\n",
       "      <td id=\"T_a0b77_row171_col5\" class=\"data row171 col5\" >00:53.798</td>\n",
       "      <td id=\"T_a0b77_row171_col6\" class=\"data row171 col6\" >00:27.490</td>\n",
       "      <td id=\"T_a0b77_row171_col7\" class=\"data row171 col7\" >2024-04-06 06:07:22.275000</td>\n",
       "    </tr>\n",
       "    <tr>\n",
       "      <th id=\"T_a0b77_level0_row172\" class=\"row_heading level0 row172\" >172</th>\n",
       "      <td id=\"T_a0b77_row172_col0\" class=\"data row172 col0\" >ALB</td>\n",
       "      <td id=\"T_a0b77_row172_col1\" class=\"data row172 col1\" >OutLap</td>\n",
       "      <td id=\"T_a0b77_row172_col2\" class=\"data row172 col2\" ></td>\n",
       "      <td id=\"T_a0b77_row172_col3\" class=\"data row172 col3\" >2</td>\n",
       "      <td id=\"T_a0b77_row172_col4\" class=\"data row172 col4\" ></td>\n",
       "      <td id=\"T_a0b77_row172_col5\" class=\"data row172 col5\" >00:52.030</td>\n",
       "      <td id=\"T_a0b77_row172_col6\" class=\"data row172 col6\" >00:20.978</td>\n",
       "      <td id=\"T_a0b77_row172_col7\" class=\"data row172 col7\" >2024-04-06 06:09:36.694000</td>\n",
       "    </tr>\n",
       "    <tr>\n",
       "      <th id=\"T_a0b77_level0_row173\" class=\"row_heading level0 row173\" >173</th>\n",
       "      <td id=\"T_a0b77_row173_col0\" class=\"data row173 col0\" >ALB</td>\n",
       "      <td id=\"T_a0b77_row173_col1\" class=\"data row173 col1\" >Attack Lap</td>\n",
       "      <td id=\"T_a0b77_row173_col2\" class=\"data row173 col2\" >01:29.962</td>\n",
       "      <td id=\"T_a0b77_row173_col3\" class=\"data row173 col3\" >2</td>\n",
       "      <td id=\"T_a0b77_row173_col4\" class=\"data row173 col4\" >00:31.583</td>\n",
       "      <td id=\"T_a0b77_row173_col5\" class=\"data row173 col5\" >00:40.601</td>\n",
       "      <td id=\"T_a0b77_row173_col6\" class=\"data row173 col6\" >00:17.777</td>\n",
       "      <td id=\"T_a0b77_row173_col7\" class=\"data row173 col7\" >2024-04-06 06:13:29.725000</td>\n",
       "    </tr>\n",
       "    <tr>\n",
       "      <th id=\"T_a0b77_level0_row174\" class=\"row_heading level0 row174\" >174</th>\n",
       "      <td id=\"T_a0b77_row174_col0\" class=\"data row174 col0\" >ALB</td>\n",
       "      <td id=\"T_a0b77_row174_col1\" class=\"data row174 col1\" >InLap</td>\n",
       "      <td id=\"T_a0b77_row174_col2\" class=\"data row174 col2\" >02:03.691</td>\n",
       "      <td id=\"T_a0b77_row174_col3\" class=\"data row174 col3\" >2</td>\n",
       "      <td id=\"T_a0b77_row174_col4\" class=\"data row174 col4\" >00:43.316</td>\n",
       "      <td id=\"T_a0b77_row174_col5\" class=\"data row174 col5\" >00:52.588</td>\n",
       "      <td id=\"T_a0b77_row174_col6\" class=\"data row174 col6\" >00:27.786</td>\n",
       "      <td id=\"T_a0b77_row174_col7\" class=\"data row174 col7\" >2024-04-06 06:14:59.688000</td>\n",
       "    </tr>\n",
       "    <tr>\n",
       "      <th id=\"T_a0b77_level0_row175\" class=\"row_heading level0 row175\" >175</th>\n",
       "      <td id=\"T_a0b77_row175_col0\" class=\"data row175 col0\" >ALB</td>\n",
       "      <td id=\"T_a0b77_row175_col1\" class=\"data row175 col1\" >OutLap</td>\n",
       "      <td id=\"T_a0b77_row175_col2\" class=\"data row175 col2\" ></td>\n",
       "      <td id=\"T_a0b77_row175_col3\" class=\"data row175 col3\" >3</td>\n",
       "      <td id=\"T_a0b77_row175_col4\" class=\"data row175 col4\" ></td>\n",
       "      <td id=\"T_a0b77_row175_col5\" class=\"data row175 col5\" >00:49.848</td>\n",
       "      <td id=\"T_a0b77_row175_col6\" class=\"data row175 col6\" >00:22.030</td>\n",
       "      <td id=\"T_a0b77_row175_col7\" class=\"data row175 col7\" >2024-04-06 06:17:03.380000</td>\n",
       "    </tr>\n",
       "    <tr>\n",
       "      <th id=\"T_a0b77_level0_row176\" class=\"row_heading level0 row176\" >176</th>\n",
       "      <td id=\"T_a0b77_row176_col0\" class=\"data row176 col0\" >ALB</td>\n",
       "      <td id=\"T_a0b77_row176_col1\" class=\"data row176 col1\" >Attack Lap</td>\n",
       "      <td id=\"T_a0b77_row176_col2\" class=\"data row176 col2\" >01:29.713</td>\n",
       "      <td id=\"T_a0b77_row176_col3\" class=\"data row176 col3\" >3</td>\n",
       "      <td id=\"T_a0b77_row176_col4\" class=\"data row176 col4\" >00:31.617</td>\n",
       "      <td id=\"T_a0b77_row176_col5\" class=\"data row176 col5\" >00:40.381</td>\n",
       "      <td id=\"T_a0b77_row176_col6\" class=\"data row176 col6\" >00:17.716</td>\n",
       "      <td id=\"T_a0b77_row176_col7\" class=\"data row176 col7\" >2024-04-06 06:38:53.410000</td>\n",
       "    </tr>\n",
       "    <tr>\n",
       "      <th id=\"T_a0b77_level0_row177\" class=\"row_heading level0 row177\" >177</th>\n",
       "      <td id=\"T_a0b77_row177_col0\" class=\"data row177 col0\" >ALB</td>\n",
       "      <td id=\"T_a0b77_row177_col1\" class=\"data row177 col1\" >InLap</td>\n",
       "      <td id=\"T_a0b77_row177_col2\" class=\"data row177 col2\" >01:58.143</td>\n",
       "      <td id=\"T_a0b77_row177_col3\" class=\"data row177 col3\" >3</td>\n",
       "      <td id=\"T_a0b77_row177_col4\" class=\"data row177 col4\" >00:44.460</td>\n",
       "      <td id=\"T_a0b77_row177_col5\" class=\"data row177 col5\" >00:48.383</td>\n",
       "      <td id=\"T_a0b77_row177_col6\" class=\"data row177 col6\" >00:25.298</td>\n",
       "      <td id=\"T_a0b77_row177_col7\" class=\"data row177 col7\" >2024-04-06 06:40:23.124000</td>\n",
       "    </tr>\n",
       "    <tr>\n",
       "      <th id=\"T_a0b77_level0_row178\" class=\"row_heading level0 row178\" >178</th>\n",
       "      <td id=\"T_a0b77_row178_col0\" class=\"data row178 col0\" >OCO</td>\n",
       "      <td id=\"T_a0b77_row178_col1\" class=\"data row178 col1\" >OutLap</td>\n",
       "      <td id=\"T_a0b77_row178_col2\" class=\"data row178 col2\" ></td>\n",
       "      <td id=\"T_a0b77_row178_col3\" class=\"data row178 col3\" >1</td>\n",
       "      <td id=\"T_a0b77_row178_col4\" class=\"data row178 col4\" ></td>\n",
       "      <td id=\"T_a0b77_row178_col5\" class=\"data row178 col5\" >00:52.502</td>\n",
       "      <td id=\"T_a0b77_row178_col6\" class=\"data row178 col6\" >00:21.446</td>\n",
       "      <td id=\"T_a0b77_row178_col7\" class=\"data row178 col7\" >2024-04-06 06:05:17.809000</td>\n",
       "    </tr>\n",
       "    <tr>\n",
       "      <th id=\"T_a0b77_level0_row179\" class=\"row_heading level0 row179\" >179</th>\n",
       "      <td id=\"T_a0b77_row179_col0\" class=\"data row179 col0\" >OCO</td>\n",
       "      <td id=\"T_a0b77_row179_col1\" class=\"data row179 col1\" >Attack Lap</td>\n",
       "      <td id=\"T_a0b77_row179_col2\" class=\"data row179 col2\" >01:30.361</td>\n",
       "      <td id=\"T_a0b77_row179_col3\" class=\"data row179 col3\" >1</td>\n",
       "      <td id=\"T_a0b77_row179_col4\" class=\"data row179 col4\" >00:31.696</td>\n",
       "      <td id=\"T_a0b77_row179_col5\" class=\"data row179 col5\" >00:40.664</td>\n",
       "      <td id=\"T_a0b77_row179_col6\" class=\"data row179 col6\" >00:18.001</td>\n",
       "      <td id=\"T_a0b77_row179_col7\" class=\"data row179 col7\" >2024-04-06 06:07:32.715000</td>\n",
       "    </tr>\n",
       "    <tr>\n",
       "      <th id=\"T_a0b77_level0_row180\" class=\"row_heading level0 row180\" >180</th>\n",
       "      <td id=\"T_a0b77_row180_col0\" class=\"data row180 col0\" >OCO</td>\n",
       "      <td id=\"T_a0b77_row180_col1\" class=\"data row180 col1\" >InLap</td>\n",
       "      <td id=\"T_a0b77_row180_col2\" class=\"data row180 col2\" >01:56.608</td>\n",
       "      <td id=\"T_a0b77_row180_col3\" class=\"data row180 col3\" >1</td>\n",
       "      <td id=\"T_a0b77_row180_col4\" class=\"data row180 col4\" >00:38.182</td>\n",
       "      <td id=\"T_a0b77_row180_col5\" class=\"data row180 col5\" >00:52.561</td>\n",
       "      <td id=\"T_a0b77_row180_col6\" class=\"data row180 col6\" >00:25.864</td>\n",
       "      <td id=\"T_a0b77_row180_col7\" class=\"data row180 col7\" >2024-04-06 06:09:03.077000</td>\n",
       "    </tr>\n",
       "    <tr>\n",
       "      <th id=\"T_a0b77_level0_row181\" class=\"row_heading level0 row181\" >181</th>\n",
       "      <td id=\"T_a0b77_row181_col0\" class=\"data row181 col0\" >OCO</td>\n",
       "      <td id=\"T_a0b77_row181_col1\" class=\"data row181 col1\" >OutLap</td>\n",
       "      <td id=\"T_a0b77_row181_col2\" class=\"data row181 col2\" ></td>\n",
       "      <td id=\"T_a0b77_row181_col3\" class=\"data row181 col3\" >2</td>\n",
       "      <td id=\"T_a0b77_row181_col4\" class=\"data row181 col4\" ></td>\n",
       "      <td id=\"T_a0b77_row181_col5\" class=\"data row181 col5\" >00:52.219</td>\n",
       "      <td id=\"T_a0b77_row181_col6\" class=\"data row181 col6\" >00:22.521</td>\n",
       "      <td id=\"T_a0b77_row181_col7\" class=\"data row181 col7\" >2024-04-06 06:10:59.686000</td>\n",
       "    </tr>\n",
       "    <tr>\n",
       "      <th id=\"T_a0b77_level0_row182\" class=\"row_heading level0 row182\" >182</th>\n",
       "      <td id=\"T_a0b77_row182_col0\" class=\"data row182 col0\" >OCO</td>\n",
       "      <td id=\"T_a0b77_row182_col1\" class=\"data row182 col1\" >Attack Lap</td>\n",
       "      <td id=\"T_a0b77_row182_col2\" class=\"data row182 col2\" >01:29.811</td>\n",
       "      <td id=\"T_a0b77_row182_col3\" class=\"data row182 col3\" >2</td>\n",
       "      <td id=\"T_a0b77_row182_col4\" class=\"data row182 col4\" >00:31.504</td>\n",
       "      <td id=\"T_a0b77_row182_col5\" class=\"data row182 col5\" >00:40.456</td>\n",
       "      <td id=\"T_a0b77_row182_col6\" class=\"data row182 col6\" >00:17.850</td>\n",
       "      <td id=\"T_a0b77_row182_col7\" class=\"data row182 col7\" >2024-04-06 06:17:06.372000</td>\n",
       "    </tr>\n",
       "    <tr>\n",
       "      <th id=\"T_a0b77_level0_row183\" class=\"row_heading level0 row183\" >183</th>\n",
       "      <td id=\"T_a0b77_row183_col0\" class=\"data row183 col0\" >OCO</td>\n",
       "      <td id=\"T_a0b77_row183_col1\" class=\"data row183 col1\" >InLap</td>\n",
       "      <td id=\"T_a0b77_row183_col2\" class=\"data row183 col2\" >02:02.299</td>\n",
       "      <td id=\"T_a0b77_row183_col3\" class=\"data row183 col3\" >2</td>\n",
       "      <td id=\"T_a0b77_row183_col4\" class=\"data row183 col4\" >00:40.746</td>\n",
       "      <td id=\"T_a0b77_row183_col5\" class=\"data row183 col5\" >00:53.564</td>\n",
       "      <td id=\"T_a0b77_row183_col6\" class=\"data row183 col6\" >00:27.987</td>\n",
       "      <td id=\"T_a0b77_row183_col7\" class=\"data row183 col7\" >2024-04-06 06:18:36.183000</td>\n",
       "    </tr>\n",
       "    <tr>\n",
       "      <th id=\"T_a0b77_level0_row184\" class=\"row_heading level0 row184\" >184</th>\n",
       "      <td id=\"T_a0b77_row184_col0\" class=\"data row184 col0\" >OCO</td>\n",
       "      <td id=\"T_a0b77_row184_col1\" class=\"data row184 col1\" >OutLap</td>\n",
       "      <td id=\"T_a0b77_row184_col2\" class=\"data row184 col2\" ></td>\n",
       "      <td id=\"T_a0b77_row184_col3\" class=\"data row184 col3\" >3</td>\n",
       "      <td id=\"T_a0b77_row184_col4\" class=\"data row184 col4\" ></td>\n",
       "      <td id=\"T_a0b77_row184_col5\" class=\"data row184 col5\" >00:52.746</td>\n",
       "      <td id=\"T_a0b77_row184_col6\" class=\"data row184 col6\" >00:21.042</td>\n",
       "      <td id=\"T_a0b77_row184_col7\" class=\"data row184 col7\" >2024-04-06 06:20:38.483000</td>\n",
       "    </tr>\n",
       "    <tr>\n",
       "      <th id=\"T_a0b77_level0_row185\" class=\"row_heading level0 row185\" >185</th>\n",
       "      <td id=\"T_a0b77_row185_col0\" class=\"data row185 col0\" >OCO</td>\n",
       "      <td id=\"T_a0b77_row185_col1\" class=\"data row185 col1\" >Attack Lap</td>\n",
       "      <td id=\"T_a0b77_row185_col2\" class=\"data row185 col2\" >01:30.817</td>\n",
       "      <td id=\"T_a0b77_row185_col3\" class=\"data row185 col3\" >3</td>\n",
       "      <td id=\"T_a0b77_row185_col4\" class=\"data row185 col4\" >00:32.021</td>\n",
       "      <td id=\"T_a0b77_row185_col5\" class=\"data row185 col5\" >00:40.835</td>\n",
       "      <td id=\"T_a0b77_row185_col6\" class=\"data row185 col6\" >00:17.961</td>\n",
       "      <td id=\"T_a0b77_row185_col7\" class=\"data row185 col7\" >2024-04-06 06:29:58.174000</td>\n",
       "    </tr>\n",
       "    <tr>\n",
       "      <th id=\"T_a0b77_level0_row186\" class=\"row_heading level0 row186\" >186</th>\n",
       "      <td id=\"T_a0b77_row186_col0\" class=\"data row186 col0\" >OCO</td>\n",
       "      <td id=\"T_a0b77_row186_col1\" class=\"data row186 col1\" >InLap</td>\n",
       "      <td id=\"T_a0b77_row186_col2\" class=\"data row186 col2\" >01:57.266</td>\n",
       "      <td id=\"T_a0b77_row186_col3\" class=\"data row186 col3\" >3</td>\n",
       "      <td id=\"T_a0b77_row186_col4\" class=\"data row186 col4\" >00:37.692</td>\n",
       "      <td id=\"T_a0b77_row186_col5\" class=\"data row186 col5\" >00:50.354</td>\n",
       "      <td id=\"T_a0b77_row186_col6\" class=\"data row186 col6\" >00:29.219</td>\n",
       "      <td id=\"T_a0b77_row186_col7\" class=\"data row186 col7\" >2024-04-06 06:31:28.992000</td>\n",
       "    </tr>\n",
       "    <tr>\n",
       "      <th id=\"T_a0b77_level0_row187\" class=\"row_heading level0 row187\" >187</th>\n",
       "      <td id=\"T_a0b77_row187_col0\" class=\"data row187 col0\" >OCO</td>\n",
       "      <td id=\"T_a0b77_row187_col1\" class=\"data row187 col1\" >OutLap</td>\n",
       "      <td id=\"T_a0b77_row187_col2\" class=\"data row187 col2\" ></td>\n",
       "      <td id=\"T_a0b77_row187_col3\" class=\"data row187 col3\" >4</td>\n",
       "      <td id=\"T_a0b77_row187_col4\" class=\"data row187 col4\" ></td>\n",
       "      <td id=\"T_a0b77_row187_col5\" class=\"data row187 col5\" >00:54.707</td>\n",
       "      <td id=\"T_a0b77_row187_col6\" class=\"data row187 col6\" >00:20.795</td>\n",
       "      <td id=\"T_a0b77_row187_col7\" class=\"data row187 col7\" >2024-04-06 06:33:26.259000</td>\n",
       "    </tr>\n",
       "    <tr>\n",
       "      <th id=\"T_a0b77_level0_row188\" class=\"row_heading level0 row188\" >188</th>\n",
       "      <td id=\"T_a0b77_row188_col0\" class=\"data row188 col0\" >OCO</td>\n",
       "      <td id=\"T_a0b77_row188_col1\" class=\"data row188 col1\" >Attack Lap</td>\n",
       "      <td id=\"T_a0b77_row188_col2\" class=\"data row188 col2\" >01:29.816</td>\n",
       "      <td id=\"T_a0b77_row188_col3\" class=\"data row188 col3\" >4</td>\n",
       "      <td id=\"T_a0b77_row188_col4\" class=\"data row188 col4\" >00:31.474</td>\n",
       "      <td id=\"T_a0b77_row188_col5\" class=\"data row188 col5\" >00:40.481</td>\n",
       "      <td id=\"T_a0b77_row188_col6\" class=\"data row188 col6\" >00:17.861</td>\n",
       "      <td id=\"T_a0b77_row188_col7\" class=\"data row188 col7\" >2024-04-06 06:38:36.012000</td>\n",
       "    </tr>\n",
       "    <tr>\n",
       "      <th id=\"T_a0b77_level0_row189\" class=\"row_heading level0 row189\" >189</th>\n",
       "      <td id=\"T_a0b77_row189_col0\" class=\"data row189 col0\" >OCO</td>\n",
       "      <td id=\"T_a0b77_row189_col1\" class=\"data row189 col1\" >InLap</td>\n",
       "      <td id=\"T_a0b77_row189_col2\" class=\"data row189 col2\" >01:59.370</td>\n",
       "      <td id=\"T_a0b77_row189_col3\" class=\"data row189 col3\" >4</td>\n",
       "      <td id=\"T_a0b77_row189_col4\" class=\"data row189 col4\" >00:39.569</td>\n",
       "      <td id=\"T_a0b77_row189_col5\" class=\"data row189 col5\" >00:51.551</td>\n",
       "      <td id=\"T_a0b77_row189_col6\" class=\"data row189 col6\" >00:28.248</td>\n",
       "      <td id=\"T_a0b77_row189_col7\" class=\"data row189 col7\" >2024-04-06 06:40:05.828000</td>\n",
       "    </tr>\n",
       "    <tr>\n",
       "      <th id=\"T_a0b77_level0_row190\" class=\"row_heading level0 row190\" >190</th>\n",
       "      <td id=\"T_a0b77_row190_col0\" class=\"data row190 col0\" >STR</td>\n",
       "      <td id=\"T_a0b77_row190_col1\" class=\"data row190 col1\" >OutLap</td>\n",
       "      <td id=\"T_a0b77_row190_col2\" class=\"data row190 col2\" ></td>\n",
       "      <td id=\"T_a0b77_row190_col3\" class=\"data row190 col3\" >1</td>\n",
       "      <td id=\"T_a0b77_row190_col4\" class=\"data row190 col4\" ></td>\n",
       "      <td id=\"T_a0b77_row190_col5\" class=\"data row190 col5\" >00:50.479</td>\n",
       "      <td id=\"T_a0b77_row190_col6\" class=\"data row190 col6\" >00:28.635</td>\n",
       "      <td id=\"T_a0b77_row190_col7\" class=\"data row190 col7\" >2024-04-06 06:05:06.340000</td>\n",
       "    </tr>\n",
       "    <tr>\n",
       "      <th id=\"T_a0b77_level0_row191\" class=\"row_heading level0 row191\" >191</th>\n",
       "      <td id=\"T_a0b77_row191_col0\" class=\"data row191 col0\" >STR</td>\n",
       "      <td id=\"T_a0b77_row191_col1\" class=\"data row191 col1\" >Attack Lap</td>\n",
       "      <td id=\"T_a0b77_row191_col2\" class=\"data row191 col2\" >01:30.024</td>\n",
       "      <td id=\"T_a0b77_row191_col3\" class=\"data row191 col3\" >1</td>\n",
       "      <td id=\"T_a0b77_row191_col4\" class=\"data row191 col4\" >00:31.498</td>\n",
       "      <td id=\"T_a0b77_row191_col5\" class=\"data row191 col5\" >00:40.545</td>\n",
       "      <td id=\"T_a0b77_row191_col6\" class=\"data row191 col6\" >00:17.980</td>\n",
       "      <td id=\"T_a0b77_row191_col7\" class=\"data row191 col7\" >2024-04-06 06:07:26.691000</td>\n",
       "    </tr>\n",
       "    <tr>\n",
       "      <th id=\"T_a0b77_level0_row192\" class=\"row_heading level0 row192\" >192</th>\n",
       "      <td id=\"T_a0b77_row192_col0\" class=\"data row192 col0\" >STR</td>\n",
       "      <td id=\"T_a0b77_row192_col1\" class=\"data row192 col1\" >InLap</td>\n",
       "      <td id=\"T_a0b77_row192_col2\" class=\"data row192 col2\" >01:53.168</td>\n",
       "      <td id=\"T_a0b77_row192_col3\" class=\"data row192 col3\" >1</td>\n",
       "      <td id=\"T_a0b77_row192_col4\" class=\"data row192 col4\" >00:38.563</td>\n",
       "      <td id=\"T_a0b77_row192_col5\" class=\"data row192 col5\" >00:46.893</td>\n",
       "      <td id=\"T_a0b77_row192_col6\" class=\"data row192 col6\" >00:27.711</td>\n",
       "      <td id=\"T_a0b77_row192_col7\" class=\"data row192 col7\" >2024-04-06 06:08:56.715000</td>\n",
       "    </tr>\n",
       "    <tr>\n",
       "      <th id=\"T_a0b77_level0_row193\" class=\"row_heading level0 row193\" >193</th>\n",
       "      <td id=\"T_a0b77_row193_col0\" class=\"data row193 col0\" >STR</td>\n",
       "      <td id=\"T_a0b77_row193_col1\" class=\"data row193 col1\" >OutLap</td>\n",
       "      <td id=\"T_a0b77_row193_col2\" class=\"data row193 col2\" ></td>\n",
       "      <td id=\"T_a0b77_row193_col3\" class=\"data row193 col3\" >2</td>\n",
       "      <td id=\"T_a0b77_row193_col4\" class=\"data row193 col4\" ></td>\n",
       "      <td id=\"T_a0b77_row193_col5\" class=\"data row193 col5\" >00:51.904</td>\n",
       "      <td id=\"T_a0b77_row193_col6\" class=\"data row193 col6\" >00:21.035</td>\n",
       "      <td id=\"T_a0b77_row193_col7\" class=\"data row193 col7\" >2024-04-06 06:10:49.884000</td>\n",
       "    </tr>\n",
       "    <tr>\n",
       "      <th id=\"T_a0b77_level0_row194\" class=\"row_heading level0 row194\" >194</th>\n",
       "      <td id=\"T_a0b77_row194_col0\" class=\"data row194 col0\" >STR</td>\n",
       "      <td id=\"T_a0b77_row194_col1\" class=\"data row194 col1\" >Attack Lap</td>\n",
       "      <td id=\"T_a0b77_row194_col2\" class=\"data row194 col2\" >01:30.034</td>\n",
       "      <td id=\"T_a0b77_row194_col3\" class=\"data row194 col3\" >2</td>\n",
       "      <td id=\"T_a0b77_row194_col4\" class=\"data row194 col4\" >00:31.385</td>\n",
       "      <td id=\"T_a0b77_row194_col5\" class=\"data row194 col5\" >00:40.643</td>\n",
       "      <td id=\"T_a0b77_row194_col6\" class=\"data row194 col6\" >00:18.004</td>\n",
       "      <td id=\"T_a0b77_row194_col7\" class=\"data row194 col7\" >2024-04-06 06:16:44.765000</td>\n",
       "    </tr>\n",
       "    <tr>\n",
       "      <th id=\"T_a0b77_level0_row195\" class=\"row_heading level0 row195\" >195</th>\n",
       "      <td id=\"T_a0b77_row195_col0\" class=\"data row195 col0\" >STR</td>\n",
       "      <td id=\"T_a0b77_row195_col1\" class=\"data row195 col1\" >InLap</td>\n",
       "      <td id=\"T_a0b77_row195_col2\" class=\"data row195 col2\" >01:59.608</td>\n",
       "      <td id=\"T_a0b77_row195_col3\" class=\"data row195 col3\" >2</td>\n",
       "      <td id=\"T_a0b77_row195_col4\" class=\"data row195 col4\" >00:38.723</td>\n",
       "      <td id=\"T_a0b77_row195_col5\" class=\"data row195 col5\" >00:52.240</td>\n",
       "      <td id=\"T_a0b77_row195_col6\" class=\"data row195 col6\" >00:28.643</td>\n",
       "      <td id=\"T_a0b77_row195_col7\" class=\"data row195 col7\" >2024-04-06 06:18:14.799000</td>\n",
       "    </tr>\n",
       "    <tr>\n",
       "      <th id=\"T_a0b77_level0_row196\" class=\"row_heading level0 row196\" >196</th>\n",
       "      <td id=\"T_a0b77_row196_col0\" class=\"data row196 col0\" >GAS</td>\n",
       "      <td id=\"T_a0b77_row196_col1\" class=\"data row196 col1\" >OutLap</td>\n",
       "      <td id=\"T_a0b77_row196_col2\" class=\"data row196 col2\" ></td>\n",
       "      <td id=\"T_a0b77_row196_col3\" class=\"data row196 col3\" >1</td>\n",
       "      <td id=\"T_a0b77_row196_col4\" class=\"data row196 col4\" ></td>\n",
       "      <td id=\"T_a0b77_row196_col5\" class=\"data row196 col5\" >00:52.185</td>\n",
       "      <td id=\"T_a0b77_row196_col6\" class=\"data row196 col6\" >00:22.602</td>\n",
       "      <td id=\"T_a0b77_row196_col7\" class=\"data row196 col7\" >2024-04-06 06:05:45.395000</td>\n",
       "    </tr>\n",
       "    <tr>\n",
       "      <th id=\"T_a0b77_level0_row197\" class=\"row_heading level0 row197\" >197</th>\n",
       "      <td id=\"T_a0b77_row197_col0\" class=\"data row197 col0\" >GAS</td>\n",
       "      <td id=\"T_a0b77_row197_col1\" class=\"data row197 col1\" >Attack Lap</td>\n",
       "      <td id=\"T_a0b77_row197_col2\" class=\"data row197 col2\" >01:30.417</td>\n",
       "      <td id=\"T_a0b77_row197_col3\" class=\"data row197 col3\" >1</td>\n",
       "      <td id=\"T_a0b77_row197_col4\" class=\"data row197 col4\" >00:31.644</td>\n",
       "      <td id=\"T_a0b77_row197_col5\" class=\"data row197 col5\" >00:40.807</td>\n",
       "      <td id=\"T_a0b77_row197_col6\" class=\"data row197 col6\" >00:17.963</td>\n",
       "      <td id=\"T_a0b77_row197_col7\" class=\"data row197 col7\" >2024-04-06 06:07:51.041000</td>\n",
       "    </tr>\n",
       "    <tr>\n",
       "      <th id=\"T_a0b77_level0_row198\" class=\"row_heading level0 row198\" >198</th>\n",
       "      <td id=\"T_a0b77_row198_col0\" class=\"data row198 col0\" >GAS</td>\n",
       "      <td id=\"T_a0b77_row198_col1\" class=\"data row198 col1\" >InLap</td>\n",
       "      <td id=\"T_a0b77_row198_col2\" class=\"data row198 col2\" >01:53.176</td>\n",
       "      <td id=\"T_a0b77_row198_col3\" class=\"data row198 col3\" >1</td>\n",
       "      <td id=\"T_a0b77_row198_col4\" class=\"data row198 col4\" >00:41.884</td>\n",
       "      <td id=\"T_a0b77_row198_col5\" class=\"data row198 col5\" >00:46.615</td>\n",
       "      <td id=\"T_a0b77_row198_col6\" class=\"data row198 col6\" >00:24.675</td>\n",
       "      <td id=\"T_a0b77_row198_col7\" class=\"data row198 col7\" >2024-04-06 06:09:21.458000</td>\n",
       "    </tr>\n",
       "    <tr>\n",
       "      <th id=\"T_a0b77_level0_row199\" class=\"row_heading level0 row199\" >199</th>\n",
       "      <td id=\"T_a0b77_row199_col0\" class=\"data row199 col0\" >GAS</td>\n",
       "      <td id=\"T_a0b77_row199_col1\" class=\"data row199 col1\" >OutLap</td>\n",
       "      <td id=\"T_a0b77_row199_col2\" class=\"data row199 col2\" ></td>\n",
       "      <td id=\"T_a0b77_row199_col3\" class=\"data row199 col3\" >2</td>\n",
       "      <td id=\"T_a0b77_row199_col4\" class=\"data row199 col4\" ></td>\n",
       "      <td id=\"T_a0b77_row199_col5\" class=\"data row199 col5\" >00:53.999</td>\n",
       "      <td id=\"T_a0b77_row199_col6\" class=\"data row199 col6\" >00:23.971</td>\n",
       "      <td id=\"T_a0b77_row199_col7\" class=\"data row199 col7\" >2024-04-06 06:11:14.634000</td>\n",
       "    </tr>\n",
       "    <tr>\n",
       "      <th id=\"T_a0b77_level0_row200\" class=\"row_heading level0 row200\" >200</th>\n",
       "      <td id=\"T_a0b77_row200_col0\" class=\"data row200 col0\" >GAS</td>\n",
       "      <td id=\"T_a0b77_row200_col1\" class=\"data row200 col1\" >Attack Lap</td>\n",
       "      <td id=\"T_a0b77_row200_col2\" class=\"data row200 col2\" >01:30.118</td>\n",
       "      <td id=\"T_a0b77_row200_col3\" class=\"data row200 col3\" >2</td>\n",
       "      <td id=\"T_a0b77_row200_col4\" class=\"data row200 col4\" >00:31.468</td>\n",
       "      <td id=\"T_a0b77_row200_col5\" class=\"data row200 col5\" >00:40.661</td>\n",
       "      <td id=\"T_a0b77_row200_col6\" class=\"data row200 col6\" >00:17.989</td>\n",
       "      <td id=\"T_a0b77_row200_col7\" class=\"data row200 col7\" >2024-04-06 06:16:19.433000</td>\n",
       "    </tr>\n",
       "    <tr>\n",
       "      <th id=\"T_a0b77_level0_row201\" class=\"row_heading level0 row201\" >201</th>\n",
       "      <td id=\"T_a0b77_row201_col0\" class=\"data row201 col0\" >GAS</td>\n",
       "      <td id=\"T_a0b77_row201_col1\" class=\"data row201 col1\" >InLap</td>\n",
       "      <td id=\"T_a0b77_row201_col2\" class=\"data row201 col2\" >02:02.215</td>\n",
       "      <td id=\"T_a0b77_row201_col3\" class=\"data row201 col3\" >2</td>\n",
       "      <td id=\"T_a0b77_row201_col4\" class=\"data row201 col4\" >00:43.640</td>\n",
       "      <td id=\"T_a0b77_row201_col5\" class=\"data row201 col5\" >00:49.883</td>\n",
       "      <td id=\"T_a0b77_row201_col6\" class=\"data row201 col6\" >00:28.690</td>\n",
       "      <td id=\"T_a0b77_row201_col7\" class=\"data row201 col7\" >2024-04-06 06:17:49.552000</td>\n",
       "    </tr>\n",
       "    <tr>\n",
       "      <th id=\"T_a0b77_level0_row202\" class=\"row_heading level0 row202\" >202</th>\n",
       "      <td id=\"T_a0b77_row202_col0\" class=\"data row202 col0\" >MAG</td>\n",
       "      <td id=\"T_a0b77_row202_col1\" class=\"data row202 col1\" >OutLap</td>\n",
       "      <td id=\"T_a0b77_row202_col2\" class=\"data row202 col2\" ></td>\n",
       "      <td id=\"T_a0b77_row202_col3\" class=\"data row202 col3\" >1</td>\n",
       "      <td id=\"T_a0b77_row202_col4\" class=\"data row202 col4\" ></td>\n",
       "      <td id=\"T_a0b77_row202_col5\" class=\"data row202 col5\" >00:46.859</td>\n",
       "      <td id=\"T_a0b77_row202_col6\" class=\"data row202 col6\" >00:22.669</td>\n",
       "      <td id=\"T_a0b77_row202_col7\" class=\"data row202 col7\" >2024-04-06 06:00:02.867000</td>\n",
       "    </tr>\n",
       "    <tr>\n",
       "      <th id=\"T_a0b77_level0_row203\" class=\"row_heading level0 row203\" >203</th>\n",
       "      <td id=\"T_a0b77_row203_col0\" class=\"data row203 col0\" >MAG</td>\n",
       "      <td id=\"T_a0b77_row203_col1\" class=\"data row203 col1\" >Attack Lap</td>\n",
       "      <td id=\"T_a0b77_row203_col2\" class=\"data row203 col2\" >01:31.203</td>\n",
       "      <td id=\"T_a0b77_row203_col3\" class=\"data row203 col3\" >1</td>\n",
       "      <td id=\"T_a0b77_row203_col4\" class=\"data row203 col4\" >00:32.213</td>\n",
       "      <td id=\"T_a0b77_row203_col5\" class=\"data row203 col5\" >00:40.924</td>\n",
       "      <td id=\"T_a0b77_row203_col6\" class=\"data row203 col6\" >00:18.064</td>\n",
       "      <td id=\"T_a0b77_row203_col7\" class=\"data row203 col7\" >2024-04-06 06:01:48.306000</td>\n",
       "    </tr>\n",
       "    <tr>\n",
       "      <th id=\"T_a0b77_level0_row204\" class=\"row_heading level0 row204\" >204</th>\n",
       "      <td id=\"T_a0b77_row204_col0\" class=\"data row204 col0\" >MAG</td>\n",
       "      <td id=\"T_a0b77_row204_col1\" class=\"data row204 col1\" >InLap</td>\n",
       "      <td id=\"T_a0b77_row204_col2\" class=\"data row204 col2\" >01:42.918</td>\n",
       "      <td id=\"T_a0b77_row204_col3\" class=\"data row204 col3\" >1</td>\n",
       "      <td id=\"T_a0b77_row204_col4\" class=\"data row204 col4\" >00:37.487</td>\n",
       "      <td id=\"T_a0b77_row204_col5\" class=\"data row204 col5\" >00:43.531</td>\n",
       "      <td id=\"T_a0b77_row204_col6\" class=\"data row204 col6\" >00:21.899</td>\n",
       "      <td id=\"T_a0b77_row204_col7\" class=\"data row204 col7\" >2024-04-06 06:03:19.509000</td>\n",
       "    </tr>\n",
       "    <tr>\n",
       "      <th id=\"T_a0b77_level0_row205\" class=\"row_heading level0 row205\" >205</th>\n",
       "      <td id=\"T_a0b77_row205_col0\" class=\"data row205 col0\" >MAG</td>\n",
       "      <td id=\"T_a0b77_row205_col1\" class=\"data row205 col1\" >OutLap</td>\n",
       "      <td id=\"T_a0b77_row205_col2\" class=\"data row205 col2\" ></td>\n",
       "      <td id=\"T_a0b77_row205_col3\" class=\"data row205 col3\" >2</td>\n",
       "      <td id=\"T_a0b77_row205_col4\" class=\"data row205 col4\" ></td>\n",
       "      <td id=\"T_a0b77_row205_col5\" class=\"data row205 col5\" >00:45.314</td>\n",
       "      <td id=\"T_a0b77_row205_col6\" class=\"data row205 col6\" >00:19.286</td>\n",
       "      <td id=\"T_a0b77_row205_col7\" class=\"data row205 col7\" >2024-04-06 06:05:02.428000</td>\n",
       "    </tr>\n",
       "    <tr>\n",
       "      <th id=\"T_a0b77_level0_row206\" class=\"row_heading level0 row206\" >206</th>\n",
       "      <td id=\"T_a0b77_row206_col0\" class=\"data row206 col0\" >MAG</td>\n",
       "      <td id=\"T_a0b77_row206_col1\" class=\"data row206 col1\" >Attack Lap</td>\n",
       "      <td id=\"T_a0b77_row206_col2\" class=\"data row206 col2\" >01:30.662</td>\n",
       "      <td id=\"T_a0b77_row206_col3\" class=\"data row206 col3\" >2</td>\n",
       "      <td id=\"T_a0b77_row206_col4\" class=\"data row206 col4\" >00:32.145</td>\n",
       "      <td id=\"T_a0b77_row206_col5\" class=\"data row206 col5\" >00:40.621</td>\n",
       "      <td id=\"T_a0b77_row206_col6\" class=\"data row206 col6\" >00:17.894</td>\n",
       "      <td id=\"T_a0b77_row206_col7\" class=\"data row206 col7\" >2024-04-06 06:09:17.624000</td>\n",
       "    </tr>\n",
       "    <tr>\n",
       "      <th id=\"T_a0b77_level0_row207\" class=\"row_heading level0 row207\" >207</th>\n",
       "      <td id=\"T_a0b77_row207_col0\" class=\"data row207 col0\" >MAG</td>\n",
       "      <td id=\"T_a0b77_row207_col1\" class=\"data row207 col1\" >InLap</td>\n",
       "      <td id=\"T_a0b77_row207_col2\" class=\"data row207 col2\" >01:41.037</td>\n",
       "      <td id=\"T_a0b77_row207_col3\" class=\"data row207 col3\" >2</td>\n",
       "      <td id=\"T_a0b77_row207_col4\" class=\"data row207 col4\" >00:36.353</td>\n",
       "      <td id=\"T_a0b77_row207_col5\" class=\"data row207 col5\" >00:43.640</td>\n",
       "      <td id=\"T_a0b77_row207_col6\" class=\"data row207 col6\" >00:21.044</td>\n",
       "      <td id=\"T_a0b77_row207_col7\" class=\"data row207 col7\" >2024-04-06 06:10:48.286000</td>\n",
       "    </tr>\n",
       "    <tr>\n",
       "      <th id=\"T_a0b77_level0_row208\" class=\"row_heading level0 row208\" >208</th>\n",
       "      <td id=\"T_a0b77_row208_col0\" class=\"data row208 col0\" >MAG</td>\n",
       "      <td id=\"T_a0b77_row208_col1\" class=\"data row208 col1\" >OutLap</td>\n",
       "      <td id=\"T_a0b77_row208_col2\" class=\"data row208 col2\" ></td>\n",
       "      <td id=\"T_a0b77_row208_col3\" class=\"data row208 col3\" >3</td>\n",
       "      <td id=\"T_a0b77_row208_col4\" class=\"data row208 col4\" ></td>\n",
       "      <td id=\"T_a0b77_row208_col5\" class=\"data row208 col5\" >00:55.686</td>\n",
       "      <td id=\"T_a0b77_row208_col6\" class=\"data row208 col6\" >00:21.205</td>\n",
       "      <td id=\"T_a0b77_row208_col7\" class=\"data row208 col7\" >2024-04-06 06:12:29.323000</td>\n",
       "    </tr>\n",
       "    <tr>\n",
       "      <th id=\"T_a0b77_level0_row209\" class=\"row_heading level0 row209\" >209</th>\n",
       "      <td id=\"T_a0b77_row209_col0\" class=\"data row209 col0\" >MAG</td>\n",
       "      <td id=\"T_a0b77_row209_col1\" class=\"data row209 col1\" >Attack Lap</td>\n",
       "      <td id=\"T_a0b77_row209_col2\" class=\"data row209 col2\" >01:30.131</td>\n",
       "      <td id=\"T_a0b77_row209_col3\" class=\"data row209 col3\" >3</td>\n",
       "      <td id=\"T_a0b77_row209_col4\" class=\"data row209 col4\" >00:31.786</td>\n",
       "      <td id=\"T_a0b77_row209_col5\" class=\"data row209 col5\" >00:40.481</td>\n",
       "      <td id=\"T_a0b77_row209_col6\" class=\"data row209 col6\" >00:17.862</td>\n",
       "      <td id=\"T_a0b77_row209_col7\" class=\"data row209 col7\" >2024-04-06 06:16:32.865000</td>\n",
       "    </tr>\n",
       "    <tr>\n",
       "      <th id=\"T_a0b77_level0_row210\" class=\"row_heading level0 row210\" >210</th>\n",
       "      <td id=\"T_a0b77_row210_col0\" class=\"data row210 col0\" >MAG</td>\n",
       "      <td id=\"T_a0b77_row210_col1\" class=\"data row210 col1\" >InLap</td>\n",
       "      <td id=\"T_a0b77_row210_col2\" class=\"data row210 col2\" >01:50.936</td>\n",
       "      <td id=\"T_a0b77_row210_col3\" class=\"data row210 col3\" >3</td>\n",
       "      <td id=\"T_a0b77_row210_col4\" class=\"data row210 col4\" >00:40.487</td>\n",
       "      <td id=\"T_a0b77_row210_col5\" class=\"data row210 col5\" >00:44.820</td>\n",
       "      <td id=\"T_a0b77_row210_col6\" class=\"data row210 col6\" >00:25.629</td>\n",
       "      <td id=\"T_a0b77_row210_col7\" class=\"data row210 col7\" >2024-04-06 06:18:02.996000</td>\n",
       "    </tr>\n",
       "    <tr>\n",
       "      <th id=\"T_a0b77_level0_row211\" class=\"row_heading level0 row211\" >211</th>\n",
       "      <td id=\"T_a0b77_row211_col0\" class=\"data row211 col0\" >SAR</td>\n",
       "      <td id=\"T_a0b77_row211_col1\" class=\"data row211 col1\" >OutLap</td>\n",
       "      <td id=\"T_a0b77_row211_col2\" class=\"data row211 col2\" ></td>\n",
       "      <td id=\"T_a0b77_row211_col3\" class=\"data row211 col3\" >1</td>\n",
       "      <td id=\"T_a0b77_row211_col4\" class=\"data row211 col4\" ></td>\n",
       "      <td id=\"T_a0b77_row211_col5\" class=\"data row211 col5\" >00:51.106</td>\n",
       "      <td id=\"T_a0b77_row211_col6\" class=\"data row211 col6\" >00:20.295</td>\n",
       "      <td id=\"T_a0b77_row211_col7\" class=\"data row211 col7\" >2024-04-06 06:03:42.002000</td>\n",
       "    </tr>\n",
       "    <tr>\n",
       "      <th id=\"T_a0b77_level0_row212\" class=\"row_heading level0 row212\" >212</th>\n",
       "      <td id=\"T_a0b77_row212_col0\" class=\"data row212 col0\" >SAR</td>\n",
       "      <td id=\"T_a0b77_row212_col1\" class=\"data row212 col1\" >Attack Lap</td>\n",
       "      <td id=\"T_a0b77_row212_col2\" class=\"data row212 col2\" >01:30.643</td>\n",
       "      <td id=\"T_a0b77_row212_col3\" class=\"data row212 col3\" >1</td>\n",
       "      <td id=\"T_a0b77_row212_col4\" class=\"data row212 col4\" >00:32.194</td>\n",
       "      <td id=\"T_a0b77_row212_col5\" class=\"data row212 col5\" >00:40.613</td>\n",
       "      <td id=\"T_a0b77_row212_col6\" class=\"data row212 col6\" >00:17.835</td>\n",
       "      <td id=\"T_a0b77_row212_col7\" class=\"data row212 col7\" >2024-04-06 06:05:39.058000</td>\n",
       "    </tr>\n",
       "    <tr>\n",
       "      <th id=\"T_a0b77_level0_row213\" class=\"row_heading level0 row213\" >213</th>\n",
       "      <td id=\"T_a0b77_row213_col0\" class=\"data row213 col0\" >SAR</td>\n",
       "      <td id=\"T_a0b77_row213_col1\" class=\"data row213 col1\" >InLap</td>\n",
       "      <td id=\"T_a0b77_row213_col2\" class=\"data row213 col2\" >01:46.609</td>\n",
       "      <td id=\"T_a0b77_row213_col3\" class=\"data row213 col3\" >1</td>\n",
       "      <td id=\"T_a0b77_row213_col4\" class=\"data row213 col4\" >00:40.039</td>\n",
       "      <td id=\"T_a0b77_row213_col5\" class=\"data row213 col5\" >00:44.284</td>\n",
       "      <td id=\"T_a0b77_row213_col6\" class=\"data row213 col6\" >00:22.286</td>\n",
       "      <td id=\"T_a0b77_row213_col7\" class=\"data row213 col7\" >2024-04-06 06:07:09.701000</td>\n",
       "    </tr>\n",
       "    <tr>\n",
       "      <th id=\"T_a0b77_level0_row214\" class=\"row_heading level0 row214\" >214</th>\n",
       "      <td id=\"T_a0b77_row214_col0\" class=\"data row214 col0\" >SAR</td>\n",
       "      <td id=\"T_a0b77_row214_col1\" class=\"data row214 col1\" >OutLap</td>\n",
       "      <td id=\"T_a0b77_row214_col2\" class=\"data row214 col2\" ></td>\n",
       "      <td id=\"T_a0b77_row214_col3\" class=\"data row214 col3\" >2</td>\n",
       "      <td id=\"T_a0b77_row214_col4\" class=\"data row214 col4\" ></td>\n",
       "      <td id=\"T_a0b77_row214_col5\" class=\"data row214 col5\" >00:50.140</td>\n",
       "      <td id=\"T_a0b77_row214_col6\" class=\"data row214 col6\" >00:21.900</td>\n",
       "      <td id=\"T_a0b77_row214_col7\" class=\"data row214 col7\" >2024-04-06 06:08:56.311000</td>\n",
       "    </tr>\n",
       "    <tr>\n",
       "      <th id=\"T_a0b77_level0_row215\" class=\"row_heading level0 row215\" >215</th>\n",
       "      <td id=\"T_a0b77_row215_col0\" class=\"data row215 col0\" >SAR</td>\n",
       "      <td id=\"T_a0b77_row215_col1\" class=\"data row215 col1\" >Attack Lap</td>\n",
       "      <td id=\"T_a0b77_row215_col2\" class=\"data row215 col2\" >01:30.138</td>\n",
       "      <td id=\"T_a0b77_row215_col3\" class=\"data row215 col3\" >2</td>\n",
       "      <td id=\"T_a0b77_row215_col4\" class=\"data row215 col4\" >00:31.743</td>\n",
       "      <td id=\"T_a0b77_row215_col5\" class=\"data row215 col5\" >00:40.542</td>\n",
       "      <td id=\"T_a0b77_row215_col6\" class=\"data row215 col6\" >00:17.853</td>\n",
       "      <td id=\"T_a0b77_row215_col7\" class=\"data row215 col7\" >2024-04-06 06:13:39.032000</td>\n",
       "    </tr>\n",
       "    <tr>\n",
       "      <th id=\"T_a0b77_level0_row216\" class=\"row_heading level0 row216\" >216</th>\n",
       "      <td id=\"T_a0b77_row216_col0\" class=\"data row216 col0\" >SAR</td>\n",
       "      <td id=\"T_a0b77_row216_col1\" class=\"data row216 col1\" >InLap</td>\n",
       "      <td id=\"T_a0b77_row216_col2\" class=\"data row216 col2\" >01:55.846</td>\n",
       "      <td id=\"T_a0b77_row216_col3\" class=\"data row216 col3\" >2</td>\n",
       "      <td id=\"T_a0b77_row216_col4\" class=\"data row216 col4\" >00:38.188</td>\n",
       "      <td id=\"T_a0b77_row216_col5\" class=\"data row216 col5\" >00:49.220</td>\n",
       "      <td id=\"T_a0b77_row216_col6\" class=\"data row216 col6\" >00:28.437</td>\n",
       "      <td id=\"T_a0b77_row216_col7\" class=\"data row216 col7\" >2024-04-06 06:15:09.171000</td>\n",
       "    </tr>\n",
       "    <tr>\n",
       "      <th id=\"T_a0b77_level0_row217\" class=\"row_heading level0 row217\" >217</th>\n",
       "      <td id=\"T_a0b77_row217_col0\" class=\"data row217 col0\" >ZHO</td>\n",
       "      <td id=\"T_a0b77_row217_col1\" class=\"data row217 col1\" >OutLap</td>\n",
       "      <td id=\"T_a0b77_row217_col2\" class=\"data row217 col2\" ></td>\n",
       "      <td id=\"T_a0b77_row217_col3\" class=\"data row217 col3\" >1</td>\n",
       "      <td id=\"T_a0b77_row217_col4\" class=\"data row217 col4\" ></td>\n",
       "      <td id=\"T_a0b77_row217_col5\" class=\"data row217 col5\" >00:51.161</td>\n",
       "      <td id=\"T_a0b77_row217_col6\" class=\"data row217 col6\" >00:22.041</td>\n",
       "      <td id=\"T_a0b77_row217_col7\" class=\"data row217 col7\" >2024-04-06 06:06:25.937000</td>\n",
       "    </tr>\n",
       "    <tr>\n",
       "      <th id=\"T_a0b77_level0_row218\" class=\"row_heading level0 row218\" >218</th>\n",
       "      <td id=\"T_a0b77_row218_col0\" class=\"data row218 col0\" >ZHO</td>\n",
       "      <td id=\"T_a0b77_row218_col1\" class=\"data row218 col1\" >Attack Lap</td>\n",
       "      <td id=\"T_a0b77_row218_col2\" class=\"data row218 col2\" >01:30.811</td>\n",
       "      <td id=\"T_a0b77_row218_col3\" class=\"data row218 col3\" >1</td>\n",
       "      <td id=\"T_a0b77_row218_col4\" class=\"data row218 col4\" >00:32.018</td>\n",
       "      <td id=\"T_a0b77_row218_col5\" class=\"data row218 col5\" >00:40.746</td>\n",
       "      <td id=\"T_a0b77_row218_col6\" class=\"data row218 col6\" >00:18.045</td>\n",
       "      <td id=\"T_a0b77_row218_col7\" class=\"data row218 col7\" >2024-04-06 06:08:34.899000</td>\n",
       "    </tr>\n",
       "    <tr>\n",
       "      <th id=\"T_a0b77_level0_row219\" class=\"row_heading level0 row219\" >219</th>\n",
       "      <td id=\"T_a0b77_row219_col0\" class=\"data row219 col0\" >ZHO</td>\n",
       "      <td id=\"T_a0b77_row219_col1\" class=\"data row219 col1\" >InLap</td>\n",
       "      <td id=\"T_a0b77_row219_col2\" class=\"data row219 col2\" >01:49.371</td>\n",
       "      <td id=\"T_a0b77_row219_col3\" class=\"data row219 col3\" >1</td>\n",
       "      <td id=\"T_a0b77_row219_col4\" class=\"data row219 col4\" >00:38.795</td>\n",
       "      <td id=\"T_a0b77_row219_col5\" class=\"data row219 col5\" >00:45.473</td>\n",
       "      <td id=\"T_a0b77_row219_col6\" class=\"data row219 col6\" >00:25.102</td>\n",
       "      <td id=\"T_a0b77_row219_col7\" class=\"data row219 col7\" >2024-04-06 06:10:05.710000</td>\n",
       "    </tr>\n",
       "    <tr>\n",
       "      <th id=\"T_a0b77_level0_row220\" class=\"row_heading level0 row220\" >220</th>\n",
       "      <td id=\"T_a0b77_row220_col0\" class=\"data row220 col0\" >ZHO</td>\n",
       "      <td id=\"T_a0b77_row220_col1\" class=\"data row220 col1\" >OutLap</td>\n",
       "      <td id=\"T_a0b77_row220_col2\" class=\"data row220 col2\" ></td>\n",
       "      <td id=\"T_a0b77_row220_col3\" class=\"data row220 col3\" >2</td>\n",
       "      <td id=\"T_a0b77_row220_col4\" class=\"data row220 col4\" ></td>\n",
       "      <td id=\"T_a0b77_row220_col5\" class=\"data row220 col5\" >00:49.549</td>\n",
       "      <td id=\"T_a0b77_row220_col6\" class=\"data row220 col6\" >00:23.728</td>\n",
       "      <td id=\"T_a0b77_row220_col7\" class=\"data row220 col7\" >2024-04-06 06:11:55.082000</td>\n",
       "    </tr>\n",
       "    <tr>\n",
       "      <th id=\"T_a0b77_level0_row221\" class=\"row_heading level0 row221\" >221</th>\n",
       "      <td id=\"T_a0b77_row221_col0\" class=\"data row221 col0\" >ZHO</td>\n",
       "      <td id=\"T_a0b77_row221_col1\" class=\"data row221 col1\" >Attack Lap</td>\n",
       "      <td id=\"T_a0b77_row221_col2\" class=\"data row221 col2\" >01:30.143</td>\n",
       "      <td id=\"T_a0b77_row221_col3\" class=\"data row221 col3\" >2</td>\n",
       "      <td id=\"T_a0b77_row221_col4\" class=\"data row221 col4\" >00:31.684</td>\n",
       "      <td id=\"T_a0b77_row221_col5\" class=\"data row221 col5\" >00:40.487</td>\n",
       "      <td id=\"T_a0b77_row221_col6\" class=\"data row221 col6\" >00:17.971</td>\n",
       "      <td id=\"T_a0b77_row221_col7\" class=\"data row221 col7\" >2024-04-06 06:17:34.080000</td>\n",
       "    </tr>\n",
       "    <tr>\n",
       "      <th id=\"T_a0b77_level0_row222\" class=\"row_heading level0 row222\" >222</th>\n",
       "      <td id=\"T_a0b77_row222_col0\" class=\"data row222 col0\" >ZHO</td>\n",
       "      <td id=\"T_a0b77_row222_col1\" class=\"data row222 col1\" >InLap</td>\n",
       "      <td id=\"T_a0b77_row222_col2\" class=\"data row222 col2\" >02:02.090</td>\n",
       "      <td id=\"T_a0b77_row222_col3\" class=\"data row222 col3\" >2</td>\n",
       "      <td id=\"T_a0b77_row222_col4\" class=\"data row222 col4\" >00:43.520</td>\n",
       "      <td id=\"T_a0b77_row222_col5\" class=\"data row222 col5\" >00:49.595</td>\n",
       "      <td id=\"T_a0b77_row222_col6\" class=\"data row222 col6\" >00:28.975</td>\n",
       "      <td id=\"T_a0b77_row222_col7\" class=\"data row222 col7\" >2024-04-06 06:19:04.223000</td>\n",
       "    </tr>\n",
       "  </tbody>\n",
       "</table>\n"
      ],
      "text/plain": [
       "<pandas.io.formats.style.Styler at 0x2039458dbd0>"
      ]
     },
     "metadata": {},
     "output_type": "display_data"
    }
   ],
   "source": [
    "q1_laptimes = results[\"Q1\"].dropna().tolist()\n",
    "q2_laptimes = results[\"Q2\"].dropna().tolist()\n",
    "q3_laptimes = results[\"Q3\"].dropna().tolist()\n",
    "def highlight_q1_q2_q3(row):\n",
    "    if row[\"LapTime\"] in q1_laptimes:\n",
    "        return ['background-color: #d0f0c0; color: black'] * len(row)  # Q1: light green\n",
    "    elif row[\"LapTime\"] in q2_laptimes:\n",
    "        return ['background-color: #add8e6; color: black'] * len(row)  # Q2: light blue\n",
    "    elif row[\"LapTime\"] in q3_laptimes:\n",
    "        return ['background-color: #ffc0cb; color: black'] * len(row)  # Q3: light blue\n",
    "    else:\n",
    "        return [''] * len(row)\n",
    "def filtered(list):\n",
    "    filtered=[x for x in list if x!=\"\"]\n",
    "    return filtered\n",
    "q1_laptimes=filtered(q1_laptimes)\n",
    "q2_laptimes=filtered(q2_laptimes)\n",
    "q3_laptimes=filtered(q3_laptimes)\n",
    "styled_laps = laps.style.apply(highlight_q1_q2_q3, axis=1)\n",
    "\n",
    "\n",
    "display(styled_laps)"
   ]
  },
  {
   "cell_type": "code",
   "execution_count": null,
   "id": "3205447d",
   "metadata": {},
   "outputs": [],
   "source": []
  }
 ],
 "metadata": {
  "kernelspec": {
   "display_name": ".venv (3.13.3)",
   "language": "python",
   "name": "python3"
  },
  "language_info": {
   "codemirror_mode": {
    "name": "ipython",
    "version": 3
   },
   "file_extension": ".py",
   "mimetype": "text/x-python",
   "name": "python",
   "nbconvert_exporter": "python",
   "pygments_lexer": "ipython3",
   "version": "3.13.3"
  }
 },
 "nbformat": 4,
 "nbformat_minor": 5
}
